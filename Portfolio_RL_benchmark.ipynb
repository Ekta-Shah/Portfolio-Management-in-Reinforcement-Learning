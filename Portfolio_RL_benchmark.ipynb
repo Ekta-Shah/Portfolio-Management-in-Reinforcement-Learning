{
  "nbformat": 4,
  "nbformat_minor": 0,
  "metadata": {
    "kernelspec": {
      "name": "python3",
      "display_name": "Python 3"
    },
    "language_info": {
      "codemirror_mode": {
        "name": "ipython",
        "version": 3
      },
      "file_extension": ".py",
      "mimetype": "text/x-python",
      "name": "python",
      "nbconvert_exporter": "python",
      "pygments_lexer": "ipython3",
      "version": "3.7.3"
    },
    "colab": {
      "name": "Portfolio_RL-benchmark.ipynb",
      "provenance": [],
      "collapsed_sections": [],
      "machine_shape": "hm"
    },
    "accelerator": "GPU"
  },
  "cells": [
    {
      "cell_type": "markdown",
      "metadata": {
        "id": "ysluvcJkFppy",
        "colab_type": "text"
      },
      "source": [
        "### Import Libraries and Download Data"
      ]
    },
    {
      "cell_type": "code",
      "metadata": {
        "id": "phv33zmyF_tu",
        "colab_type": "code",
        "outputId": "10c3aa7b-3301-4e0e-a106-c5819034345b",
        "colab": {
          "base_uri": "https://localhost:8080/",
          "height": 340
        }
      },
      "source": [
        "!pip install stockstats\n",
        "!pip install yfinance"
      ],
      "execution_count": 0,
      "outputs": [
        {
          "output_type": "stream",
          "text": [
            "Requirement already satisfied: stockstats in /usr/local/lib/python3.6/dist-packages (0.3.0)\n",
            "Requirement already satisfied: pandas>=0.18.1 in /usr/local/lib/python3.6/dist-packages (from stockstats) (0.25.3)\n",
            "Requirement already satisfied: int-date>=0.1.7 in /usr/local/lib/python3.6/dist-packages (from stockstats) (0.1.8)\n",
            "Requirement already satisfied: numpy>=1.9.2 in /usr/local/lib/python3.6/dist-packages (from stockstats) (1.17.3)\n",
            "Requirement already satisfied: pytz>=2017.2 in /usr/local/lib/python3.6/dist-packages (from pandas>=0.18.1->stockstats) (2018.9)\n",
            "Requirement already satisfied: python-dateutil>=2.6.1 in /usr/local/lib/python3.6/dist-packages (from pandas>=0.18.1->stockstats) (2.6.1)\n",
            "Requirement already satisfied: six>=1.9.0 in /usr/local/lib/python3.6/dist-packages (from int-date>=0.1.7->stockstats) (1.12.0)\n",
            "Requirement already satisfied: yfinance in /usr/local/lib/python3.6/dist-packages (0.1.49)\n",
            "Requirement already satisfied: requests>=2.20 in /usr/local/lib/python3.6/dist-packages (from yfinance) (2.21.0)\n",
            "Requirement already satisfied: pandas>=0.24 in /usr/local/lib/python3.6/dist-packages (from yfinance) (0.25.3)\n",
            "Requirement already satisfied: multitasking>=0.0.7 in /usr/local/lib/python3.6/dist-packages (from yfinance) (0.0.9)\n",
            "Requirement already satisfied: numpy>=1.15 in /usr/local/lib/python3.6/dist-packages (from yfinance) (1.17.3)\n",
            "Requirement already satisfied: certifi>=2017.4.17 in /usr/local/lib/python3.6/dist-packages (from requests>=2.20->yfinance) (2019.9.11)\n",
            "Requirement already satisfied: urllib3<1.25,>=1.21.1 in /usr/local/lib/python3.6/dist-packages (from requests>=2.20->yfinance) (1.24.3)\n",
            "Requirement already satisfied: idna<2.9,>=2.5 in /usr/local/lib/python3.6/dist-packages (from requests>=2.20->yfinance) (2.8)\n",
            "Requirement already satisfied: chardet<3.1.0,>=3.0.2 in /usr/local/lib/python3.6/dist-packages (from requests>=2.20->yfinance) (3.0.4)\n",
            "Requirement already satisfied: python-dateutil>=2.6.1 in /usr/local/lib/python3.6/dist-packages (from pandas>=0.24->yfinance) (2.6.1)\n",
            "Requirement already satisfied: pytz>=2017.2 in /usr/local/lib/python3.6/dist-packages (from pandas>=0.24->yfinance) (2018.9)\n",
            "Requirement already satisfied: six>=1.5 in /usr/local/lib/python3.6/dist-packages (from python-dateutil>=2.6.1->pandas>=0.24->yfinance) (1.12.0)\n"
          ],
          "name": "stdout"
        }
      ]
    },
    {
      "cell_type": "code",
      "metadata": {
        "id": "fU-qQiqoFpp7",
        "colab_type": "code",
        "colab": {}
      },
      "source": [
        "import yfinance as yf\n",
        "import pandas as pd\n",
        "import stockstats\n",
        "import pandas as pd"
      ],
      "execution_count": 0,
      "outputs": []
    },
    {
      "cell_type": "code",
      "metadata": {
        "id": "I7faVtjKHAxH",
        "colab_type": "code",
        "outputId": "3c4abe02-2be9-4849-bb64-fa373b5fad2d",
        "colab": {
          "base_uri": "https://localhost:8080/",
          "height": 34
        }
      },
      "source": [
        "from google.colab import drive\n",
        "drive.mount('/content/drive')"
      ],
      "execution_count": 0,
      "outputs": [
        {
          "output_type": "stream",
          "text": [
            "Drive already mounted at /content/drive; to attempt to forcibly remount, call drive.mount(\"/content/drive\", force_remount=True).\n"
          ],
          "name": "stdout"
        }
      ]
    },
    {
      "cell_type": "markdown",
      "metadata": {
        "id": "AsMbr2-wEXH5",
        "colab_type": "text"
      },
      "source": [
        "Data Preparation"
      ]
    },
    {
      "cell_type": "code",
      "metadata": {
        "id": "dJIkzvyBFpqQ",
        "colab_type": "code",
        "outputId": "a72fa7f6-4a1f-4d90-c00d-1367e2f8842a",
        "colab": {
          "base_uri": "https://localhost:8080/",
          "height": 34
        }
      },
      "source": [
        "stockticker=pd.read_csv('/content/drive/My Drive/nifty.csv')\n",
        "#stockticker=stockticker[300:500]\n",
        "stockticker['Symbol']=stockticker['Symbol']+\".NS\"\n",
        "stocknames=stockticker['Symbol'].tolist()\n",
        "# import random\n",
        "# listofrandom = random.sample(stocknames,195)\n",
        "# len(listofrandom)\n",
        "# stocknames = listofrandom\n",
        "#print(stockticker['Symbol'])\n",
        "len(stocknames)\n",
        "\n",
        "  "
      ],
      "execution_count": 0,
      "outputs": [
        {
          "output_type": "execute_result",
          "data": {
            "text/plain": [
              "50"
            ]
          },
          "metadata": {
            "tags": []
          },
          "execution_count": 85
        }
      ]
    },
    {
      "cell_type": "code",
      "metadata": {
        "id": "mkJInBw2Fpqe",
        "colab_type": "code",
        "outputId": "316621c4-b9ea-4b8c-c070-b8c567a272f0",
        "colab": {
          "base_uri": "https://localhost:8080/",
          "height": 1000
        }
      },
      "source": [
        "ls=pd.DataFrame()\n",
        "lss=pd.DataFrame()\n",
        "i=0\n",
        "stocknumber=[]\n",
        "for stock in stocknames:\n",
        "    ls = pd.DataFrame()\n",
        "    ls = ls.append(yf.download(stock,'2014-08-13','2019-08-13'))\n",
        "    if len(ls)==1228:\n",
        "      i=i+1\n",
        "      for x in range(0,len(ls)):\n",
        "          stocknumber.append(i)\n",
        "    ls['name']=stock\n",
        "    ls['returns']=ls['Close'].pct_change()\n",
        "    ls = stockstats.StockDataFrame.retype(ls)\n",
        "    ls['pdi']\n",
        "    ls['macd']\n",
        "    ls['rsi_6']\n",
        "    if len(ls)==1228:\n",
        "      lss = lss.append(ls)\n",
        "    "
      ],
      "execution_count": 0,
      "outputs": [
        {
          "output_type": "stream",
          "text": [
            "\r[*********************100%***********************]  1 of 1 completed"
          ],
          "name": "stdout"
        },
        {
          "output_type": "stream",
          "text": [
            "/usr/local/lib/python3.6/dist-packages/pandas/core/indexing.py:205: SettingWithCopyWarning: \n",
            "A value is trying to be set on a copy of a slice from a DataFrame\n",
            "\n",
            "See the caveats in the documentation: http://pandas.pydata.org/pandas-docs/stable/user_guide/indexing.html#returning-a-view-versus-a-copy\n",
            "  self._setitem_with_indexer(indexer, value)\n",
            "NOTE: Behavior of MACDH calculation has changed as of July 2017 - it is now 1/2 of previous calculated values\n"
          ],
          "name": "stderr"
        },
        {
          "output_type": "stream",
          "text": [
            "\n",
            "[*********************100%***********************]  1 of 1 completed"
          ],
          "name": "stdout"
        },
        {
          "output_type": "stream",
          "text": [
            "NOTE: Behavior of MACDH calculation has changed as of July 2017 - it is now 1/2 of previous calculated values\n"
          ],
          "name": "stderr"
        },
        {
          "output_type": "stream",
          "text": [
            "\n",
            "[*********************100%***********************]  1 of 1 completed"
          ],
          "name": "stdout"
        },
        {
          "output_type": "stream",
          "text": [
            "NOTE: Behavior of MACDH calculation has changed as of July 2017 - it is now 1/2 of previous calculated values\n"
          ],
          "name": "stderr"
        },
        {
          "output_type": "stream",
          "text": [
            "\n",
            "\r[*********************100%***********************]  1 of 1 completed\n"
          ],
          "name": "stdout"
        },
        {
          "output_type": "stream",
          "text": [
            "NOTE: Behavior of MACDH calculation has changed as of July 2017 - it is now 1/2 of previous calculated values\n"
          ],
          "name": "stderr"
        },
        {
          "output_type": "stream",
          "text": [
            "\r[*********************100%***********************]  1 of 1 completed"
          ],
          "name": "stdout"
        },
        {
          "output_type": "stream",
          "text": [
            "NOTE: Behavior of MACDH calculation has changed as of July 2017 - it is now 1/2 of previous calculated values\n"
          ],
          "name": "stderr"
        },
        {
          "output_type": "stream",
          "text": [
            "\n",
            "[*********************100%***********************]  1 of 1 completed"
          ],
          "name": "stdout"
        },
        {
          "output_type": "stream",
          "text": [
            "NOTE: Behavior of MACDH calculation has changed as of July 2017 - it is now 1/2 of previous calculated values\n"
          ],
          "name": "stderr"
        },
        {
          "output_type": "stream",
          "text": [
            "\n",
            "[*********************100%***********************]  1 of 1 completed"
          ],
          "name": "stdout"
        },
        {
          "output_type": "stream",
          "text": [
            "NOTE: Behavior of MACDH calculation has changed as of July 2017 - it is now 1/2 of previous calculated values\n"
          ],
          "name": "stderr"
        },
        {
          "output_type": "stream",
          "text": [
            "\n",
            "\r[*********************100%***********************]  1 of 1 completed\n"
          ],
          "name": "stdout"
        },
        {
          "output_type": "stream",
          "text": [
            "NOTE: Behavior of MACDH calculation has changed as of July 2017 - it is now 1/2 of previous calculated values\n"
          ],
          "name": "stderr"
        },
        {
          "output_type": "stream",
          "text": [
            "\r[*********************100%***********************]  1 of 1 completed"
          ],
          "name": "stdout"
        },
        {
          "output_type": "stream",
          "text": [
            "NOTE: Behavior of MACDH calculation has changed as of July 2017 - it is now 1/2 of previous calculated values\n"
          ],
          "name": "stderr"
        },
        {
          "output_type": "stream",
          "text": [
            "\n",
            "[*********************100%***********************]  1 of 1 completed"
          ],
          "name": "stdout"
        },
        {
          "output_type": "stream",
          "text": [
            "NOTE: Behavior of MACDH calculation has changed as of July 2017 - it is now 1/2 of previous calculated values\n"
          ],
          "name": "stderr"
        },
        {
          "output_type": "stream",
          "text": [
            "\n",
            "[*********************100%***********************]  1 of 1 completed"
          ],
          "name": "stdout"
        },
        {
          "output_type": "stream",
          "text": [
            "NOTE: Behavior of MACDH calculation has changed as of July 2017 - it is now 1/2 of previous calculated values\n"
          ],
          "name": "stderr"
        },
        {
          "output_type": "stream",
          "text": [
            "\n",
            "[*********************100%***********************]  1 of 1 completed"
          ],
          "name": "stdout"
        },
        {
          "output_type": "stream",
          "text": [
            "NOTE: Behavior of MACDH calculation has changed as of July 2017 - it is now 1/2 of previous calculated values\n"
          ],
          "name": "stderr"
        },
        {
          "output_type": "stream",
          "text": [
            "\n",
            "[*********************100%***********************]  1 of 1 completed"
          ],
          "name": "stdout"
        },
        {
          "output_type": "stream",
          "text": [
            "NOTE: Behavior of MACDH calculation has changed as of July 2017 - it is now 1/2 of previous calculated values\n"
          ],
          "name": "stderr"
        },
        {
          "output_type": "stream",
          "text": [
            "\n",
            "[*********************100%***********************]  1 of 1 completed"
          ],
          "name": "stdout"
        },
        {
          "output_type": "stream",
          "text": [
            "NOTE: Behavior of MACDH calculation has changed as of July 2017 - it is now 1/2 of previous calculated values\n"
          ],
          "name": "stderr"
        },
        {
          "output_type": "stream",
          "text": [
            "\n",
            "[*********************100%***********************]  1 of 1 completed"
          ],
          "name": "stdout"
        },
        {
          "output_type": "stream",
          "text": [
            "NOTE: Behavior of MACDH calculation has changed as of July 2017 - it is now 1/2 of previous calculated values\n"
          ],
          "name": "stderr"
        },
        {
          "output_type": "stream",
          "text": [
            "\n",
            "[*********************100%***********************]  1 of 1 completed"
          ],
          "name": "stdout"
        },
        {
          "output_type": "stream",
          "text": [
            "NOTE: Behavior of MACDH calculation has changed as of July 2017 - it is now 1/2 of previous calculated values\n"
          ],
          "name": "stderr"
        },
        {
          "output_type": "stream",
          "text": [
            "\n",
            "[*********************100%***********************]  1 of 1 completed"
          ],
          "name": "stdout"
        },
        {
          "output_type": "stream",
          "text": [
            "NOTE: Behavior of MACDH calculation has changed as of July 2017 - it is now 1/2 of previous calculated values\n"
          ],
          "name": "stderr"
        },
        {
          "output_type": "stream",
          "text": [
            "\n",
            "[*********************100%***********************]  1 of 1 completed"
          ],
          "name": "stdout"
        },
        {
          "output_type": "stream",
          "text": [
            "NOTE: Behavior of MACDH calculation has changed as of July 2017 - it is now 1/2 of previous calculated values\n"
          ],
          "name": "stderr"
        },
        {
          "output_type": "stream",
          "text": [
            "\n",
            "[*********************100%***********************]  1 of 1 completed"
          ],
          "name": "stdout"
        },
        {
          "output_type": "stream",
          "text": [
            "NOTE: Behavior of MACDH calculation has changed as of July 2017 - it is now 1/2 of previous calculated values\n"
          ],
          "name": "stderr"
        },
        {
          "output_type": "stream",
          "text": [
            "\n",
            "[*********************100%***********************]  1 of 1 completed"
          ],
          "name": "stdout"
        },
        {
          "output_type": "stream",
          "text": [
            "NOTE: Behavior of MACDH calculation has changed as of July 2017 - it is now 1/2 of previous calculated values\n"
          ],
          "name": "stderr"
        },
        {
          "output_type": "stream",
          "text": [
            "\n",
            "[*********************100%***********************]  1 of 1 completed"
          ],
          "name": "stdout"
        },
        {
          "output_type": "stream",
          "text": [
            "NOTE: Behavior of MACDH calculation has changed as of July 2017 - it is now 1/2 of previous calculated values\n"
          ],
          "name": "stderr"
        },
        {
          "output_type": "stream",
          "text": [
            "\n",
            "[*********************100%***********************]  1 of 1 completed"
          ],
          "name": "stdout"
        },
        {
          "output_type": "stream",
          "text": [
            "NOTE: Behavior of MACDH calculation has changed as of July 2017 - it is now 1/2 of previous calculated values\n"
          ],
          "name": "stderr"
        },
        {
          "output_type": "stream",
          "text": [
            "\n",
            "[*********************100%***********************]  1 of 1 completed"
          ],
          "name": "stdout"
        },
        {
          "output_type": "stream",
          "text": [
            "NOTE: Behavior of MACDH calculation has changed as of July 2017 - it is now 1/2 of previous calculated values\n"
          ],
          "name": "stderr"
        },
        {
          "output_type": "stream",
          "text": [
            "\n",
            "[*********************100%***********************]  1 of 1 completed"
          ],
          "name": "stdout"
        },
        {
          "output_type": "stream",
          "text": [
            "NOTE: Behavior of MACDH calculation has changed as of July 2017 - it is now 1/2 of previous calculated values\n"
          ],
          "name": "stderr"
        },
        {
          "output_type": "stream",
          "text": [
            "\n",
            "[*********************100%***********************]  1 of 1 completed"
          ],
          "name": "stdout"
        },
        {
          "output_type": "stream",
          "text": [
            "NOTE: Behavior of MACDH calculation has changed as of July 2017 - it is now 1/2 of previous calculated values\n"
          ],
          "name": "stderr"
        },
        {
          "output_type": "stream",
          "text": [
            "\n",
            "[*********************100%***********************]  1 of 1 completed"
          ],
          "name": "stdout"
        },
        {
          "output_type": "stream",
          "text": [
            "NOTE: Behavior of MACDH calculation has changed as of July 2017 - it is now 1/2 of previous calculated values\n"
          ],
          "name": "stderr"
        },
        {
          "output_type": "stream",
          "text": [
            "\n",
            "[*********************100%***********************]  1 of 1 completed"
          ],
          "name": "stdout"
        },
        {
          "output_type": "stream",
          "text": [
            "NOTE: Behavior of MACDH calculation has changed as of July 2017 - it is now 1/2 of previous calculated values\n"
          ],
          "name": "stderr"
        },
        {
          "output_type": "stream",
          "text": [
            "\n",
            "[*********************100%***********************]  1 of 1 completed"
          ],
          "name": "stdout"
        },
        {
          "output_type": "stream",
          "text": [
            "NOTE: Behavior of MACDH calculation has changed as of July 2017 - it is now 1/2 of previous calculated values\n"
          ],
          "name": "stderr"
        },
        {
          "output_type": "stream",
          "text": [
            "\n",
            "[*********************100%***********************]  1 of 1 completed"
          ],
          "name": "stdout"
        },
        {
          "output_type": "stream",
          "text": [
            "NOTE: Behavior of MACDH calculation has changed as of July 2017 - it is now 1/2 of previous calculated values\n"
          ],
          "name": "stderr"
        },
        {
          "output_type": "stream",
          "text": [
            "\n",
            "[*********************100%***********************]  1 of 1 completed"
          ],
          "name": "stdout"
        },
        {
          "output_type": "stream",
          "text": [
            "NOTE: Behavior of MACDH calculation has changed as of July 2017 - it is now 1/2 of previous calculated values\n"
          ],
          "name": "stderr"
        },
        {
          "output_type": "stream",
          "text": [
            "\n",
            "[*********************100%***********************]  1 of 1 completed"
          ],
          "name": "stdout"
        },
        {
          "output_type": "stream",
          "text": [
            "NOTE: Behavior of MACDH calculation has changed as of July 2017 - it is now 1/2 of previous calculated values\n"
          ],
          "name": "stderr"
        },
        {
          "output_type": "stream",
          "text": [
            "\n",
            "[*********************100%***********************]  1 of 1 completed"
          ],
          "name": "stdout"
        },
        {
          "output_type": "stream",
          "text": [
            "NOTE: Behavior of MACDH calculation has changed as of July 2017 - it is now 1/2 of previous calculated values\n"
          ],
          "name": "stderr"
        },
        {
          "output_type": "stream",
          "text": [
            "\n",
            "[*********************100%***********************]  1 of 1 completed"
          ],
          "name": "stdout"
        },
        {
          "output_type": "stream",
          "text": [
            "NOTE: Behavior of MACDH calculation has changed as of July 2017 - it is now 1/2 of previous calculated values\n"
          ],
          "name": "stderr"
        },
        {
          "output_type": "stream",
          "text": [
            "\n",
            "[*********************100%***********************]  1 of 1 completed"
          ],
          "name": "stdout"
        },
        {
          "output_type": "stream",
          "text": [
            "NOTE: Behavior of MACDH calculation has changed as of July 2017 - it is now 1/2 of previous calculated values\n"
          ],
          "name": "stderr"
        },
        {
          "output_type": "stream",
          "text": [
            "\n",
            "[*********************100%***********************]  1 of 1 completed"
          ],
          "name": "stdout"
        },
        {
          "output_type": "stream",
          "text": [
            "NOTE: Behavior of MACDH calculation has changed as of July 2017 - it is now 1/2 of previous calculated values\n"
          ],
          "name": "stderr"
        },
        {
          "output_type": "stream",
          "text": [
            "\n",
            "[*********************100%***********************]  1 of 1 completed"
          ],
          "name": "stdout"
        },
        {
          "output_type": "stream",
          "text": [
            "NOTE: Behavior of MACDH calculation has changed as of July 2017 - it is now 1/2 of previous calculated values\n"
          ],
          "name": "stderr"
        },
        {
          "output_type": "stream",
          "text": [
            "\n",
            "[*********************100%***********************]  1 of 1 completed"
          ],
          "name": "stdout"
        },
        {
          "output_type": "stream",
          "text": [
            "NOTE: Behavior of MACDH calculation has changed as of July 2017 - it is now 1/2 of previous calculated values\n"
          ],
          "name": "stderr"
        },
        {
          "output_type": "stream",
          "text": [
            "\n",
            "[*********************100%***********************]  1 of 1 completed"
          ],
          "name": "stdout"
        },
        {
          "output_type": "stream",
          "text": [
            "NOTE: Behavior of MACDH calculation has changed as of July 2017 - it is now 1/2 of previous calculated values\n"
          ],
          "name": "stderr"
        },
        {
          "output_type": "stream",
          "text": [
            "\n",
            "[*********************100%***********************]  1 of 1 completed"
          ],
          "name": "stdout"
        },
        {
          "output_type": "stream",
          "text": [
            "NOTE: Behavior of MACDH calculation has changed as of July 2017 - it is now 1/2 of previous calculated values\n"
          ],
          "name": "stderr"
        },
        {
          "output_type": "stream",
          "text": [
            "\n",
            "[*********************100%***********************]  1 of 1 completed"
          ],
          "name": "stdout"
        },
        {
          "output_type": "stream",
          "text": [
            "NOTE: Behavior of MACDH calculation has changed as of July 2017 - it is now 1/2 of previous calculated values\n"
          ],
          "name": "stderr"
        },
        {
          "output_type": "stream",
          "text": [
            "\n",
            "[*********************100%***********************]  1 of 1 completed"
          ],
          "name": "stdout"
        },
        {
          "output_type": "stream",
          "text": [
            "NOTE: Behavior of MACDH calculation has changed as of July 2017 - it is now 1/2 of previous calculated values\n"
          ],
          "name": "stderr"
        },
        {
          "output_type": "stream",
          "text": [
            "\n",
            "[*********************100%***********************]  1 of 1 completed"
          ],
          "name": "stdout"
        },
        {
          "output_type": "stream",
          "text": [
            "NOTE: Behavior of MACDH calculation has changed as of July 2017 - it is now 1/2 of previous calculated values\n"
          ],
          "name": "stderr"
        },
        {
          "output_type": "stream",
          "text": [
            "\n",
            "[*********************100%***********************]  1 of 1 completed"
          ],
          "name": "stdout"
        },
        {
          "output_type": "stream",
          "text": [
            "NOTE: Behavior of MACDH calculation has changed as of July 2017 - it is now 1/2 of previous calculated values\n"
          ],
          "name": "stderr"
        },
        {
          "output_type": "stream",
          "text": [
            "\n",
            "[*********************100%***********************]  1 of 1 completed"
          ],
          "name": "stdout"
        },
        {
          "output_type": "stream",
          "text": [
            "NOTE: Behavior of MACDH calculation has changed as of July 2017 - it is now 1/2 of previous calculated values\n"
          ],
          "name": "stderr"
        },
        {
          "output_type": "stream",
          "text": [
            "\n",
            "[*********************100%***********************]  1 of 1 completed"
          ],
          "name": "stdout"
        },
        {
          "output_type": "stream",
          "text": [
            "NOTE: Behavior of MACDH calculation has changed as of July 2017 - it is now 1/2 of previous calculated values\n"
          ],
          "name": "stderr"
        },
        {
          "output_type": "stream",
          "text": [
            "\n",
            "[*********************100%***********************]  1 of 1 completed"
          ],
          "name": "stdout"
        },
        {
          "output_type": "stream",
          "text": [
            "NOTE: Behavior of MACDH calculation has changed as of July 2017 - it is now 1/2 of previous calculated values\n"
          ],
          "name": "stderr"
        },
        {
          "output_type": "stream",
          "text": [
            "\n",
            "[*********************100%***********************]  1 of 1 completed"
          ],
          "name": "stdout"
        },
        {
          "output_type": "stream",
          "text": [
            "NOTE: Behavior of MACDH calculation has changed as of July 2017 - it is now 1/2 of previous calculated values\n"
          ],
          "name": "stderr"
        },
        {
          "output_type": "stream",
          "text": [
            "\n",
            "[*********************100%***********************]  1 of 1 completed"
          ],
          "name": "stdout"
        },
        {
          "output_type": "stream",
          "text": [
            "NOTE: Behavior of MACDH calculation has changed as of July 2017 - it is now 1/2 of previous calculated values\n"
          ],
          "name": "stderr"
        },
        {
          "output_type": "stream",
          "text": [
            "\n",
            "[*********************100%***********************]  1 of 1 completed"
          ],
          "name": "stdout"
        },
        {
          "output_type": "stream",
          "text": [
            "NOTE: Behavior of MACDH calculation has changed as of July 2017 - it is now 1/2 of previous calculated values\n"
          ],
          "name": "stderr"
        },
        {
          "output_type": "stream",
          "text": [
            "\n",
            "[*********************100%***********************]  1 of 1 completed"
          ],
          "name": "stdout"
        },
        {
          "output_type": "stream",
          "text": [
            "NOTE: Behavior of MACDH calculation has changed as of July 2017 - it is now 1/2 of previous calculated values\n"
          ],
          "name": "stderr"
        },
        {
          "output_type": "stream",
          "text": [
            "\n"
          ],
          "name": "stdout"
        }
      ]
    },
    {
      "cell_type": "code",
      "metadata": {
        "id": "4tST5UdGFpqo",
        "colab_type": "code",
        "outputId": "a2e605fd-bcce-42c9-ee2d-5b59e6346af0",
        "colab": {
          "base_uri": "https://localhost:8080/",
          "height": 221
        }
      },
      "source": [
        "lss['name'].unique()"
      ],
      "execution_count": 0,
      "outputs": [
        {
          "output_type": "execute_result",
          "data": {
            "text/plain": [
              "array(['ADANIPORTS.NS', 'ASIANPAINT.NS', 'AXISBANK.NS', 'BAJFINANCE.NS',\n",
              "       'BAJAJFINSV.NS', 'BPCL.NS', 'BHARTIARTL.NS', 'INFRATEL.NS',\n",
              "       'BRITANNIA.NS', 'CIPLA.NS', 'COALINDIA.NS', 'DRREDDY.NS',\n",
              "       'EICHERMOT.NS', 'GAIL.NS', 'GRASIM.NS', 'HCLTECH.NS',\n",
              "       'HDFCBANK.NS', 'HEROMOTOCO.NS', 'HINDALCO.NS', 'HINDUNILVR.NS',\n",
              "       'HDFC.NS', 'ICICIBANK.NS', 'ITC.NS', 'IOC.NS', 'INDUSINDBK.NS',\n",
              "       'INFY.NS', 'JSWSTEEL.NS', 'KOTAKBANK.NS', 'LT.NS', 'M&M.NS',\n",
              "       'MARUTI.NS', 'NTPC.NS', 'NESTLEIND.NS', 'ONGC.NS', 'POWERGRID.NS',\n",
              "       'RELIANCE.NS', 'SBIN.NS', 'SUNPHARMA.NS', 'TCS.NS',\n",
              "       'TATAMOTORS.NS', 'TATASTEEL.NS', 'TECHM.NS', 'TITAN.NS', 'UPL.NS',\n",
              "       'ULTRACEMCO.NS', 'VEDL.NS', 'WIPRO.NS', 'YESBANK.NS', 'ZEEL.NS'],\n",
              "      dtype=object)"
            ]
          },
          "metadata": {
            "tags": []
          },
          "execution_count": 87
        }
      ]
    },
    {
      "cell_type": "markdown",
      "metadata": {
        "id": "osl5agJRFpqz",
        "colab_type": "text"
      },
      "source": [
        "### Technical Indicators"
      ]
    },
    {
      "cell_type": "code",
      "metadata": {
        "id": "ZeHgZwnAFpry",
        "colab_type": "code",
        "outputId": "5508c8a8-545f-491c-ad14-601674570532",
        "colab": {
          "base_uri": "https://localhost:8080/",
          "height": 1000
        }
      },
      "source": [
        "stock=lss\n",
        "stock.corr()"
      ],
      "execution_count": 0,
      "outputs": [
        {
          "output_type": "execute_result",
          "data": {
            "text/html": [
              "<div>\n",
              "<style scoped>\n",
              "    .dataframe tbody tr th:only-of-type {\n",
              "        vertical-align: middle;\n",
              "    }\n",
              "\n",
              "    .dataframe tbody tr th {\n",
              "        vertical-align: top;\n",
              "    }\n",
              "\n",
              "    .dataframe thead th {\n",
              "        text-align: right;\n",
              "    }\n",
              "</style>\n",
              "<table border=\"1\" class=\"dataframe\">\n",
              "  <thead>\n",
              "    <tr style=\"text-align: right;\">\n",
              "      <th></th>\n",
              "      <th>open</th>\n",
              "      <th>high</th>\n",
              "      <th>low</th>\n",
              "      <th>close</th>\n",
              "      <th>adj close</th>\n",
              "      <th>volume</th>\n",
              "      <th>returns</th>\n",
              "      <th>high_delta</th>\n",
              "      <th>um</th>\n",
              "      <th>low_delta</th>\n",
              "      <th>dm</th>\n",
              "      <th>pdm</th>\n",
              "      <th>pdm_14_ema</th>\n",
              "      <th>pdm_14</th>\n",
              "      <th>close_-1_s</th>\n",
              "      <th>tr</th>\n",
              "      <th>atr_14</th>\n",
              "      <th>pdi_14</th>\n",
              "      <th>pdi</th>\n",
              "      <th>mdm</th>\n",
              "      <th>mdm_14_ema</th>\n",
              "      <th>mdm_14</th>\n",
              "      <th>mdi_14</th>\n",
              "      <th>mdi</th>\n",
              "      <th>dx_14</th>\n",
              "      <th>dx</th>\n",
              "      <th>dx_6_ema</th>\n",
              "      <th>adx</th>\n",
              "      <th>adx_6_ema</th>\n",
              "      <th>adxr</th>\n",
              "      <th>macd</th>\n",
              "      <th>macds</th>\n",
              "      <th>macdh</th>\n",
              "      <th>close_-1_d</th>\n",
              "      <th>rs_6</th>\n",
              "      <th>rsi_6</th>\n",
              "    </tr>\n",
              "  </thead>\n",
              "  <tbody>\n",
              "    <tr>\n",
              "      <th>open</th>\n",
              "      <td>1.000000</td>\n",
              "      <td>0.999911</td>\n",
              "      <td>0.999899</td>\n",
              "      <td>0.999816</td>\n",
              "      <td>0.999704</td>\n",
              "      <td>-0.185190</td>\n",
              "      <td>-0.000665</td>\n",
              "      <td>0.013391</td>\n",
              "      <td>0.456442</td>\n",
              "      <td>0.011646</td>\n",
              "      <td>0.433585</td>\n",
              "      <td>0.443035</td>\n",
              "      <td>0.865793</td>\n",
              "      <td>0.865793</td>\n",
              "      <td>0.999970</td>\n",
              "      <td>0.847435</td>\n",
              "      <td>0.958661</td>\n",
              "      <td>0.031577</td>\n",
              "      <td>0.031577</td>\n",
              "      <td>0.422756</td>\n",
              "      <td>0.802232</td>\n",
              "      <td>0.802232</td>\n",
              "      <td>0.000603</td>\n",
              "      <td>0.000603</td>\n",
              "      <td>0.010203</td>\n",
              "      <td>0.010203</td>\n",
              "      <td>0.012986</td>\n",
              "      <td>0.012986</td>\n",
              "      <td>0.013932</td>\n",
              "      <td>0.013932</td>\n",
              "      <td>0.132163</td>\n",
              "      <td>0.144632</td>\n",
              "      <td>-0.008479</td>\n",
              "      <td>0.002476</td>\n",
              "      <td>0.008448</td>\n",
              "      <td>0.018432</td>\n",
              "    </tr>\n",
              "    <tr>\n",
              "      <th>high</th>\n",
              "      <td>0.999911</td>\n",
              "      <td>1.000000</td>\n",
              "      <td>0.999877</td>\n",
              "      <td>0.999926</td>\n",
              "      <td>0.999818</td>\n",
              "      <td>-0.184956</td>\n",
              "      <td>0.002733</td>\n",
              "      <td>0.021491</td>\n",
              "      <td>0.465417</td>\n",
              "      <td>0.015605</td>\n",
              "      <td>0.431648</td>\n",
              "      <td>0.451963</td>\n",
              "      <td>0.868498</td>\n",
              "      <td>0.868498</td>\n",
              "      <td>0.999898</td>\n",
              "      <td>0.851204</td>\n",
              "      <td>0.959692</td>\n",
              "      <td>0.033195</td>\n",
              "      <td>0.033195</td>\n",
              "      <td>0.420476</td>\n",
              "      <td>0.802915</td>\n",
              "      <td>0.802915</td>\n",
              "      <td>0.000313</td>\n",
              "      <td>0.000313</td>\n",
              "      <td>0.010759</td>\n",
              "      <td>0.010759</td>\n",
              "      <td>0.013427</td>\n",
              "      <td>0.013427</td>\n",
              "      <td>0.014301</td>\n",
              "      <td>0.014301</td>\n",
              "      <td>0.131285</td>\n",
              "      <td>0.143284</td>\n",
              "      <td>-0.007276</td>\n",
              "      <td>0.011602</td>\n",
              "      <td>0.009348</td>\n",
              "      <td>0.020004</td>\n",
              "    </tr>\n",
              "    <tr>\n",
              "      <th>low</th>\n",
              "      <td>0.999899</td>\n",
              "      <td>0.999877</td>\n",
              "      <td>1.000000</td>\n",
              "      <td>0.999921</td>\n",
              "      <td>0.999802</td>\n",
              "      <td>-0.185535</td>\n",
              "      <td>0.002909</td>\n",
              "      <td>0.019092</td>\n",
              "      <td>0.459804</td>\n",
              "      <td>0.020880</td>\n",
              "      <td>0.423664</td>\n",
              "      <td>0.446640</td>\n",
              "      <td>0.866183</td>\n",
              "      <td>0.866183</td>\n",
              "      <td>0.999876</td>\n",
              "      <td>0.843032</td>\n",
              "      <td>0.957362</td>\n",
              "      <td>0.032681</td>\n",
              "      <td>0.032681</td>\n",
              "      <td>0.412838</td>\n",
              "      <td>0.797881</td>\n",
              "      <td>0.797881</td>\n",
              "      <td>-0.001939</td>\n",
              "      <td>-0.001939</td>\n",
              "      <td>0.009707</td>\n",
              "      <td>0.009707</td>\n",
              "      <td>0.012564</td>\n",
              "      <td>0.012564</td>\n",
              "      <td>0.013605</td>\n",
              "      <td>0.013605</td>\n",
              "      <td>0.134298</td>\n",
              "      <td>0.145806</td>\n",
              "      <td>-0.005173</td>\n",
              "      <td>0.012510</td>\n",
              "      <td>0.009309</td>\n",
              "      <td>0.020789</td>\n",
              "    </tr>\n",
              "    <tr>\n",
              "      <th>close</th>\n",
              "      <td>0.999816</td>\n",
              "      <td>0.999926</td>\n",
              "      <td>0.999921</td>\n",
              "      <td>1.000000</td>\n",
              "      <td>0.999885</td>\n",
              "      <td>-0.185256</td>\n",
              "      <td>0.005711</td>\n",
              "      <td>0.024511</td>\n",
              "      <td>0.466783</td>\n",
              "      <td>0.021630</td>\n",
              "      <td>0.424692</td>\n",
              "      <td>0.453528</td>\n",
              "      <td>0.868134</td>\n",
              "      <td>0.868134</td>\n",
              "      <td>0.999804</td>\n",
              "      <td>0.847346</td>\n",
              "      <td>0.958503</td>\n",
              "      <td>0.033625</td>\n",
              "      <td>0.033625</td>\n",
              "      <td>0.413523</td>\n",
              "      <td>0.799711</td>\n",
              "      <td>0.799711</td>\n",
              "      <td>-0.001393</td>\n",
              "      <td>-0.001393</td>\n",
              "      <td>0.010302</td>\n",
              "      <td>0.010302</td>\n",
              "      <td>0.013012</td>\n",
              "      <td>0.013012</td>\n",
              "      <td>0.013948</td>\n",
              "      <td>0.013948</td>\n",
              "      <td>0.132844</td>\n",
              "      <td>0.144282</td>\n",
              "      <td>-0.005278</td>\n",
              "      <td>0.020079</td>\n",
              "      <td>0.009978</td>\n",
              "      <td>0.021878</td>\n",
              "    </tr>\n",
              "    <tr>\n",
              "      <th>adj close</th>\n",
              "      <td>0.999704</td>\n",
              "      <td>0.999818</td>\n",
              "      <td>0.999802</td>\n",
              "      <td>0.999885</td>\n",
              "      <td>1.000000</td>\n",
              "      <td>-0.184227</td>\n",
              "      <td>0.005625</td>\n",
              "      <td>0.024270</td>\n",
              "      <td>0.466613</td>\n",
              "      <td>0.021373</td>\n",
              "      <td>0.424858</td>\n",
              "      <td>0.453362</td>\n",
              "      <td>0.867769</td>\n",
              "      <td>0.867769</td>\n",
              "      <td>0.999694</td>\n",
              "      <td>0.847566</td>\n",
              "      <td>0.958715</td>\n",
              "      <td>0.033175</td>\n",
              "      <td>0.033175</td>\n",
              "      <td>0.413684</td>\n",
              "      <td>0.800117</td>\n",
              "      <td>0.800117</td>\n",
              "      <td>-0.001114</td>\n",
              "      <td>-0.001114</td>\n",
              "      <td>0.010471</td>\n",
              "      <td>0.010471</td>\n",
              "      <td>0.013183</td>\n",
              "      <td>0.013183</td>\n",
              "      <td>0.014068</td>\n",
              "      <td>0.014068</td>\n",
              "      <td>0.131324</td>\n",
              "      <td>0.142738</td>\n",
              "      <td>-0.005536</td>\n",
              "      <td>0.019837</td>\n",
              "      <td>0.009804</td>\n",
              "      <td>0.021610</td>\n",
              "    </tr>\n",
              "    <tr>\n",
              "      <th>volume</th>\n",
              "      <td>-0.185190</td>\n",
              "      <td>-0.184956</td>\n",
              "      <td>-0.185535</td>\n",
              "      <td>-0.185256</td>\n",
              "      <td>-0.184227</td>\n",
              "      <td>1.000000</td>\n",
              "      <td>0.009181</td>\n",
              "      <td>-0.000189</td>\n",
              "      <td>-0.065580</td>\n",
              "      <td>-0.010567</td>\n",
              "      <td>-0.057652</td>\n",
              "      <td>-0.063574</td>\n",
              "      <td>-0.145979</td>\n",
              "      <td>-0.145979</td>\n",
              "      <td>-0.185205</td>\n",
              "      <td>-0.134760</td>\n",
              "      <td>-0.166773</td>\n",
              "      <td>0.079336</td>\n",
              "      <td>0.079336</td>\n",
              "      <td>-0.055953</td>\n",
              "      <td>-0.127361</td>\n",
              "      <td>-0.127361</td>\n",
              "      <td>0.139819</td>\n",
              "      <td>0.139819</td>\n",
              "      <td>0.086496</td>\n",
              "      <td>0.086496</td>\n",
              "      <td>0.060934</td>\n",
              "      <td>0.060934</td>\n",
              "      <td>0.040053</td>\n",
              "      <td>0.040053</td>\n",
              "      <td>-0.036997</td>\n",
              "      <td>-0.039678</td>\n",
              "      <td>-0.000025</td>\n",
              "      <td>-0.003826</td>\n",
              "      <td>0.017100</td>\n",
              "      <td>-0.029686</td>\n",
              "    </tr>\n",
              "    <tr>\n",
              "      <th>returns</th>\n",
              "      <td>-0.000665</td>\n",
              "      <td>0.002733</td>\n",
              "      <td>0.002909</td>\n",
              "      <td>0.005711</td>\n",
              "      <td>0.005625</td>\n",
              "      <td>0.009181</td>\n",
              "      <td>1.000000</td>\n",
              "      <td>0.253535</td>\n",
              "      <td>0.225581</td>\n",
              "      <td>0.235586</td>\n",
              "      <td>-0.202345</td>\n",
              "      <td>0.229464</td>\n",
              "      <td>0.055809</td>\n",
              "      <td>0.055809</td>\n",
              "      <td>-0.001608</td>\n",
              "      <td>-0.001461</td>\n",
              "      <td>-0.000968</td>\n",
              "      <td>0.301201</td>\n",
              "      <td>0.301201</td>\n",
              "      <td>-0.206624</td>\n",
              "      <td>-0.053171</td>\n",
              "      <td>-0.053171</td>\n",
              "      <td>-0.292628</td>\n",
              "      <td>-0.292628</td>\n",
              "      <td>0.007208</td>\n",
              "      <td>0.007208</td>\n",
              "      <td>0.007625</td>\n",
              "      <td>0.007625</td>\n",
              "      <td>0.008669</td>\n",
              "      <td>0.008669</td>\n",
              "      <td>0.019584</td>\n",
              "      <td>-0.000880</td>\n",
              "      <td>0.064829</td>\n",
              "      <td>0.369893</td>\n",
              "      <td>0.198646</td>\n",
              "      <td>0.482968</td>\n",
              "    </tr>\n",
              "    <tr>\n",
              "      <th>high_delta</th>\n",
              "      <td>0.013391</td>\n",
              "      <td>0.021491</td>\n",
              "      <td>0.019092</td>\n",
              "      <td>0.024511</td>\n",
              "      <td>0.024270</td>\n",
              "      <td>-0.000189</td>\n",
              "      <td>0.253535</td>\n",
              "      <td>1.000000</td>\n",
              "      <td>0.746856</td>\n",
              "      <td>0.580521</td>\n",
              "      <td>-0.402677</td>\n",
              "      <td>0.742079</td>\n",
              "      <td>0.211483</td>\n",
              "      <td>0.211483</td>\n",
              "      <td>0.011066</td>\n",
              "      <td>0.102534</td>\n",
              "      <td>-0.001076</td>\n",
              "      <td>0.173976</td>\n",
              "      <td>0.173976</td>\n",
              "      <td>-0.421322</td>\n",
              "      <td>-0.178193</td>\n",
              "      <td>-0.178193</td>\n",
              "      <td>-0.149466</td>\n",
              "      <td>-0.149466</td>\n",
              "      <td>0.003511</td>\n",
              "      <td>0.003511</td>\n",
              "      <td>-0.003248</td>\n",
              "      <td>-0.003248</td>\n",
              "      <td>-0.003152</td>\n",
              "      <td>-0.003152</td>\n",
              "      <td>0.084878</td>\n",
              "      <td>0.005541</td>\n",
              "      <td>0.253266</td>\n",
              "      <td>0.679650</td>\n",
              "      <td>0.093874</td>\n",
              "      <td>0.206585</td>\n",
              "    </tr>\n",
              "    <tr>\n",
              "      <th>um</th>\n",
              "      <td>0.456442</td>\n",
              "      <td>0.465417</td>\n",
              "      <td>0.459804</td>\n",
              "      <td>0.466783</td>\n",
              "      <td>0.466613</td>\n",
              "      <td>-0.065580</td>\n",
              "      <td>0.225581</td>\n",
              "      <td>0.746856</td>\n",
              "      <td>1.000000</td>\n",
              "      <td>0.408581</td>\n",
              "      <td>0.010933</td>\n",
              "      <td>0.994388</td>\n",
              "      <td>0.623028</td>\n",
              "      <td>0.623028</td>\n",
              "      <td>0.454856</td>\n",
              "      <td>0.598254</td>\n",
              "      <td>0.470756</td>\n",
              "      <td>0.183577</td>\n",
              "      <td>0.183577</td>\n",
              "      <td>-0.011797</td>\n",
              "      <td>0.323791</td>\n",
              "      <td>0.323791</td>\n",
              "      <td>-0.063029</td>\n",
              "      <td>-0.063029</td>\n",
              "      <td>0.036759</td>\n",
              "      <td>0.036759</td>\n",
              "      <td>0.022687</td>\n",
              "      <td>0.022687</td>\n",
              "      <td>0.017279</td>\n",
              "      <td>0.017279</td>\n",
              "      <td>0.080380</td>\n",
              "      <td>0.037153</td>\n",
              "      <td>0.145338</td>\n",
              "      <td>0.607429</td>\n",
              "      <td>0.085848</td>\n",
              "      <td>0.154240</td>\n",
              "    </tr>\n",
              "    <tr>\n",
              "      <th>low_delta</th>\n",
              "      <td>0.011646</td>\n",
              "      <td>0.015605</td>\n",
              "      <td>0.020880</td>\n",
              "      <td>0.021630</td>\n",
              "      <td>0.021373</td>\n",
              "      <td>-0.010567</td>\n",
              "      <td>0.235586</td>\n",
              "      <td>0.580521</td>\n",
              "      <td>0.408581</td>\n",
              "      <td>1.000000</td>\n",
              "      <td>-0.746889</td>\n",
              "      <td>0.426672</td>\n",
              "      <td>0.181584</td>\n",
              "      <td>0.181584</td>\n",
              "      <td>0.008839</td>\n",
              "      <td>-0.155177</td>\n",
              "      <td>0.004522</td>\n",
              "      <td>0.143695</td>\n",
              "      <td>0.143695</td>\n",
              "      <td>-0.742846</td>\n",
              "      <td>-0.188589</td>\n",
              "      <td>-0.188589</td>\n",
              "      <td>-0.160853</td>\n",
              "      <td>-0.160853</td>\n",
              "      <td>0.003867</td>\n",
              "      <td>0.003867</td>\n",
              "      <td>0.005594</td>\n",
              "      <td>0.005594</td>\n",
              "      <td>0.004356</td>\n",
              "      <td>0.004356</td>\n",
              "      <td>0.070581</td>\n",
              "      <td>-0.002037</td>\n",
              "      <td>0.230285</td>\n",
              "      <td>0.646563</td>\n",
              "      <td>0.079585</td>\n",
              "      <td>0.191430</td>\n",
              "    </tr>\n",
              "    <tr>\n",
              "      <th>dm</th>\n",
              "      <td>0.433585</td>\n",
              "      <td>0.431648</td>\n",
              "      <td>0.423664</td>\n",
              "      <td>0.424692</td>\n",
              "      <td>0.424858</td>\n",
              "      <td>-0.057652</td>\n",
              "      <td>-0.202345</td>\n",
              "      <td>-0.402677</td>\n",
              "      <td>0.010933</td>\n",
              "      <td>-0.746889</td>\n",
              "      <td>1.000000</td>\n",
              "      <td>-0.010344</td>\n",
              "      <td>0.308117</td>\n",
              "      <td>0.308117</td>\n",
              "      <td>0.435751</td>\n",
              "      <td>0.639529</td>\n",
              "      <td>0.465941</td>\n",
              "      <td>-0.071097</td>\n",
              "      <td>-0.071097</td>\n",
              "      <td>0.995319</td>\n",
              "      <td>0.617989</td>\n",
              "      <td>0.617989</td>\n",
              "      <td>0.190303</td>\n",
              "      <td>0.190303</td>\n",
              "      <td>0.029944</td>\n",
              "      <td>0.029944</td>\n",
              "      <td>0.019607</td>\n",
              "      <td>0.019607</td>\n",
              "      <td>0.013888</td>\n",
              "      <td>0.013888</td>\n",
              "      <td>-0.044538</td>\n",
              "      <td>0.020556</td>\n",
              "      <td>-0.202392</td>\n",
              "      <td>-0.554469</td>\n",
              "      <td>-0.047183</td>\n",
              "      <td>-0.145612</td>\n",
              "    </tr>\n",
              "    <tr>\n",
              "      <th>pdm</th>\n",
              "      <td>0.443035</td>\n",
              "      <td>0.451963</td>\n",
              "      <td>0.446640</td>\n",
              "      <td>0.453528</td>\n",
              "      <td>0.453362</td>\n",
              "      <td>-0.063574</td>\n",
              "      <td>0.229464</td>\n",
              "      <td>0.742079</td>\n",
              "      <td>0.994388</td>\n",
              "      <td>0.426672</td>\n",
              "      <td>-0.010344</td>\n",
              "      <td>1.000000</td>\n",
              "      <td>0.614743</td>\n",
              "      <td>0.614743</td>\n",
              "      <td>0.441426</td>\n",
              "      <td>0.578413</td>\n",
              "      <td>0.457191</td>\n",
              "      <td>0.186623</td>\n",
              "      <td>0.186623</td>\n",
              "      <td>-0.033245</td>\n",
              "      <td>0.309639</td>\n",
              "      <td>0.309639</td>\n",
              "      <td>-0.066081</td>\n",
              "      <td>-0.066081</td>\n",
              "      <td>0.037851</td>\n",
              "      <td>0.037851</td>\n",
              "      <td>0.023336</td>\n",
              "      <td>0.023336</td>\n",
              "      <td>0.017665</td>\n",
              "      <td>0.017665</td>\n",
              "      <td>0.079383</td>\n",
              "      <td>0.035174</td>\n",
              "      <td>0.148036</td>\n",
              "      <td>0.617604</td>\n",
              "      <td>0.086965</td>\n",
              "      <td>0.156334</td>\n",
              "    </tr>\n",
              "    <tr>\n",
              "      <th>pdm_14_ema</th>\n",
              "      <td>0.865793</td>\n",
              "      <td>0.868498</td>\n",
              "      <td>0.866183</td>\n",
              "      <td>0.868134</td>\n",
              "      <td>0.867769</td>\n",
              "      <td>-0.145979</td>\n",
              "      <td>0.055809</td>\n",
              "      <td>0.211483</td>\n",
              "      <td>0.623028</td>\n",
              "      <td>0.181584</td>\n",
              "      <td>0.308117</td>\n",
              "      <td>0.614743</td>\n",
              "      <td>1.000000</td>\n",
              "      <td>1.000000</td>\n",
              "      <td>0.865376</td>\n",
              "      <td>0.817331</td>\n",
              "      <td>0.875921</td>\n",
              "      <td>0.202089</td>\n",
              "      <td>0.202089</td>\n",
              "      <td>0.292297</td>\n",
              "      <td>0.630037</td>\n",
              "      <td>0.630037</td>\n",
              "      <td>-0.085423</td>\n",
              "      <td>-0.085423</td>\n",
              "      <td>0.037408</td>\n",
              "      <td>0.037408</td>\n",
              "      <td>0.042983</td>\n",
              "      <td>0.042983</td>\n",
              "      <td>0.042802</td>\n",
              "      <td>0.042802</td>\n",
              "      <td>0.314654</td>\n",
              "      <td>0.238590</td>\n",
              "      <td>0.293041</td>\n",
              "      <td>0.152726</td>\n",
              "      <td>0.070367</td>\n",
              "      <td>0.144919</td>\n",
              "    </tr>\n",
              "    <tr>\n",
              "      <th>pdm_14</th>\n",
              "      <td>0.865793</td>\n",
              "      <td>0.868498</td>\n",
              "      <td>0.866183</td>\n",
              "      <td>0.868134</td>\n",
              "      <td>0.867769</td>\n",
              "      <td>-0.145979</td>\n",
              "      <td>0.055809</td>\n",
              "      <td>0.211483</td>\n",
              "      <td>0.623028</td>\n",
              "      <td>0.181584</td>\n",
              "      <td>0.308117</td>\n",
              "      <td>0.614743</td>\n",
              "      <td>1.000000</td>\n",
              "      <td>1.000000</td>\n",
              "      <td>0.865376</td>\n",
              "      <td>0.817331</td>\n",
              "      <td>0.875921</td>\n",
              "      <td>0.202089</td>\n",
              "      <td>0.202089</td>\n",
              "      <td>0.292297</td>\n",
              "      <td>0.630037</td>\n",
              "      <td>0.630037</td>\n",
              "      <td>-0.085423</td>\n",
              "      <td>-0.085423</td>\n",
              "      <td>0.037408</td>\n",
              "      <td>0.037408</td>\n",
              "      <td>0.042983</td>\n",
              "      <td>0.042983</td>\n",
              "      <td>0.042802</td>\n",
              "      <td>0.042802</td>\n",
              "      <td>0.314654</td>\n",
              "      <td>0.238590</td>\n",
              "      <td>0.293041</td>\n",
              "      <td>0.152726</td>\n",
              "      <td>0.070367</td>\n",
              "      <td>0.144919</td>\n",
              "    </tr>\n",
              "    <tr>\n",
              "      <th>close_-1_s</th>\n",
              "      <td>0.999970</td>\n",
              "      <td>0.999898</td>\n",
              "      <td>0.999876</td>\n",
              "      <td>0.999804</td>\n",
              "      <td>0.999694</td>\n",
              "      <td>-0.185205</td>\n",
              "      <td>-0.001608</td>\n",
              "      <td>0.011066</td>\n",
              "      <td>0.454856</td>\n",
              "      <td>0.008839</td>\n",
              "      <td>0.435751</td>\n",
              "      <td>0.441426</td>\n",
              "      <td>0.865376</td>\n",
              "      <td>0.865376</td>\n",
              "      <td>1.000000</td>\n",
              "      <td>0.847758</td>\n",
              "      <td>0.958685</td>\n",
              "      <td>0.031145</td>\n",
              "      <td>0.031145</td>\n",
              "      <td>0.424895</td>\n",
              "      <td>0.802727</td>\n",
              "      <td>0.802727</td>\n",
              "      <td>0.001015</td>\n",
              "      <td>0.001015</td>\n",
              "      <td>0.010258</td>\n",
              "      <td>0.010258</td>\n",
              "      <td>0.013018</td>\n",
              "      <td>0.013018</td>\n",
              "      <td>0.013953</td>\n",
              "      <td>0.013953</td>\n",
              "      <td>0.131926</td>\n",
              "      <td>0.144433</td>\n",
              "      <td>-0.008644</td>\n",
              "      <td>0.000293</td>\n",
              "      <td>0.008291</td>\n",
              "      <td>0.018025</td>\n",
              "    </tr>\n",
              "    <tr>\n",
              "      <th>tr</th>\n",
              "      <td>0.847435</td>\n",
              "      <td>0.851204</td>\n",
              "      <td>0.843032</td>\n",
              "      <td>0.847346</td>\n",
              "      <td>0.847566</td>\n",
              "      <td>-0.134760</td>\n",
              "      <td>-0.001461</td>\n",
              "      <td>0.102534</td>\n",
              "      <td>0.598254</td>\n",
              "      <td>-0.155177</td>\n",
              "      <td>0.639529</td>\n",
              "      <td>0.578413</td>\n",
              "      <td>0.817331</td>\n",
              "      <td>0.817331</td>\n",
              "      <td>0.847758</td>\n",
              "      <td>1.000000</td>\n",
              "      <td>0.891727</td>\n",
              "      <td>0.048418</td>\n",
              "      <td>0.048418</td>\n",
              "      <td>0.619708</td>\n",
              "      <td>0.851176</td>\n",
              "      <td>0.851176</td>\n",
              "      <td>0.078075</td>\n",
              "      <td>0.078075</td>\n",
              "      <td>0.045226</td>\n",
              "      <td>0.045226</td>\n",
              "      <td>0.040417</td>\n",
              "      <td>0.040417</td>\n",
              "      <td>0.035361</td>\n",
              "      <td>0.035361</td>\n",
              "      <td>0.010406</td>\n",
              "      <td>0.037101</td>\n",
              "      <td>-0.076830</td>\n",
              "      <td>-0.012212</td>\n",
              "      <td>0.010357</td>\n",
              "      <td>-0.008140</td>\n",
              "    </tr>\n",
              "    <tr>\n",
              "      <th>atr_14</th>\n",
              "      <td>0.958661</td>\n",
              "      <td>0.959692</td>\n",
              "      <td>0.957362</td>\n",
              "      <td>0.958503</td>\n",
              "      <td>0.958715</td>\n",
              "      <td>-0.166773</td>\n",
              "      <td>-0.000968</td>\n",
              "      <td>-0.001076</td>\n",
              "      <td>0.470756</td>\n",
              "      <td>0.004522</td>\n",
              "      <td>0.465941</td>\n",
              "      <td>0.457191</td>\n",
              "      <td>0.875921</td>\n",
              "      <td>0.875921</td>\n",
              "      <td>0.958685</td>\n",
              "      <td>0.891727</td>\n",
              "      <td>1.000000</td>\n",
              "      <td>0.015823</td>\n",
              "      <td>0.015823</td>\n",
              "      <td>0.453187</td>\n",
              "      <td>0.885238</td>\n",
              "      <td>0.885238</td>\n",
              "      <td>0.039892</td>\n",
              "      <td>0.039892</td>\n",
              "      <td>0.013704</td>\n",
              "      <td>0.013704</td>\n",
              "      <td>0.020762</td>\n",
              "      <td>0.020762</td>\n",
              "      <td>0.024837</td>\n",
              "      <td>0.024837</td>\n",
              "      <td>0.005924</td>\n",
              "      <td>0.020120</td>\n",
              "      <td>-0.040773</td>\n",
              "      <td>0.000567</td>\n",
              "      <td>-0.001352</td>\n",
              "      <td>-0.005103</td>\n",
              "    </tr>\n",
              "    <tr>\n",
              "      <th>pdi_14</th>\n",
              "      <td>0.031577</td>\n",
              "      <td>0.033195</td>\n",
              "      <td>0.032681</td>\n",
              "      <td>0.033625</td>\n",
              "      <td>0.033175</td>\n",
              "      <td>0.079336</td>\n",
              "      <td>0.301201</td>\n",
              "      <td>0.173976</td>\n",
              "      <td>0.183577</td>\n",
              "      <td>0.143695</td>\n",
              "      <td>-0.071097</td>\n",
              "      <td>0.186623</td>\n",
              "      <td>0.202089</td>\n",
              "      <td>0.202089</td>\n",
              "      <td>0.031145</td>\n",
              "      <td>0.048418</td>\n",
              "      <td>0.015823</td>\n",
              "      <td>1.000000</td>\n",
              "      <td>1.000000</td>\n",
              "      <td>-0.074109</td>\n",
              "      <td>-0.098746</td>\n",
              "      <td>-0.098746</td>\n",
              "      <td>-0.608713</td>\n",
              "      <td>-0.608713</td>\n",
              "      <td>0.182320</td>\n",
              "      <td>0.182320</td>\n",
              "      <td>0.184148</td>\n",
              "      <td>0.184148</td>\n",
              "      <td>0.160889</td>\n",
              "      <td>0.160889</td>\n",
              "      <td>0.241542</td>\n",
              "      <td>0.170188</td>\n",
              "      <td>0.263345</td>\n",
              "      <td>0.125642</td>\n",
              "      <td>0.403216</td>\n",
              "      <td>0.808905</td>\n",
              "    </tr>\n",
              "    <tr>\n",
              "      <th>pdi</th>\n",
              "      <td>0.031577</td>\n",
              "      <td>0.033195</td>\n",
              "      <td>0.032681</td>\n",
              "      <td>0.033625</td>\n",
              "      <td>0.033175</td>\n",
              "      <td>0.079336</td>\n",
              "      <td>0.301201</td>\n",
              "      <td>0.173976</td>\n",
              "      <td>0.183577</td>\n",
              "      <td>0.143695</td>\n",
              "      <td>-0.071097</td>\n",
              "      <td>0.186623</td>\n",
              "      <td>0.202089</td>\n",
              "      <td>0.202089</td>\n",
              "      <td>0.031145</td>\n",
              "      <td>0.048418</td>\n",
              "      <td>0.015823</td>\n",
              "      <td>1.000000</td>\n",
              "      <td>1.000000</td>\n",
              "      <td>-0.074109</td>\n",
              "      <td>-0.098746</td>\n",
              "      <td>-0.098746</td>\n",
              "      <td>-0.608713</td>\n",
              "      <td>-0.608713</td>\n",
              "      <td>0.182320</td>\n",
              "      <td>0.182320</td>\n",
              "      <td>0.184148</td>\n",
              "      <td>0.184148</td>\n",
              "      <td>0.160889</td>\n",
              "      <td>0.160889</td>\n",
              "      <td>0.241542</td>\n",
              "      <td>0.170188</td>\n",
              "      <td>0.263345</td>\n",
              "      <td>0.125642</td>\n",
              "      <td>0.403216</td>\n",
              "      <td>0.808905</td>\n",
              "    </tr>\n",
              "    <tr>\n",
              "      <th>mdm</th>\n",
              "      <td>0.422756</td>\n",
              "      <td>0.420476</td>\n",
              "      <td>0.412838</td>\n",
              "      <td>0.413523</td>\n",
              "      <td>0.413684</td>\n",
              "      <td>-0.055953</td>\n",
              "      <td>-0.206624</td>\n",
              "      <td>-0.421322</td>\n",
              "      <td>-0.011797</td>\n",
              "      <td>-0.742846</td>\n",
              "      <td>0.995319</td>\n",
              "      <td>-0.033245</td>\n",
              "      <td>0.292297</td>\n",
              "      <td>0.292297</td>\n",
              "      <td>0.424895</td>\n",
              "      <td>0.619708</td>\n",
              "      <td>0.453187</td>\n",
              "      <td>-0.074109</td>\n",
              "      <td>-0.074109</td>\n",
              "      <td>1.000000</td>\n",
              "      <td>0.611487</td>\n",
              "      <td>0.611487</td>\n",
              "      <td>0.193187</td>\n",
              "      <td>0.193187</td>\n",
              "      <td>0.029660</td>\n",
              "      <td>0.029660</td>\n",
              "      <td>0.019333</td>\n",
              "      <td>0.019333</td>\n",
              "      <td>0.013653</td>\n",
              "      <td>0.013653</td>\n",
              "      <td>-0.045522</td>\n",
              "      <td>0.022404</td>\n",
              "      <td>-0.210994</td>\n",
              "      <td>-0.569150</td>\n",
              "      <td>-0.048001</td>\n",
              "      <td>-0.148168</td>\n",
              "    </tr>\n",
              "    <tr>\n",
              "      <th>mdm_14_ema</th>\n",
              "      <td>0.802232</td>\n",
              "      <td>0.802915</td>\n",
              "      <td>0.797881</td>\n",
              "      <td>0.799711</td>\n",
              "      <td>0.800117</td>\n",
              "      <td>-0.127361</td>\n",
              "      <td>-0.053171</td>\n",
              "      <td>-0.178193</td>\n",
              "      <td>0.323791</td>\n",
              "      <td>-0.188589</td>\n",
              "      <td>0.617989</td>\n",
              "      <td>0.309639</td>\n",
              "      <td>0.630037</td>\n",
              "      <td>0.630037</td>\n",
              "      <td>0.802727</td>\n",
              "      <td>0.851176</td>\n",
              "      <td>0.885238</td>\n",
              "      <td>-0.098746</td>\n",
              "      <td>-0.098746</td>\n",
              "      <td>0.611487</td>\n",
              "      <td>1.000000</td>\n",
              "      <td>1.000000</td>\n",
              "      <td>0.217405</td>\n",
              "      <td>0.217405</td>\n",
              "      <td>0.026415</td>\n",
              "      <td>0.026415</td>\n",
              "      <td>0.030935</td>\n",
              "      <td>0.030935</td>\n",
              "      <td>0.030047</td>\n",
              "      <td>0.030047</td>\n",
              "      <td>-0.261553</td>\n",
              "      <td>-0.153948</td>\n",
              "      <td>-0.375032</td>\n",
              "      <td>-0.140453</td>\n",
              "      <td>-0.052416</td>\n",
              "      <td>-0.142133</td>\n",
              "    </tr>\n",
              "    <tr>\n",
              "      <th>mdm_14</th>\n",
              "      <td>0.802232</td>\n",
              "      <td>0.802915</td>\n",
              "      <td>0.797881</td>\n",
              "      <td>0.799711</td>\n",
              "      <td>0.800117</td>\n",
              "      <td>-0.127361</td>\n",
              "      <td>-0.053171</td>\n",
              "      <td>-0.178193</td>\n",
              "      <td>0.323791</td>\n",
              "      <td>-0.188589</td>\n",
              "      <td>0.617989</td>\n",
              "      <td>0.309639</td>\n",
              "      <td>0.630037</td>\n",
              "      <td>0.630037</td>\n",
              "      <td>0.802727</td>\n",
              "      <td>0.851176</td>\n",
              "      <td>0.885238</td>\n",
              "      <td>-0.098746</td>\n",
              "      <td>-0.098746</td>\n",
              "      <td>0.611487</td>\n",
              "      <td>1.000000</td>\n",
              "      <td>1.000000</td>\n",
              "      <td>0.217405</td>\n",
              "      <td>0.217405</td>\n",
              "      <td>0.026415</td>\n",
              "      <td>0.026415</td>\n",
              "      <td>0.030935</td>\n",
              "      <td>0.030935</td>\n",
              "      <td>0.030047</td>\n",
              "      <td>0.030047</td>\n",
              "      <td>-0.261553</td>\n",
              "      <td>-0.153948</td>\n",
              "      <td>-0.375032</td>\n",
              "      <td>-0.140453</td>\n",
              "      <td>-0.052416</td>\n",
              "      <td>-0.142133</td>\n",
              "    </tr>\n",
              "    <tr>\n",
              "      <th>mdi_14</th>\n",
              "      <td>0.000603</td>\n",
              "      <td>0.000313</td>\n",
              "      <td>-0.001939</td>\n",
              "      <td>-0.001393</td>\n",
              "      <td>-0.001114</td>\n",
              "      <td>0.139819</td>\n",
              "      <td>-0.292628</td>\n",
              "      <td>-0.149466</td>\n",
              "      <td>-0.063029</td>\n",
              "      <td>-0.160853</td>\n",
              "      <td>0.190303</td>\n",
              "      <td>-0.066081</td>\n",
              "      <td>-0.085423</td>\n",
              "      <td>-0.085423</td>\n",
              "      <td>0.001015</td>\n",
              "      <td>0.078075</td>\n",
              "      <td>0.039892</td>\n",
              "      <td>-0.608713</td>\n",
              "      <td>-0.608713</td>\n",
              "      <td>0.193187</td>\n",
              "      <td>0.217405</td>\n",
              "      <td>0.217405</td>\n",
              "      <td>1.000000</td>\n",
              "      <td>1.000000</td>\n",
              "      <td>0.023340</td>\n",
              "      <td>0.023340</td>\n",
              "      <td>0.013599</td>\n",
              "      <td>0.013599</td>\n",
              "      <td>-0.000492</td>\n",
              "      <td>-0.000492</td>\n",
              "      <td>-0.231591</td>\n",
              "      <td>-0.156270</td>\n",
              "      <td>-0.272954</td>\n",
              "      <td>-0.121660</td>\n",
              "      <td>-0.308617</td>\n",
              "      <td>-0.790435</td>\n",
              "    </tr>\n",
              "    <tr>\n",
              "      <th>mdi</th>\n",
              "      <td>0.000603</td>\n",
              "      <td>0.000313</td>\n",
              "      <td>-0.001939</td>\n",
              "      <td>-0.001393</td>\n",
              "      <td>-0.001114</td>\n",
              "      <td>0.139819</td>\n",
              "      <td>-0.292628</td>\n",
              "      <td>-0.149466</td>\n",
              "      <td>-0.063029</td>\n",
              "      <td>-0.160853</td>\n",
              "      <td>0.190303</td>\n",
              "      <td>-0.066081</td>\n",
              "      <td>-0.085423</td>\n",
              "      <td>-0.085423</td>\n",
              "      <td>0.001015</td>\n",
              "      <td>0.078075</td>\n",
              "      <td>0.039892</td>\n",
              "      <td>-0.608713</td>\n",
              "      <td>-0.608713</td>\n",
              "      <td>0.193187</td>\n",
              "      <td>0.217405</td>\n",
              "      <td>0.217405</td>\n",
              "      <td>1.000000</td>\n",
              "      <td>1.000000</td>\n",
              "      <td>0.023340</td>\n",
              "      <td>0.023340</td>\n",
              "      <td>0.013599</td>\n",
              "      <td>0.013599</td>\n",
              "      <td>-0.000492</td>\n",
              "      <td>-0.000492</td>\n",
              "      <td>-0.231591</td>\n",
              "      <td>-0.156270</td>\n",
              "      <td>-0.272954</td>\n",
              "      <td>-0.121660</td>\n",
              "      <td>-0.308617</td>\n",
              "      <td>-0.790435</td>\n",
              "    </tr>\n",
              "    <tr>\n",
              "      <th>dx_14</th>\n",
              "      <td>0.010203</td>\n",
              "      <td>0.010759</td>\n",
              "      <td>0.009707</td>\n",
              "      <td>0.010302</td>\n",
              "      <td>0.010471</td>\n",
              "      <td>0.086496</td>\n",
              "      <td>0.007208</td>\n",
              "      <td>0.003511</td>\n",
              "      <td>0.036759</td>\n",
              "      <td>0.003867</td>\n",
              "      <td>0.029944</td>\n",
              "      <td>0.037851</td>\n",
              "      <td>0.037408</td>\n",
              "      <td>0.037408</td>\n",
              "      <td>0.010258</td>\n",
              "      <td>0.045226</td>\n",
              "      <td>0.013704</td>\n",
              "      <td>0.182320</td>\n",
              "      <td>0.182320</td>\n",
              "      <td>0.029660</td>\n",
              "      <td>0.026415</td>\n",
              "      <td>0.026415</td>\n",
              "      <td>0.023340</td>\n",
              "      <td>0.023340</td>\n",
              "      <td>1.000000</td>\n",
              "      <td>1.000000</td>\n",
              "      <td>0.828448</td>\n",
              "      <td>0.828448</td>\n",
              "      <td>0.576720</td>\n",
              "      <td>0.576720</td>\n",
              "      <td>0.015729</td>\n",
              "      <td>0.016268</td>\n",
              "      <td>0.001792</td>\n",
              "      <td>0.002322</td>\n",
              "      <td>0.212520</td>\n",
              "      <td>0.080282</td>\n",
              "    </tr>\n",
              "    <tr>\n",
              "      <th>dx</th>\n",
              "      <td>0.010203</td>\n",
              "      <td>0.010759</td>\n",
              "      <td>0.009707</td>\n",
              "      <td>0.010302</td>\n",
              "      <td>0.010471</td>\n",
              "      <td>0.086496</td>\n",
              "      <td>0.007208</td>\n",
              "      <td>0.003511</td>\n",
              "      <td>0.036759</td>\n",
              "      <td>0.003867</td>\n",
              "      <td>0.029944</td>\n",
              "      <td>0.037851</td>\n",
              "      <td>0.037408</td>\n",
              "      <td>0.037408</td>\n",
              "      <td>0.010258</td>\n",
              "      <td>0.045226</td>\n",
              "      <td>0.013704</td>\n",
              "      <td>0.182320</td>\n",
              "      <td>0.182320</td>\n",
              "      <td>0.029660</td>\n",
              "      <td>0.026415</td>\n",
              "      <td>0.026415</td>\n",
              "      <td>0.023340</td>\n",
              "      <td>0.023340</td>\n",
              "      <td>1.000000</td>\n",
              "      <td>1.000000</td>\n",
              "      <td>0.828448</td>\n",
              "      <td>0.828448</td>\n",
              "      <td>0.576720</td>\n",
              "      <td>0.576720</td>\n",
              "      <td>0.015729</td>\n",
              "      <td>0.016268</td>\n",
              "      <td>0.001792</td>\n",
              "      <td>0.002322</td>\n",
              "      <td>0.212520</td>\n",
              "      <td>0.080282</td>\n",
              "    </tr>\n",
              "    <tr>\n",
              "      <th>dx_6_ema</th>\n",
              "      <td>0.012986</td>\n",
              "      <td>0.013427</td>\n",
              "      <td>0.012564</td>\n",
              "      <td>0.013012</td>\n",
              "      <td>0.013183</td>\n",
              "      <td>0.060934</td>\n",
              "      <td>0.007625</td>\n",
              "      <td>-0.003248</td>\n",
              "      <td>0.022687</td>\n",
              "      <td>0.005594</td>\n",
              "      <td>0.019607</td>\n",
              "      <td>0.023336</td>\n",
              "      <td>0.042983</td>\n",
              "      <td>0.042983</td>\n",
              "      <td>0.013018</td>\n",
              "      <td>0.040417</td>\n",
              "      <td>0.020762</td>\n",
              "      <td>0.184148</td>\n",
              "      <td>0.184148</td>\n",
              "      <td>0.019333</td>\n",
              "      <td>0.030935</td>\n",
              "      <td>0.030935</td>\n",
              "      <td>0.013599</td>\n",
              "      <td>0.013599</td>\n",
              "      <td>0.828448</td>\n",
              "      <td>0.828448</td>\n",
              "      <td>1.000000</td>\n",
              "      <td>1.000000</td>\n",
              "      <td>0.910090</td>\n",
              "      <td>0.910090</td>\n",
              "      <td>0.018210</td>\n",
              "      <td>0.020361</td>\n",
              "      <td>-0.002450</td>\n",
              "      <td>-0.000193</td>\n",
              "      <td>0.190634</td>\n",
              "      <td>0.086113</td>\n",
              "    </tr>\n",
              "    <tr>\n",
              "      <th>adx</th>\n",
              "      <td>0.012986</td>\n",
              "      <td>0.013427</td>\n",
              "      <td>0.012564</td>\n",
              "      <td>0.013012</td>\n",
              "      <td>0.013183</td>\n",
              "      <td>0.060934</td>\n",
              "      <td>0.007625</td>\n",
              "      <td>-0.003248</td>\n",
              "      <td>0.022687</td>\n",
              "      <td>0.005594</td>\n",
              "      <td>0.019607</td>\n",
              "      <td>0.023336</td>\n",
              "      <td>0.042983</td>\n",
              "      <td>0.042983</td>\n",
              "      <td>0.013018</td>\n",
              "      <td>0.040417</td>\n",
              "      <td>0.020762</td>\n",
              "      <td>0.184148</td>\n",
              "      <td>0.184148</td>\n",
              "      <td>0.019333</td>\n",
              "      <td>0.030935</td>\n",
              "      <td>0.030935</td>\n",
              "      <td>0.013599</td>\n",
              "      <td>0.013599</td>\n",
              "      <td>0.828448</td>\n",
              "      <td>0.828448</td>\n",
              "      <td>1.000000</td>\n",
              "      <td>1.000000</td>\n",
              "      <td>0.910090</td>\n",
              "      <td>0.910090</td>\n",
              "      <td>0.018210</td>\n",
              "      <td>0.020361</td>\n",
              "      <td>-0.002450</td>\n",
              "      <td>-0.000193</td>\n",
              "      <td>0.190634</td>\n",
              "      <td>0.086113</td>\n",
              "    </tr>\n",
              "    <tr>\n",
              "      <th>adx_6_ema</th>\n",
              "      <td>0.013932</td>\n",
              "      <td>0.014301</td>\n",
              "      <td>0.013605</td>\n",
              "      <td>0.013948</td>\n",
              "      <td>0.014068</td>\n",
              "      <td>0.040053</td>\n",
              "      <td>0.008669</td>\n",
              "      <td>-0.003152</td>\n",
              "      <td>0.017279</td>\n",
              "      <td>0.004356</td>\n",
              "      <td>0.013888</td>\n",
              "      <td>0.017665</td>\n",
              "      <td>0.042802</td>\n",
              "      <td>0.042802</td>\n",
              "      <td>0.013953</td>\n",
              "      <td>0.035361</td>\n",
              "      <td>0.024837</td>\n",
              "      <td>0.160889</td>\n",
              "      <td>0.160889</td>\n",
              "      <td>0.013653</td>\n",
              "      <td>0.030047</td>\n",
              "      <td>0.030047</td>\n",
              "      <td>-0.000492</td>\n",
              "      <td>-0.000492</td>\n",
              "      <td>0.576720</td>\n",
              "      <td>0.576720</td>\n",
              "      <td>0.910090</td>\n",
              "      <td>0.910090</td>\n",
              "      <td>1.000000</td>\n",
              "      <td>1.000000</td>\n",
              "      <td>0.017798</td>\n",
              "      <td>0.021268</td>\n",
              "      <td>-0.006444</td>\n",
              "      <td>-0.000084</td>\n",
              "      <td>0.150239</td>\n",
              "      <td>0.081529</td>\n",
              "    </tr>\n",
              "    <tr>\n",
              "      <th>adxr</th>\n",
              "      <td>0.013932</td>\n",
              "      <td>0.014301</td>\n",
              "      <td>0.013605</td>\n",
              "      <td>0.013948</td>\n",
              "      <td>0.014068</td>\n",
              "      <td>0.040053</td>\n",
              "      <td>0.008669</td>\n",
              "      <td>-0.003152</td>\n",
              "      <td>0.017279</td>\n",
              "      <td>0.004356</td>\n",
              "      <td>0.013888</td>\n",
              "      <td>0.017665</td>\n",
              "      <td>0.042802</td>\n",
              "      <td>0.042802</td>\n",
              "      <td>0.013953</td>\n",
              "      <td>0.035361</td>\n",
              "      <td>0.024837</td>\n",
              "      <td>0.160889</td>\n",
              "      <td>0.160889</td>\n",
              "      <td>0.013653</td>\n",
              "      <td>0.030047</td>\n",
              "      <td>0.030047</td>\n",
              "      <td>-0.000492</td>\n",
              "      <td>-0.000492</td>\n",
              "      <td>0.576720</td>\n",
              "      <td>0.576720</td>\n",
              "      <td>0.910090</td>\n",
              "      <td>0.910090</td>\n",
              "      <td>1.000000</td>\n",
              "      <td>1.000000</td>\n",
              "      <td>0.017798</td>\n",
              "      <td>0.021268</td>\n",
              "      <td>-0.006444</td>\n",
              "      <td>-0.000084</td>\n",
              "      <td>0.150239</td>\n",
              "      <td>0.081529</td>\n",
              "    </tr>\n",
              "    <tr>\n",
              "      <th>macd</th>\n",
              "      <td>0.132163</td>\n",
              "      <td>0.131285</td>\n",
              "      <td>0.134298</td>\n",
              "      <td>0.132844</td>\n",
              "      <td>0.131324</td>\n",
              "      <td>-0.036997</td>\n",
              "      <td>0.019584</td>\n",
              "      <td>0.084878</td>\n",
              "      <td>0.080380</td>\n",
              "      <td>0.070581</td>\n",
              "      <td>-0.044538</td>\n",
              "      <td>0.079383</td>\n",
              "      <td>0.314654</td>\n",
              "      <td>0.314654</td>\n",
              "      <td>0.131926</td>\n",
              "      <td>0.010406</td>\n",
              "      <td>0.005924</td>\n",
              "      <td>0.241542</td>\n",
              "      <td>0.241542</td>\n",
              "      <td>-0.045522</td>\n",
              "      <td>-0.261553</td>\n",
              "      <td>-0.261553</td>\n",
              "      <td>-0.231591</td>\n",
              "      <td>-0.231591</td>\n",
              "      <td>0.015729</td>\n",
              "      <td>0.015729</td>\n",
              "      <td>0.018210</td>\n",
              "      <td>0.018210</td>\n",
              "      <td>0.017798</td>\n",
              "      <td>0.017798</td>\n",
              "      <td>1.000000</td>\n",
              "      <td>0.949332</td>\n",
              "      <td>0.365360</td>\n",
              "      <td>0.048035</td>\n",
              "      <td>0.091376</td>\n",
              "      <td>0.216024</td>\n",
              "    </tr>\n",
              "    <tr>\n",
              "      <th>macds</th>\n",
              "      <td>0.144632</td>\n",
              "      <td>0.143284</td>\n",
              "      <td>0.145806</td>\n",
              "      <td>0.144282</td>\n",
              "      <td>0.142738</td>\n",
              "      <td>-0.039678</td>\n",
              "      <td>-0.000880</td>\n",
              "      <td>0.005541</td>\n",
              "      <td>0.037153</td>\n",
              "      <td>-0.002037</td>\n",
              "      <td>0.020556</td>\n",
              "      <td>0.035174</td>\n",
              "      <td>0.238590</td>\n",
              "      <td>0.238590</td>\n",
              "      <td>0.144433</td>\n",
              "      <td>0.037101</td>\n",
              "      <td>0.020120</td>\n",
              "      <td>0.170188</td>\n",
              "      <td>0.170188</td>\n",
              "      <td>0.022404</td>\n",
              "      <td>-0.153948</td>\n",
              "      <td>-0.153948</td>\n",
              "      <td>-0.156270</td>\n",
              "      <td>-0.156270</td>\n",
              "      <td>0.016268</td>\n",
              "      <td>0.016268</td>\n",
              "      <td>0.020361</td>\n",
              "      <td>0.020361</td>\n",
              "      <td>0.021268</td>\n",
              "      <td>0.021268</td>\n",
              "      <td>0.949332</td>\n",
              "      <td>1.000000</td>\n",
              "      <td>0.054301</td>\n",
              "      <td>-0.005880</td>\n",
              "      <td>0.058370</td>\n",
              "      <td>0.135436</td>\n",
              "    </tr>\n",
              "    <tr>\n",
              "      <th>macdh</th>\n",
              "      <td>-0.008479</td>\n",
              "      <td>-0.007276</td>\n",
              "      <td>-0.005173</td>\n",
              "      <td>-0.005278</td>\n",
              "      <td>-0.005536</td>\n",
              "      <td>-0.000025</td>\n",
              "      <td>0.064829</td>\n",
              "      <td>0.253266</td>\n",
              "      <td>0.145338</td>\n",
              "      <td>0.230285</td>\n",
              "      <td>-0.202392</td>\n",
              "      <td>0.148036</td>\n",
              "      <td>0.293041</td>\n",
              "      <td>0.293041</td>\n",
              "      <td>-0.008644</td>\n",
              "      <td>-0.076830</td>\n",
              "      <td>-0.040773</td>\n",
              "      <td>0.263345</td>\n",
              "      <td>0.263345</td>\n",
              "      <td>-0.210994</td>\n",
              "      <td>-0.375032</td>\n",
              "      <td>-0.375032</td>\n",
              "      <td>-0.272954</td>\n",
              "      <td>-0.272954</td>\n",
              "      <td>0.001792</td>\n",
              "      <td>0.001792</td>\n",
              "      <td>-0.002450</td>\n",
              "      <td>-0.002450</td>\n",
              "      <td>-0.006444</td>\n",
              "      <td>-0.006444</td>\n",
              "      <td>0.365360</td>\n",
              "      <td>0.054301</td>\n",
              "      <td>1.000000</td>\n",
              "      <td>0.170032</td>\n",
              "      <td>0.117434</td>\n",
              "      <td>0.285206</td>\n",
              "    </tr>\n",
              "    <tr>\n",
              "      <th>close_-1_d</th>\n",
              "      <td>0.002476</td>\n",
              "      <td>0.011602</td>\n",
              "      <td>0.012510</td>\n",
              "      <td>0.020079</td>\n",
              "      <td>0.019837</td>\n",
              "      <td>-0.003826</td>\n",
              "      <td>0.369893</td>\n",
              "      <td>0.679650</td>\n",
              "      <td>0.607429</td>\n",
              "      <td>0.646563</td>\n",
              "      <td>-0.554469</td>\n",
              "      <td>0.617604</td>\n",
              "      <td>0.152726</td>\n",
              "      <td>0.152726</td>\n",
              "      <td>0.000293</td>\n",
              "      <td>-0.012212</td>\n",
              "      <td>0.000567</td>\n",
              "      <td>0.125642</td>\n",
              "      <td>0.125642</td>\n",
              "      <td>-0.569150</td>\n",
              "      <td>-0.140453</td>\n",
              "      <td>-0.140453</td>\n",
              "      <td>-0.121660</td>\n",
              "      <td>-0.121660</td>\n",
              "      <td>0.002322</td>\n",
              "      <td>0.002322</td>\n",
              "      <td>-0.000193</td>\n",
              "      <td>-0.000193</td>\n",
              "      <td>-0.000084</td>\n",
              "      <td>-0.000084</td>\n",
              "      <td>0.048035</td>\n",
              "      <td>-0.005880</td>\n",
              "      <td>0.170032</td>\n",
              "      <td>1.000000</td>\n",
              "      <td>0.085335</td>\n",
              "      <td>0.194919</td>\n",
              "    </tr>\n",
              "    <tr>\n",
              "      <th>rs_6</th>\n",
              "      <td>0.008448</td>\n",
              "      <td>0.009348</td>\n",
              "      <td>0.009309</td>\n",
              "      <td>0.009978</td>\n",
              "      <td>0.009804</td>\n",
              "      <td>0.017100</td>\n",
              "      <td>0.198646</td>\n",
              "      <td>0.093874</td>\n",
              "      <td>0.085848</td>\n",
              "      <td>0.079585</td>\n",
              "      <td>-0.047183</td>\n",
              "      <td>0.086965</td>\n",
              "      <td>0.070367</td>\n",
              "      <td>0.070367</td>\n",
              "      <td>0.008291</td>\n",
              "      <td>0.010357</td>\n",
              "      <td>-0.001352</td>\n",
              "      <td>0.403216</td>\n",
              "      <td>0.403216</td>\n",
              "      <td>-0.048001</td>\n",
              "      <td>-0.052416</td>\n",
              "      <td>-0.052416</td>\n",
              "      <td>-0.308617</td>\n",
              "      <td>-0.308617</td>\n",
              "      <td>0.212520</td>\n",
              "      <td>0.212520</td>\n",
              "      <td>0.190634</td>\n",
              "      <td>0.190634</td>\n",
              "      <td>0.150239</td>\n",
              "      <td>0.150239</td>\n",
              "      <td>0.091376</td>\n",
              "      <td>0.058370</td>\n",
              "      <td>0.117434</td>\n",
              "      <td>0.085335</td>\n",
              "      <td>1.000000</td>\n",
              "      <td>0.429246</td>\n",
              "    </tr>\n",
              "    <tr>\n",
              "      <th>rsi_6</th>\n",
              "      <td>0.018432</td>\n",
              "      <td>0.020004</td>\n",
              "      <td>0.020789</td>\n",
              "      <td>0.021878</td>\n",
              "      <td>0.021610</td>\n",
              "      <td>-0.029686</td>\n",
              "      <td>0.482968</td>\n",
              "      <td>0.206585</td>\n",
              "      <td>0.154240</td>\n",
              "      <td>0.191430</td>\n",
              "      <td>-0.145612</td>\n",
              "      <td>0.156334</td>\n",
              "      <td>0.144919</td>\n",
              "      <td>0.144919</td>\n",
              "      <td>0.018025</td>\n",
              "      <td>-0.008140</td>\n",
              "      <td>-0.005103</td>\n",
              "      <td>0.808905</td>\n",
              "      <td>0.808905</td>\n",
              "      <td>-0.148168</td>\n",
              "      <td>-0.142133</td>\n",
              "      <td>-0.142133</td>\n",
              "      <td>-0.790435</td>\n",
              "      <td>-0.790435</td>\n",
              "      <td>0.080282</td>\n",
              "      <td>0.080282</td>\n",
              "      <td>0.086113</td>\n",
              "      <td>0.086113</td>\n",
              "      <td>0.081529</td>\n",
              "      <td>0.081529</td>\n",
              "      <td>0.216024</td>\n",
              "      <td>0.135436</td>\n",
              "      <td>0.285206</td>\n",
              "      <td>0.194919</td>\n",
              "      <td>0.429246</td>\n",
              "      <td>1.000000</td>\n",
              "    </tr>\n",
              "  </tbody>\n",
              "</table>\n",
              "</div>"
            ],
            "text/plain": [
              "                open      high       low  ...  close_-1_d      rs_6     rsi_6\n",
              "open        1.000000  0.999911  0.999899  ...    0.002476  0.008448  0.018432\n",
              "high        0.999911  1.000000  0.999877  ...    0.011602  0.009348  0.020004\n",
              "low         0.999899  0.999877  1.000000  ...    0.012510  0.009309  0.020789\n",
              "close       0.999816  0.999926  0.999921  ...    0.020079  0.009978  0.021878\n",
              "adj close   0.999704  0.999818  0.999802  ...    0.019837  0.009804  0.021610\n",
              "volume     -0.185190 -0.184956 -0.185535  ...   -0.003826  0.017100 -0.029686\n",
              "returns    -0.000665  0.002733  0.002909  ...    0.369893  0.198646  0.482968\n",
              "high_delta  0.013391  0.021491  0.019092  ...    0.679650  0.093874  0.206585\n",
              "um          0.456442  0.465417  0.459804  ...    0.607429  0.085848  0.154240\n",
              "low_delta   0.011646  0.015605  0.020880  ...    0.646563  0.079585  0.191430\n",
              "dm          0.433585  0.431648  0.423664  ...   -0.554469 -0.047183 -0.145612\n",
              "pdm         0.443035  0.451963  0.446640  ...    0.617604  0.086965  0.156334\n",
              "pdm_14_ema  0.865793  0.868498  0.866183  ...    0.152726  0.070367  0.144919\n",
              "pdm_14      0.865793  0.868498  0.866183  ...    0.152726  0.070367  0.144919\n",
              "close_-1_s  0.999970  0.999898  0.999876  ...    0.000293  0.008291  0.018025\n",
              "tr          0.847435  0.851204  0.843032  ...   -0.012212  0.010357 -0.008140\n",
              "atr_14      0.958661  0.959692  0.957362  ...    0.000567 -0.001352 -0.005103\n",
              "pdi_14      0.031577  0.033195  0.032681  ...    0.125642  0.403216  0.808905\n",
              "pdi         0.031577  0.033195  0.032681  ...    0.125642  0.403216  0.808905\n",
              "mdm         0.422756  0.420476  0.412838  ...   -0.569150 -0.048001 -0.148168\n",
              "mdm_14_ema  0.802232  0.802915  0.797881  ...   -0.140453 -0.052416 -0.142133\n",
              "mdm_14      0.802232  0.802915  0.797881  ...   -0.140453 -0.052416 -0.142133\n",
              "mdi_14      0.000603  0.000313 -0.001939  ...   -0.121660 -0.308617 -0.790435\n",
              "mdi         0.000603  0.000313 -0.001939  ...   -0.121660 -0.308617 -0.790435\n",
              "dx_14       0.010203  0.010759  0.009707  ...    0.002322  0.212520  0.080282\n",
              "dx          0.010203  0.010759  0.009707  ...    0.002322  0.212520  0.080282\n",
              "dx_6_ema    0.012986  0.013427  0.012564  ...   -0.000193  0.190634  0.086113\n",
              "adx         0.012986  0.013427  0.012564  ...   -0.000193  0.190634  0.086113\n",
              "adx_6_ema   0.013932  0.014301  0.013605  ...   -0.000084  0.150239  0.081529\n",
              "adxr        0.013932  0.014301  0.013605  ...   -0.000084  0.150239  0.081529\n",
              "macd        0.132163  0.131285  0.134298  ...    0.048035  0.091376  0.216024\n",
              "macds       0.144632  0.143284  0.145806  ...   -0.005880  0.058370  0.135436\n",
              "macdh      -0.008479 -0.007276 -0.005173  ...    0.170032  0.117434  0.285206\n",
              "close_-1_d  0.002476  0.011602  0.012510  ...    1.000000  0.085335  0.194919\n",
              "rs_6        0.008448  0.009348  0.009309  ...    0.085335  1.000000  0.429246\n",
              "rsi_6       0.018432  0.020004  0.020789  ...    0.194919  0.429246  1.000000\n",
              "\n",
              "[36 rows x 36 columns]"
            ]
          },
          "metadata": {
            "tags": []
          },
          "execution_count": 88
        }
      ]
    },
    {
      "cell_type": "code",
      "metadata": {
        "id": "5pv2FZf2FpsS",
        "colab_type": "code",
        "colab": {}
      },
      "source": [
        "stock1=stock[['returns','name','pdi','mdi']]\n",
        "stock1['name']=stocknumber"
      ],
      "execution_count": 0,
      "outputs": []
    },
    {
      "cell_type": "code",
      "metadata": {
        "id": "9fLTtrrpFpsW",
        "colab_type": "code",
        "outputId": "fed00050-24fd-4ae3-b204-8309e1f510c3",
        "colab": {
          "base_uri": "https://localhost:8080/",
          "height": 173
        }
      },
      "source": [
        "stock1.corr()"
      ],
      "execution_count": 0,
      "outputs": [
        {
          "output_type": "execute_result",
          "data": {
            "text/html": [
              "<div>\n",
              "<style scoped>\n",
              "    .dataframe tbody tr th:only-of-type {\n",
              "        vertical-align: middle;\n",
              "    }\n",
              "\n",
              "    .dataframe tbody tr th {\n",
              "        vertical-align: top;\n",
              "    }\n",
              "\n",
              "    .dataframe thead th {\n",
              "        text-align: right;\n",
              "    }\n",
              "</style>\n",
              "<table border=\"1\" class=\"dataframe\">\n",
              "  <thead>\n",
              "    <tr style=\"text-align: right;\">\n",
              "      <th></th>\n",
              "      <th>returns</th>\n",
              "      <th>name</th>\n",
              "      <th>pdi</th>\n",
              "      <th>mdi</th>\n",
              "    </tr>\n",
              "  </thead>\n",
              "  <tbody>\n",
              "    <tr>\n",
              "      <th>returns</th>\n",
              "      <td>1.000000</td>\n",
              "      <td>-0.009206</td>\n",
              "      <td>0.301201</td>\n",
              "      <td>-0.292628</td>\n",
              "    </tr>\n",
              "    <tr>\n",
              "      <th>name</th>\n",
              "      <td>-0.009206</td>\n",
              "      <td>1.000000</td>\n",
              "      <td>-0.004686</td>\n",
              "      <td>0.033916</td>\n",
              "    </tr>\n",
              "    <tr>\n",
              "      <th>pdi</th>\n",
              "      <td>0.301201</td>\n",
              "      <td>-0.004686</td>\n",
              "      <td>1.000000</td>\n",
              "      <td>-0.608713</td>\n",
              "    </tr>\n",
              "    <tr>\n",
              "      <th>mdi</th>\n",
              "      <td>-0.292628</td>\n",
              "      <td>0.033916</td>\n",
              "      <td>-0.608713</td>\n",
              "      <td>1.000000</td>\n",
              "    </tr>\n",
              "  </tbody>\n",
              "</table>\n",
              "</div>"
            ],
            "text/plain": [
              "          returns      name       pdi       mdi\n",
              "returns  1.000000 -0.009206  0.301201 -0.292628\n",
              "name    -0.009206  1.000000 -0.004686  0.033916\n",
              "pdi      0.301201 -0.004686  1.000000 -0.608713\n",
              "mdi     -0.292628  0.033916 -0.608713  1.000000"
            ]
          },
          "metadata": {
            "tags": []
          },
          "execution_count": 90
        }
      ]
    },
    {
      "cell_type": "code",
      "metadata": {
        "id": "zkiLL5C5Fpsb",
        "colab_type": "code",
        "colab": {}
      },
      "source": [
        "\n",
        "from sklearn.cluster import DBSCAN\n",
        "from sklearn.cluster import KMeans"
      ],
      "execution_count": 0,
      "outputs": []
    },
    {
      "cell_type": "code",
      "metadata": {
        "id": "U7_RDZCuFpsh",
        "colab_type": "code",
        "outputId": "83fdaf9a-3349-48e4-d56b-e23919f51e39",
        "colab": {
          "base_uri": "https://localhost:8080/",
          "height": 102
        }
      },
      "source": [
        "stock1.isnull().sum()"
      ],
      "execution_count": 0,
      "outputs": [
        {
          "output_type": "execute_result",
          "data": {
            "text/plain": [
              "returns    49\n",
              "name        0\n",
              "pdi        49\n",
              "mdi        49\n",
              "dtype: int64"
            ]
          },
          "metadata": {
            "tags": []
          },
          "execution_count": 92
        }
      ]
    },
    {
      "cell_type": "code",
      "metadata": {
        "id": "tBb8Ok5RFpsl",
        "colab_type": "code",
        "outputId": "130b15b2-dcdb-40dc-e757-f7e0bb88a413",
        "colab": {
          "base_uri": "https://localhost:8080/",
          "height": 235
        }
      },
      "source": [
        "stock1= stock1.dropna()\n",
        "stock1.head()"
      ],
      "execution_count": 0,
      "outputs": [
        {
          "output_type": "execute_result",
          "data": {
            "text/html": [
              "<div>\n",
              "<style scoped>\n",
              "    .dataframe tbody tr th:only-of-type {\n",
              "        vertical-align: middle;\n",
              "    }\n",
              "\n",
              "    .dataframe tbody tr th {\n",
              "        vertical-align: top;\n",
              "    }\n",
              "\n",
              "    .dataframe thead th {\n",
              "        text-align: right;\n",
              "    }\n",
              "</style>\n",
              "<table border=\"1\" class=\"dataframe\">\n",
              "  <thead>\n",
              "    <tr style=\"text-align: right;\">\n",
              "      <th></th>\n",
              "      <th>returns</th>\n",
              "      <th>name</th>\n",
              "      <th>pdi</th>\n",
              "      <th>mdi</th>\n",
              "    </tr>\n",
              "    <tr>\n",
              "      <th>Date</th>\n",
              "      <th></th>\n",
              "      <th></th>\n",
              "      <th></th>\n",
              "      <th></th>\n",
              "    </tr>\n",
              "  </thead>\n",
              "  <tbody>\n",
              "    <tr>\n",
              "      <th>2014-08-14</th>\n",
              "      <td>-0.007289</td>\n",
              "      <td>1</td>\n",
              "      <td>5.541872</td>\n",
              "      <td>0.0</td>\n",
              "    </tr>\n",
              "    <tr>\n",
              "      <th>2014-08-18</th>\n",
              "      <td>0.004405</td>\n",
              "      <td>1</td>\n",
              "      <td>15.358173</td>\n",
              "      <td>0.0</td>\n",
              "    </tr>\n",
              "    <tr>\n",
              "      <th>2014-08-19</th>\n",
              "      <td>0.049525</td>\n",
              "      <td>1</td>\n",
              "      <td>43.486279</td>\n",
              "      <td>0.0</td>\n",
              "    </tr>\n",
              "    <tr>\n",
              "      <th>2014-08-20</th>\n",
              "      <td>0.020895</td>\n",
              "      <td>1</td>\n",
              "      <td>49.188879</td>\n",
              "      <td>0.0</td>\n",
              "    </tr>\n",
              "    <tr>\n",
              "      <th>2014-08-21</th>\n",
              "      <td>0.012792</td>\n",
              "      <td>1</td>\n",
              "      <td>48.757505</td>\n",
              "      <td>0.0</td>\n",
              "    </tr>\n",
              "  </tbody>\n",
              "</table>\n",
              "</div>"
            ],
            "text/plain": [
              "             returns  name        pdi  mdi\n",
              "Date                                      \n",
              "2014-08-14 -0.007289     1   5.541872  0.0\n",
              "2014-08-18  0.004405     1  15.358173  0.0\n",
              "2014-08-19  0.049525     1  43.486279  0.0\n",
              "2014-08-20  0.020895     1  49.188879  0.0\n",
              "2014-08-21  0.012792     1  48.757505  0.0"
            ]
          },
          "metadata": {
            "tags": []
          },
          "execution_count": 93
        }
      ]
    },
    {
      "cell_type": "code",
      "metadata": {
        "id": "XfPyqgeBcupi",
        "colab_type": "code",
        "outputId": "1d9ec262-f9d0-4662-88b7-6003a8617d2d",
        "colab": {
          "base_uri": "https://localhost:8080/",
          "height": 282
        }
      },
      "source": [
        "from sklearn.neighbors import NearestNeighbors\n",
        "import matplotlib.pyplot as plt\n",
        "nbrs = NearestNeighbors(n_neighbors=2).fit(stock1)\n",
        "distances, indices = nbrs.kneighbors(stock1)\n",
        "distanceDec = sorted(distances[:,1], reverse=True)\n",
        "plt.plot(list(range(1,len(distanceDec)+1)), distanceDec)"
      ],
      "execution_count": 0,
      "outputs": [
        {
          "output_type": "execute_result",
          "data": {
            "text/plain": [
              "[<matplotlib.lines.Line2D at 0x7f1f8d9c1828>]"
            ]
          },
          "metadata": {
            "tags": []
          },
          "execution_count": 94
        },
        {
          "output_type": "display_data",
          "data": {
            "image/png": "[encoded data removed]",
            "text/plain": [
              "<Figure size 432x288 with 1 Axes>"
            ]
          },
          "metadata": {
            "tags": []
          }
        }
      ]
    },
    {
      "cell_type": "code",
      "metadata": {
        "id": "dgHO6vRAFpsp",
        "colab_type": "code",
        "outputId": "eb2cb187-3c01-46e2-a346-4a624542b9e2",
        "colab": {
          "base_uri": "https://localhost:8080/",
          "height": 34
        }
      },
      "source": [
        "clustering = DBSCAN(eps=1.8,min_samples=70).fit(stock1)\n",
        "clustering.labels_"
      ],
      "execution_count": 0,
      "outputs": [
        {
          "output_type": "execute_result",
          "data": {
            "text/plain": [
              "array([-1, -1, -1, ..., -1, -1, -1])"
            ]
          },
          "metadata": {
            "tags": []
          },
          "execution_count": 95
        }
      ]
    },
    {
      "cell_type": "code",
      "metadata": {
        "id": "3Hdf-tkMSKMs",
        "colab_type": "code",
        "outputId": "29bedbd6-5153-4c96-beed-f8b1f022bda1",
        "colab": {
          "base_uri": "https://localhost:8080/",
          "height": 34
        }
      },
      "source": [
        "from sklearn.cluster import KMeans\n",
        "kmeans = KMeans(n_clusters=2, random_state=42).fit(stock1)\n",
        "kmeans.labels_"
      ],
      "execution_count": 0,
      "outputs": [
        {
          "output_type": "execute_result",
          "data": {
            "text/plain": [
              "array([1, 1, 1, ..., 0, 0, 0], dtype=int32)"
            ]
          },
          "metadata": {
            "tags": []
          },
          "execution_count": 96
        }
      ]
    },
    {
      "cell_type": "code",
      "metadata": {
        "id": "tr5ZuNeBFps5",
        "colab_type": "code",
        "outputId": "4077c724-e93c-458f-f55c-7e25eceb2ab9",
        "colab": {
          "base_uri": "https://localhost:8080/",
          "height": 340
        }
      },
      "source": [
        "pt = pd.Series(clustering.labels_)\n",
        "pt.value_counts()\n",
        "\n",
        "# pt = pd.Series(kmeans.labels_)\n",
        "# pt.value_counts()"
      ],
      "execution_count": 0,
      "outputs": [
        {
          "output_type": "execute_result",
          "data": {
            "text/plain": [
              "-1     44128\n",
              " 7     11080\n",
              " 0      3493\n",
              " 12      188\n",
              " 16      161\n",
              " 6       143\n",
              " 11      119\n",
              " 8       119\n",
              " 1        98\n",
              " 5        81\n",
              " 3        79\n",
              " 13       78\n",
              " 15       76\n",
              " 14       71\n",
              " 9        65\n",
              " 4        60\n",
              " 10       56\n",
              " 2        28\n",
              "dtype: int64"
            ]
          },
          "metadata": {
            "tags": []
          },
          "execution_count": 97
        }
      ]
    },
    {
      "cell_type": "code",
      "metadata": {
        "id": "ByVzwuwoFps-",
        "colab_type": "code",
        "colab": {}
      },
      "source": [
        "stock1.insert(2, \"Cluster1\", pt.tolist(), True)"
      ],
      "execution_count": 0,
      "outputs": []
    },
    {
      "cell_type": "code",
      "metadata": {
        "id": "m9rjCEh8vl4r",
        "colab_type": "code",
        "outputId": "e6a1d0b6-d7d3-4d96-8b36-9eba1eb5f4e4",
        "colab": {
          "base_uri": "https://localhost:8080/",
          "height": 235
        }
      },
      "source": [
        "stock1.head()"
      ],
      "execution_count": 0,
      "outputs": [
        {
          "output_type": "execute_result",
          "data": {
            "text/html": [
              "<div>\n",
              "<style scoped>\n",
              "    .dataframe tbody tr th:only-of-type {\n",
              "        vertical-align: middle;\n",
              "    }\n",
              "\n",
              "    .dataframe tbody tr th {\n",
              "        vertical-align: top;\n",
              "    }\n",
              "\n",
              "    .dataframe thead th {\n",
              "        text-align: right;\n",
              "    }\n",
              "</style>\n",
              "<table border=\"1\" class=\"dataframe\">\n",
              "  <thead>\n",
              "    <tr style=\"text-align: right;\">\n",
              "      <th></th>\n",
              "      <th>returns</th>\n",
              "      <th>name</th>\n",
              "      <th>Cluster1</th>\n",
              "      <th>pdi</th>\n",
              "      <th>mdi</th>\n",
              "    </tr>\n",
              "    <tr>\n",
              "      <th>Date</th>\n",
              "      <th></th>\n",
              "      <th></th>\n",
              "      <th></th>\n",
              "      <th></th>\n",
              "      <th></th>\n",
              "    </tr>\n",
              "  </thead>\n",
              "  <tbody>\n",
              "    <tr>\n",
              "      <th>2014-08-14</th>\n",
              "      <td>-0.007289</td>\n",
              "      <td>1</td>\n",
              "      <td>-1</td>\n",
              "      <td>5.541872</td>\n",
              "      <td>0.0</td>\n",
              "    </tr>\n",
              "    <tr>\n",
              "      <th>2014-08-18</th>\n",
              "      <td>0.004405</td>\n",
              "      <td>1</td>\n",
              "      <td>-1</td>\n",
              "      <td>15.358173</td>\n",
              "      <td>0.0</td>\n",
              "    </tr>\n",
              "    <tr>\n",
              "      <th>2014-08-19</th>\n",
              "      <td>0.049525</td>\n",
              "      <td>1</td>\n",
              "      <td>-1</td>\n",
              "      <td>43.486279</td>\n",
              "      <td>0.0</td>\n",
              "    </tr>\n",
              "    <tr>\n",
              "      <th>2014-08-20</th>\n",
              "      <td>0.020895</td>\n",
              "      <td>1</td>\n",
              "      <td>-1</td>\n",
              "      <td>49.188879</td>\n",
              "      <td>0.0</td>\n",
              "    </tr>\n",
              "    <tr>\n",
              "      <th>2014-08-21</th>\n",
              "      <td>0.012792</td>\n",
              "      <td>1</td>\n",
              "      <td>-1</td>\n",
              "      <td>48.757505</td>\n",
              "      <td>0.0</td>\n",
              "    </tr>\n",
              "  </tbody>\n",
              "</table>\n",
              "</div>"
            ],
            "text/plain": [
              "             returns  name  Cluster1        pdi  mdi\n",
              "Date                                                \n",
              "2014-08-14 -0.007289     1        -1   5.541872  0.0\n",
              "2014-08-18  0.004405     1        -1  15.358173  0.0\n",
              "2014-08-19  0.049525     1        -1  43.486279  0.0\n",
              "2014-08-20  0.020895     1        -1  49.188879  0.0\n",
              "2014-08-21  0.012792     1        -1  48.757505  0.0"
            ]
          },
          "metadata": {
            "tags": []
          },
          "execution_count": 99
        }
      ]
    },
    {
      "cell_type": "code",
      "metadata": {
        "id": "-81_8sBHwD8b",
        "colab_type": "code",
        "outputId": "e1c908ff-09d8-43e5-91ed-238af2f2ec81",
        "colab": {
          "base_uri": "https://localhost:8080/",
          "height": 340
        }
      },
      "source": [
        "stock1[\"Cluster1\"].value_counts()"
      ],
      "execution_count": 0,
      "outputs": [
        {
          "output_type": "execute_result",
          "data": {
            "text/plain": [
              "-1     44128\n",
              " 7     11080\n",
              " 0      3493\n",
              " 12      188\n",
              " 16      161\n",
              " 6       143\n",
              " 11      119\n",
              " 8       119\n",
              " 1        98\n",
              " 5        81\n",
              " 3        79\n",
              " 13       78\n",
              " 15       76\n",
              " 14       71\n",
              " 9        65\n",
              " 4        60\n",
              " 10       56\n",
              " 2        28\n",
              "Name: Cluster1, dtype: int64"
            ]
          },
          "metadata": {
            "tags": []
          },
          "execution_count": 100
        }
      ]
    },
    {
      "cell_type": "code",
      "metadata": {
        "id": "i5--vI_jykr1",
        "colab_type": "code",
        "outputId": "9b7df048-06c0-4e2f-b606-f5895dc50631",
        "colab": {
          "base_uri": "https://localhost:8080/",
          "height": 34
        }
      },
      "source": [
        "stock1[stock1.Cluster1==0]['name'].unique()"
      ],
      "execution_count": 0,
      "outputs": [
        {
          "output_type": "execute_result",
          "data": {
            "text/plain": [
              "array([ 1,  2,  3,  4,  5,  6,  7,  8,  9, 10, 11])"
            ]
          },
          "metadata": {
            "tags": []
          },
          "execution_count": 101
        }
      ]
    },
    {
      "cell_type": "code",
      "metadata": {
        "id": "yFk2oEYdoSZi",
        "colab_type": "code",
        "outputId": "233c66f5-187e-4ee6-eb1b-cc7885040c8f",
        "colab": {
          "base_uri": "https://localhost:8080/",
          "height": 68
        }
      },
      "source": [
        "stock1[stock1.Cluster1==7]['name'].unique()"
      ],
      "execution_count": 0,
      "outputs": [
        {
          "output_type": "execute_result",
          "data": {
            "text/plain": [
              "array([12, 13, 14, 15, 16, 17, 18, 19, 20, 21, 22, 23, 24, 25, 26, 27, 28,\n",
              "       29, 30, 31, 32, 33, 34, 35, 36, 37, 38, 39, 40, 41, 42, 43, 44, 45,\n",
              "       46, 47, 48, 49])"
            ]
          },
          "metadata": {
            "tags": []
          },
          "execution_count": 102
        }
      ]
    },
    {
      "cell_type": "code",
      "metadata": {
        "id": "DFJnx_Gtp_Ku",
        "colab_type": "code",
        "outputId": "af82e1a7-105f-4be6-8b85-aea0a85a6a7b",
        "colab": {
          "base_uri": "https://localhost:8080/",
          "height": 34
        }
      },
      "source": [
        "stock1[stock1.Cluster1==12]['name'].unique()"
      ],
      "execution_count": 0,
      "outputs": [
        {
          "output_type": "execute_result",
          "data": {
            "text/plain": [
              "array([37, 38, 39, 40])"
            ]
          },
          "metadata": {
            "tags": []
          },
          "execution_count": 103
        }
      ]
    },
    {
      "cell_type": "code",
      "metadata": {
        "id": "HwuW3U42rCO8",
        "colab_type": "code",
        "outputId": "39b492b0-65b1-4e17-edb6-9628f1358b8c",
        "colab": {
          "base_uri": "https://localhost:8080/",
          "height": 68
        }
      },
      "source": [
        "stock1[stock1.Cluster1==-1]['name'].unique()"
      ],
      "execution_count": 0,
      "outputs": [
        {
          "output_type": "execute_result",
          "data": {
            "text/plain": [
              "array([ 1,  2,  3,  4,  5,  6,  7,  8,  9, 10, 11, 12, 13, 14, 15, 16, 17,\n",
              "       18, 19, 20, 21, 22, 23, 24, 25, 26, 27, 28, 29, 30, 31, 32, 33, 34,\n",
              "       35, 36, 37, 38, 39, 40, 41, 42, 43, 44, 45, 46, 47, 48, 49])"
            ]
          },
          "metadata": {
            "tags": []
          },
          "execution_count": 104
        }
      ]
    },
    {
      "cell_type": "code",
      "metadata": {
        "id": "TrmMbSvFrF8V",
        "colab_type": "code",
        "outputId": "c5760dba-8d9c-4e87-9f69-445a37a2171f",
        "colab": {
          "base_uri": "https://localhost:8080/",
          "height": 1000
        }
      },
      "source": [
        "import matplotlib.pyplot as plt\n",
        "plt.plot(stock1[stock1.name==1][\"returns\"],color=\"red\")\n",
        "plt.show()\n",
        "plt.plot(stock1[stock1.name==32][\"returns\"],color=\"blue\")\n",
        "plt.show()\n",
        "plt.plot(stock1[stock1.name==48][\"returns\"],color=\"green\")\n",
        "plt.show()\n",
        "plt.plot(stock1[stock1.name==1][\"returns\"],color=\"yellow\")\n",
        "plt.show()"
      ],
      "execution_count": 0,
      "outputs": [
        {
          "output_type": "display_data",
          "data": {
            "image/png": "[encoded data removed]",
            "text/plain": [
              "<Figure size 432x288 with 1 Axes>"
            ]
          },
          "metadata": {
            "tags": []
          }
        },
        {
          "output_type": "display_data",
          "data": {
            "image/png": "[encoded data removed]",
            "text/plain": [
              "<Figure size 432x288 with 1 Axes>"
            ]
          },
          "metadata": {
            "tags": []
          }
        },
        {
          "output_type": "display_data",
          "data": {
            "image/png": "[encoded data removed]",
            "text/plain": [
              "<Figure size 432x288 with 1 Axes>"
            ]
          },
          "metadata": {
            "tags": []
          }
        },
        {
          "output_type": "display_data",
          "data": {
            "image/png": "[encoded data removed]",
            "text/plain": [
              "<Figure size 432x288 with 1 Axes>"
            ]
          },
          "metadata": {
            "tags": []
          }
        }
      ]
    },
    {
      "cell_type": "code",
      "metadata": {
        "id": "xuDdmnMwthOU",
        "colab_type": "code",
        "colab": {}
      },
      "source": [
        "## Data Wrangling\n",
        "stock.head()\n",
        "stock['stocknumber']=stocknumber"
      ],
      "execution_count": 0,
      "outputs": []
    },
    {
      "cell_type": "code",
      "metadata": {
        "id": "Z5rbU_8EuOM2",
        "colab_type": "code",
        "outputId": "d494e2b4-c5a6-49e0-86fe-e90f1a9be375",
        "colab": {
          "base_uri": "https://localhost:8080/",
          "height": 187
        }
      },
      "source": [
        "datapipe=pd.DataFrame()\n",
        "datapipe=datapipe.append(stock[stock.stocknumber==1])\n",
        "datapipe=datapipe.append(stock[stock.stocknumber==2])\n",
        "datapipe=datapipe.append(stock[stock.stocknumber==3])\n",
        "datapipe=datapipe.append(stock[stock.stocknumber==4])\n",
        "datapipe=datapipe.append(stock[stock.stocknumber==5])\n",
        "datapipe=datapipe.append(stock[stock.stocknumber==6])\n",
        "datapipe=datapipe.append(stock[stock.stocknumber==7])\n",
        "datapipe=datapipe.append(stock[stock.stocknumber==8])\n",
        "datapipe=datapipe.append(stock[stock.stocknumber==10])\n",
        "datapipe=datapipe.append(stock[stock.stocknumber==11])\n",
        "list_stock=datapipe['name'].unique()\n",
        "datapipe1=datapipe[['open','high','low','close']]\n",
        "datapipe1.shape\n",
        "\n",
        "lists=[]\n",
        "for i in list_stock:\n",
        "  lists.append(i+'.csv')\n",
        "lists"
      ],
      "execution_count": 0,
      "outputs": [
        {
          "output_type": "execute_result",
          "data": {
            "text/plain": [
              "['ADANIPORTS.NS.csv',\n",
              " 'ASIANPAINT.NS.csv',\n",
              " 'AXISBANK.NS.csv',\n",
              " 'BAJFINANCE.NS.csv',\n",
              " 'BAJAJFINSV.NS.csv',\n",
              " 'BPCL.NS.csv',\n",
              " 'BHARTIARTL.NS.csv',\n",
              " 'INFRATEL.NS.csv',\n",
              " 'CIPLA.NS.csv',\n",
              " 'COALINDIA.NS.csv']"
            ]
          },
          "metadata": {
            "tags": []
          },
          "execution_count": 127
        }
      ]
    },
    {
      "cell_type": "code",
      "metadata": {
        "id": "5sbBzjgRDWwW",
        "colab_type": "code",
        "colab": {}
      },
      "source": [
        "list_stock=list_stock.tolist()"
      ],
      "execution_count": 0,
      "outputs": []
    },
    {
      "cell_type": "code",
      "metadata": {
        "id": "SYsKMwHl7oe2",
        "colab_type": "code",
        "colab": {}
      },
      "source": [
        "datapipe=pd.DataFrame()\n",
        "list_of_stocks=[1,2,3,4,5,6,7,8,10,11]\n",
        "for i in range(0,len(list_of_stocks)):\n",
        "  stock[stock.stocknumber==list_of_stocks[i]].to_csv(list_stock[i]+'.csv')"
      ],
      "execution_count": 0,
      "outputs": []
    },
    {
      "cell_type": "code",
      "metadata": {
        "id": "xA__4o1u9Vqe",
        "colab_type": "code",
        "outputId": "3b9dfc32-26d5-40fa-c10b-937561192d4f",
        "colab": {
          "base_uri": "https://localhost:8080/",
          "height": 68
        }
      },
      "source": [
        "import os\n",
        "import pathlib\n",
        "\n",
        "from time import strptime\n",
        "from datetime import datetime\n",
        "\n",
        "from tqdm import tqdm\n",
        "\n",
        "#for plot\n",
        "import matplotlib.pyplot as plt\n",
        "import matplotlib.image as mpimg\n",
        "%matplotlib inline\n",
        "\n",
        "import numpy as np\n",
        "import pandas as pd\n",
        "import seaborn as sns \n",
        "import PIL\n",
        "import pickle\n",
        "from time import strftime\n",
        "\n",
        "import seaborn as sns\n",
        "sns.despine()\n",
        "list_open = list()\n",
        "list_close = list()\n",
        "list_high = list()\n",
        "list_low = list()\n",
        "\n",
        "for s in tqdm(lists):\n",
        "    data = pd.read_csv(s)#.fillna('bfill').copy()\n",
        "    data = data.rename(columns={'Open':'open','High':'high','Low':'low','Close':'close'})\n",
        "    #print(len(data))\n",
        "    data = data[['open', 'close', 'high', 'low']]\n",
        "    #print(data.open.values.astype(float).astype(int))\n",
        "\n",
        "    #print(type(data))\n",
        "    list_open.append(data.open.values)\n",
        "    #print(type(list_open))\n",
        "    list_close.append(data.close.values)\n",
        "    list_high.append(data.high.values)\n",
        "    list_low.append(data.low.values)\n",
        "\n",
        "array_open = np.transpose(np.array(list_open))[:-1]\n",
        "array_open_of_the_day = np.transpose(np.array(list_open))[1:]\n",
        "array_close = np.transpose(np.array(list_close))[:-1]\n",
        "array_high = np.transpose(np.array(list_high))[:-1]\n",
        "array_low = np.transpose(np.array(list_low))[:-1]\n",
        "\n",
        "X = np.transpose(np.array([array_close/array_open, \n",
        "                           array_high/array_open,\n",
        "                           array_low/array_open,\n",
        "                           array_open_of_the_day/array_open]), axes= (0,2,1))\n",
        "print(X.shape)\n",
        "np.save('nifty.npy', X)\n"
      ],
      "execution_count": 0,
      "outputs": [
        {
          "output_type": "stream",
          "text": [
            "100%|██████████| 10/10 [00:00<00:00, 74.58it/s]"
          ],
          "name": "stderr"
        },
        {
          "output_type": "stream",
          "text": [
            "(4, 10, 1227)\n"
          ],
          "name": "stdout"
        },
        {
          "output_type": "stream",
          "text": [
            "\n"
          ],
          "name": "stderr"
        },
        {
          "output_type": "display_data",
          "data": {
            "text/plain": [
              "<Figure size 432x288 with 0 Axes>"
            ]
          },
          "metadata": {
            "tags": []
          }
        }
      ]
    },
    {
      "cell_type": "code",
      "metadata": {
        "id": "7Vw0H4tfFSz-",
        "colab_type": "code",
        "outputId": "2e352a7e-a4c6-459a-fea8-5a644b54c991",
        "colab": {
          "base_uri": "https://localhost:8080/",
          "height": 459
        }
      },
      "source": [
        "!pip install environment\n",
        "import tensorflow as tf\n",
        "import numpy as np\n",
        "from collections import deque\n",
        "import random\n",
        "import pandas as pd\n",
        "!pip install ffn\n",
        "import ffn\n",
        "from environment import *\n",
        "\n",
        "%matplotlib inline\n",
        "import matplotlib\n",
        "import matplotlib.pyplot as plt\n",
        "\n",
        "from tqdm import tqdm"
      ],
      "execution_count": 0,
      "outputs": [
        {
          "output_type": "stream",
          "text": [
            "Requirement already satisfied: environment in /usr/local/lib/python3.6/dist-packages (1.0.0)\n",
            "Requirement already satisfied: ffn in /usr/local/lib/python3.6/dist-packages (0.3.4)\n",
            "Requirement already satisfied: future>=0.15 in /usr/local/lib/python3.6/dist-packages (from ffn) (0.16.0)\n",
            "Requirement already satisfied: matplotlib>=1 in /usr/local/lib/python3.6/dist-packages (from ffn) (3.1.1)\n",
            "Requirement already satisfied: pandas-datareader>=0.2 in /usr/local/lib/python3.6/dist-packages (from ffn) (0.7.4)\n",
            "Requirement already satisfied: scikit-learn>=0.15 in /usr/local/lib/python3.6/dist-packages (from ffn) (0.21.3)\n",
            "Requirement already satisfied: numpy>=1.5 in /usr/local/lib/python3.6/dist-packages (from ffn) (1.17.3)\n",
            "Requirement already satisfied: pandas>=0.19 in /usr/local/lib/python3.6/dist-packages (from ffn) (0.25.3)\n",
            "Requirement already satisfied: tabulate>=0.7.5 in /usr/local/lib/python3.6/dist-packages (from ffn) (0.8.5)\n",
            "Requirement already satisfied: scipy>=0.15 in /usr/local/lib/python3.6/dist-packages (from ffn) (1.3.1)\n",
            "Requirement already satisfied: decorator>=4 in /usr/local/lib/python3.6/dist-packages (from ffn) (4.4.1)\n",
            "Requirement already satisfied: kiwisolver>=1.0.1 in /usr/local/lib/python3.6/dist-packages (from matplotlib>=1->ffn) (1.1.0)\n",
            "Requirement already satisfied: cycler>=0.10 in /usr/local/lib/python3.6/dist-packages (from matplotlib>=1->ffn) (0.10.0)\n",
            "Requirement already satisfied: python-dateutil>=2.1 in /usr/local/lib/python3.6/dist-packages (from matplotlib>=1->ffn) (2.6.1)\n",
            "Requirement already satisfied: pyparsing!=2.0.4,!=2.1.2,!=2.1.6,>=2.0.1 in /usr/local/lib/python3.6/dist-packages (from matplotlib>=1->ffn) (2.4.2)\n",
            "Requirement already satisfied: lxml in /usr/local/lib/python3.6/dist-packages (from pandas-datareader>=0.2->ffn) (4.2.6)\n",
            "Requirement already satisfied: requests>=2.3.0 in /usr/local/lib/python3.6/dist-packages (from pandas-datareader>=0.2->ffn) (2.21.0)\n",
            "Requirement already satisfied: wrapt in /usr/local/lib/python3.6/dist-packages (from pandas-datareader>=0.2->ffn) (1.11.2)\n",
            "Requirement already satisfied: joblib>=0.11 in /usr/local/lib/python3.6/dist-packages (from scikit-learn>=0.15->ffn) (0.14.0)\n",
            "Requirement already satisfied: pytz>=2017.2 in /usr/local/lib/python3.6/dist-packages (from pandas>=0.19->ffn) (2018.9)\n",
            "Requirement already satisfied: setuptools in /usr/local/lib/python3.6/dist-packages (from kiwisolver>=1.0.1->matplotlib>=1->ffn) (41.4.0)\n",
            "Requirement already satisfied: six in /usr/local/lib/python3.6/dist-packages (from cycler>=0.10->matplotlib>=1->ffn) (1.12.0)\n",
            "Requirement already satisfied: idna<2.9,>=2.5 in /usr/local/lib/python3.6/dist-packages (from requests>=2.3.0->pandas-datareader>=0.2->ffn) (2.8)\n",
            "Requirement already satisfied: chardet<3.1.0,>=3.0.2 in /usr/local/lib/python3.6/dist-packages (from requests>=2.3.0->pandas-datareader>=0.2->ffn) (3.0.4)\n",
            "Requirement already satisfied: urllib3<1.25,>=1.21.1 in /usr/local/lib/python3.6/dist-packages (from requests>=2.3.0->pandas-datareader>=0.2->ffn) (1.24.3)\n",
            "Requirement already satisfied: certifi>=2017.4.17 in /usr/local/lib/python3.6/dist-packages (from requests>=2.3.0->pandas-datareader>=0.2->ffn) (2019.9.11)\n"
          ],
          "name": "stdout"
        }
      ]
    },
    {
      "cell_type": "code",
      "metadata": {
        "id": "RA6HCnmWFmdS",
        "colab_type": "code",
        "outputId": "b078b524-ab3f-48e0-e0e2-df903318f7b1",
        "colab": {
          "base_uri": "https://localhost:8080/",
          "height": 34
        }
      },
      "source": [
        "path_data = 'nifty.npy'\n",
        "\n",
        "# determine the length of the data, #features, #stocks\n",
        "data = np.load(path_data)\n",
        "trading_period = data.shape[2]\n",
        "nb_feature_map = data.shape[0]\n",
        "nb_stocks = data.shape[1]\n",
        "\n",
        "# fix parameters of the network\n",
        "m = nb_stocks\n",
        "print(data.shape)\n",
        "###############################dictionaries of the problem###########################\n",
        "dict_hp_net = {'n_filter_1': 2, 'n_filter_2': 20, 'kernel1_size':(1, 3)}\n",
        "dict_hp_pb = {'batch_size': 50, 'ratio_train': 0.6,'ratio_val': 0.2, 'length_tensor': 10,\n",
        "              'ratio_greedy':0.8, 'ratio_regul': 0.1}\n",
        "dict_hp_opt = {'regularization': 1e-8, 'learning': 9e-2}\n",
        "dict_fin = {'trading_cost': 0.25/100, 'interest_rate': 0.02/250, 'cash_bias_init': 0.7}\n",
        "dict_train = {'pf_init_train': 10000, 'w_init_train': 'd', 'n_episodes':2, 'n_batches':10}\n",
        "dict_test = {'pf_init_test': 10000, 'w_init_test': 'd'}\n",
        "\n",
        "\n",
        "###############################HP of the network ###########################\n",
        "n_filter_1 = dict_hp_net['n_filter_1']\n",
        "n_filter_2 = dict_hp_net['n_filter_2']\n",
        "kernel1_size = dict_hp_net['kernel1_size']\n",
        "\n",
        "###############################HP of the problem###########################\n",
        "\n",
        "# Size of mini-batch during training\n",
        "batch_size = dict_hp_pb['batch_size']\n",
        "# Total number of steps for pre-training in the training set\n",
        "total_steps_train = int(dict_hp_pb['ratio_train']*trading_period)\n",
        "\n",
        "# Total number of steps for pre-training in the validation set\n",
        "total_steps_val = int(dict_hp_pb['ratio_val']*trading_period)\n",
        "\n",
        "# Total number of steps for the test\n",
        "total_steps_test = trading_period-total_steps_train-total_steps_val\n",
        "\n",
        "# Number of the columns (number of the trading periods) in each input price matrix\n",
        "n = dict_hp_pb['length_tensor']\n",
        "\n",
        "ratio_greedy = dict_hp_pb['ratio_greedy']\n",
        "\n",
        "ratio_regul = dict_hp_pb['ratio_regul']\n",
        "\n",
        "##############################HP of the optimization###########################\n",
        "\n",
        "\n",
        "# The L2 regularization coefficient applied to network training\n",
        "regularization = dict_hp_opt['regularization']\n",
        "# Parameter alpha (i.e. the step size) of the Adam optimization\n",
        "learning = dict_hp_opt['learning']\n",
        "\n",
        "optimizer = tf.train.AdamOptimizer(learning)\n",
        "\n",
        "\n",
        "##############################Finance parameters###########################\n",
        "\n",
        "trading_cost= dict_fin['trading_cost']\n",
        "interest_rate= dict_fin['interest_rate']\n",
        "cash_bias_init = dict_fin['cash_bias_init']\n",
        "\n",
        "############################## PVM Parameters ###########################\n",
        "sample_bias = 5e-5  # Beta in the geometric distribution for online training sample batches\n",
        "\n",
        "\n",
        "############################## Training Parameters ###########################\n",
        "\n",
        "w_init_train = np.array(np.array([1]+[0]*m))#dict_train['w_init_train']\n",
        "\n",
        "pf_init_train = dict_train['pf_init_train']\n",
        "\n",
        "n_episodes = dict_train['n_episodes']\n",
        "n_batches = dict_train['n_batches']\n",
        "\n",
        "############################## Test Parameters ###########################\n",
        "\n",
        "w_init_test = np.array(np.array([1]+[0]*m))#dict_test['w_init_test']\n",
        "\n",
        "pf_init_test = dict_test['pf_init_test']\n",
        "\n",
        "\n",
        "############################## other environment Parameters ###########################\n",
        "\n",
        "w_eq = np.array(np.array([1/(m+1)]*(m+1)))\n",
        "\n",
        "w_s = np.array(np.array([1]+[0.0]*m))\n",
        "\n",
        "#random action function\n",
        "\n",
        "def get_random_action(m):\n",
        "    random_vec = np.random.rand(m+1)\n",
        "    return random_vec/np.sum(random_vec)\n"
      ],
      "execution_count": 0,
      "outputs": [
        {
          "output_type": "stream",
          "text": [
            "(4, 10, 1227)\n"
          ],
          "name": "stdout"
        }
      ]
    },
    {
      "cell_type": "code",
      "metadata": {
        "id": "7HPT-C6PHJmT",
        "colab_type": "code",
        "colab": {}
      },
      "source": [
        "import math\n",
        "import gym\n",
        "from gym import spaces, logger\n",
        "from gym.utils import seeding\n",
        "import numpy as np\n",
        "from gym.envs.registration import register\n",
        "\n",
        "class TradeEnv():\n",
        "\n",
        "    \"\"\"\n",
        "    This class is the trading environment (render) of our project. \n",
        "\n",
        "    The trading agent calls the class by giving an action at the time t. \n",
        "    Then the render gives back the new portfolio at the next step (time t+1). \n",
        "\n",
        "    #parameters:\n",
        "\n",
        "    - windonw_length: this is the number of time slots looked in the past to build the input tensor\n",
        "    - portfolio_value: this is the initial value of the portfolio \n",
        "    - trading_cost: this is the cost (in % of the traded stocks) the agent will pay to execute the action \n",
        "    - interest_rate: this is the rate of interest (in % of the money the agent has) the agent will:\n",
        "        -get at each step if he has a positive amount of money \n",
        "        -pay if he has a negative amount of money\n",
        "    -train_size: % of data taken for the training of the agent - please note the training data are taken with respect \n",
        "    of the time span (train -> | time T | -> test)\n",
        "    \"\"\"\n",
        "\n",
        "    def __init__(self, path = 'nifty.npy', window_length=50,\n",
        "                 portfolio_value= 10000, trading_cost= 0.25/100,interest_rate= 0.02/250, train_size = 0.7):\n",
        "        \n",
        "        #path to numpy data\n",
        "        self.path = path\n",
        "        #load the whole data\n",
        "        self.data = np.load(self.path)\n",
        "\n",
        "\n",
        "        #parameters\n",
        "        self.portfolio_value = portfolio_value\n",
        "        self.window_length=window_length\n",
        "        self.trading_cost = trading_cost\n",
        "        self.interest_rate = interest_rate\n",
        "\n",
        "        #number of stocks and features\n",
        "        self.nb_stocks = self.data.shape[1]\n",
        "        self.nb_features = self.data.shape[0]\n",
        "        self.end_train = int((self.data.shape[2]-self.window_length)*train_size)#706\n",
        "        \n",
        "        #init state and index\n",
        "        self.index = None\n",
        "        self.state = None\n",
        "        self.done = False\n",
        "\n",
        "        #init seed\n",
        "        self.seed()\n",
        "\n",
        "    def return_pf(self):\n",
        "        \"\"\"\n",
        "        return the value of the portfolio\n",
        "        \"\"\"\n",
        "        return self.portfolio_value\n",
        "        \n",
        "    def readTensor(self,X,t):\n",
        "        ## this is not the tensor of equation 18 \n",
        "        ## need to batch normalize if you want this one \n",
        "        return X[ : , :, t-self.window_length:t ]\n",
        "    \n",
        "    def readUpdate(self, t):\n",
        "        #return the return of each stock for the day t \n",
        "        return np.array([1+self.interest_rate]+self.data[-1,:,t].tolist())\n",
        "\n",
        "    def seed(self, seed=None):\n",
        "        self.np_random, seed = seeding.np_random(seed)\n",
        "        return [seed]\n",
        "    \n",
        "    def reset(self, w_init, p_init, t=0 ):\n",
        "        \n",
        "        \"\"\" \n",
        "        This function restarts the environment with given initial weights and given value of portfolio\n",
        "\n",
        "        \"\"\"\n",
        "        self.state= (self.readTensor(self.data, self.window_length) , w_init , p_init )\n",
        "        self.index = self.window_length + t\n",
        "        self.done = False\n",
        "        \n",
        "        return self.state, self.done\n",
        "\n",
        "    def step(self, action):\n",
        "        \"\"\"\n",
        "        This function is the main part of the render. \n",
        "        At each step t, the trading agent gives as input the action he wants to do. So, he gives the new value of the weights of the portfolio. \n",
        "\n",
        "        The function computes the new value of the portfolio at the step (t+1), it returns also the reward associated with the action the agent took. \n",
        "        The reward is defined as the evolution of the the value of the portfolio in %. \n",
        "\n",
        "        \"\"\"\n",
        "\n",
        "        index = self.index\n",
        "        #get Xt from data:\n",
        "        data = self.readTensor(self.data, index)\n",
        "        done = self.done\n",
        "        \n",
        "        #beginning of the day \n",
        "        state = self.state\n",
        "        w_previous = state[1]\n",
        "        pf_previous = state[2]\n",
        "        \n",
        "        #the update vector is the vector of the opening price of the day divided by the opening price of the previous day\n",
        "        update_vector = self.readUpdate(index)\n",
        "\n",
        "        #allocation choice \n",
        "        w_alloc = action\n",
        "        pf_alloc = pf_previous\n",
        "        \n",
        "        #Compute transaction cost\n",
        "        cost = pf_alloc * np.linalg.norm((w_alloc-w_previous),ord = 1)* self.trading_cost\n",
        "        \n",
        "        #convert weight vector into value vector \n",
        "        v_alloc = pf_alloc*w_alloc\n",
        "        \n",
        "        #pay transaction costs\n",
        "        pf_trans = pf_alloc - cost\n",
        "        v_trans = v_alloc - np.array([cost]+ [0]*self.nb_stocks)\n",
        "        \n",
        "        #####market prices evolution \n",
        "        #we go to the end of the day \n",
        "        \n",
        "        #compute new value vector \n",
        "        v_evol = v_trans*update_vector\n",
        "\n",
        "        \n",
        "        #compute new portfolio value\n",
        "        pf_evol = np.sum(v_evol)\n",
        "        \n",
        "        #compute weight vector \n",
        "        w_evol = v_evol/pf_evol\n",
        "        \n",
        "        \n",
        "        #compute instanteanous reward\n",
        "        reward = (pf_evol-pf_previous)/pf_previous\n",
        "        \n",
        "        #update index\n",
        "        index = index+1\n",
        "        \n",
        "        #compute state\n",
        "        \n",
        "        state = (self.readTensor(self.data, index), w_evol, pf_evol)\n",
        "        \n",
        "        if index >= self.end_train:\n",
        "            done = True\n",
        "        \n",
        "        self.state = state\n",
        "        self.index = index\n",
        "        self.done = done\n",
        "        \n",
        "        return state, reward, done\n",
        "        \n",
        "        \n",
        "        \n",
        "        \n",
        "        \n",
        "        \n",
        " "
      ],
      "execution_count": 0,
      "outputs": []
    },
    {
      "cell_type": "code",
      "metadata": {
        "id": "CPvZbY-IGa03",
        "colab_type": "code",
        "colab": {}
      },
      "source": [
        "#environment for trading of the agent \n",
        "# this is the agent trading environment (policy network agent)\n",
        "env = TradeEnv(path=path_data, window_length=n,\n",
        "               portfolio_value=pf_init_train, trading_cost=trading_cost,\n",
        "               interest_rate=interest_rate, train_size=dict_hp_pb['ratio_train'])\n",
        "\n",
        "\n",
        "#environment for equiweighted\n",
        "#this environment is set up for an agent who only plays an equiweithed portfolio (baseline)\n",
        "env_eq = TradeEnv(path=path_data, window_length=n,\n",
        "               portfolio_value=pf_init_train, trading_cost=trading_cost,\n",
        "               interest_rate=interest_rate, train_size=dict_hp_pb['ratio_train'])\n",
        "\n",
        "#environment secured (only money)\n",
        "#this environment is set up for an agentwho plays secure, keeps its money\n",
        "env_s = TradeEnv(path=path_data, window_length=n,\n",
        "               portfolio_value=pf_init_train, trading_cost=trading_cost,\n",
        "               interest_rate=interest_rate, train_size=dict_hp_pb['ratio_train'])\n"
      ],
      "execution_count": 0,
      "outputs": []
    },
    {
      "cell_type": "code",
      "metadata": {
        "id": "2gm53msvGgnS",
        "colab_type": "code",
        "colab": {}
      },
      "source": [
        "\n",
        "#full on one stock environment \n",
        "#these environments are set up for agents who play only on one stock\n",
        "\n",
        "action_fu = list()\n",
        "env_fu = list()\n",
        "\n",
        "\n",
        "for i in range(m):\n",
        "    action = np.array([0]*(i+1) + [1] + [0]*(m-(i+1)))\n",
        "    action_fu.append(action)\n",
        "    \n",
        "    env_fu_i = TradeEnv(path=path_data, window_length=n,\n",
        "               portfolio_value=pf_init_train, trading_cost=trading_cost,\n",
        "               interest_rate=interest_rate, train_size=dict_hp_pb['ratio_train'])\n",
        "    \n",
        "    env_fu.append(env_fu_i)\n"
      ],
      "execution_count": 0,
      "outputs": []
    },
    {
      "cell_type": "code",
      "metadata": {
        "id": "kuICnpMHGj8I",
        "colab_type": "code",
        "colab": {}
      },
      "source": [
        "# define neural net \\pi_\\phi(s) as a class\n",
        "class Policy(object):\n",
        "    '''\n",
        "    This class is used to instanciate the policy network agent\n",
        "\n",
        "    '''\n",
        "\n",
        "    def __init__(self, m, n, sess, optimizer,\n",
        "                 trading_cost=trading_cost,\n",
        "                 interest_rate=interest_rate,\n",
        "                 n_filter_1=n_filter_1,\n",
        "                 n_filter_2=n_filter_2):\n",
        "\n",
        "        # parameters\n",
        "        self.trading_cost = trading_cost\n",
        "        self.interest_rate = interest_rate\n",
        "        self.n_filter_1 = n_filter_1\n",
        "        self.n_filter_2 = n_filter_2\n",
        "        self.n = n\n",
        "        self.m = m\n",
        "\n",
        "        with tf.variable_scope(\"Inputs\"):\n",
        "\n",
        "            # Placeholder\n",
        "\n",
        "            # tensor of the prices\n",
        "            self.X_t = tf.placeholder(\n",
        "                tf.float32, [None, nb_feature_map, self.m, self.n])  # The Price tensor\n",
        "            # weights at the previous time step\n",
        "            self.W_previous = tf.placeholder(tf.float32, [None, self.m+1])\n",
        "            # portfolio value at the previous time step\n",
        "            self.pf_value_previous = tf.placeholder(tf.float32, [None, 1])\n",
        "            # vector of Open(t+1)/Open(t)\n",
        "            self.dailyReturn_t = tf.placeholder(tf.float32, [None, self.m])\n",
        "            \n",
        "            #self.pf_value_previous_eq = tf.placeholder(tf.float32, [None, 1])\n",
        "            \n",
        "            \n",
        "\n",
        "        with tf.variable_scope(\"Policy_Model\"):\n",
        "\n",
        "            # variable of the cash bias\n",
        "            bias = tf.get_variable('cash_bias', shape=[\n",
        "                                   1, 1, 1, 1], initializer=tf.constant_initializer(cash_bias_init))\n",
        "            # shape of the tensor == batchsize\n",
        "            shape_X_t = tf.shape(self.X_t)[0]\n",
        "            # trick to get a \"tensor size\" for the cash bias\n",
        "            self.cash_bias = tf.tile(bias, tf.stack([shape_X_t, 1, 1, 1]))\n",
        "            # print(self.cash_bias.shape)\n",
        "\n",
        "            with tf.variable_scope(\"Conv1\"):\n",
        "                # first layer on the X_t tensor\n",
        "                # return a tensor of depth 2\n",
        "                self.conv1 = tf.layers.conv2d(\n",
        "                    inputs=tf.transpose(self.X_t, perm=[0, 3, 2, 1]),\n",
        "                    activation=tf.nn.relu,\n",
        "                    filters=self.n_filter_1,\n",
        "                    strides=(1, 1),\n",
        "                    kernel_size=kernel1_size,\n",
        "                    padding='same')\n",
        "\n",
        "            with tf.variable_scope(\"Conv2\"):\n",
        "                \n",
        "                #feature maps\n",
        "                self.conv2 = tf.layers.conv2d(\n",
        "                    inputs=self.conv1,\n",
        "                    activation=tf.nn.relu,\n",
        "                    filters=self.n_filter_2,\n",
        "                    strides=(self.n, 1),\n",
        "                    kernel_size=(1, self.n),\n",
        "                    padding='same')\n",
        "\n",
        "            with tf.variable_scope(\"Tensor3\"):\n",
        "                #w from last periods\n",
        "                # trick to have good dimensions\n",
        "                w_wo_c = self.W_previous[:, 1:]\n",
        "                w_wo_c = tf.expand_dims(w_wo_c, 1)\n",
        "                w_wo_c = tf.expand_dims(w_wo_c, -1)\n",
        "                self.tensor3 = tf.concat([self.conv2, w_wo_c], axis=3)\n",
        "\n",
        "            with tf.variable_scope(\"Conv3\"):\n",
        "                #last feature map WITHOUT cash bias\n",
        "                self.conv3 = tf.layers.conv2d(\n",
        "                    inputs=self.conv2,\n",
        "                    activation=tf.nn.relu,\n",
        "                    filters=1,\n",
        "                    strides=(self.n_filter_2 + 1, 1),\n",
        "                    kernel_size=(1, 1),\n",
        "                    padding='same')\n",
        "\n",
        "            with tf.variable_scope(\"Tensor4\"):\n",
        "                #last feature map WITH cash bias\n",
        "                self.tensor4 = tf.concat([self.cash_bias, self.conv3], axis=2)\n",
        "                # we squeeze to reduce and get the good dimension\n",
        "                self.squeezed_tensor4 = tf.squeeze(self.tensor4, [1, 3])\n",
        "\n",
        "            with tf.variable_scope(\"Policy_Output\"):\n",
        "                # softmax layer to obtain weights\n",
        "                self.action = tf.nn.softmax(self.squeezed_tensor4)\n",
        "\n",
        "            with tf.variable_scope(\"Reward\"):\n",
        "                # computation of the reward\n",
        "                #please look at the chronological map to understand\n",
        "                constant_return = tf.constant(\n",
        "                    1+self.interest_rate, shape=[1, 1])\n",
        "                cash_return = tf.tile(\n",
        "                    constant_return, tf.stack([shape_X_t, 1]))\n",
        "                y_t = tf.concat(\n",
        "                    [cash_return, self.dailyReturn_t], axis=1)\n",
        "                Vprime_t = self.action * self.pf_value_previous\n",
        "                Vprevious = self.W_previous*self.pf_value_previous\n",
        "\n",
        "                # this is just a trick to get the good shape for cost\n",
        "                constant = tf.constant(1.0, shape=[1])\n",
        "\n",
        "                cost = self.trading_cost * \\\n",
        "                    tf.norm(Vprime_t-Vprevious, ord=1, axis=1)*constant\n",
        "\n",
        "                cost = tf.expand_dims(cost, 1)\n",
        "\n",
        "                zero = tf.constant(\n",
        "                    np.array([0.0]*m).reshape(1, m), shape=[1, m], dtype=tf.float32)\n",
        "\n",
        "                vec_zero = tf.tile(zero, tf.stack([shape_X_t, 1]))\n",
        "                vec_cost = tf.concat([cost, vec_zero], axis=1)\n",
        "\n",
        "                Vsecond_t = Vprime_t - vec_cost\n",
        "\n",
        "                V_t = tf.multiply(Vsecond_t, y_t)\n",
        "                self.portfolioValue = tf.norm(V_t, ord=1)\n",
        "                self.instantaneous_reward = (\n",
        "                    self.portfolioValue-self.pf_value_previous)/self.pf_value_previous\n",
        "                \n",
        "                \n",
        "            with tf.variable_scope(\"Reward_Equiweighted\"):\n",
        "                constant_return = tf.constant(\n",
        "                    1+self.interest_rate, shape=[1, 1])\n",
        "                cash_return = tf.tile(\n",
        "                    constant_return, tf.stack([shape_X_t, 1]))\n",
        "                y_t = tf.concat(\n",
        "                    [cash_return, self.dailyReturn_t], axis=1)\n",
        "  \n",
        "\n",
        "                V_eq = w_eq*self.pf_value_previous\n",
        "                V_eq_second = tf.multiply(V_eq, y_t)\n",
        "        \n",
        "                self.portfolioValue_eq = tf.norm(V_eq_second, ord=1)\n",
        "            \n",
        "                self.instantaneous_reward_eq = (\n",
        "                    self.portfolioValue_eq-self.pf_value_previous)/self.pf_value_previous\n",
        "                \n",
        "            with tf.variable_scope(\"Max_weight\"):\n",
        "                self.max_weight = tf.reduce_max(self.action)\n",
        "                print(self.max_weight.shape)\n",
        "\n",
        "                \n",
        "            with tf.variable_scope(\"Reward_adjusted\"):\n",
        "                \n",
        "                self.adjested_reward = self.instantaneous_reward - self.instantaneous_reward_eq - ratio_regul*self.max_weight\n",
        "                \n",
        "        #objective function \n",
        "        #maximize reward over the batch \n",
        "        # min(-r) = max(r)\n",
        "        self.train_op = optimizer.minimize(-self.adjested_reward)\n",
        "        \n",
        "        # some bookkeeping\n",
        "        self.optimizer = optimizer\n",
        "        self.sess = sess\n",
        "\n",
        "    def compute_W(self, X_t_, W_previous_):\n",
        "        \"\"\"\n",
        "        This function returns the action the agent takes \n",
        "        given the input tensor and the W_previous\n",
        "        \n",
        "        It is a vector of weight\n",
        "\n",
        "        \"\"\"\n",
        "\n",
        "        return self.sess.run(tf.squeeze(self.action), feed_dict={self.X_t: X_t_, self.W_previous: W_previous_})\n",
        "\n",
        "    def train(self, X_t_, W_previous_, pf_value_previous_, dailyReturn_t_):\n",
        "        \"\"\"\n",
        "        This function trains the neural network\n",
        "        maximizing the reward \n",
        "        the input is a batch of the differents values\n",
        "        \"\"\"\n",
        "        self.sess.run(self.train_op, feed_dict={self.X_t: X_t_,\n",
        "                                                self.W_previous: W_previous_,\n",
        "                                                self.pf_value_previous: pf_value_previous_,\n",
        "                                                self.dailyReturn_t: dailyReturn_t_})"
      ],
      "execution_count": 0,
      "outputs": []
    },
    {
      "cell_type": "code",
      "metadata": {
        "id": "nWVKMm99Gs0q",
        "colab_type": "code",
        "colab": {}
      },
      "source": [
        "class PVM(object):\n",
        "    '''\n",
        "    This is the memory stack called PVM in the paper\n",
        "    '''\n",
        "\n",
        "    def __init__(self, m, sample_bias, total_steps = total_steps_train, \n",
        "                 batch_size = batch_size, w_init = w_init_train):\n",
        "        \n",
        "        \n",
        "        #initialization of the memory \n",
        "        #we have a total_step_times the initialization portfolio tensor \n",
        "        self.memory = np.transpose(np.array([w_init]*total_steps))  \n",
        "        self.sample_bias = sample_bias\n",
        "        self.total_steps = total_steps\n",
        "        self.batch_size = batch_size\n",
        "\n",
        "    def get_W(self, t):\n",
        "        #return the weight from the PVM at time t \n",
        "        return self.memory[:, t]\n",
        "\n",
        "    def update(self, t, w):\n",
        "        #update the weight at time t\n",
        "        self.memory[:, t] = w\n",
        "\n",
        "\n",
        "    def draw(self, beta=sample_bias):\n",
        "        '''\n",
        "        returns a valid step so you can get a training batch starting at this step\n",
        "        '''\n",
        "        while 1:\n",
        "            z = np.random.geometric(p=beta)\n",
        "            tb = self.total_steps - self.batch_size + 1 - z\n",
        "            if tb >= 0:\n",
        "                return tb\n",
        "            \n",
        "    def test(self):\n",
        "        #just to test\n",
        "        return self.memory"
      ],
      "execution_count": 0,
      "outputs": []
    },
    {
      "cell_type": "code",
      "metadata": {
        "id": "Rvc4YL6PG5_z",
        "colab_type": "code",
        "colab": {}
      },
      "source": [
        "def get_max_draw_down(xs):\n",
        "    xs = np.array(xs)\n",
        "    i = np.argmax(np.maximum.accumulate(xs) - xs) # end of the period\n",
        "    j = np.argmax(xs[:i]) # start of period\n",
        "    \n",
        "    return xs[j] - xs[i]\n",
        "    "
      ],
      "execution_count": 0,
      "outputs": []
    },
    {
      "cell_type": "code",
      "metadata": {
        "id": "Pdncxk_bG8W9",
        "colab_type": "code",
        "colab": {}
      },
      "source": [
        "def eval_perf(e):\n",
        "    \"\"\"\n",
        "    This function evaluates the performance of the different types of agents. \n",
        "    \n",
        "    \n",
        "    \"\"\"\n",
        "    list_weight_end_val = list()\n",
        "    list_pf_end_training = list()\n",
        "    list_pf_min_training = list()\n",
        "    list_pf_max_training = list()\n",
        "    list_pf_mean_training = list()\n",
        "    list_pf_dd_training = list()\n",
        "    \n",
        "    #######TEST#######\n",
        "    #environment for trading of the agent \n",
        "    env_eval = TradeEnv(path=path_data, window_length=n,\n",
        "                   portfolio_value=pf_init_train, trading_cost=trading_cost,\n",
        "                   interest_rate=interest_rate, train_size=dict_hp_pb['ratio_train'])\n",
        "\n",
        "\n",
        "\n",
        "    #initialization of the environment \n",
        "    state_eval, done_eval = env_eval.reset(w_init_test, pf_init_test, t = total_steps_train)\n",
        "\n",
        "\n",
        "\n",
        "    #first element of the weight and portfolio value \n",
        "    p_list_eval = [pf_init_test]\n",
        "    w_list_eval = [w_init_test]\n",
        "\n",
        "    for k in range(total_steps_train, total_steps_train +total_steps_val-int(n/2)):\n",
        "        X_t = state_eval[0].reshape([-1]+ list(state_eval[0].shape))\n",
        "        W_previous = state_eval[1].reshape([-1]+ list(state_eval[1].shape))\n",
        "        pf_value_previous = state_eval[2]\n",
        "        #compute the action \n",
        "        action = actor.compute_W(X_t, W_previous)\n",
        "        #step forward environment \n",
        "        state_eval, reward_eval, done_eval = env_eval.step(action)\n",
        "\n",
        "        X_next = state_eval[0]\n",
        "        W_t_eval = state_eval[1]\n",
        "        pf_value_t_eval = state_eval[2]\n",
        "\n",
        "        dailyReturn_t = X_next[-1, :, -1]\n",
        "        #print('current portfolio value', round(pf_value_previous,0))\n",
        "        #print('weights', W_previous)\n",
        "        p_list_eval.append(pf_value_t_eval)\n",
        "        w_list_eval.append(W_t_eval)\n",
        "        \n",
        "    list_weight_end_val.append(w_list_eval[-1])\n",
        "    list_pf_end_training.append(p_list_eval[-1])\n",
        "    list_pf_min_training.append(np.min(p_list_eval))\n",
        "    list_pf_max_training.append(np.max(p_list_eval))\n",
        "    list_pf_mean_training.append(np.mean(p_list_eval))\n",
        "    \n",
        "    list_pf_dd_training.append(get_max_draw_down(p_list_eval))\n",
        "\n",
        "    print('End of test PF value:',round(p_list_eval[-1]))\n",
        "    print('Min of test PF value:',round(np.min(p_list_eval)))\n",
        "    print('Max of test PF value:',round(np.max(p_list_eval)))\n",
        "    print('Mean of test PF value:',round(np.mean(p_list_eval)))\n",
        "    print('Max Draw Down of test PF value:',round(get_max_draw_down(p_list_eval)))\n",
        "    print('End of test weights:',w_list_eval[-1])\n",
        "    plt.title('Portfolio evolution (validation set) episode {}'.format(e))\n",
        "    plt.plot(p_list_eval, label = 'Agent Portfolio Value')\n",
        "    plt.legend(bbox_to_anchor=(1.05, 1), loc=2, borderaxespad=0.)\n",
        "    plt.show()\n",
        "    plt.title('Portfolio weights (end of validation set) episode {}'.format(e))\n",
        "    plt.bar(np.arange(m+1), list_weight_end_val[-1])\n",
        "    plt.xticks(np.arange(m+1), ['Money'] + list_stock, rotation=45)\n",
        "    plt.show()\n",
        "    \n",
        "    \n",
        "    names = ['Money'] + list_stock\n",
        "    w_list_eval = np.array(w_list_eval)\n",
        "    for j in range(m):\n",
        "        plt.plot(w_list_eval[:,j], label = 'Weight Stock {}'.format(names[j]))\n",
        "        plt.legend(bbox_to_anchor=(1.05, 1), loc=2, borderaxespad=0.5)\n",
        "    plt.show()\n",
        "\n",
        "\n",
        "    "
      ],
      "execution_count": 0,
      "outputs": []
    },
    {
      "cell_type": "code",
      "metadata": {
        "id": "b6lcKvZiG-zD",
        "colab_type": "code",
        "outputId": "a4bc5d2e-9aaa-4067-fda8-dd8185e8aa3b",
        "colab": {
          "base_uri": "https://localhost:8080/",
          "height": 1000
        }
      },
      "source": [
        "############# TRAINING #####################\n",
        "###########################################\n",
        "tf.reset_default_graph()\n",
        "\n",
        "# sess\n",
        "sess = tf.Session()\n",
        "\n",
        "# initialize networks\n",
        "actor = Policy(m, n, sess, optimizer,\n",
        "                 trading_cost=trading_cost, \n",
        "                 interest_rate=interest_rate)  # policy initialization\n",
        "\n",
        "# initialize tensorflow graphs\n",
        "sess.run(tf.global_variables_initializer())\n",
        "\n",
        "\n",
        "\n",
        "list_final_pf = list()\n",
        "list_final_pf_eq = list()\n",
        "list_final_pf_s = list()\n",
        "\n",
        "list_final_pf_fu = list()\n",
        "state_fu = [0]*m\n",
        "done_fu = [0]*m\n",
        "\n",
        "pf_value_t_fu = [0]*m\n",
        "\n",
        "for i in range(m):\n",
        "    list_final_pf_fu.append(list())\n",
        "    \n",
        "\n",
        "###### Train #####\n",
        "for e in range(n_episodes):\n",
        "    print('Start Episode', e)\n",
        "    if e==0:\n",
        "        eval_perf('Before Training')\n",
        "    print('Episode:', e)\n",
        "    #init the PVM with the training parameters\n",
        "    memory = PVM(m,sample_bias, total_steps = total_steps_train, \n",
        "                 batch_size = batch_size, w_init = w_init_train)\n",
        "    \n",
        "    for nb in range(n_batches):\n",
        "        #draw the starting point of the batch \n",
        "        i_start = memory.draw()\n",
        "        \n",
        "        \n",
        "        #reset the environment with the weight from PVM at the starting point\n",
        "        #reset also with a portfolio value with initial portfolio value\n",
        "        state, done = env.reset(memory.get_W(i_start), pf_init_train, t=i_start )\n",
        "        state_eq, done_eq = env_eq.reset(w_eq, pf_init_train, t=i_start )\n",
        "        state_s, done_s = env_s.reset(w_s, pf_init_train, t=i_start )\n",
        "        \n",
        "        for i in range(m):\n",
        "            state_fu[i], done_fu[i] = env_fu[i].reset(action_fu[i], pf_init_train, t=i_start )\n",
        "        \n",
        "        \n",
        "        \n",
        "        list_X_t, list_W_previous, list_pf_value_previous, list_dailyReturn_t = [], [], [], []\n",
        "        list_pf_value_previous_eq, list_pf_value_previous_s = [],[]\n",
        "        list_pf_value_previous_fu = list()\n",
        "        for i in range(m):\n",
        "            list_pf_value_previous_fu.append(list())\n",
        "            \n",
        "        \n",
        "        \n",
        "        \n",
        "        \n",
        "        for bs in range(batch_size):\n",
        "            \n",
        "            #load the different inputs from the previous loaded state \n",
        "            X_t = state[0].reshape([-1] + list(state[0].shape))\n",
        "            W_previous = state[1].reshape([-1] + list(state[1].shape))\n",
        "            pf_value_previous = state[2]\n",
        "            \n",
        "            \n",
        "            if np.random.rand()< ratio_greedy:\n",
        "                #print('go')\n",
        "                #computation of the action of the agent\n",
        "                action = actor.compute_W(X_t, W_previous)\n",
        "            else:\n",
        "                action = get_random_action(m)\n",
        "            \n",
        "            #given the state and the action, call the environment to go one time step later \n",
        "            state, reward, done = env.step(action)\n",
        "            state_eq, reward_eq, done_eq = env_eq.step(w_eq)\n",
        "            state_s, reward_s, done_s = env_s.step(w_s)\n",
        "            \n",
        "            for i in range(m):\n",
        "                state_fu[i], _ , done_fu[i] = env_fu[i].step(action_fu[i])\n",
        "\n",
        "            \n",
        "            \n",
        "            #get the new state \n",
        "            X_next = state[0]\n",
        "            W_t = state[1]\n",
        "            pf_value_t = state[2]\n",
        "            \n",
        "            pf_value_t_eq = state_eq[2]\n",
        "            pf_value_t_s = state_s[2]\n",
        "            \n",
        "            for i in range(m):\n",
        "                pf_value_t_fu[i] = state_fu[i][2]\n",
        "                \n",
        "            \n",
        "            #let us compute the returns \n",
        "            dailyReturn_t = X_next[-1, :, -1]\n",
        "            #update into the PVM\n",
        "            memory.update(i_start+bs, W_t)\n",
        "            #store elements\n",
        "            list_X_t.append(X_t.reshape(state[0].shape))\n",
        "            list_W_previous.append(W_previous.reshape(state[1].shape))\n",
        "            list_pf_value_previous.append([pf_value_previous])\n",
        "            list_dailyReturn_t.append(dailyReturn_t)\n",
        "            \n",
        "            list_pf_value_previous_eq.append(pf_value_t_eq)\n",
        "            list_pf_value_previous_s.append(pf_value_t_s)\n",
        "            \n",
        "            for i in range(m):\n",
        "                list_pf_value_previous_fu[i].append(pf_value_t_fu[i])\n",
        "            \n",
        "            if bs==batch_size-1:\n",
        "                list_final_pf.append(pf_value_t)\n",
        "                list_final_pf_eq.append(pf_value_t_eq)\n",
        "                list_final_pf_s.append(pf_value_t_s)\n",
        "                for i in range(m):\n",
        "                    list_final_pf_fu[i].append(pf_value_t_fu[i])\n",
        "\n",
        "            \n",
        "            \n",
        "#             #printing\n",
        "#             if bs==0:\n",
        "#                 print('start', i_start)\n",
        "#                 print('PF_start', round(pf_value_previous,0))\n",
        "\n",
        "#             if bs==batch_size-1:\n",
        "#                 print('PF_end', round(pf_value_t,0))\n",
        "#                 print('weight', W_t)\n",
        "\n",
        "        list_X_t = np.array(list_X_t)\n",
        "        list_W_previous = np.array(list_W_previous)\n",
        "        list_pf_value_previous = np.array(list_pf_value_previous)\n",
        "        list_dailyReturn_t = np.array(list_dailyReturn_t)\n",
        "        \n",
        "        \n",
        "        #for each batch, train the network to maximize the reward\n",
        "        actor.train(list_X_t, list_W_previous,\n",
        "                    list_pf_value_previous, list_dailyReturn_t)\n",
        "    eval_perf(e)"
      ],
      "execution_count": 0,
      "outputs": [
        {
          "output_type": "stream",
          "text": [
            "()\n",
            "Start Episode 0\n",
            "End of test PF value: 10652.0\n",
            "Min of test PF value: 9546.0\n",
            "Max of test PF value: 10784.0\n",
            "Mean of test PF value: 10174.0\n",
            "Max Draw Down of test PF value: 1156.0\n",
            "End of test weights: [0.16865849 0.08365457 0.08339296 0.08328897 0.08242248 0.08286958\n",
            " 0.08001002 0.08403815 0.08320019 0.08471031 0.08375428]\n"
          ],
          "name": "stdout"
        },
        {
          "output_type": "display_data",
          "data": {
            "image/png": "[encoded data removed]",
            "text/plain": [
              "<Figure size 432x288 with 1 Axes>"
            ]
          },
          "metadata": {
            "tags": []
          }
        },
        {
          "output_type": "display_data",
          "data": {
            "image/png": "[encoded data removed]",
            "text/plain": [
              "<Figure size 432x288 with 1 Axes>"
            ]
          },
          "metadata": {
            "tags": []
          }
        },
        {
          "output_type": "display_data",
          "data": {
            "image/png": "[encoded data removed]",
            "text/plain": [
              "<Figure size 432x288 with 1 Axes>"
            ]
          },
          "metadata": {
            "tags": []
          }
        },
        {
          "output_type": "stream",
          "text": [
            "Episode: 0\n",
            "End of test PF value: 10694.0\n",
            "Min of test PF value: 9484.0\n",
            "Max of test PF value: 10841.0\n",
            "Mean of test PF value: 10179.0\n",
            "Max Draw Down of test PF value: 1287.0\n",
            "End of test weights: [0.08182964 0.09239181 0.09210288 0.09198803 0.09103104 0.09152483\n",
            " 0.08836661 0.09281545 0.09188997 0.09355782 0.09250193]\n"
          ],
          "name": "stdout"
        },
        {
          "output_type": "display_data",
          "data": {
            "image/png": "[encoded data removed]",
            "text/plain": [
              "<Figure size 432x288 with 1 Axes>"
            ]
          },
          "metadata": {
            "tags": []
          }
        },
        {
          "output_type": "display_data",
          "data": {
            "image/png": "[encoded data removed]",
            "text/plain": [
              "<Figure size 432x288 with 1 Axes>"
            ]
          },
          "metadata": {
            "tags": []
          }
        },
        {
          "output_type": "display_data",
          "data": {
            "image/png": "[encoded data removed]",
            "text/plain": [
              "<Figure size 432x288 with 1 Axes>"
            ]
          },
          "metadata": {
            "tags": []
          }
        },
        {
          "output_type": "stream",
          "text": [
            "Start Episode 1\n",
            "Episode: 1\n",
            "End of test PF value: 10710.0\n",
            "Min of test PF value: 9460.0\n",
            "Max of test PF value: 10864.0\n",
            "Mean of test PF value: 10181.0\n",
            "Max Draw Down of test PF value: 1340.0\n",
            "End of test weights: [0.04757878 0.09583833 0.09553863 0.09541949 0.0944268  0.09493902\n",
            " 0.09166298 0.09627778 0.09531778 0.09704784 0.09595257]\n"
          ],
          "name": "stdout"
        },
        {
          "output_type": "display_data",
          "data": {
            "image/png": "[encoded data removed]",
            "text/plain": [
              "<Figure size 432x288 with 1 Axes>"
            ]
          },
          "metadata": {
            "tags": []
          }
        },
        {
          "output_type": "display_data",
          "data": {
            "image/png": "[encoded data removed]",
            "text/plain": [
              "<Figure size 432x288 with 1 Axes>"
            ]
          },
          "metadata": {
            "tags": []
          }
        },
        {
          "output_type": "display_data",
          "data": {
            "image/png": "[encoded data removed]",
            "text/plain": [
              "<Figure size 432x288 with 1 Axes>"
            ]
          },
          "metadata": {
            "tags": []
          }
        }
      ]
    },
    {
      "cell_type": "code",
      "metadata": {
        "id": "MkALfuW5HDfx",
        "colab_type": "code",
        "outputId": "c5aef3ca-d841-4f65-9c72-8b241a5ae2c4",
        "colab": {
          "base_uri": "https://localhost:8080/",
          "height": 272
        }
      },
      "source": [
        "#######TEST#######\n",
        "\n",
        "\n",
        "#initialization of the environment \n",
        "state, done = env.reset(w_init_test, pf_init_test, t = total_steps_train)\n",
        "\n",
        "state_eq, done_eq = env_eq.reset(w_eq, pf_init_test, t = total_steps_train)\n",
        "state_s, done_s = env_s.reset(w_s, pf_init_test, t = total_steps_train)\n",
        "\n",
        "for i in range(m):\n",
        "    state_fu[i],  done_fu[i] = env_fu[i].reset(action_fu[i], pf_init_test, t = total_steps_train)\n",
        "\n",
        "\n",
        "#first element of the weight and portfolio value \n",
        "p_list = [pf_init_test]\n",
        "w_list = [w_init_test]\n",
        "\n",
        "p_list_eq = [pf_init_test]\n",
        "p_list_s = [pf_init_test]\n",
        "\n",
        "\n",
        "p_list_fu = list()\n",
        "for i in range(m):\n",
        "    p_list_fu.append([pf_init_test])\n",
        "    \n",
        "pf_value_t_fu = [0]*m\n",
        "    \n",
        "\n",
        "for k in range(total_steps_train +total_steps_val-int(n/2), total_steps_train +total_steps_val +total_steps_test -n):\n",
        "    X_t = state[0].reshape([-1]+ list(state[0].shape))\n",
        "    W_previous = state[1].reshape([-1]+ list(state[1].shape))\n",
        "    pf_value_previous = state[2]\n",
        "    #compute the action \n",
        "    action = actor.compute_W(X_t, W_previous)\n",
        "    #step forward environment \n",
        "    state, reward, done = env.step(action)\n",
        "    state_eq, reward_eq, done_eq = env_eq.step(w_eq)\n",
        "    state_s, reward_s, done_s = env_s.step(w_s)\n",
        "    \n",
        "    \n",
        "    for i in range(m):\n",
        "        state_fu[i], _ , done_fu[i] = env_fu[i].step(action_fu[i])\n",
        "    \n",
        "    \n",
        "    X_next = state[0]\n",
        "    W_t = state[1]\n",
        "    pf_value_t = state[2]\n",
        "    \n",
        "    pf_value_t_eq = state_eq[2]\n",
        "    pf_value_t_s = state_s[2]\n",
        "    for i in range(m):\n",
        "        pf_value_t_fu[i] = state_fu[i][2]\n",
        "    \n",
        "    dailyReturn_t = X_next[-1, :, -1]\n",
        "    if k%20 == 0:\n",
        "        print('current portfolio value', round(pf_value_previous,0))\n",
        "        print('weights', W_previous)\n",
        "    p_list.append(pf_value_t)\n",
        "    w_list.append(W_t)\n",
        "    \n",
        "    p_list_eq.append(pf_value_t_eq)\n",
        "    p_list_s.append(pf_value_t_s)\n",
        "    for i in range(m):\n",
        "        p_list_fu[i].append(pf_value_t_fu[i])\n",
        "        \n",
        "    #here to breack the loop/not in original code     \n",
        "    if k== total_steps_train +total_steps_val-int(n/2) + 100:\n",
        "        break\n",
        "    \n",
        "    "
      ],
      "execution_count": 0,
      "outputs": [
        {
          "output_type": "stream",
          "text": [
            "current portfolio value 9963.0\n",
            "weights [[0.04762502 0.09320303 0.09489577 0.09522831 0.09668883 0.09440996\n",
            "  0.0947483  0.0940323  0.09568657 0.09441459 0.09906731]]\n",
            "current portfolio value 10036.0\n",
            "weights [[0.04698827 0.0963634  0.09582403 0.09357103 0.09578595 0.09727968\n",
            "  0.09799799 0.09331894 0.09561208 0.09313137 0.09412726]]\n",
            "current portfolio value 10785.0\n",
            "weights [[0.04706376 0.09519721 0.09428807 0.09661473 0.09526077 0.09531589\n",
            "  0.09548554 0.09982222 0.09114419 0.09469768 0.09510995]]\n",
            "current portfolio value 10367.0\n",
            "weights [[0.04740996 0.09652489 0.09433136 0.09333714 0.09507311 0.09546849\n",
            "  0.09532148 0.09569096 0.09770398 0.09406816 0.09507047]]\n",
            "current portfolio value 10404.0\n",
            "weights [[0.04747273 0.09501313 0.09566034 0.09609487 0.09408167 0.09553739\n",
            "  0.09422291 0.09525194 0.09630864 0.09451155 0.09584482]]\n"
          ],
          "name": "stdout"
        }
      ]
    },
    {
      "cell_type": "markdown",
      "metadata": {
        "id": "Qwaq5dzBw6Q0",
        "colab_type": "text"
      },
      "source": [
        "Analysis"
      ]
    },
    {
      "cell_type": "code",
      "metadata": {
        "id": "9ypMXQ36vQwv",
        "colab_type": "code",
        "outputId": "363a7a7b-89ca-4f6b-841e-da89700f617e",
        "colab": {
          "base_uri": "https://localhost:8080/",
          "height": 281
        }
      },
      "source": [
        "plt.title('Portfolio Value (Test Set) {}: {}, {}, {}, {}, {}, {}, {}, {}'.format('Equity', batch_size, learning, ratio_greedy, e, n, kernel1_size, n_batches, ratio_regul))\n",
        "plt.plot(p_list, label = 'Agent Portfolio Value')\n",
        "plt.plot(p_list_eq, label = 'Equi-weighted Portfolio Value')\n",
        "plt.plot(p_list_s, label = 'Secured Portfolio Value')\n",
        "for i in range(m):\n",
        "    plt.plot(p_list_fu[i], label = 'Full Stock {} Portfolio Value'.format(list_stock[i]))\n",
        "plt.legend(bbox_to_anchor=(1.05, 1), loc=2, borderaxespad=0.)\n",
        "plt.show()"
      ],
      "execution_count": 0,
      "outputs": [
        {
          "output_type": "display_data",
          "data": {
            "image/png": "[encoded data removed]",
            "text/plain": [
              "<Figure size 432x288 with 1 Axes>"
            ]
          },
          "metadata": {
            "tags": []
          }
        }
      ]
    },
    {
      "cell_type": "code",
      "metadata": {
        "id": "gtm1hci_5gGg",
        "colab_type": "code",
        "outputId": "193d297f-1cb3-4ef1-d654-845a783009d8",
        "colab": {
          "base_uri": "https://localhost:8080/",
          "height": 281
        }
      },
      "source": [
        "\n",
        "names = ['Money'] + list_stock\n",
        "w_list = np.array(w_list)\n",
        "for j in range(m):\n",
        "    plt.plot(w_list[:,j], label = 'Weight Stock {}'.format(names[j]))\n",
        "    plt.title('Weight evolution during testing')\n",
        "    plt.legend(bbox_to_anchor=(1.05, 1), loc=2, borderaxespad=0.5)\n",
        "plt.show()"
      ],
      "execution_count": 0,
      "outputs": [
        {
          "output_type": "display_data",
          "data": {
            "image/png": "[encoded data removed]",
            "text/plain": [
              "<Figure size 432x288 with 1 Axes>"
            ]
          },
          "metadata": {
            "tags": []
          }
        }
      ]
    },
    {
      "cell_type": "code",
      "metadata": {
        "id": "ksIVaKjPCZpr",
        "colab_type": "code",
        "outputId": "5796e278-8217-421c-9819-b811389aab8b",
        "colab": {
          "base_uri": "https://localhost:8080/",
          "height": 282
        }
      },
      "source": [
        "\n",
        "plt.plot(np.array(p_list)-np.array(p_list_eq))"
      ],
      "execution_count": 0,
      "outputs": [
        {
          "output_type": "execute_result",
          "data": {
            "text/plain": [
              "[<matplotlib.lines.Line2D at 0x7f1f8d4e3ba8>]"
            ]
          },
          "metadata": {
            "tags": []
          },
          "execution_count": 144
        },
        {
          "output_type": "display_data",
          "data": {
            "image/png": "[encoded data removed]",
            "text/plain": [
              "<Figure size 432x288 with 1 Axes>"
            ]
          },
          "metadata": {
            "tags": []
          }
        }
      ]
    },
    {
      "cell_type": "code",
      "metadata": {
        "id": "jN-Mu2tXCg-Q",
        "colab_type": "code",
        "outputId": "5ac18826-2922-4094-8ab7-d00d87ce49c0",
        "colab": {
          "base_uri": "https://localhost:8080/",
          "height": 265
        }
      },
      "source": [
        "index1=0\n",
        "index2=-1\n",
        "\n",
        "plt.plot(list_final_pf[index1:index2], label = 'Agent Portfolio Value')\n",
        "plt.plot(list_final_pf_eq[index1:index2], label = 'Baseline Portfolio Value')\n",
        "plt.plot(list_final_pf_s[index1:index2], label = 'Secured Portfolio Value')\n",
        "plt.legend()\n",
        "plt.show()"
      ],
      "execution_count": 0,
      "outputs": [
        {
          "output_type": "display_data",
          "data": {
            "image/png": "[encoded data removed]",
            "text/plain": [
              "<Figure size 432x288 with 1 Axes>"
            ]
          },
          "metadata": {
            "tags": []
          }
        }
      ]
    },
    {
      "cell_type": "code",
      "metadata": {
        "id": "nLztVdf7Cmd1",
        "colab_type": "code",
        "outputId": "69634dc2-8328-4ca2-b7a9-550f24955ce3",
        "colab": {
          "base_uri": "https://localhost:8080/",
          "height": 282
        }
      },
      "source": [
        "plt.plot((np.array(list_final_pf)-np.array(list_final_pf_eq)))"
      ],
      "execution_count": 0,
      "outputs": [
        {
          "output_type": "execute_result",
          "data": {
            "text/plain": [
              "[<matplotlib.lines.Line2D at 0x7f1f8d936b70>]"
            ]
          },
          "metadata": {
            "tags": []
          },
          "execution_count": 146
        },
        {
          "output_type": "display_data",
          "data": {
            "image/png": "[encoded data removed]",
            "text/plain": [
              "<Figure size 432x288 with 1 Axes>"
            ]
          },
          "metadata": {
            "tags": []
          }
        }
      ]
    },
    {
      "cell_type": "code",
      "metadata": {
        "id": "QKD0U285CvE-",
        "colab_type": "code",
        "colab": {}
      },
      "source": [
        ""
      ],
      "execution_count": 0,
      "outputs": []
    }
  ]
}