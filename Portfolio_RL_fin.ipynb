{
  "nbformat": 4,
  "nbformat_minor": 0,
  "metadata": {
    "kernelspec": {
      "name": "python3",
      "display_name": "Python 3"
    },
    "language_info": {
      "codemirror_mode": {
        "name": "ipython",
        "version": 3
      },
      "file_extension": ".py",
      "mimetype": "text/x-python",
      "name": "python",
      "nbconvert_exporter": "python",
      "pygments_lexer": "ipython3",
      "version": "3.7.3"
    },
    "colab": {
      "name": "Portfolio_RL.ipynb",
      "provenance": [],
      "collapsed_sections": [],
      "machine_shape": "hm"
    },
    "accelerator": "GPU"
  },
  "cells": [
    {
      "cell_type": "markdown",
      "metadata": {
        "id": "ysluvcJkFppy",
        "colab_type": "text"
      },
      "source": [
        "### Import Libraries and Download Data"
      ]
    },
    {
      "cell_type": "code",
      "metadata": {
        "id": "phv33zmyF_tu",
        "colab_type": "code",
        "outputId": "3c52d415-3968-42b1-9619-71e2516d225a",
        "colab": {
          "base_uri": "https://localhost:8080/",
          "height": 340
        }
      },
      "source": [
        "!pip install stockstats\n",
        "!pip install yfinance"
      ],
      "execution_count": 0,
      "outputs": [
        {
          "output_type": "stream",
          "text": [
            "Requirement already satisfied: stockstats in /usr/local/lib/python3.6/dist-packages (0.3.0)\n",
            "Requirement already satisfied: pandas>=0.18.1 in /usr/local/lib/python3.6/dist-packages (from stockstats) (0.25.3)\n",
            "Requirement already satisfied: numpy>=1.9.2 in /usr/local/lib/python3.6/dist-packages (from stockstats) (1.17.3)\n",
            "Requirement already satisfied: int-date>=0.1.7 in /usr/local/lib/python3.6/dist-packages (from stockstats) (0.1.8)\n",
            "Requirement already satisfied: python-dateutil>=2.6.1 in /usr/local/lib/python3.6/dist-packages (from pandas>=0.18.1->stockstats) (2.6.1)\n",
            "Requirement already satisfied: pytz>=2017.2 in /usr/local/lib/python3.6/dist-packages (from pandas>=0.18.1->stockstats) (2018.9)\n",
            "Requirement already satisfied: six>=1.9.0 in /usr/local/lib/python3.6/dist-packages (from int-date>=0.1.7->stockstats) (1.12.0)\n",
            "Requirement already satisfied: yfinance in /usr/local/lib/python3.6/dist-packages (0.1.49)\n",
            "Requirement already satisfied: requests>=2.20 in /usr/local/lib/python3.6/dist-packages (from yfinance) (2.21.0)\n",
            "Requirement already satisfied: numpy>=1.15 in /usr/local/lib/python3.6/dist-packages (from yfinance) (1.17.3)\n",
            "Requirement already satisfied: pandas>=0.24 in /usr/local/lib/python3.6/dist-packages (from yfinance) (0.25.3)\n",
            "Requirement already satisfied: multitasking>=0.0.7 in /usr/local/lib/python3.6/dist-packages (from yfinance) (0.0.9)\n",
            "Requirement already satisfied: urllib3<1.25,>=1.21.1 in /usr/local/lib/python3.6/dist-packages (from requests>=2.20->yfinance) (1.24.3)\n",
            "Requirement already satisfied: idna<2.9,>=2.5 in /usr/local/lib/python3.6/dist-packages (from requests>=2.20->yfinance) (2.8)\n",
            "Requirement already satisfied: chardet<3.1.0,>=3.0.2 in /usr/local/lib/python3.6/dist-packages (from requests>=2.20->yfinance) (3.0.4)\n",
            "Requirement already satisfied: certifi>=2017.4.17 in /usr/local/lib/python3.6/dist-packages (from requests>=2.20->yfinance) (2019.9.11)\n",
            "Requirement already satisfied: python-dateutil>=2.6.1 in /usr/local/lib/python3.6/dist-packages (from pandas>=0.24->yfinance) (2.6.1)\n",
            "Requirement already satisfied: pytz>=2017.2 in /usr/local/lib/python3.6/dist-packages (from pandas>=0.24->yfinance) (2018.9)\n",
            "Requirement already satisfied: six>=1.5 in /usr/local/lib/python3.6/dist-packages (from python-dateutil>=2.6.1->pandas>=0.24->yfinance) (1.12.0)\n"
          ],
          "name": "stdout"
        }
      ]
    },
    {
      "cell_type": "code",
      "metadata": {
        "id": "fU-qQiqoFpp7",
        "colab_type": "code",
        "colab": {}
      },
      "source": [
        "import yfinance as yf\n",
        "import pandas as pd\n",
        "import stockstats\n",
        "import pandas as pd"
      ],
      "execution_count": 0,
      "outputs": []
    },
    {
      "cell_type": "code",
      "metadata": {
        "id": "I7faVtjKHAxH",
        "colab_type": "code",
        "outputId": "f6bc9960-36c4-41cf-dd38-ff1549984f03",
        "colab": {
          "base_uri": "https://localhost:8080/",
          "height": 122
        }
      },
      "source": [
        "from google.colab import drive\n",
        "drive.mount('/content/drive')"
      ],
      "execution_count": 0,
      "outputs": [
        {
          "output_type": "stream",
          "text": [
            "Go to this URL in a browser: https://accounts.google.com/o/oauth2/auth?client_id=947318989803-6bn6qk8qdgf4n4g3pfee6491hc0brc4i.apps.googleusercontent.com&redirect_uri=urn%3Aietf%3Awg%3Aoauth%3A2.0%3Aoob&scope=email%20https%3A%2F%2Fwww.googleapis.com%2Fauth%2Fdocs.test%20https%3A%2F%2Fwww.googleapis.com%2Fauth%2Fdrive%20https%3A%2F%2Fwww.googleapis.com%2Fauth%2Fdrive.photos.readonly%20https%3A%2F%2Fwww.googleapis.com%2Fauth%2Fpeopleapi.readonly&response_type=code\n",
            "\n",
            "Enter your authorization code:\n",
            "··········\n",
            "Mounted at /content/drive\n"
          ],
          "name": "stdout"
        }
      ]
    },
    {
      "cell_type": "markdown",
      "metadata": {
        "id": "AsMbr2-wEXH5",
        "colab_type": "text"
      },
      "source": [
        "Data Preparation"
      ]
    },
    {
      "cell_type": "code",
      "metadata": {
        "id": "dJIkzvyBFpqQ",
        "colab_type": "code",
        "outputId": "bef43bfe-9ce5-457d-f433-093eab9085a3",
        "colab": {
          "base_uri": "https://localhost:8080/",
          "height": 275
        }
      },
      "source": [
        "stockticker=pd.read_csv('/content/drive/My Drive/stockticker.csv')\n",
        "#stockticker=stockticker[300:500]\n",
        "stockticker['Symbol']=stockticker['Symbol']+\".NS\"\n",
        "stocknames=stockticker['Symbol'].tolist()\n",
        "import random\n",
        "listofrandom = random.sample(stocknames,193)\n",
        "len(listofrandom)\n",
        "stocknames = listofrandom\n",
        "print(stockticker['Symbol'])\n",
        "stocknames.append(stockticker['Symbol'][1645])\n",
        "stocknames.append(stockticker['Symbol'][1646])\n",
        "stocknames.append(stockticker['Symbol'][1647])\n",
        "stocknames.append(stockticker['Symbol'][1648])\n",
        "stocknames.append(stockticker['Symbol'][1649])\n",
        "stocknames.append(stockticker['Symbol'][1650])\n",
        "stocknames.append(stockticker['Symbol'][1651])\n",
        "print(len(stocknames))\n",
        "print(stocknames)\n",
        "\n",
        "  "
      ],
      "execution_count": 0,
      "outputs": [
        {
          "output_type": "stream",
          "text": [
            "0        20MICRONS.NS\n",
            "1       21STCENMGM.NS\n",
            "2       3IINFOTECH.NS\n",
            "3          3MINDIA.NS\n",
            "4           3PLAND.NS\n",
            "            ...      \n",
            "1647    IBVENTURES.NS\n",
            "1648    TATAMETALI.NS\n",
            "1649    JPASSOCIAT.NS\n",
            "1650     BOMDYEING.NS\n",
            "1651    BAJFINANCE.NS\n",
            "Name: Symbol, Length: 1652, dtype: object\n",
            "200\n",
            "['BRITANNIA.NS', 'GRUH.NS', 'TBZ.NS', 'SUJANAUNI.NS', 'ATNINTER.NS', 'PCJEWELLER.NS', 'TARMAT.NS', 'THANGAMAYL.NS', 'NTL.NS', 'EMAMIREAL.NS', 'SADBHIN.NS', 'PRAJIND.NS', 'SUPREMEINF.NS', 'POLYPLEX.NS', 'SUNDARAM.NS', 'TALWALKARS.NS', 'INDORAMA.NS', 'INOXLEISUR.NS', 'SATHAISPAT.NS', 'UMANGDAIRY.NS', 'BERGEPAINT.NS', 'CENTENKA.NS', 'MADHAV.NS', 'TATAMETALI.NS', 'SHYAMCENT.NS', 'APARINDS.NS', 'VRLLOG.NS', 'JPINFRATEC.NS', 'IFBIND.NS', 'SHARDACROP.NS', 'SOMANYCERA.NS', 'GMBREW.NS', 'ISEC.NS', 'GEECEE.NS', 'BDL.NS', 'KARURVYSYA.NS', 'EIHOTEL.NS', 'RECLTD.NS', 'LAKSHVILAS.NS', 'SHARDAMOTR.NS', 'CGPOWER.NS', 'GINNIFILA.NS', 'BIOFILCHEM.NS', 'ROHLTD.NS', 'ATFL.NS', 'GPPL.NS', 'SIYSIL.NS', 'SPENTEX.NS', 'HEXAWARE.NS', 'EASUNREYRL.NS', 'BODALCHEM.NS', 'REGENCERAM.NS', 'TGBHOTELS.NS', 'KHADIM.NS', 'BANSWRAS.NS', 'CRISIL.NS', 'GTNIND.NS', 'GANECOS.NS', 'DCAL.NS', 'PLASTIBLEN.NS', 'SPLIL.NS', 'SHRIRAMEPC.NS', 'BALAJITELE.NS', 'HPL.NS', 'VINATIORGA.NS', 'ANDHRABANK.NS', 'GODREJCP.NS', 'TORNTPHARM.NS', 'PRSMJOHNSN.NS', 'NITINSPIN.NS', 'MARICO.NS', 'EVEREADY.NS', 'LTTS.NS', 'PVR.NS', 'EIDPARRY.NS', 'KAKATCEM.NS', 'STCINDIA.NS', 'ADVANIHOTR.NS', 'CINEVISTA.NS', 'NESTLEIND.NS', 'CENTEXT.NS', 'HUDCO.NS', 'AMJLAND.NS', 'KENNAMET.NS', 'KPRMILL.NS', 'GANESHHOUC.NS', 'CADILAHC.NS', 'JISLJALEQS.NS', 'GROBTEA.NS', 'RVNL.NS', 'MANAKALUCO.NS', 'NIRAJISPAT.NS', 'GTPL.NS', 'SHIVATEX.NS', 'RALLIS.NS', 'IOLCP.NS', 'SHILPAMED.NS', 'KESARENT.NS', 'CHALET.NS', 'SYMPHONY.NS', 'JVLAGRO.NS', 'MUNJALSHOW.NS', 'MRPL.NS', 'ALKYLAMINE.NS', 'AFFLE.NS', 'DBREALTY.NS', 'CHOLAFIN.NS', 'TV18BRDCST.NS', 'RENUKA.NS', 'RKDL.NS', 'IBREALEST.NS', 'MUTHOOTFIN.NS', 'CEREBRAINT.NS', 'LOKESHMACH.NS', 'MANUGRAPH.NS', 'VEDL.NS', 'LYPSAGEMS.NS', 'IOB.NS', 'STAR.NS', 'NDGL.NS', 'VISHNU.NS', 'L&TFH.NS', 'JAINSTUDIO.NS', 'XELPMOC.NS', 'RBL.NS', 'SIMBHALS.NS', 'PRESSMN.NS', 'TREJHARA.NS', 'KEC.NS', 'DIXON.NS', 'FCL.NS', 'MAHINDCIE.NS', 'POLYMED.NS', 'MAANALU.NS', 'XLENERGY.NS', 'BILENERGY.NS', 'OFSS.NS', 'RTNINFRA.NS', 'KRIDHANINF.NS', 'MERCATOR.NS', 'HINDNATGLS.NS', 'SHREEPUSHK.NS', 'KIRLOSIND.NS', 'GODREJIND.NS', 'HAVISHA.NS', 'KARDA.NS', 'BAGFILMS.NS', 'JINDALPHOT.NS', 'JMFINANCIL.NS', 'RAJESHEXPO.NS', 'TFCILTD.NS', 'UTTAMSTL.NS', 'SONATSOFTW.NS', 'SBIN.NS', 'JKTYRE.NS', 'GENUSPAPER.NS', 'TEXINFRA.NS', 'IPAPPM.NS', 'EON.NS', 'ASHIMASYN.NS', 'MAGADSUGAR.NS', 'KABRAEXTRU.NS', 'NOCIL.NS', 'BAYERCROP.NS', 'MAGNUM.NS', 'A2ZINFRA.NS', 'SAREGAMA.NS', 'TIMKEN.NS', 'ALANKIT.NS', 'TVSMOTOR.NS', 'INDSWFTLTD.NS', 'AUTOAXLES.NS', 'PNBHOUSING.NS', 'MANINFRA.NS', 'CINELINE.NS', 'DEEPIND.NS', 'NKIND.NS', 'KELLTONTEC.NS', 'LAKPRE.NS', 'VIKASMCORP.NS', 'SREINFRA.NS', 'KINGFA.NS', 'SAMBHAAV.NS', 'VASCONEQ.NS', 'RELIGARE.NS', '3MINDIA.NS', '8KMILES.NS', 'APLAPOLLO.NS', 'VISAKAIND.NS', 'ANDHRACEMT.NS', 'MEGASOFT.NS', 'MARKSANS.NS', 'JOCIL.NS', 'BAJAJFINSV.NS', 'BKMINDST.NS', 'IBVENTURES.NS', 'TATAMETALI.NS', 'JPASSOCIAT.NS', 'BOMDYEING.NS', 'BAJFINANCE.NS']\n"
          ],
          "name": "stdout"
        }
      ]
    },
    {
      "cell_type": "code",
      "metadata": {
        "id": "mkJInBw2Fpqe",
        "colab_type": "code",
        "outputId": "2bf7c7fa-bc2d-4639-d42a-ca5539c2c26b",
        "colab": {
          "base_uri": "https://localhost:8080/",
          "height": 1000
        }
      },
      "source": [
        "ls=pd.DataFrame()\n",
        "lss=pd.DataFrame()\n",
        "i=0\n",
        "stocknumber=[]\n",
        "for stock in stocknames:\n",
        "    ls = pd.DataFrame()\n",
        "    ls = ls.append(yf.download(stock,'2014-08-13','2019-08-13'))\n",
        "    if len(ls)==1228:\n",
        "      i=i+1\n",
        "      for x in range(0,len(ls)):\n",
        "          stocknumber.append(i)\n",
        "    ls['name']=stock\n",
        "    ls['returns']=ls['Close'].pct_change()\n",
        "    ls = stockstats.StockDataFrame.retype(ls)\n",
        "    ls['pdi']\n",
        "    ls['macd']\n",
        "    ls['rsi_6']\n",
        "    if len(ls)==1228:\n",
        "      lss = lss.append(ls)\n",
        "    "
      ],
      "execution_count": 0,
      "outputs": [
        {
          "output_type": "stream",
          "text": [
            "\r[*********************100%***********************]  1 of 1 completed"
          ],
          "name": "stdout"
        },
        {
          "output_type": "stream",
          "text": [
            "/usr/local/lib/python3.6/dist-packages/pandas/core/indexing.py:205: SettingWithCopyWarning: \n",
            "A value is trying to be set on a copy of a slice from a DataFrame\n",
            "\n",
            "See the caveats in the documentation: http://pandas.pydata.org/pandas-docs/stable/user_guide/indexing.html#returning-a-view-versus-a-copy\n",
            "  self._setitem_with_indexer(indexer, value)\n",
            "NOTE: Behavior of MACDH calculation has changed as of July 2017 - it is now 1/2 of previous calculated values\n"
          ],
          "name": "stderr"
        },
        {
          "output_type": "stream",
          "text": [
            "\n",
            "[*********************100%***********************]  1 of 1 completed"
          ],
          "name": "stdout"
        },
        {
          "output_type": "stream",
          "text": [
            "NOTE: Behavior of MACDH calculation has changed as of July 2017 - it is now 1/2 of previous calculated values\n"
          ],
          "name": "stderr"
        },
        {
          "output_type": "stream",
          "text": [
            "\n",
            "[*********************100%***********************]  1 of 1 completed"
          ],
          "name": "stdout"
        },
        {
          "output_type": "stream",
          "text": [
            "NOTE: Behavior of MACDH calculation has changed as of July 2017 - it is now 1/2 of previous calculated values\n"
          ],
          "name": "stderr"
        },
        {
          "output_type": "stream",
          "text": [
            "\n",
            "\r[*********************100%***********************]  1 of 1 completed\n"
          ],
          "name": "stdout"
        },
        {
          "output_type": "stream",
          "text": [
            "NOTE: Behavior of MACDH calculation has changed as of July 2017 - it is now 1/2 of previous calculated values\n"
          ],
          "name": "stderr"
        },
        {
          "output_type": "stream",
          "text": [
            "\r[*********************100%***********************]  1 of 1 completed\n"
          ],
          "name": "stdout"
        },
        {
          "output_type": "stream",
          "text": [
            "NOTE: Behavior of MACDH calculation has changed as of July 2017 - it is now 1/2 of previous calculated values\n"
          ],
          "name": "stderr"
        },
        {
          "output_type": "stream",
          "text": [
            "\r[*********************100%***********************]  1 of 1 completed"
          ],
          "name": "stdout"
        },
        {
          "output_type": "stream",
          "text": [
            "NOTE: Behavior of MACDH calculation has changed as of July 2017 - it is now 1/2 of previous calculated values\n"
          ],
          "name": "stderr"
        },
        {
          "output_type": "stream",
          "text": [
            "\n",
            "[*********************100%***********************]  1 of 1 completed"
          ],
          "name": "stdout"
        },
        {
          "output_type": "stream",
          "text": [
            "NOTE: Behavior of MACDH calculation has changed as of July 2017 - it is now 1/2 of previous calculated values\n"
          ],
          "name": "stderr"
        },
        {
          "output_type": "stream",
          "text": [
            "\n",
            "[*********************100%***********************]  1 of 1 completed"
          ],
          "name": "stdout"
        },
        {
          "output_type": "stream",
          "text": [
            "NOTE: Behavior of MACDH calculation has changed as of July 2017 - it is now 1/2 of previous calculated values\n"
          ],
          "name": "stderr"
        },
        {
          "output_type": "stream",
          "text": [
            "\n",
            "[*********************100%***********************]  1 of 1 completed"
          ],
          "name": "stdout"
        },
        {
          "output_type": "stream",
          "text": [
            "NOTE: Behavior of MACDH calculation has changed as of July 2017 - it is now 1/2 of previous calculated values\n"
          ],
          "name": "stderr"
        },
        {
          "output_type": "stream",
          "text": [
            "\n",
            "\r[*********************100%***********************]  1 of 1 completed\n"
          ],
          "name": "stdout"
        },
        {
          "output_type": "stream",
          "text": [
            "NOTE: Behavior of MACDH calculation has changed as of July 2017 - it is now 1/2 of previous calculated values\n"
          ],
          "name": "stderr"
        },
        {
          "output_type": "stream",
          "text": [
            "\r[*********************100%***********************]  1 of 1 completed"
          ],
          "name": "stdout"
        },
        {
          "output_type": "stream",
          "text": [
            "NOTE: Behavior of MACDH calculation has changed as of July 2017 - it is now 1/2 of previous calculated values\n"
          ],
          "name": "stderr"
        },
        {
          "output_type": "stream",
          "text": [
            "\n",
            "[*********************100%***********************]  1 of 1 completed"
          ],
          "name": "stdout"
        },
        {
          "output_type": "stream",
          "text": [
            "NOTE: Behavior of MACDH calculation has changed as of July 2017 - it is now 1/2 of previous calculated values\n"
          ],
          "name": "stderr"
        },
        {
          "output_type": "stream",
          "text": [
            "\n",
            "[*********************100%***********************]  1 of 1 completed"
          ],
          "name": "stdout"
        },
        {
          "output_type": "stream",
          "text": [
            "NOTE: Behavior of MACDH calculation has changed as of July 2017 - it is now 1/2 of previous calculated values\n"
          ],
          "name": "stderr"
        },
        {
          "output_type": "stream",
          "text": [
            "\n",
            "[*********************100%***********************]  1 of 1 completed"
          ],
          "name": "stdout"
        },
        {
          "output_type": "stream",
          "text": [
            "NOTE: Behavior of MACDH calculation has changed as of July 2017 - it is now 1/2 of previous calculated values\n"
          ],
          "name": "stderr"
        },
        {
          "output_type": "stream",
          "text": [
            "\n",
            "\r[*********************100%***********************]  1 of 1 completed\n"
          ],
          "name": "stdout"
        },
        {
          "output_type": "stream",
          "text": [
            "NOTE: Behavior of MACDH calculation has changed as of July 2017 - it is now 1/2 of previous calculated values\n"
          ],
          "name": "stderr"
        },
        {
          "output_type": "stream",
          "text": [
            "\r[*********************100%***********************]  1 of 1 completed"
          ],
          "name": "stdout"
        },
        {
          "output_type": "stream",
          "text": [
            "NOTE: Behavior of MACDH calculation has changed as of July 2017 - it is now 1/2 of previous calculated values\n"
          ],
          "name": "stderr"
        },
        {
          "output_type": "stream",
          "text": [
            "\n",
            "[*********************100%***********************]  1 of 1 completed"
          ],
          "name": "stdout"
        },
        {
          "output_type": "stream",
          "text": [
            "NOTE: Behavior of MACDH calculation has changed as of July 2017 - it is now 1/2 of previous calculated values\n"
          ],
          "name": "stderr"
        },
        {
          "output_type": "stream",
          "text": [
            "\n",
            "[*********************100%***********************]  1 of 1 completed"
          ],
          "name": "stdout"
        },
        {
          "output_type": "stream",
          "text": [
            "NOTE: Behavior of MACDH calculation has changed as of July 2017 - it is now 1/2 of previous calculated values\n"
          ],
          "name": "stderr"
        },
        {
          "output_type": "stream",
          "text": [
            "\n",
            "[*********************100%***********************]  1 of 1 completed"
          ],
          "name": "stdout"
        },
        {
          "output_type": "stream",
          "text": [
            "NOTE: Behavior of MACDH calculation has changed as of July 2017 - it is now 1/2 of previous calculated values\n"
          ],
          "name": "stderr"
        },
        {
          "output_type": "stream",
          "text": [
            "\n",
            "\r[*********************100%***********************]  1 of 1 completed\n"
          ],
          "name": "stdout"
        },
        {
          "output_type": "stream",
          "text": [
            "NOTE: Behavior of MACDH calculation has changed as of July 2017 - it is now 1/2 of previous calculated values\n"
          ],
          "name": "stderr"
        },
        {
          "output_type": "stream",
          "text": [
            "\r[*********************100%***********************]  1 of 1 completed"
          ],
          "name": "stdout"
        },
        {
          "output_type": "stream",
          "text": [
            "NOTE: Behavior of MACDH calculation has changed as of July 2017 - it is now 1/2 of previous calculated values\n"
          ],
          "name": "stderr"
        },
        {
          "output_type": "stream",
          "text": [
            "\n",
            "[*********************100%***********************]  1 of 1 completed"
          ],
          "name": "stdout"
        },
        {
          "output_type": "stream",
          "text": [
            "NOTE: Behavior of MACDH calculation has changed as of July 2017 - it is now 1/2 of previous calculated values\n"
          ],
          "name": "stderr"
        },
        {
          "output_type": "stream",
          "text": [
            "\n",
            "[*********************100%***********************]  1 of 1 completed"
          ],
          "name": "stdout"
        },
        {
          "output_type": "stream",
          "text": [
            "NOTE: Behavior of MACDH calculation has changed as of July 2017 - it is now 1/2 of previous calculated values\n"
          ],
          "name": "stderr"
        },
        {
          "output_type": "stream",
          "text": [
            "\n",
            "[*********************100%***********************]  1 of 1 completed"
          ],
          "name": "stdout"
        },
        {
          "output_type": "stream",
          "text": [
            "NOTE: Behavior of MACDH calculation has changed as of July 2017 - it is now 1/2 of previous calculated values\n"
          ],
          "name": "stderr"
        },
        {
          "output_type": "stream",
          "text": [
            "\n",
            "\r[*********************100%***********************]  1 of 1 completed\n"
          ],
          "name": "stdout"
        },
        {
          "output_type": "stream",
          "text": [
            "NOTE: Behavior of MACDH calculation has changed as of July 2017 - it is now 1/2 of previous calculated values\n"
          ],
          "name": "stderr"
        },
        {
          "output_type": "stream",
          "text": [
            "\r[*********************100%***********************]  1 of 1 completed"
          ],
          "name": "stdout"
        },
        {
          "output_type": "stream",
          "text": [
            "NOTE: Behavior of MACDH calculation has changed as of July 2017 - it is now 1/2 of previous calculated values\n"
          ],
          "name": "stderr"
        },
        {
          "output_type": "stream",
          "text": [
            "\n",
            "[*********************100%***********************]  1 of 1 completed"
          ],
          "name": "stdout"
        },
        {
          "output_type": "stream",
          "text": [
            "NOTE: Behavior of MACDH calculation has changed as of July 2017 - it is now 1/2 of previous calculated values\n"
          ],
          "name": "stderr"
        },
        {
          "output_type": "stream",
          "text": [
            "\n",
            "\r[*********************100%***********************]  1 of 1 completed\n"
          ],
          "name": "stdout"
        },
        {
          "output_type": "stream",
          "text": [
            "NOTE: Behavior of MACDH calculation has changed as of July 2017 - it is now 1/2 of previous calculated values\n"
          ],
          "name": "stderr"
        },
        {
          "output_type": "stream",
          "text": [
            "\r[*********************100%***********************]  1 of 1 completed"
          ],
          "name": "stdout"
        },
        {
          "output_type": "stream",
          "text": [
            "NOTE: Behavior of MACDH calculation has changed as of July 2017 - it is now 1/2 of previous calculated values\n"
          ],
          "name": "stderr"
        },
        {
          "output_type": "stream",
          "text": [
            "\n",
            "[*********************100%***********************]  1 of 1 completed"
          ],
          "name": "stdout"
        },
        {
          "output_type": "stream",
          "text": [
            "NOTE: Behavior of MACDH calculation has changed as of July 2017 - it is now 1/2 of previous calculated values\n"
          ],
          "name": "stderr"
        },
        {
          "output_type": "stream",
          "text": [
            "\n",
            "[*********************100%***********************]  1 of 1 completed"
          ],
          "name": "stdout"
        },
        {
          "output_type": "stream",
          "text": [
            "NOTE: Behavior of MACDH calculation has changed as of July 2017 - it is now 1/2 of previous calculated values\n"
          ],
          "name": "stderr"
        },
        {
          "output_type": "stream",
          "text": [
            "\n",
            "[*********************100%***********************]  1 of 1 completed"
          ],
          "name": "stdout"
        },
        {
          "output_type": "stream",
          "text": [
            "NOTE: Behavior of MACDH calculation has changed as of July 2017 - it is now 1/2 of previous calculated values\n"
          ],
          "name": "stderr"
        },
        {
          "output_type": "stream",
          "text": [
            "\n",
            "\r[*********************100%***********************]  1 of 1 completed\n"
          ],
          "name": "stdout"
        },
        {
          "output_type": "stream",
          "text": [
            "NOTE: Behavior of MACDH calculation has changed as of July 2017 - it is now 1/2 of previous calculated values\n"
          ],
          "name": "stderr"
        },
        {
          "output_type": "stream",
          "text": [
            "\r[*********************100%***********************]  1 of 1 completed\n"
          ],
          "name": "stdout"
        },
        {
          "output_type": "stream",
          "text": [
            "NOTE: Behavior of MACDH calculation has changed as of July 2017 - it is now 1/2 of previous calculated values\n"
          ],
          "name": "stderr"
        },
        {
          "output_type": "stream",
          "text": [
            "\r[*********************100%***********************]  1 of 1 completed\n"
          ],
          "name": "stdout"
        },
        {
          "output_type": "stream",
          "text": [
            "NOTE: Behavior of MACDH calculation has changed as of July 2017 - it is now 1/2 of previous calculated values\n"
          ],
          "name": "stderr"
        },
        {
          "output_type": "stream",
          "text": [
            "\r[*********************100%***********************]  1 of 1 completed"
          ],
          "name": "stdout"
        },
        {
          "output_type": "stream",
          "text": [
            "NOTE: Behavior of MACDH calculation has changed as of July 2017 - it is now 1/2 of previous calculated values\n"
          ],
          "name": "stderr"
        },
        {
          "output_type": "stream",
          "text": [
            "\n",
            "[*********************100%***********************]  1 of 1 completed"
          ],
          "name": "stdout"
        },
        {
          "output_type": "stream",
          "text": [
            "NOTE: Behavior of MACDH calculation has changed as of July 2017 - it is now 1/2 of previous calculated values\n"
          ],
          "name": "stderr"
        },
        {
          "output_type": "stream",
          "text": [
            "\n",
            "[*********************100%***********************]  1 of 1 completed"
          ],
          "name": "stdout"
        },
        {
          "output_type": "stream",
          "text": [
            "NOTE: Behavior of MACDH calculation has changed as of July 2017 - it is now 1/2 of previous calculated values\n"
          ],
          "name": "stderr"
        },
        {
          "output_type": "stream",
          "text": [
            "\n",
            "[*********************100%***********************]  1 of 1 completed"
          ],
          "name": "stdout"
        },
        {
          "output_type": "stream",
          "text": [
            "NOTE: Behavior of MACDH calculation has changed as of July 2017 - it is now 1/2 of previous calculated values\n"
          ],
          "name": "stderr"
        },
        {
          "output_type": "stream",
          "text": [
            "\n",
            "[*********************100%***********************]  1 of 1 completed"
          ],
          "name": "stdout"
        },
        {
          "output_type": "stream",
          "text": [
            "NOTE: Behavior of MACDH calculation has changed as of July 2017 - it is now 1/2 of previous calculated values\n"
          ],
          "name": "stderr"
        },
        {
          "output_type": "stream",
          "text": [
            "\n",
            "[*********************100%***********************]  1 of 1 completed"
          ],
          "name": "stdout"
        },
        {
          "output_type": "stream",
          "text": [
            "NOTE: Behavior of MACDH calculation has changed as of July 2017 - it is now 1/2 of previous calculated values\n"
          ],
          "name": "stderr"
        },
        {
          "output_type": "stream",
          "text": [
            "\n",
            "[*********************100%***********************]  1 of 1 completed"
          ],
          "name": "stdout"
        },
        {
          "output_type": "stream",
          "text": [
            "NOTE: Behavior of MACDH calculation has changed as of July 2017 - it is now 1/2 of previous calculated values\n"
          ],
          "name": "stderr"
        },
        {
          "output_type": "stream",
          "text": [
            "\n",
            "\r[*********************100%***********************]  1 of 1 completed\n"
          ],
          "name": "stdout"
        },
        {
          "output_type": "stream",
          "text": [
            "NOTE: Behavior of MACDH calculation has changed as of July 2017 - it is now 1/2 of previous calculated values\n"
          ],
          "name": "stderr"
        },
        {
          "output_type": "stream",
          "text": [
            "\r[*********************100%***********************]  1 of 1 completed"
          ],
          "name": "stdout"
        },
        {
          "output_type": "stream",
          "text": [
            "NOTE: Behavior of MACDH calculation has changed as of July 2017 - it is now 1/2 of previous calculated values\n"
          ],
          "name": "stderr"
        },
        {
          "output_type": "stream",
          "text": [
            "\n",
            "[*********************100%***********************]  1 of 1 completed"
          ],
          "name": "stdout"
        },
        {
          "output_type": "stream",
          "text": [
            "NOTE: Behavior of MACDH calculation has changed as of July 2017 - it is now 1/2 of previous calculated values\n"
          ],
          "name": "stderr"
        },
        {
          "output_type": "stream",
          "text": [
            "\n",
            "[*********************100%***********************]  1 of 1 completed"
          ],
          "name": "stdout"
        },
        {
          "output_type": "stream",
          "text": [
            "NOTE: Behavior of MACDH calculation has changed as of July 2017 - it is now 1/2 of previous calculated values\n"
          ],
          "name": "stderr"
        },
        {
          "output_type": "stream",
          "text": [
            "\n",
            "[*********************100%***********************]  1 of 1 completed"
          ],
          "name": "stdout"
        },
        {
          "output_type": "stream",
          "text": [
            "NOTE: Behavior of MACDH calculation has changed as of July 2017 - it is now 1/2 of previous calculated values\n"
          ],
          "name": "stderr"
        },
        {
          "output_type": "stream",
          "text": [
            "\n",
            "[*********************100%***********************]  1 of 1 completed"
          ],
          "name": "stdout"
        },
        {
          "output_type": "stream",
          "text": [
            "NOTE: Behavior of MACDH calculation has changed as of July 2017 - it is now 1/2 of previous calculated values\n"
          ],
          "name": "stderr"
        },
        {
          "output_type": "stream",
          "text": [
            "\n",
            "[*********************100%***********************]  1 of 1 completed"
          ],
          "name": "stdout"
        },
        {
          "output_type": "stream",
          "text": [
            "NOTE: Behavior of MACDH calculation has changed as of July 2017 - it is now 1/2 of previous calculated values\n"
          ],
          "name": "stderr"
        },
        {
          "output_type": "stream",
          "text": [
            "\n",
            "[*********************100%***********************]  1 of 1 completed"
          ],
          "name": "stdout"
        },
        {
          "output_type": "stream",
          "text": [
            "NOTE: Behavior of MACDH calculation has changed as of July 2017 - it is now 1/2 of previous calculated values\n"
          ],
          "name": "stderr"
        },
        {
          "output_type": "stream",
          "text": [
            "\n",
            "[*********************100%***********************]  1 of 1 completed"
          ],
          "name": "stdout"
        },
        {
          "output_type": "stream",
          "text": [
            "NOTE: Behavior of MACDH calculation has changed as of July 2017 - it is now 1/2 of previous calculated values\n"
          ],
          "name": "stderr"
        },
        {
          "output_type": "stream",
          "text": [
            "\n",
            "[*********************100%***********************]  1 of 1 completed"
          ],
          "name": "stdout"
        },
        {
          "output_type": "stream",
          "text": [
            "NOTE: Behavior of MACDH calculation has changed as of July 2017 - it is now 1/2 of previous calculated values\n"
          ],
          "name": "stderr"
        },
        {
          "output_type": "stream",
          "text": [
            "\n",
            "[*********************100%***********************]  1 of 1 completed"
          ],
          "name": "stdout"
        },
        {
          "output_type": "stream",
          "text": [
            "NOTE: Behavior of MACDH calculation has changed as of July 2017 - it is now 1/2 of previous calculated values\n"
          ],
          "name": "stderr"
        },
        {
          "output_type": "stream",
          "text": [
            "\n",
            "\r[*********************100%***********************]  1 of 1 completed\n"
          ],
          "name": "stdout"
        },
        {
          "output_type": "stream",
          "text": [
            "NOTE: Behavior of MACDH calculation has changed as of July 2017 - it is now 1/2 of previous calculated values\n"
          ],
          "name": "stderr"
        },
        {
          "output_type": "stream",
          "text": [
            "\r[*********************100%***********************]  1 of 1 completed"
          ],
          "name": "stdout"
        },
        {
          "output_type": "stream",
          "text": [
            "NOTE: Behavior of MACDH calculation has changed as of July 2017 - it is now 1/2 of previous calculated values\n"
          ],
          "name": "stderr"
        },
        {
          "output_type": "stream",
          "text": [
            "\n",
            "[*********************100%***********************]  1 of 1 completed"
          ],
          "name": "stdout"
        },
        {
          "output_type": "stream",
          "text": [
            "NOTE: Behavior of MACDH calculation has changed as of July 2017 - it is now 1/2 of previous calculated values\n"
          ],
          "name": "stderr"
        },
        {
          "output_type": "stream",
          "text": [
            "\n",
            "[*********************100%***********************]  1 of 1 completed"
          ],
          "name": "stdout"
        },
        {
          "output_type": "stream",
          "text": [
            "NOTE: Behavior of MACDH calculation has changed as of July 2017 - it is now 1/2 of previous calculated values\n"
          ],
          "name": "stderr"
        },
        {
          "output_type": "stream",
          "text": [
            "\n",
            "[*********************100%***********************]  1 of 1 completed"
          ],
          "name": "stdout"
        },
        {
          "output_type": "stream",
          "text": [
            "NOTE: Behavior of MACDH calculation has changed as of July 2017 - it is now 1/2 of previous calculated values\n"
          ],
          "name": "stderr"
        },
        {
          "output_type": "stream",
          "text": [
            "\n",
            "[*********************100%***********************]  1 of 1 completed"
          ],
          "name": "stdout"
        },
        {
          "output_type": "stream",
          "text": [
            "NOTE: Behavior of MACDH calculation has changed as of July 2017 - it is now 1/2 of previous calculated values\n"
          ],
          "name": "stderr"
        },
        {
          "output_type": "stream",
          "text": [
            "\n",
            "[*********************100%***********************]  1 of 1 completed"
          ],
          "name": "stdout"
        },
        {
          "output_type": "stream",
          "text": [
            "NOTE: Behavior of MACDH calculation has changed as of July 2017 - it is now 1/2 of previous calculated values\n"
          ],
          "name": "stderr"
        },
        {
          "output_type": "stream",
          "text": [
            "\n",
            "[*********************100%***********************]  1 of 1 completed"
          ],
          "name": "stdout"
        },
        {
          "output_type": "stream",
          "text": [
            "NOTE: Behavior of MACDH calculation has changed as of July 2017 - it is now 1/2 of previous calculated values\n"
          ],
          "name": "stderr"
        },
        {
          "output_type": "stream",
          "text": [
            "\n",
            "[*********************100%***********************]  1 of 1 completed"
          ],
          "name": "stdout"
        },
        {
          "output_type": "stream",
          "text": [
            "NOTE: Behavior of MACDH calculation has changed as of July 2017 - it is now 1/2 of previous calculated values\n"
          ],
          "name": "stderr"
        },
        {
          "output_type": "stream",
          "text": [
            "\n",
            "[*********************100%***********************]  1 of 1 completed"
          ],
          "name": "stdout"
        },
        {
          "output_type": "stream",
          "text": [
            "NOTE: Behavior of MACDH calculation has changed as of July 2017 - it is now 1/2 of previous calculated values\n"
          ],
          "name": "stderr"
        },
        {
          "output_type": "stream",
          "text": [
            "\n",
            "[*********************100%***********************]  1 of 1 completed"
          ],
          "name": "stdout"
        },
        {
          "output_type": "stream",
          "text": [
            "NOTE: Behavior of MACDH calculation has changed as of July 2017 - it is now 1/2 of previous calculated values\n"
          ],
          "name": "stderr"
        },
        {
          "output_type": "stream",
          "text": [
            "\n",
            "\r[*********************100%***********************]  1 of 1 completed\n"
          ],
          "name": "stdout"
        },
        {
          "output_type": "stream",
          "text": [
            "NOTE: Behavior of MACDH calculation has changed as of July 2017 - it is now 1/2 of previous calculated values\n"
          ],
          "name": "stderr"
        },
        {
          "output_type": "stream",
          "text": [
            "\r[*********************100%***********************]  1 of 1 completed"
          ],
          "name": "stdout"
        },
        {
          "output_type": "stream",
          "text": [
            "NOTE: Behavior of MACDH calculation has changed as of July 2017 - it is now 1/2 of previous calculated values\n"
          ],
          "name": "stderr"
        },
        {
          "output_type": "stream",
          "text": [
            "\n",
            "[*********************100%***********************]  1 of 1 completed"
          ],
          "name": "stdout"
        },
        {
          "output_type": "stream",
          "text": [
            "NOTE: Behavior of MACDH calculation has changed as of July 2017 - it is now 1/2 of previous calculated values\n"
          ],
          "name": "stderr"
        },
        {
          "output_type": "stream",
          "text": [
            "\n",
            "[*********************100%***********************]  1 of 1 completed"
          ],
          "name": "stdout"
        },
        {
          "output_type": "stream",
          "text": [
            "NOTE: Behavior of MACDH calculation has changed as of July 2017 - it is now 1/2 of previous calculated values\n"
          ],
          "name": "stderr"
        },
        {
          "output_type": "stream",
          "text": [
            "\n",
            "[*********************100%***********************]  1 of 1 completed"
          ],
          "name": "stdout"
        },
        {
          "output_type": "stream",
          "text": [
            "NOTE: Behavior of MACDH calculation has changed as of July 2017 - it is now 1/2 of previous calculated values\n"
          ],
          "name": "stderr"
        },
        {
          "output_type": "stream",
          "text": [
            "\n",
            "[*********************100%***********************]  1 of 1 completed"
          ],
          "name": "stdout"
        },
        {
          "output_type": "stream",
          "text": [
            "NOTE: Behavior of MACDH calculation has changed as of July 2017 - it is now 1/2 of previous calculated values\n"
          ],
          "name": "stderr"
        },
        {
          "output_type": "stream",
          "text": [
            "\n",
            "[*********************100%***********************]  1 of 1 completed"
          ],
          "name": "stdout"
        },
        {
          "output_type": "stream",
          "text": [
            "NOTE: Behavior of MACDH calculation has changed as of July 2017 - it is now 1/2 of previous calculated values\n"
          ],
          "name": "stderr"
        },
        {
          "output_type": "stream",
          "text": [
            "\n",
            "[*********************100%***********************]  1 of 1 completed"
          ],
          "name": "stdout"
        },
        {
          "output_type": "stream",
          "text": [
            "NOTE: Behavior of MACDH calculation has changed as of July 2017 - it is now 1/2 of previous calculated values\n"
          ],
          "name": "stderr"
        },
        {
          "output_type": "stream",
          "text": [
            "\n",
            "[*********************100%***********************]  1 of 1 completed"
          ],
          "name": "stdout"
        },
        {
          "output_type": "stream",
          "text": [
            "NOTE: Behavior of MACDH calculation has changed as of July 2017 - it is now 1/2 of previous calculated values\n"
          ],
          "name": "stderr"
        },
        {
          "output_type": "stream",
          "text": [
            "\n",
            "[*********************100%***********************]  1 of 1 completed"
          ],
          "name": "stdout"
        },
        {
          "output_type": "stream",
          "text": [
            "NOTE: Behavior of MACDH calculation has changed as of July 2017 - it is now 1/2 of previous calculated values\n"
          ],
          "name": "stderr"
        },
        {
          "output_type": "stream",
          "text": [
            "\n",
            "[*********************100%***********************]  1 of 1 completed"
          ],
          "name": "stdout"
        },
        {
          "output_type": "stream",
          "text": [
            "NOTE: Behavior of MACDH calculation has changed as of July 2017 - it is now 1/2 of previous calculated values\n"
          ],
          "name": "stderr"
        },
        {
          "output_type": "stream",
          "text": [
            "\n",
            "[*********************100%***********************]  1 of 1 completed"
          ],
          "name": "stdout"
        },
        {
          "output_type": "stream",
          "text": [
            "NOTE: Behavior of MACDH calculation has changed as of July 2017 - it is now 1/2 of previous calculated values\n"
          ],
          "name": "stderr"
        },
        {
          "output_type": "stream",
          "text": [
            "\n",
            "[*********************100%***********************]  1 of 1 completed"
          ],
          "name": "stdout"
        },
        {
          "output_type": "stream",
          "text": [
            "NOTE: Behavior of MACDH calculation has changed as of July 2017 - it is now 1/2 of previous calculated values\n"
          ],
          "name": "stderr"
        },
        {
          "output_type": "stream",
          "text": [
            "\n",
            "[*********************100%***********************]  1 of 1 completed"
          ],
          "name": "stdout"
        },
        {
          "output_type": "stream",
          "text": [
            "NOTE: Behavior of MACDH calculation has changed as of July 2017 - it is now 1/2 of previous calculated values\n"
          ],
          "name": "stderr"
        },
        {
          "output_type": "stream",
          "text": [
            "\n",
            "[*********************100%***********************]  1 of 1 completed"
          ],
          "name": "stdout"
        },
        {
          "output_type": "stream",
          "text": [
            "NOTE: Behavior of MACDH calculation has changed as of July 2017 - it is now 1/2 of previous calculated values\n"
          ],
          "name": "stderr"
        },
        {
          "output_type": "stream",
          "text": [
            "\n",
            "[*********************100%***********************]  1 of 1 completed"
          ],
          "name": "stdout"
        },
        {
          "output_type": "stream",
          "text": [
            "NOTE: Behavior of MACDH calculation has changed as of July 2017 - it is now 1/2 of previous calculated values\n"
          ],
          "name": "stderr"
        },
        {
          "output_type": "stream",
          "text": [
            "\n",
            "[*********************100%***********************]  1 of 1 completed"
          ],
          "name": "stdout"
        },
        {
          "output_type": "stream",
          "text": [
            "NOTE: Behavior of MACDH calculation has changed as of July 2017 - it is now 1/2 of previous calculated values\n"
          ],
          "name": "stderr"
        },
        {
          "output_type": "stream",
          "text": [
            "\n",
            "[*********************100%***********************]  1 of 1 completed"
          ],
          "name": "stdout"
        },
        {
          "output_type": "stream",
          "text": [
            "NOTE: Behavior of MACDH calculation has changed as of July 2017 - it is now 1/2 of previous calculated values\n"
          ],
          "name": "stderr"
        },
        {
          "output_type": "stream",
          "text": [
            "\n",
            "[*********************100%***********************]  1 of 1 completed"
          ],
          "name": "stdout"
        },
        {
          "output_type": "stream",
          "text": [
            "NOTE: Behavior of MACDH calculation has changed as of July 2017 - it is now 1/2 of previous calculated values\n"
          ],
          "name": "stderr"
        },
        {
          "output_type": "stream",
          "text": [
            "\n",
            "\r[*********************100%***********************]  1 of 1 completed\n",
            "\n",
            "1 Failed download:\n",
            "- KENNAMET.NS: Data doesn't exist for startDate = 1407888000, endDate = 1565654400\n",
            "[*********************100%***********************]  1 of 1 completed"
          ],
          "name": "stdout"
        },
        {
          "output_type": "stream",
          "text": [
            "NOTE: Behavior of MACDH calculation has changed as of July 2017 - it is now 1/2 of previous calculated values\n"
          ],
          "name": "stderr"
        },
        {
          "output_type": "stream",
          "text": [
            "\n",
            "[*********************100%***********************]  1 of 1 completed"
          ],
          "name": "stdout"
        },
        {
          "output_type": "stream",
          "text": [
            "NOTE: Behavior of MACDH calculation has changed as of July 2017 - it is now 1/2 of previous calculated values\n"
          ],
          "name": "stderr"
        },
        {
          "output_type": "stream",
          "text": [
            "\n",
            "[*********************100%***********************]  1 of 1 completed"
          ],
          "name": "stdout"
        },
        {
          "output_type": "stream",
          "text": [
            "NOTE: Behavior of MACDH calculation has changed as of July 2017 - it is now 1/2 of previous calculated values\n"
          ],
          "name": "stderr"
        },
        {
          "output_type": "stream",
          "text": [
            "\n",
            "[*********************100%***********************]  1 of 1 completed"
          ],
          "name": "stdout"
        },
        {
          "output_type": "stream",
          "text": [
            "NOTE: Behavior of MACDH calculation has changed as of July 2017 - it is now 1/2 of previous calculated values\n"
          ],
          "name": "stderr"
        },
        {
          "output_type": "stream",
          "text": [
            "\n",
            "[*********************100%***********************]  1 of 1 completed"
          ],
          "name": "stdout"
        },
        {
          "output_type": "stream",
          "text": [
            "NOTE: Behavior of MACDH calculation has changed as of July 2017 - it is now 1/2 of previous calculated values\n"
          ],
          "name": "stderr"
        },
        {
          "output_type": "stream",
          "text": [
            "\n",
            "[*********************100%***********************]  1 of 1 completed"
          ],
          "name": "stdout"
        },
        {
          "output_type": "stream",
          "text": [
            "NOTE: Behavior of MACDH calculation has changed as of July 2017 - it is now 1/2 of previous calculated values\n"
          ],
          "name": "stderr"
        },
        {
          "output_type": "stream",
          "text": [
            "\n",
            "\r[*********************100%***********************]  1 of 1 completed\n"
          ],
          "name": "stdout"
        },
        {
          "output_type": "stream",
          "text": [
            "NOTE: Behavior of MACDH calculation has changed as of July 2017 - it is now 1/2 of previous calculated values\n"
          ],
          "name": "stderr"
        },
        {
          "output_type": "stream",
          "text": [
            "\r[*********************100%***********************]  1 of 1 completed\n",
            "\n",
            "1 Failed download:\n",
            "- NIRAJISPAT.NS: No data found for this date range, symbol may be delisted\n",
            "[*********************100%***********************]  1 of 1 completed"
          ],
          "name": "stdout"
        },
        {
          "output_type": "stream",
          "text": [
            "NOTE: Behavior of MACDH calculation has changed as of July 2017 - it is now 1/2 of previous calculated values\n"
          ],
          "name": "stderr"
        },
        {
          "output_type": "stream",
          "text": [
            "\n",
            "[*********************100%***********************]  1 of 1 completed\n"
          ],
          "name": "stdout"
        },
        {
          "output_type": "stream",
          "text": [
            "NOTE: Behavior of MACDH calculation has changed as of July 2017 - it is now 1/2 of previous calculated values\n"
          ],
          "name": "stderr"
        },
        {
          "output_type": "stream",
          "text": [
            "\r[*********************100%***********************]  1 of 1 completed"
          ],
          "name": "stdout"
        },
        {
          "output_type": "stream",
          "text": [
            "NOTE: Behavior of MACDH calculation has changed as of July 2017 - it is now 1/2 of previous calculated values\n"
          ],
          "name": "stderr"
        },
        {
          "output_type": "stream",
          "text": [
            "\n",
            "[*********************100%***********************]  1 of 1 completed"
          ],
          "name": "stdout"
        },
        {
          "output_type": "stream",
          "text": [
            "NOTE: Behavior of MACDH calculation has changed as of July 2017 - it is now 1/2 of previous calculated values\n"
          ],
          "name": "stderr"
        },
        {
          "output_type": "stream",
          "text": [
            "\n",
            "[*********************100%***********************]  1 of 1 completed"
          ],
          "name": "stdout"
        },
        {
          "output_type": "stream",
          "text": [
            "NOTE: Behavior of MACDH calculation has changed as of July 2017 - it is now 1/2 of previous calculated values\n"
          ],
          "name": "stderr"
        },
        {
          "output_type": "stream",
          "text": [
            "\n",
            "[*********************100%***********************]  1 of 1 completed"
          ],
          "name": "stdout"
        },
        {
          "output_type": "stream",
          "text": [
            "NOTE: Behavior of MACDH calculation has changed as of July 2017 - it is now 1/2 of previous calculated values\n"
          ],
          "name": "stderr"
        },
        {
          "output_type": "stream",
          "text": [
            "\n",
            "[*********************100%***********************]  1 of 1 completed"
          ],
          "name": "stdout"
        },
        {
          "output_type": "stream",
          "text": [
            "NOTE: Behavior of MACDH calculation has changed as of July 2017 - it is now 1/2 of previous calculated values\n"
          ],
          "name": "stderr"
        },
        {
          "output_type": "stream",
          "text": [
            "\n",
            "\r[*********************100%***********************]  1 of 1 completed\n"
          ],
          "name": "stdout"
        },
        {
          "output_type": "stream",
          "text": [
            "NOTE: Behavior of MACDH calculation has changed as of July 2017 - it is now 1/2 of previous calculated values\n"
          ],
          "name": "stderr"
        },
        {
          "output_type": "stream",
          "text": [
            "\r[*********************100%***********************]  1 of 1 completed"
          ],
          "name": "stdout"
        },
        {
          "output_type": "stream",
          "text": [
            "NOTE: Behavior of MACDH calculation has changed as of July 2017 - it is now 1/2 of previous calculated values\n"
          ],
          "name": "stderr"
        },
        {
          "output_type": "stream",
          "text": [
            "\n",
            "[*********************100%***********************]  1 of 1 completed"
          ],
          "name": "stdout"
        },
        {
          "output_type": "stream",
          "text": [
            "NOTE: Behavior of MACDH calculation has changed as of July 2017 - it is now 1/2 of previous calculated values\n"
          ],
          "name": "stderr"
        },
        {
          "output_type": "stream",
          "text": [
            "\n",
            "[*********************100%***********************]  1 of 1 completed"
          ],
          "name": "stdout"
        },
        {
          "output_type": "stream",
          "text": [
            "NOTE: Behavior of MACDH calculation has changed as of July 2017 - it is now 1/2 of previous calculated values\n"
          ],
          "name": "stderr"
        },
        {
          "output_type": "stream",
          "text": [
            "\n",
            "[*********************100%***********************]  1 of 1 completed"
          ],
          "name": "stdout"
        },
        {
          "output_type": "stream",
          "text": [
            "NOTE: Behavior of MACDH calculation has changed as of July 2017 - it is now 1/2 of previous calculated values\n"
          ],
          "name": "stderr"
        },
        {
          "output_type": "stream",
          "text": [
            "\n",
            "[*********************100%***********************]  1 of 1 completed"
          ],
          "name": "stdout"
        },
        {
          "output_type": "stream",
          "text": [
            "NOTE: Behavior of MACDH calculation has changed as of July 2017 - it is now 1/2 of previous calculated values\n"
          ],
          "name": "stderr"
        },
        {
          "output_type": "stream",
          "text": [
            "\n",
            "[*********************100%***********************]  1 of 1 completed"
          ],
          "name": "stdout"
        },
        {
          "output_type": "stream",
          "text": [
            "NOTE: Behavior of MACDH calculation has changed as of July 2017 - it is now 1/2 of previous calculated values\n"
          ],
          "name": "stderr"
        },
        {
          "output_type": "stream",
          "text": [
            "\n",
            "[*********************100%***********************]  1 of 1 completed"
          ],
          "name": "stdout"
        },
        {
          "output_type": "stream",
          "text": [
            "NOTE: Behavior of MACDH calculation has changed as of July 2017 - it is now 1/2 of previous calculated values\n"
          ],
          "name": "stderr"
        },
        {
          "output_type": "stream",
          "text": [
            "\n",
            "[*********************100%***********************]  1 of 1 completed"
          ],
          "name": "stdout"
        },
        {
          "output_type": "stream",
          "text": [
            "NOTE: Behavior of MACDH calculation has changed as of July 2017 - it is now 1/2 of previous calculated values\n"
          ],
          "name": "stderr"
        },
        {
          "output_type": "stream",
          "text": [
            "\n",
            "[*********************100%***********************]  1 of 1 completed"
          ],
          "name": "stdout"
        },
        {
          "output_type": "stream",
          "text": [
            "NOTE: Behavior of MACDH calculation has changed as of July 2017 - it is now 1/2 of previous calculated values\n"
          ],
          "name": "stderr"
        },
        {
          "output_type": "stream",
          "text": [
            "\n",
            "[*********************100%***********************]  1 of 1 completed"
          ],
          "name": "stdout"
        },
        {
          "output_type": "stream",
          "text": [
            "NOTE: Behavior of MACDH calculation has changed as of July 2017 - it is now 1/2 of previous calculated values\n"
          ],
          "name": "stderr"
        },
        {
          "output_type": "stream",
          "text": [
            "\n",
            "[*********************100%***********************]  1 of 1 completed"
          ],
          "name": "stdout"
        },
        {
          "output_type": "stream",
          "text": [
            "NOTE: Behavior of MACDH calculation has changed as of July 2017 - it is now 1/2 of previous calculated values\n"
          ],
          "name": "stderr"
        },
        {
          "output_type": "stream",
          "text": [
            "\n",
            "[*********************100%***********************]  1 of 1 completed"
          ],
          "name": "stdout"
        },
        {
          "output_type": "stream",
          "text": [
            "NOTE: Behavior of MACDH calculation has changed as of July 2017 - it is now 1/2 of previous calculated values\n"
          ],
          "name": "stderr"
        },
        {
          "output_type": "stream",
          "text": [
            "\n",
            "[*********************100%***********************]  1 of 1 completed"
          ],
          "name": "stdout"
        },
        {
          "output_type": "stream",
          "text": [
            "NOTE: Behavior of MACDH calculation has changed as of July 2017 - it is now 1/2 of previous calculated values\n"
          ],
          "name": "stderr"
        },
        {
          "output_type": "stream",
          "text": [
            "\n",
            "[*********************100%***********************]  1 of 1 completed"
          ],
          "name": "stdout"
        },
        {
          "output_type": "stream",
          "text": [
            "NOTE: Behavior of MACDH calculation has changed as of July 2017 - it is now 1/2 of previous calculated values\n"
          ],
          "name": "stderr"
        },
        {
          "output_type": "stream",
          "text": [
            "\n",
            "[*********************100%***********************]  1 of 1 completed"
          ],
          "name": "stdout"
        },
        {
          "output_type": "stream",
          "text": [
            "NOTE: Behavior of MACDH calculation has changed as of July 2017 - it is now 1/2 of previous calculated values\n"
          ],
          "name": "stderr"
        },
        {
          "output_type": "stream",
          "text": [
            "\n",
            "[*********************100%***********************]  1 of 1 completed"
          ],
          "name": "stdout"
        },
        {
          "output_type": "stream",
          "text": [
            "NOTE: Behavior of MACDH calculation has changed as of July 2017 - it is now 1/2 of previous calculated values\n"
          ],
          "name": "stderr"
        },
        {
          "output_type": "stream",
          "text": [
            "\n",
            "[*********************100%***********************]  1 of 1 completed"
          ],
          "name": "stdout"
        },
        {
          "output_type": "stream",
          "text": [
            "NOTE: Behavior of MACDH calculation has changed as of July 2017 - it is now 1/2 of previous calculated values\n"
          ],
          "name": "stderr"
        },
        {
          "output_type": "stream",
          "text": [
            "\n",
            "[*********************100%***********************]  1 of 1 completed"
          ],
          "name": "stdout"
        },
        {
          "output_type": "stream",
          "text": [
            "NOTE: Behavior of MACDH calculation has changed as of July 2017 - it is now 1/2 of previous calculated values\n"
          ],
          "name": "stderr"
        },
        {
          "output_type": "stream",
          "text": [
            "\n",
            "[*********************100%***********************]  1 of 1 completed"
          ],
          "name": "stdout"
        },
        {
          "output_type": "stream",
          "text": [
            "NOTE: Behavior of MACDH calculation has changed as of July 2017 - it is now 1/2 of previous calculated values\n"
          ],
          "name": "stderr"
        },
        {
          "output_type": "stream",
          "text": [
            "\n",
            "[*********************100%***********************]  1 of 1 completed"
          ],
          "name": "stdout"
        },
        {
          "output_type": "stream",
          "text": [
            "NOTE: Behavior of MACDH calculation has changed as of July 2017 - it is now 1/2 of previous calculated values\n"
          ],
          "name": "stderr"
        },
        {
          "output_type": "stream",
          "text": [
            "\n",
            "[*********************100%***********************]  1 of 1 completed"
          ],
          "name": "stdout"
        },
        {
          "output_type": "stream",
          "text": [
            "NOTE: Behavior of MACDH calculation has changed as of July 2017 - it is now 1/2 of previous calculated values\n"
          ],
          "name": "stderr"
        },
        {
          "output_type": "stream",
          "text": [
            "\n",
            "\r[*********************100%***********************]  1 of 1 completed\n"
          ],
          "name": "stdout"
        },
        {
          "output_type": "stream",
          "text": [
            "NOTE: Behavior of MACDH calculation has changed as of July 2017 - it is now 1/2 of previous calculated values\n"
          ],
          "name": "stderr"
        },
        {
          "output_type": "stream",
          "text": [
            "\r[*********************100%***********************]  1 of 1 completed"
          ],
          "name": "stdout"
        },
        {
          "output_type": "stream",
          "text": [
            "NOTE: Behavior of MACDH calculation has changed as of July 2017 - it is now 1/2 of previous calculated values\n"
          ],
          "name": "stderr"
        },
        {
          "output_type": "stream",
          "text": [
            "\n",
            "[*********************100%***********************]  1 of 1 completed"
          ],
          "name": "stdout"
        },
        {
          "output_type": "stream",
          "text": [
            "NOTE: Behavior of MACDH calculation has changed as of July 2017 - it is now 1/2 of previous calculated values\n"
          ],
          "name": "stderr"
        },
        {
          "output_type": "stream",
          "text": [
            "\n",
            "[*********************100%***********************]  1 of 1 completed"
          ],
          "name": "stdout"
        },
        {
          "output_type": "stream",
          "text": [
            "NOTE: Behavior of MACDH calculation has changed as of July 2017 - it is now 1/2 of previous calculated values\n"
          ],
          "name": "stderr"
        },
        {
          "output_type": "stream",
          "text": [
            "\n",
            "[*********************100%***********************]  1 of 1 completed"
          ],
          "name": "stdout"
        },
        {
          "output_type": "stream",
          "text": [
            "NOTE: Behavior of MACDH calculation has changed as of July 2017 - it is now 1/2 of previous calculated values\n"
          ],
          "name": "stderr"
        },
        {
          "output_type": "stream",
          "text": [
            "\n",
            "[*********************100%***********************]  1 of 1 completed"
          ],
          "name": "stdout"
        },
        {
          "output_type": "stream",
          "text": [
            "NOTE: Behavior of MACDH calculation has changed as of July 2017 - it is now 1/2 of previous calculated values\n"
          ],
          "name": "stderr"
        },
        {
          "output_type": "stream",
          "text": [
            "\n",
            "[*********************100%***********************]  1 of 1 completed"
          ],
          "name": "stdout"
        },
        {
          "output_type": "stream",
          "text": [
            "NOTE: Behavior of MACDH calculation has changed as of July 2017 - it is now 1/2 of previous calculated values\n"
          ],
          "name": "stderr"
        },
        {
          "output_type": "stream",
          "text": [
            "\n",
            "[*********************100%***********************]  1 of 1 completed"
          ],
          "name": "stdout"
        },
        {
          "output_type": "stream",
          "text": [
            "NOTE: Behavior of MACDH calculation has changed as of July 2017 - it is now 1/2 of previous calculated values\n"
          ],
          "name": "stderr"
        },
        {
          "output_type": "stream",
          "text": [
            "\n",
            "[*********************100%***********************]  1 of 1 completed"
          ],
          "name": "stdout"
        },
        {
          "output_type": "stream",
          "text": [
            "NOTE: Behavior of MACDH calculation has changed as of July 2017 - it is now 1/2 of previous calculated values\n"
          ],
          "name": "stderr"
        },
        {
          "output_type": "stream",
          "text": [
            "\n",
            "[*********************100%***********************]  1 of 1 completed"
          ],
          "name": "stdout"
        },
        {
          "output_type": "stream",
          "text": [
            "NOTE: Behavior of MACDH calculation has changed as of July 2017 - it is now 1/2 of previous calculated values\n"
          ],
          "name": "stderr"
        },
        {
          "output_type": "stream",
          "text": [
            "\n",
            "[*********************100%***********************]  1 of 1 completed"
          ],
          "name": "stdout"
        },
        {
          "output_type": "stream",
          "text": [
            "NOTE: Behavior of MACDH calculation has changed as of July 2017 - it is now 1/2 of previous calculated values\n"
          ],
          "name": "stderr"
        },
        {
          "output_type": "stream",
          "text": [
            "\n",
            "[*********************100%***********************]  1 of 1 completed"
          ],
          "name": "stdout"
        },
        {
          "output_type": "stream",
          "text": [
            "NOTE: Behavior of MACDH calculation has changed as of July 2017 - it is now 1/2 of previous calculated values\n"
          ],
          "name": "stderr"
        },
        {
          "output_type": "stream",
          "text": [
            "\n",
            "[*********************100%***********************]  1 of 1 completed"
          ],
          "name": "stdout"
        },
        {
          "output_type": "stream",
          "text": [
            "NOTE: Behavior of MACDH calculation has changed as of July 2017 - it is now 1/2 of previous calculated values\n"
          ],
          "name": "stderr"
        },
        {
          "output_type": "stream",
          "text": [
            "\n",
            "[*********************100%***********************]  1 of 1 completed"
          ],
          "name": "stdout"
        },
        {
          "output_type": "stream",
          "text": [
            "NOTE: Behavior of MACDH calculation has changed as of July 2017 - it is now 1/2 of previous calculated values\n"
          ],
          "name": "stderr"
        },
        {
          "output_type": "stream",
          "text": [
            "\n",
            "[*********************100%***********************]  1 of 1 completed"
          ],
          "name": "stdout"
        },
        {
          "output_type": "stream",
          "text": [
            "NOTE: Behavior of MACDH calculation has changed as of July 2017 - it is now 1/2 of previous calculated values\n"
          ],
          "name": "stderr"
        },
        {
          "output_type": "stream",
          "text": [
            "\n",
            "[*********************100%***********************]  1 of 1 completed"
          ],
          "name": "stdout"
        },
        {
          "output_type": "stream",
          "text": [
            "NOTE: Behavior of MACDH calculation has changed as of July 2017 - it is now 1/2 of previous calculated values\n"
          ],
          "name": "stderr"
        },
        {
          "output_type": "stream",
          "text": [
            "\n",
            "[*********************100%***********************]  1 of 1 completed"
          ],
          "name": "stdout"
        },
        {
          "output_type": "stream",
          "text": [
            "NOTE: Behavior of MACDH calculation has changed as of July 2017 - it is now 1/2 of previous calculated values\n"
          ],
          "name": "stderr"
        },
        {
          "output_type": "stream",
          "text": [
            "\n",
            "[*********************100%***********************]  1 of 1 completed"
          ],
          "name": "stdout"
        },
        {
          "output_type": "stream",
          "text": [
            "NOTE: Behavior of MACDH calculation has changed as of July 2017 - it is now 1/2 of previous calculated values\n"
          ],
          "name": "stderr"
        },
        {
          "output_type": "stream",
          "text": [
            "\n",
            "[*********************100%***********************]  1 of 1 completed"
          ],
          "name": "stdout"
        },
        {
          "output_type": "stream",
          "text": [
            "NOTE: Behavior of MACDH calculation has changed as of July 2017 - it is now 1/2 of previous calculated values\n"
          ],
          "name": "stderr"
        },
        {
          "output_type": "stream",
          "text": [
            "\n",
            "[*********************100%***********************]  1 of 1 completed"
          ],
          "name": "stdout"
        },
        {
          "output_type": "stream",
          "text": [
            "NOTE: Behavior of MACDH calculation has changed as of July 2017 - it is now 1/2 of previous calculated values\n"
          ],
          "name": "stderr"
        },
        {
          "output_type": "stream",
          "text": [
            "\n",
            "[*********************100%***********************]  1 of 1 completed"
          ],
          "name": "stdout"
        },
        {
          "output_type": "stream",
          "text": [
            "NOTE: Behavior of MACDH calculation has changed as of July 2017 - it is now 1/2 of previous calculated values\n"
          ],
          "name": "stderr"
        },
        {
          "output_type": "stream",
          "text": [
            "\n",
            "[*********************100%***********************]  1 of 1 completed"
          ],
          "name": "stdout"
        },
        {
          "output_type": "stream",
          "text": [
            "NOTE: Behavior of MACDH calculation has changed as of July 2017 - it is now 1/2 of previous calculated values\n"
          ],
          "name": "stderr"
        },
        {
          "output_type": "stream",
          "text": [
            "\n",
            "[*********************100%***********************]  1 of 1 completed"
          ],
          "name": "stdout"
        },
        {
          "output_type": "stream",
          "text": [
            "NOTE: Behavior of MACDH calculation has changed as of July 2017 - it is now 1/2 of previous calculated values\n"
          ],
          "name": "stderr"
        },
        {
          "output_type": "stream",
          "text": [
            "\n",
            "[*********************100%***********************]  1 of 1 completed"
          ],
          "name": "stdout"
        },
        {
          "output_type": "stream",
          "text": [
            "NOTE: Behavior of MACDH calculation has changed as of July 2017 - it is now 1/2 of previous calculated values\n"
          ],
          "name": "stderr"
        },
        {
          "output_type": "stream",
          "text": [
            "\n",
            "\r[*********************100%***********************]  1 of 1 completed\n"
          ],
          "name": "stdout"
        },
        {
          "output_type": "stream",
          "text": [
            "NOTE: Behavior of MACDH calculation has changed as of July 2017 - it is now 1/2 of previous calculated values\n"
          ],
          "name": "stderr"
        },
        {
          "output_type": "stream",
          "text": [
            "\r[*********************100%***********************]  1 of 1 completed\n"
          ],
          "name": "stdout"
        },
        {
          "output_type": "stream",
          "text": [
            "NOTE: Behavior of MACDH calculation has changed as of July 2017 - it is now 1/2 of previous calculated values\n"
          ],
          "name": "stderr"
        },
        {
          "output_type": "stream",
          "text": [
            "\r[*********************100%***********************]  1 of 1 completed"
          ],
          "name": "stdout"
        },
        {
          "output_type": "stream",
          "text": [
            "NOTE: Behavior of MACDH calculation has changed as of July 2017 - it is now 1/2 of previous calculated values\n"
          ],
          "name": "stderr"
        },
        {
          "output_type": "stream",
          "text": [
            "\n",
            "[*********************100%***********************]  1 of 1 completed"
          ],
          "name": "stdout"
        },
        {
          "output_type": "stream",
          "text": [
            "NOTE: Behavior of MACDH calculation has changed as of July 2017 - it is now 1/2 of previous calculated values\n"
          ],
          "name": "stderr"
        },
        {
          "output_type": "stream",
          "text": [
            "\n",
            "[*********************100%***********************]  1 of 1 completed"
          ],
          "name": "stdout"
        },
        {
          "output_type": "stream",
          "text": [
            "NOTE: Behavior of MACDH calculation has changed as of July 2017 - it is now 1/2 of previous calculated values\n"
          ],
          "name": "stderr"
        },
        {
          "output_type": "stream",
          "text": [
            "\n",
            "[*********************100%***********************]  1 of 1 completed"
          ],
          "name": "stdout"
        },
        {
          "output_type": "stream",
          "text": [
            "NOTE: Behavior of MACDH calculation has changed as of July 2017 - it is now 1/2 of previous calculated values\n"
          ],
          "name": "stderr"
        },
        {
          "output_type": "stream",
          "text": [
            "\n",
            "[*********************100%***********************]  1 of 1 completed"
          ],
          "name": "stdout"
        },
        {
          "output_type": "stream",
          "text": [
            "NOTE: Behavior of MACDH calculation has changed as of July 2017 - it is now 1/2 of previous calculated values\n"
          ],
          "name": "stderr"
        },
        {
          "output_type": "stream",
          "text": [
            "\n",
            "[*********************100%***********************]  1 of 1 completed"
          ],
          "name": "stdout"
        },
        {
          "output_type": "stream",
          "text": [
            "NOTE: Behavior of MACDH calculation has changed as of July 2017 - it is now 1/2 of previous calculated values\n"
          ],
          "name": "stderr"
        },
        {
          "output_type": "stream",
          "text": [
            "\n",
            "[*********************100%***********************]  1 of 1 completed"
          ],
          "name": "stdout"
        },
        {
          "output_type": "stream",
          "text": [
            "NOTE: Behavior of MACDH calculation has changed as of July 2017 - it is now 1/2 of previous calculated values\n"
          ],
          "name": "stderr"
        },
        {
          "output_type": "stream",
          "text": [
            "\n",
            "[*********************100%***********************]  1 of 1 completed"
          ],
          "name": "stdout"
        },
        {
          "output_type": "stream",
          "text": [
            "NOTE: Behavior of MACDH calculation has changed as of July 2017 - it is now 1/2 of previous calculated values\n"
          ],
          "name": "stderr"
        },
        {
          "output_type": "stream",
          "text": [
            "\n",
            "[*********************100%***********************]  1 of 1 completed"
          ],
          "name": "stdout"
        },
        {
          "output_type": "stream",
          "text": [
            "NOTE: Behavior of MACDH calculation has changed as of July 2017 - it is now 1/2 of previous calculated values\n"
          ],
          "name": "stderr"
        },
        {
          "output_type": "stream",
          "text": [
            "\n",
            "[*********************100%***********************]  1 of 1 completed"
          ],
          "name": "stdout"
        },
        {
          "output_type": "stream",
          "text": [
            "NOTE: Behavior of MACDH calculation has changed as of July 2017 - it is now 1/2 of previous calculated values\n"
          ],
          "name": "stderr"
        },
        {
          "output_type": "stream",
          "text": [
            "\n",
            "[*********************100%***********************]  1 of 1 completed"
          ],
          "name": "stdout"
        },
        {
          "output_type": "stream",
          "text": [
            "NOTE: Behavior of MACDH calculation has changed as of July 2017 - it is now 1/2 of previous calculated values\n"
          ],
          "name": "stderr"
        },
        {
          "output_type": "stream",
          "text": [
            "\n",
            "[*********************100%***********************]  1 of 1 completed"
          ],
          "name": "stdout"
        },
        {
          "output_type": "stream",
          "text": [
            "NOTE: Behavior of MACDH calculation has changed as of July 2017 - it is now 1/2 of previous calculated values\n"
          ],
          "name": "stderr"
        },
        {
          "output_type": "stream",
          "text": [
            "\n",
            "[*********************100%***********************]  1 of 1 completed"
          ],
          "name": "stdout"
        },
        {
          "output_type": "stream",
          "text": [
            "NOTE: Behavior of MACDH calculation has changed as of July 2017 - it is now 1/2 of previous calculated values\n"
          ],
          "name": "stderr"
        },
        {
          "output_type": "stream",
          "text": [
            "\n",
            "[*********************100%***********************]  1 of 1 completed"
          ],
          "name": "stdout"
        },
        {
          "output_type": "stream",
          "text": [
            "NOTE: Behavior of MACDH calculation has changed as of July 2017 - it is now 1/2 of previous calculated values\n"
          ],
          "name": "stderr"
        },
        {
          "output_type": "stream",
          "text": [
            "\n",
            "[*********************100%***********************]  1 of 1 completed"
          ],
          "name": "stdout"
        },
        {
          "output_type": "stream",
          "text": [
            "NOTE: Behavior of MACDH calculation has changed as of July 2017 - it is now 1/2 of previous calculated values\n"
          ],
          "name": "stderr"
        },
        {
          "output_type": "stream",
          "text": [
            "\n",
            "[*********************100%***********************]  1 of 1 completed"
          ],
          "name": "stdout"
        },
        {
          "output_type": "stream",
          "text": [
            "NOTE: Behavior of MACDH calculation has changed as of July 2017 - it is now 1/2 of previous calculated values\n"
          ],
          "name": "stderr"
        },
        {
          "output_type": "stream",
          "text": [
            "\n",
            "[*********************100%***********************]  1 of 1 completed"
          ],
          "name": "stdout"
        },
        {
          "output_type": "stream",
          "text": [
            "NOTE: Behavior of MACDH calculation has changed as of July 2017 - it is now 1/2 of previous calculated values\n"
          ],
          "name": "stderr"
        },
        {
          "output_type": "stream",
          "text": [
            "\n",
            "[*********************100%***********************]  1 of 1 completed"
          ],
          "name": "stdout"
        },
        {
          "output_type": "stream",
          "text": [
            "NOTE: Behavior of MACDH calculation has changed as of July 2017 - it is now 1/2 of previous calculated values\n"
          ],
          "name": "stderr"
        },
        {
          "output_type": "stream",
          "text": [
            "\n",
            "[*********************100%***********************]  1 of 1 completed"
          ],
          "name": "stdout"
        },
        {
          "output_type": "stream",
          "text": [
            "NOTE: Behavior of MACDH calculation has changed as of July 2017 - it is now 1/2 of previous calculated values\n"
          ],
          "name": "stderr"
        },
        {
          "output_type": "stream",
          "text": [
            "\n",
            "[*********************100%***********************]  1 of 1 completed"
          ],
          "name": "stdout"
        },
        {
          "output_type": "stream",
          "text": [
            "NOTE: Behavior of MACDH calculation has changed as of July 2017 - it is now 1/2 of previous calculated values\n"
          ],
          "name": "stderr"
        },
        {
          "output_type": "stream",
          "text": [
            "\n",
            "[*********************100%***********************]  1 of 1 completed"
          ],
          "name": "stdout"
        },
        {
          "output_type": "stream",
          "text": [
            "NOTE: Behavior of MACDH calculation has changed as of July 2017 - it is now 1/2 of previous calculated values\n"
          ],
          "name": "stderr"
        },
        {
          "output_type": "stream",
          "text": [
            "\n",
            "[*********************100%***********************]  1 of 1 completed"
          ],
          "name": "stdout"
        },
        {
          "output_type": "stream",
          "text": [
            "NOTE: Behavior of MACDH calculation has changed as of July 2017 - it is now 1/2 of previous calculated values\n"
          ],
          "name": "stderr"
        },
        {
          "output_type": "stream",
          "text": [
            "\n",
            "[*********************100%***********************]  1 of 1 completed"
          ],
          "name": "stdout"
        },
        {
          "output_type": "stream",
          "text": [
            "NOTE: Behavior of MACDH calculation has changed as of July 2017 - it is now 1/2 of previous calculated values\n"
          ],
          "name": "stderr"
        },
        {
          "output_type": "stream",
          "text": [
            "\n",
            "[*********************100%***********************]  1 of 1 completed"
          ],
          "name": "stdout"
        },
        {
          "output_type": "stream",
          "text": [
            "NOTE: Behavior of MACDH calculation has changed as of July 2017 - it is now 1/2 of previous calculated values\n"
          ],
          "name": "stderr"
        },
        {
          "output_type": "stream",
          "text": [
            "\n",
            "[*********************100%***********************]  1 of 1 completed"
          ],
          "name": "stdout"
        },
        {
          "output_type": "stream",
          "text": [
            "NOTE: Behavior of MACDH calculation has changed as of July 2017 - it is now 1/2 of previous calculated values\n"
          ],
          "name": "stderr"
        },
        {
          "output_type": "stream",
          "text": [
            "\n",
            "[*********************100%***********************]  1 of 1 completed"
          ],
          "name": "stdout"
        },
        {
          "output_type": "stream",
          "text": [
            "NOTE: Behavior of MACDH calculation has changed as of July 2017 - it is now 1/2 of previous calculated values\n"
          ],
          "name": "stderr"
        },
        {
          "output_type": "stream",
          "text": [
            "\n",
            "\r[*********************100%***********************]  1 of 1 completed\n"
          ],
          "name": "stdout"
        },
        {
          "output_type": "stream",
          "text": [
            "NOTE: Behavior of MACDH calculation has changed as of July 2017 - it is now 1/2 of previous calculated values\n"
          ],
          "name": "stderr"
        },
        {
          "output_type": "stream",
          "text": [
            "\r[*********************100%***********************]  1 of 1 completed"
          ],
          "name": "stdout"
        },
        {
          "output_type": "stream",
          "text": [
            "NOTE: Behavior of MACDH calculation has changed as of July 2017 - it is now 1/2 of previous calculated values\n"
          ],
          "name": "stderr"
        },
        {
          "output_type": "stream",
          "text": [
            "\n",
            "[*********************100%***********************]  1 of 1 completed"
          ],
          "name": "stdout"
        },
        {
          "output_type": "stream",
          "text": [
            "NOTE: Behavior of MACDH calculation has changed as of July 2017 - it is now 1/2 of previous calculated values\n"
          ],
          "name": "stderr"
        },
        {
          "output_type": "stream",
          "text": [
            "\n",
            "[*********************100%***********************]  1 of 1 completed"
          ],
          "name": "stdout"
        },
        {
          "output_type": "stream",
          "text": [
            "NOTE: Behavior of MACDH calculation has changed as of July 2017 - it is now 1/2 of previous calculated values\n"
          ],
          "name": "stderr"
        },
        {
          "output_type": "stream",
          "text": [
            "\n",
            "\r[*********************100%***********************]  1 of 1 completed\n"
          ],
          "name": "stdout"
        },
        {
          "output_type": "stream",
          "text": [
            "NOTE: Behavior of MACDH calculation has changed as of July 2017 - it is now 1/2 of previous calculated values\n"
          ],
          "name": "stderr"
        },
        {
          "output_type": "stream",
          "text": [
            "\r[*********************100%***********************]  1 of 1 completed\n"
          ],
          "name": "stdout"
        },
        {
          "output_type": "stream",
          "text": [
            "NOTE: Behavior of MACDH calculation has changed as of July 2017 - it is now 1/2 of previous calculated values\n"
          ],
          "name": "stderr"
        },
        {
          "output_type": "stream",
          "text": [
            "\r[*********************100%***********************]  1 of 1 completed"
          ],
          "name": "stdout"
        },
        {
          "output_type": "stream",
          "text": [
            "NOTE: Behavior of MACDH calculation has changed as of July 2017 - it is now 1/2 of previous calculated values\n"
          ],
          "name": "stderr"
        },
        {
          "output_type": "stream",
          "text": [
            "\n",
            "\r[*********************100%***********************]  1 of 1 completed\n"
          ],
          "name": "stdout"
        },
        {
          "output_type": "stream",
          "text": [
            "NOTE: Behavior of MACDH calculation has changed as of July 2017 - it is now 1/2 of previous calculated values\n"
          ],
          "name": "stderr"
        },
        {
          "output_type": "stream",
          "text": [
            "\r[*********************100%***********************]  1 of 1 completed"
          ],
          "name": "stdout"
        },
        {
          "output_type": "stream",
          "text": [
            "NOTE: Behavior of MACDH calculation has changed as of July 2017 - it is now 1/2 of previous calculated values\n"
          ],
          "name": "stderr"
        },
        {
          "output_type": "stream",
          "text": [
            "\n",
            "[*********************100%***********************]  1 of 1 completed"
          ],
          "name": "stdout"
        },
        {
          "output_type": "stream",
          "text": [
            "NOTE: Behavior of MACDH calculation has changed as of July 2017 - it is now 1/2 of previous calculated values\n"
          ],
          "name": "stderr"
        },
        {
          "output_type": "stream",
          "text": [
            "\n",
            "[*********************100%***********************]  1 of 1 completed"
          ],
          "name": "stdout"
        },
        {
          "output_type": "stream",
          "text": [
            "NOTE: Behavior of MACDH calculation has changed as of July 2017 - it is now 1/2 of previous calculated values\n"
          ],
          "name": "stderr"
        },
        {
          "output_type": "stream",
          "text": [
            "\n",
            "[*********************100%***********************]  1 of 1 completed"
          ],
          "name": "stdout"
        },
        {
          "output_type": "stream",
          "text": [
            "NOTE: Behavior of MACDH calculation has changed as of July 2017 - it is now 1/2 of previous calculated values\n"
          ],
          "name": "stderr"
        },
        {
          "output_type": "stream",
          "text": [
            "\n",
            "[*********************100%***********************]  1 of 1 completed"
          ],
          "name": "stdout"
        },
        {
          "output_type": "stream",
          "text": [
            "NOTE: Behavior of MACDH calculation has changed as of July 2017 - it is now 1/2 of previous calculated values\n"
          ],
          "name": "stderr"
        },
        {
          "output_type": "stream",
          "text": [
            "\n",
            "[*********************100%***********************]  1 of 1 completed"
          ],
          "name": "stdout"
        },
        {
          "output_type": "stream",
          "text": [
            "NOTE: Behavior of MACDH calculation has changed as of July 2017 - it is now 1/2 of previous calculated values\n"
          ],
          "name": "stderr"
        },
        {
          "output_type": "stream",
          "text": [
            "\n",
            "[*********************100%***********************]  1 of 1 completed"
          ],
          "name": "stdout"
        },
        {
          "output_type": "stream",
          "text": [
            "NOTE: Behavior of MACDH calculation has changed as of July 2017 - it is now 1/2 of previous calculated values\n"
          ],
          "name": "stderr"
        },
        {
          "output_type": "stream",
          "text": [
            "\n",
            "[*********************100%***********************]  1 of 1 completed"
          ],
          "name": "stdout"
        },
        {
          "output_type": "stream",
          "text": [
            "NOTE: Behavior of MACDH calculation has changed as of July 2017 - it is now 1/2 of previous calculated values\n"
          ],
          "name": "stderr"
        },
        {
          "output_type": "stream",
          "text": [
            "\n",
            "[*********************100%***********************]  1 of 1 completed"
          ],
          "name": "stdout"
        },
        {
          "output_type": "stream",
          "text": [
            "NOTE: Behavior of MACDH calculation has changed as of July 2017 - it is now 1/2 of previous calculated values\n"
          ],
          "name": "stderr"
        },
        {
          "output_type": "stream",
          "text": [
            "\n",
            "[*********************100%***********************]  1 of 1 completed"
          ],
          "name": "stdout"
        },
        {
          "output_type": "stream",
          "text": [
            "NOTE: Behavior of MACDH calculation has changed as of July 2017 - it is now 1/2 of previous calculated values\n"
          ],
          "name": "stderr"
        },
        {
          "output_type": "stream",
          "text": [
            "\n",
            "[*********************100%***********************]  1 of 1 completed"
          ],
          "name": "stdout"
        },
        {
          "output_type": "stream",
          "text": [
            "NOTE: Behavior of MACDH calculation has changed as of July 2017 - it is now 1/2 of previous calculated values\n"
          ],
          "name": "stderr"
        },
        {
          "output_type": "stream",
          "text": [
            "\n",
            "[*********************100%***********************]  1 of 1 completed"
          ],
          "name": "stdout"
        },
        {
          "output_type": "stream",
          "text": [
            "NOTE: Behavior of MACDH calculation has changed as of July 2017 - it is now 1/2 of previous calculated values\n"
          ],
          "name": "stderr"
        },
        {
          "output_type": "stream",
          "text": [
            "\n",
            "[*********************100%***********************]  1 of 1 completed"
          ],
          "name": "stdout"
        },
        {
          "output_type": "stream",
          "text": [
            "NOTE: Behavior of MACDH calculation has changed as of July 2017 - it is now 1/2 of previous calculated values\n"
          ],
          "name": "stderr"
        },
        {
          "output_type": "stream",
          "text": [
            "\n",
            "[*********************100%***********************]  1 of 1 completed"
          ],
          "name": "stdout"
        },
        {
          "output_type": "stream",
          "text": [
            "NOTE: Behavior of MACDH calculation has changed as of July 2017 - it is now 1/2 of previous calculated values\n"
          ],
          "name": "stderr"
        },
        {
          "output_type": "stream",
          "text": [
            "\n",
            "[*********************100%***********************]  1 of 1 completed"
          ],
          "name": "stdout"
        },
        {
          "output_type": "stream",
          "text": [
            "NOTE: Behavior of MACDH calculation has changed as of July 2017 - it is now 1/2 of previous calculated values\n"
          ],
          "name": "stderr"
        },
        {
          "output_type": "stream",
          "text": [
            "\n",
            "[*********************100%***********************]  1 of 1 completed"
          ],
          "name": "stdout"
        },
        {
          "output_type": "stream",
          "text": [
            "NOTE: Behavior of MACDH calculation has changed as of July 2017 - it is now 1/2 of previous calculated values\n"
          ],
          "name": "stderr"
        },
        {
          "output_type": "stream",
          "text": [
            "\n",
            "[*********************100%***********************]  1 of 1 completed"
          ],
          "name": "stdout"
        },
        {
          "output_type": "stream",
          "text": [
            "NOTE: Behavior of MACDH calculation has changed as of July 2017 - it is now 1/2 of previous calculated values\n"
          ],
          "name": "stderr"
        },
        {
          "output_type": "stream",
          "text": [
            "\n",
            "[*********************100%***********************]  1 of 1 completed"
          ],
          "name": "stdout"
        },
        {
          "output_type": "stream",
          "text": [
            "NOTE: Behavior of MACDH calculation has changed as of July 2017 - it is now 1/2 of previous calculated values\n"
          ],
          "name": "stderr"
        },
        {
          "output_type": "stream",
          "text": [
            "\n",
            "[*********************100%***********************]  1 of 1 completed"
          ],
          "name": "stdout"
        },
        {
          "output_type": "stream",
          "text": [
            "NOTE: Behavior of MACDH calculation has changed as of July 2017 - it is now 1/2 of previous calculated values\n"
          ],
          "name": "stderr"
        },
        {
          "output_type": "stream",
          "text": [
            "\n"
          ],
          "name": "stdout"
        }
      ]
    },
    {
      "cell_type": "code",
      "metadata": {
        "id": "4tST5UdGFpqo",
        "colab_type": "code",
        "outputId": "26a064ce-438b-4a18-c595-2da7ffca56bc",
        "colab": {
          "base_uri": "https://localhost:8080/",
          "height": 646
        }
      },
      "source": [
        "lss['name'].unique()"
      ],
      "execution_count": 0,
      "outputs": [
        {
          "output_type": "execute_result",
          "data": {
            "text/plain": [
              "array(['GRUH.NS', 'TBZ.NS', 'SUJANAUNI.NS', 'PCJEWELLER.NS', 'TARMAT.NS',\n",
              "       'THANGAMAYL.NS', 'NTL.NS', 'PRAJIND.NS', 'SUPREMEINF.NS',\n",
              "       'SUNDARAM.NS', 'TALWALKARS.NS', 'INDORAMA.NS', 'INOXLEISUR.NS',\n",
              "       'SATHAISPAT.NS', 'BERGEPAINT.NS', 'CENTENKA.NS', 'MADHAV.NS',\n",
              "       'TATAMETALI.NS', 'APARINDS.NS', 'JPINFRATEC.NS', 'IFBIND.NS',\n",
              "       'SOMANYCERA.NS', 'GMBREW.NS', 'GEECEE.NS', 'KARURVYSYA.NS',\n",
              "       'EIHOTEL.NS', 'RECLTD.NS', 'LAKSHVILAS.NS', 'CGPOWER.NS',\n",
              "       'GINNIFILA.NS', 'ROHLTD.NS', 'ATFL.NS', 'GPPL.NS', 'SIYSIL.NS',\n",
              "       'HEXAWARE.NS', 'EASUNREYRL.NS', 'BODALCHEM.NS', 'REGENCERAM.NS',\n",
              "       'TGBHOTELS.NS', 'BANSWRAS.NS', 'CRISIL.NS', 'PLASTIBLEN.NS',\n",
              "       'SPLIL.NS', 'SHRIRAMEPC.NS', 'BALAJITELE.NS', 'VINATIORGA.NS',\n",
              "       'ANDHRABANK.NS', 'GODREJCP.NS', 'TORNTPHARM.NS', 'PRSMJOHNSN.NS',\n",
              "       'NITINSPIN.NS', 'MARICO.NS', 'EVEREADY.NS', 'PVR.NS',\n",
              "       'EIDPARRY.NS', 'KAKATCEM.NS', 'STCINDIA.NS', 'ADVANIHOTR.NS',\n",
              "       'NESTLEIND.NS', 'CENTEXT.NS', 'AMJLAND.NS', 'KPRMILL.NS',\n",
              "       'GANESHHOUC.NS', 'CADILAHC.NS', 'JISLJALEQS.NS', 'RALLIS.NS',\n",
              "       'IOLCP.NS', 'SHILPAMED.NS', 'KESARENT.NS', 'SYMPHONY.NS',\n",
              "       'JVLAGRO.NS', 'MUNJALSHOW.NS', 'MRPL.NS', 'ALKYLAMINE.NS',\n",
              "       'DBREALTY.NS', 'CHOLAFIN.NS', 'TV18BRDCST.NS', 'RENUKA.NS',\n",
              "       'RKDL.NS', 'IBREALEST.NS', 'MUTHOOTFIN.NS', 'CEREBRAINT.NS',\n",
              "       'LOKESHMACH.NS', 'MANUGRAPH.NS', 'VEDL.NS', 'LYPSAGEMS.NS',\n",
              "       'IOB.NS', 'STAR.NS', 'L&TFH.NS', 'JAINSTUDIO.NS', 'RBL.NS',\n",
              "       'SIMBHALS.NS', 'PRESSMN.NS', 'KEC.NS', 'MAHINDCIE.NS',\n",
              "       'POLYMED.NS', 'MAANALU.NS', 'XLENERGY.NS', 'BILENERGY.NS',\n",
              "       'OFSS.NS', 'RTNINFRA.NS', 'MERCATOR.NS', 'HINDNATGLS.NS',\n",
              "       'KIRLOSIND.NS', 'GODREJIND.NS', 'BAGFILMS.NS', 'JINDALPHOT.NS',\n",
              "       'JMFINANCIL.NS', 'RAJESHEXPO.NS', 'TFCILTD.NS', 'UTTAMSTL.NS',\n",
              "       'SONATSOFTW.NS', 'SBIN.NS', 'JKTYRE.NS', 'TEXINFRA.NS',\n",
              "       'IPAPPM.NS', 'EON.NS', 'ASHIMASYN.NS', 'KABRAEXTRU.NS',\n",
              "       'BAYERCROP.NS', 'MAGNUM.NS', 'A2ZINFRA.NS', 'SAREGAMA.NS',\n",
              "       'TIMKEN.NS', 'TVSMOTOR.NS', 'INDSWFTLTD.NS', 'AUTOAXLES.NS',\n",
              "       'MANINFRA.NS', 'CINELINE.NS', 'DEEPIND.NS', 'LAKPRE.NS',\n",
              "       'SREINFRA.NS', 'SAMBHAAV.NS', 'VASCONEQ.NS', 'RELIGARE.NS',\n",
              "       '3MINDIA.NS', '8KMILES.NS', 'APLAPOLLO.NS', 'VISAKAIND.NS',\n",
              "       'ANDHRACEMT.NS', 'MEGASOFT.NS', 'MARKSANS.NS', 'JOCIL.NS',\n",
              "       'BAJAJFINSV.NS', 'IBVENTURES.NS', 'JPASSOCIAT.NS', 'BOMDYEING.NS',\n",
              "       'BAJFINANCE.NS'], dtype=object)"
            ]
          },
          "metadata": {
            "tags": []
          },
          "execution_count": 7
        }
      ]
    },
    {
      "cell_type": "markdown",
      "metadata": {
        "id": "osl5agJRFpqz",
        "colab_type": "text"
      },
      "source": [
        "### Technical Indicators"
      ]
    },
    {
      "cell_type": "code",
      "metadata": {
        "id": "ZeHgZwnAFpry",
        "colab_type": "code",
        "outputId": "aaf1bd73-bba6-4460-9d7c-e9e814453af4",
        "colab": {
          "base_uri": "https://localhost:8080/",
          "height": 1000
        }
      },
      "source": [
        "stock=lss\n",
        "stock.corr()"
      ],
      "execution_count": 0,
      "outputs": [
        {
          "output_type": "execute_result",
          "data": {
            "text/html": [
              "<div>\n",
              "<style scoped>\n",
              "    .dataframe tbody tr th:only-of-type {\n",
              "        vertical-align: middle;\n",
              "    }\n",
              "\n",
              "    .dataframe tbody tr th {\n",
              "        vertical-align: top;\n",
              "    }\n",
              "\n",
              "    .dataframe thead th {\n",
              "        text-align: right;\n",
              "    }\n",
              "</style>\n",
              "<table border=\"1\" class=\"dataframe\">\n",
              "  <thead>\n",
              "    <tr style=\"text-align: right;\">\n",
              "      <th></th>\n",
              "      <th>open</th>\n",
              "      <th>high</th>\n",
              "      <th>low</th>\n",
              "      <th>close</th>\n",
              "      <th>adj close</th>\n",
              "      <th>volume</th>\n",
              "      <th>returns</th>\n",
              "      <th>high_delta</th>\n",
              "      <th>um</th>\n",
              "      <th>low_delta</th>\n",
              "      <th>dm</th>\n",
              "      <th>pdm</th>\n",
              "      <th>pdm_14_ema</th>\n",
              "      <th>pdm_14</th>\n",
              "      <th>close_-1_s</th>\n",
              "      <th>tr</th>\n",
              "      <th>atr_14</th>\n",
              "      <th>pdi_14</th>\n",
              "      <th>pdi</th>\n",
              "      <th>mdm</th>\n",
              "      <th>mdm_14_ema</th>\n",
              "      <th>mdm_14</th>\n",
              "      <th>mdi_14</th>\n",
              "      <th>mdi</th>\n",
              "      <th>dx_14</th>\n",
              "      <th>dx</th>\n",
              "      <th>dx_6_ema</th>\n",
              "      <th>adx</th>\n",
              "      <th>adx_6_ema</th>\n",
              "      <th>adxr</th>\n",
              "      <th>macd</th>\n",
              "      <th>macds</th>\n",
              "      <th>macdh</th>\n",
              "      <th>close_-1_d</th>\n",
              "      <th>rs_6</th>\n",
              "      <th>rsi_6</th>\n",
              "    </tr>\n",
              "  </thead>\n",
              "  <tbody>\n",
              "    <tr>\n",
              "      <th>open</th>\n",
              "      <td>1.000000</td>\n",
              "      <td>0.999859</td>\n",
              "      <td>0.999893</td>\n",
              "      <td>0.999814</td>\n",
              "      <td>0.999494</td>\n",
              "      <td>-0.039059</td>\n",
              "      <td>0.001751</td>\n",
              "      <td>0.032735</td>\n",
              "      <td>0.386032</td>\n",
              "      <td>0.035964</td>\n",
              "      <td>0.422365</td>\n",
              "      <td>0.374168</td>\n",
              "      <td>0.811134</td>\n",
              "      <td>0.811134</td>\n",
              "      <td>0.999960</td>\n",
              "      <td>0.826198</td>\n",
              "      <td>0.962899</td>\n",
              "      <td>-0.003630</td>\n",
              "      <td>-0.003630</td>\n",
              "      <td>0.408101</td>\n",
              "      <td>0.797063</td>\n",
              "      <td>0.797063</td>\n",
              "      <td>-0.037338</td>\n",
              "      <td>-0.037338</td>\n",
              "      <td>0.005531</td>\n",
              "      <td>0.005531</td>\n",
              "      <td>0.007118</td>\n",
              "      <td>0.007118</td>\n",
              "      <td>0.007385</td>\n",
              "      <td>0.007385</td>\n",
              "      <td>0.281567</td>\n",
              "      <td>0.305665</td>\n",
              "      <td>-0.015230</td>\n",
              "      <td>0.027287</td>\n",
              "      <td>-0.002288</td>\n",
              "      <td>0.041372</td>\n",
              "    </tr>\n",
              "    <tr>\n",
              "      <th>high</th>\n",
              "      <td>0.999859</td>\n",
              "      <td>1.000000</td>\n",
              "      <td>0.999824</td>\n",
              "      <td>0.999926</td>\n",
              "      <td>0.999613</td>\n",
              "      <td>-0.038969</td>\n",
              "      <td>0.004210</td>\n",
              "      <td>0.044853</td>\n",
              "      <td>0.398809</td>\n",
              "      <td>0.040352</td>\n",
              "      <td>0.420308</td>\n",
              "      <td>0.386952</td>\n",
              "      <td>0.816032</td>\n",
              "      <td>0.816032</td>\n",
              "      <td>0.999843</td>\n",
              "      <td>0.832448</td>\n",
              "      <td>0.963962</td>\n",
              "      <td>-0.001648</td>\n",
              "      <td>-0.001648</td>\n",
              "      <td>0.405724</td>\n",
              "      <td>0.796917</td>\n",
              "      <td>0.796917</td>\n",
              "      <td>-0.037832</td>\n",
              "      <td>-0.037832</td>\n",
              "      <td>0.006488</td>\n",
              "      <td>0.006488</td>\n",
              "      <td>0.007730</td>\n",
              "      <td>0.007730</td>\n",
              "      <td>0.007796</td>\n",
              "      <td>0.007796</td>\n",
              "      <td>0.283169</td>\n",
              "      <td>0.306337</td>\n",
              "      <td>-0.012062</td>\n",
              "      <td>0.039020</td>\n",
              "      <td>-0.002285</td>\n",
              "      <td>0.043134</td>\n",
              "    </tr>\n",
              "    <tr>\n",
              "      <th>low</th>\n",
              "      <td>0.999893</td>\n",
              "      <td>0.999824</td>\n",
              "      <td>1.000000</td>\n",
              "      <td>0.999891</td>\n",
              "      <td>0.999551</td>\n",
              "      <td>-0.039110</td>\n",
              "      <td>0.003548</td>\n",
              "      <td>0.037026</td>\n",
              "      <td>0.388052</td>\n",
              "      <td>0.043650</td>\n",
              "      <td>0.412788</td>\n",
              "      <td>0.376366</td>\n",
              "      <td>0.810468</td>\n",
              "      <td>0.810468</td>\n",
              "      <td>0.999882</td>\n",
              "      <td>0.822026</td>\n",
              "      <td>0.961607</td>\n",
              "      <td>-0.003369</td>\n",
              "      <td>-0.003369</td>\n",
              "      <td>0.398567</td>\n",
              "      <td>0.792755</td>\n",
              "      <td>0.792755</td>\n",
              "      <td>-0.039009</td>\n",
              "      <td>-0.039009</td>\n",
              "      <td>0.005136</td>\n",
              "      <td>0.005136</td>\n",
              "      <td>0.006710</td>\n",
              "      <td>0.006710</td>\n",
              "      <td>0.007038</td>\n",
              "      <td>0.007038</td>\n",
              "      <td>0.282160</td>\n",
              "      <td>0.305691</td>\n",
              "      <td>-0.013376</td>\n",
              "      <td>0.035218</td>\n",
              "      <td>-0.002279</td>\n",
              "      <td>0.042754</td>\n",
              "    </tr>\n",
              "    <tr>\n",
              "      <th>close</th>\n",
              "      <td>0.999814</td>\n",
              "      <td>0.999926</td>\n",
              "      <td>0.999891</td>\n",
              "      <td>1.000000</td>\n",
              "      <td>0.999670</td>\n",
              "      <td>-0.038994</td>\n",
              "      <td>0.005532</td>\n",
              "      <td>0.044398</td>\n",
              "      <td>0.396906</td>\n",
              "      <td>0.043186</td>\n",
              "      <td>0.415659</td>\n",
              "      <td>0.385141</td>\n",
              "      <td>0.813771</td>\n",
              "      <td>0.813771</td>\n",
              "      <td>0.999811</td>\n",
              "      <td>0.828314</td>\n",
              "      <td>0.962695</td>\n",
              "      <td>-0.002136</td>\n",
              "      <td>-0.002136</td>\n",
              "      <td>0.401205</td>\n",
              "      <td>0.794466</td>\n",
              "      <td>0.794466</td>\n",
              "      <td>-0.038670</td>\n",
              "      <td>-0.038670</td>\n",
              "      <td>0.005973</td>\n",
              "      <td>0.005973</td>\n",
              "      <td>0.007252</td>\n",
              "      <td>0.007252</td>\n",
              "      <td>0.007401</td>\n",
              "      <td>0.007401</td>\n",
              "      <td>0.282565</td>\n",
              "      <td>0.305532</td>\n",
              "      <td>-0.011572</td>\n",
              "      <td>0.044480</td>\n",
              "      <td>-0.002276</td>\n",
              "      <td>0.044041</td>\n",
              "    </tr>\n",
              "    <tr>\n",
              "      <th>adj close</th>\n",
              "      <td>0.999494</td>\n",
              "      <td>0.999613</td>\n",
              "      <td>0.999551</td>\n",
              "      <td>0.999670</td>\n",
              "      <td>1.000000</td>\n",
              "      <td>-0.038476</td>\n",
              "      <td>0.005445</td>\n",
              "      <td>0.044492</td>\n",
              "      <td>0.397267</td>\n",
              "      <td>0.043258</td>\n",
              "      <td>0.416054</td>\n",
              "      <td>0.385527</td>\n",
              "      <td>0.814641</td>\n",
              "      <td>0.814641</td>\n",
              "      <td>0.999480</td>\n",
              "      <td>0.828816</td>\n",
              "      <td>0.963273</td>\n",
              "      <td>-0.001911</td>\n",
              "      <td>-0.001911</td>\n",
              "      <td>0.401581</td>\n",
              "      <td>0.795196</td>\n",
              "      <td>0.795196</td>\n",
              "      <td>-0.037833</td>\n",
              "      <td>-0.037833</td>\n",
              "      <td>0.006195</td>\n",
              "      <td>0.006195</td>\n",
              "      <td>0.007508</td>\n",
              "      <td>0.007508</td>\n",
              "      <td>0.007642</td>\n",
              "      <td>0.007642</td>\n",
              "      <td>0.283652</td>\n",
              "      <td>0.306777</td>\n",
              "      <td>-0.011831</td>\n",
              "      <td>0.044571</td>\n",
              "      <td>-0.002240</td>\n",
              "      <td>0.043267</td>\n",
              "    </tr>\n",
              "    <tr>\n",
              "      <th>volume</th>\n",
              "      <td>-0.039059</td>\n",
              "      <td>-0.038969</td>\n",
              "      <td>-0.039110</td>\n",
              "      <td>-0.038994</td>\n",
              "      <td>-0.038476</td>\n",
              "      <td>1.000000</td>\n",
              "      <td>0.042773</td>\n",
              "      <td>0.004369</td>\n",
              "      <td>-0.007857</td>\n",
              "      <td>-0.001159</td>\n",
              "      <td>-0.011443</td>\n",
              "      <td>-0.007479</td>\n",
              "      <td>-0.029331</td>\n",
              "      <td>-0.029331</td>\n",
              "      <td>-0.039065</td>\n",
              "      <td>-0.027556</td>\n",
              "      <td>-0.039700</td>\n",
              "      <td>0.068186</td>\n",
              "      <td>0.068186</td>\n",
              "      <td>-0.010882</td>\n",
              "      <td>-0.028087</td>\n",
              "      <td>-0.028087</td>\n",
              "      <td>0.049279</td>\n",
              "      <td>0.049279</td>\n",
              "      <td>0.054647</td>\n",
              "      <td>0.054647</td>\n",
              "      <td>0.049628</td>\n",
              "      <td>0.049628</td>\n",
              "      <td>0.042477</td>\n",
              "      <td>0.042477</td>\n",
              "      <td>-0.008910</td>\n",
              "      <td>-0.009889</td>\n",
              "      <td>0.001144</td>\n",
              "      <td>0.002382</td>\n",
              "      <td>0.000373</td>\n",
              "      <td>0.035418</td>\n",
              "    </tr>\n",
              "    <tr>\n",
              "      <th>returns</th>\n",
              "      <td>0.001751</td>\n",
              "      <td>0.004210</td>\n",
              "      <td>0.003548</td>\n",
              "      <td>0.005532</td>\n",
              "      <td>0.005445</td>\n",
              "      <td>0.042773</td>\n",
              "      <td>1.000000</td>\n",
              "      <td>0.154257</td>\n",
              "      <td>0.135761</td>\n",
              "      <td>0.123281</td>\n",
              "      <td>-0.104905</td>\n",
              "      <td>0.137254</td>\n",
              "      <td>0.039010</td>\n",
              "      <td>0.039010</td>\n",
              "      <td>0.001200</td>\n",
              "      <td>0.024584</td>\n",
              "      <td>0.002674</td>\n",
              "      <td>0.293524</td>\n",
              "      <td>0.293524</td>\n",
              "      <td>-0.107633</td>\n",
              "      <td>-0.029465</td>\n",
              "      <td>-0.029465</td>\n",
              "      <td>-0.249640</td>\n",
              "      <td>-0.249640</td>\n",
              "      <td>0.065350</td>\n",
              "      <td>0.065350</td>\n",
              "      <td>0.030235</td>\n",
              "      <td>0.030235</td>\n",
              "      <td>0.016128</td>\n",
              "      <td>0.016128</td>\n",
              "      <td>0.014178</td>\n",
              "      <td>0.001476</td>\n",
              "      <td>0.041659</td>\n",
              "      <td>0.222719</td>\n",
              "      <td>0.013219</td>\n",
              "      <td>0.475569</td>\n",
              "    </tr>\n",
              "    <tr>\n",
              "      <th>high_delta</th>\n",
              "      <td>0.032735</td>\n",
              "      <td>0.044853</td>\n",
              "      <td>0.037026</td>\n",
              "      <td>0.044398</td>\n",
              "      <td>0.044492</td>\n",
              "      <td>0.004369</td>\n",
              "      <td>0.154257</td>\n",
              "      <td>1.000000</td>\n",
              "      <td>0.822844</td>\n",
              "      <td>0.438141</td>\n",
              "      <td>-0.304823</td>\n",
              "      <td>0.819759</td>\n",
              "      <td>0.230978</td>\n",
              "      <td>0.230978</td>\n",
              "      <td>0.030726</td>\n",
              "      <td>0.260809</td>\n",
              "      <td>0.025140</td>\n",
              "      <td>0.119305</td>\n",
              "      <td>0.119305</td>\n",
              "      <td>-0.326715</td>\n",
              "      <td>-0.136281</td>\n",
              "      <td>-0.136281</td>\n",
              "      <td>-0.090448</td>\n",
              "      <td>-0.090448</td>\n",
              "      <td>0.032335</td>\n",
              "      <td>0.032335</td>\n",
              "      <td>0.007167</td>\n",
              "      <td>0.007167</td>\n",
              "      <td>-0.001441</td>\n",
              "      <td>-0.001441</td>\n",
              "      <td>0.073178</td>\n",
              "      <td>0.007052</td>\n",
              "      <td>0.216751</td>\n",
              "      <td>0.703919</td>\n",
              "      <td>0.000687</td>\n",
              "      <td>0.142836</td>\n",
              "    </tr>\n",
              "    <tr>\n",
              "      <th>um</th>\n",
              "      <td>0.386032</td>\n",
              "      <td>0.398809</td>\n",
              "      <td>0.388052</td>\n",
              "      <td>0.396906</td>\n",
              "      <td>0.397267</td>\n",
              "      <td>-0.007857</td>\n",
              "      <td>0.135761</td>\n",
              "      <td>0.822844</td>\n",
              "      <td>1.000000</td>\n",
              "      <td>0.314862</td>\n",
              "      <td>0.023179</td>\n",
              "      <td>0.996768</td>\n",
              "      <td>0.587797</td>\n",
              "      <td>0.587797</td>\n",
              "      <td>0.384632</td>\n",
              "      <td>0.649633</td>\n",
              "      <td>0.405424</td>\n",
              "      <td>0.132656</td>\n",
              "      <td>0.132656</td>\n",
              "      <td>-0.000999</td>\n",
              "      <td>0.250864</td>\n",
              "      <td>0.250864</td>\n",
              "      <td>-0.060962</td>\n",
              "      <td>-0.060962</td>\n",
              "      <td>0.053828</td>\n",
              "      <td>0.053828</td>\n",
              "      <td>0.027392</td>\n",
              "      <td>0.027392</td>\n",
              "      <td>0.015363</td>\n",
              "      <td>0.015363</td>\n",
              "      <td>0.180062</td>\n",
              "      <td>0.130789</td>\n",
              "      <td>0.187479</td>\n",
              "      <td>0.644334</td>\n",
              "      <td>-0.000355</td>\n",
              "      <td>0.125530</td>\n",
              "    </tr>\n",
              "    <tr>\n",
              "      <th>low_delta</th>\n",
              "      <td>0.035964</td>\n",
              "      <td>0.040352</td>\n",
              "      <td>0.043650</td>\n",
              "      <td>0.043186</td>\n",
              "      <td>0.043258</td>\n",
              "      <td>-0.001159</td>\n",
              "      <td>0.123281</td>\n",
              "      <td>0.438141</td>\n",
              "      <td>0.314862</td>\n",
              "      <td>1.000000</td>\n",
              "      <td>-0.699776</td>\n",
              "      <td>0.328113</td>\n",
              "      <td>0.205338</td>\n",
              "      <td>0.205338</td>\n",
              "      <td>0.033367</td>\n",
              "      <td>-0.064588</td>\n",
              "      <td>0.032424</td>\n",
              "      <td>0.100375</td>\n",
              "      <td>0.100375</td>\n",
              "      <td>-0.695014</td>\n",
              "      <td>-0.168096</td>\n",
              "      <td>-0.168096</td>\n",
              "      <td>-0.112519</td>\n",
              "      <td>-0.112519</td>\n",
              "      <td>0.028379</td>\n",
              "      <td>0.028379</td>\n",
              "      <td>0.016679</td>\n",
              "      <td>0.016679</td>\n",
              "      <td>0.007188</td>\n",
              "      <td>0.007188</td>\n",
              "      <td>0.087921</td>\n",
              "      <td>0.015874</td>\n",
              "      <td>0.237854</td>\n",
              "      <td>0.505910</td>\n",
              "      <td>0.000614</td>\n",
              "      <td>0.142751</td>\n",
              "    </tr>\n",
              "    <tr>\n",
              "      <th>dm</th>\n",
              "      <td>0.422365</td>\n",
              "      <td>0.420308</td>\n",
              "      <td>0.412788</td>\n",
              "      <td>0.415659</td>\n",
              "      <td>0.416054</td>\n",
              "      <td>-0.011443</td>\n",
              "      <td>-0.104905</td>\n",
              "      <td>-0.304823</td>\n",
              "      <td>0.023179</td>\n",
              "      <td>-0.699776</td>\n",
              "      <td>1.000000</td>\n",
              "      <td>0.005850</td>\n",
              "      <td>0.315183</td>\n",
              "      <td>0.315183</td>\n",
              "      <td>0.424420</td>\n",
              "      <td>0.582864</td>\n",
              "      <td>0.452964</td>\n",
              "      <td>-0.042762</td>\n",
              "      <td>-0.042762</td>\n",
              "      <td>0.993927</td>\n",
              "      <td>0.609499</td>\n",
              "      <td>0.609499</td>\n",
              "      <td>0.120246</td>\n",
              "      <td>0.120246</td>\n",
              "      <td>0.014837</td>\n",
              "      <td>0.014837</td>\n",
              "      <td>0.016478</td>\n",
              "      <td>0.016478</td>\n",
              "      <td>0.015824</td>\n",
              "      <td>0.015824</td>\n",
              "      <td>0.078565</td>\n",
              "      <td>0.132214</td>\n",
              "      <td>-0.147323</td>\n",
              "      <td>-0.435662</td>\n",
              "      <td>-0.001458</td>\n",
              "      <td>-0.084646</td>\n",
              "    </tr>\n",
              "    <tr>\n",
              "      <th>pdm</th>\n",
              "      <td>0.374168</td>\n",
              "      <td>0.386952</td>\n",
              "      <td>0.376366</td>\n",
              "      <td>0.385141</td>\n",
              "      <td>0.385527</td>\n",
              "      <td>-0.007479</td>\n",
              "      <td>0.137254</td>\n",
              "      <td>0.819759</td>\n",
              "      <td>0.996768</td>\n",
              "      <td>0.328113</td>\n",
              "      <td>0.005850</td>\n",
              "      <td>1.000000</td>\n",
              "      <td>0.582057</td>\n",
              "      <td>0.582057</td>\n",
              "      <td>0.372783</td>\n",
              "      <td>0.635302</td>\n",
              "      <td>0.393879</td>\n",
              "      <td>0.135002</td>\n",
              "      <td>0.135002</td>\n",
              "      <td>-0.018406</td>\n",
              "      <td>0.237968</td>\n",
              "      <td>0.237968</td>\n",
              "      <td>-0.063056</td>\n",
              "      <td>-0.063056</td>\n",
              "      <td>0.054184</td>\n",
              "      <td>0.054184</td>\n",
              "      <td>0.027326</td>\n",
              "      <td>0.027326</td>\n",
              "      <td>0.015131</td>\n",
              "      <td>0.015131</td>\n",
              "      <td>0.179395</td>\n",
              "      <td>0.129138</td>\n",
              "      <td>0.190341</td>\n",
              "      <td>0.649572</td>\n",
              "      <td>-0.000324</td>\n",
              "      <td>0.126293</td>\n",
              "    </tr>\n",
              "    <tr>\n",
              "      <th>pdm_14_ema</th>\n",
              "      <td>0.811134</td>\n",
              "      <td>0.816032</td>\n",
              "      <td>0.810468</td>\n",
              "      <td>0.813771</td>\n",
              "      <td>0.814641</td>\n",
              "      <td>-0.029331</td>\n",
              "      <td>0.039010</td>\n",
              "      <td>0.230978</td>\n",
              "      <td>0.587797</td>\n",
              "      <td>0.205338</td>\n",
              "      <td>0.315183</td>\n",
              "      <td>0.582057</td>\n",
              "      <td>1.000000</td>\n",
              "      <td>1.000000</td>\n",
              "      <td>0.810643</td>\n",
              "      <td>0.840955</td>\n",
              "      <td>0.852542</td>\n",
              "      <td>0.147611</td>\n",
              "      <td>0.147611</td>\n",
              "      <td>0.299594</td>\n",
              "      <td>0.595569</td>\n",
              "      <td>0.595569</td>\n",
              "      <td>-0.091283</td>\n",
              "      <td>-0.091283</td>\n",
              "      <td>0.049001</td>\n",
              "      <td>0.049001</td>\n",
              "      <td>0.053375</td>\n",
              "      <td>0.053375</td>\n",
              "      <td>0.049632</td>\n",
              "      <td>0.049632</td>\n",
              "      <td>0.531330</td>\n",
              "      <td>0.455313</td>\n",
              "      <td>0.341687</td>\n",
              "      <td>0.192792</td>\n",
              "      <td>-0.001515</td>\n",
              "      <td>0.141915</td>\n",
              "    </tr>\n",
              "    <tr>\n",
              "      <th>pdm_14</th>\n",
              "      <td>0.811134</td>\n",
              "      <td>0.816032</td>\n",
              "      <td>0.810468</td>\n",
              "      <td>0.813771</td>\n",
              "      <td>0.814641</td>\n",
              "      <td>-0.029331</td>\n",
              "      <td>0.039010</td>\n",
              "      <td>0.230978</td>\n",
              "      <td>0.587797</td>\n",
              "      <td>0.205338</td>\n",
              "      <td>0.315183</td>\n",
              "      <td>0.582057</td>\n",
              "      <td>1.000000</td>\n",
              "      <td>1.000000</td>\n",
              "      <td>0.810643</td>\n",
              "      <td>0.840955</td>\n",
              "      <td>0.852542</td>\n",
              "      <td>0.147611</td>\n",
              "      <td>0.147611</td>\n",
              "      <td>0.299594</td>\n",
              "      <td>0.595569</td>\n",
              "      <td>0.595569</td>\n",
              "      <td>-0.091283</td>\n",
              "      <td>-0.091283</td>\n",
              "      <td>0.049001</td>\n",
              "      <td>0.049001</td>\n",
              "      <td>0.053375</td>\n",
              "      <td>0.053375</td>\n",
              "      <td>0.049632</td>\n",
              "      <td>0.049632</td>\n",
              "      <td>0.531330</td>\n",
              "      <td>0.455313</td>\n",
              "      <td>0.341687</td>\n",
              "      <td>0.192792</td>\n",
              "      <td>-0.001515</td>\n",
              "      <td>0.141915</td>\n",
              "    </tr>\n",
              "    <tr>\n",
              "      <th>close_-1_s</th>\n",
              "      <td>0.999960</td>\n",
              "      <td>0.999843</td>\n",
              "      <td>0.999882</td>\n",
              "      <td>0.999811</td>\n",
              "      <td>0.999480</td>\n",
              "      <td>-0.039065</td>\n",
              "      <td>0.001200</td>\n",
              "      <td>0.030726</td>\n",
              "      <td>0.384632</td>\n",
              "      <td>0.033367</td>\n",
              "      <td>0.424420</td>\n",
              "      <td>0.372783</td>\n",
              "      <td>0.810643</td>\n",
              "      <td>0.810643</td>\n",
              "      <td>1.000000</td>\n",
              "      <td>0.826104</td>\n",
              "      <td>0.962812</td>\n",
              "      <td>-0.004004</td>\n",
              "      <td>-0.004004</td>\n",
              "      <td>0.410206</td>\n",
              "      <td>0.797518</td>\n",
              "      <td>0.797518</td>\n",
              "      <td>-0.037015</td>\n",
              "      <td>-0.037015</td>\n",
              "      <td>0.005467</td>\n",
              "      <td>0.005467</td>\n",
              "      <td>0.007108</td>\n",
              "      <td>0.007108</td>\n",
              "      <td>0.007394</td>\n",
              "      <td>0.007394</td>\n",
              "      <td>0.281587</td>\n",
              "      <td>0.305695</td>\n",
              "      <td>-0.015256</td>\n",
              "      <td>0.025045</td>\n",
              "      <td>-0.002291</td>\n",
              "      <td>0.041076</td>\n",
              "    </tr>\n",
              "    <tr>\n",
              "      <th>tr</th>\n",
              "      <td>0.826198</td>\n",
              "      <td>0.832448</td>\n",
              "      <td>0.822026</td>\n",
              "      <td>0.828314</td>\n",
              "      <td>0.828816</td>\n",
              "      <td>-0.027556</td>\n",
              "      <td>0.024584</td>\n",
              "      <td>0.260809</td>\n",
              "      <td>0.649633</td>\n",
              "      <td>-0.064588</td>\n",
              "      <td>0.582864</td>\n",
              "      <td>0.635302</td>\n",
              "      <td>0.840955</td>\n",
              "      <td>0.840955</td>\n",
              "      <td>0.826104</td>\n",
              "      <td>1.000000</td>\n",
              "      <td>0.867568</td>\n",
              "      <td>0.051453</td>\n",
              "      <td>0.051453</td>\n",
              "      <td>0.560998</td>\n",
              "      <td>0.786895</td>\n",
              "      <td>0.786895</td>\n",
              "      <td>0.004974</td>\n",
              "      <td>0.004974</td>\n",
              "      <td>0.045964</td>\n",
              "      <td>0.045964</td>\n",
              "      <td>0.037095</td>\n",
              "      <td>0.037095</td>\n",
              "      <td>0.029445</td>\n",
              "      <td>0.029445</td>\n",
              "      <td>0.262447</td>\n",
              "      <td>0.270575</td>\n",
              "      <td>0.029510</td>\n",
              "      <td>0.142293</td>\n",
              "      <td>-0.002032</td>\n",
              "      <td>0.047722</td>\n",
              "    </tr>\n",
              "    <tr>\n",
              "      <th>atr_14</th>\n",
              "      <td>0.962899</td>\n",
              "      <td>0.963962</td>\n",
              "      <td>0.961607</td>\n",
              "      <td>0.962695</td>\n",
              "      <td>0.963273</td>\n",
              "      <td>-0.039700</td>\n",
              "      <td>0.002674</td>\n",
              "      <td>0.025140</td>\n",
              "      <td>0.405424</td>\n",
              "      <td>0.032424</td>\n",
              "      <td>0.452964</td>\n",
              "      <td>0.393879</td>\n",
              "      <td>0.852542</td>\n",
              "      <td>0.852542</td>\n",
              "      <td>0.962812</td>\n",
              "      <td>0.867568</td>\n",
              "      <td>1.000000</td>\n",
              "      <td>0.001741</td>\n",
              "      <td>0.001741</td>\n",
              "      <td>0.438450</td>\n",
              "      <td>0.868855</td>\n",
              "      <td>0.868855</td>\n",
              "      <td>-0.016317</td>\n",
              "      <td>-0.016317</td>\n",
              "      <td>0.009854</td>\n",
              "      <td>0.009854</td>\n",
              "      <td>0.015656</td>\n",
              "      <td>0.015656</td>\n",
              "      <td>0.018886</td>\n",
              "      <td>0.018886</td>\n",
              "      <td>0.259201</td>\n",
              "      <td>0.288608</td>\n",
              "      <td>-0.036041</td>\n",
              "      <td>0.027481</td>\n",
              "      <td>-0.002638</td>\n",
              "      <td>0.034029</td>\n",
              "    </tr>\n",
              "    <tr>\n",
              "      <th>pdi_14</th>\n",
              "      <td>-0.003630</td>\n",
              "      <td>-0.001648</td>\n",
              "      <td>-0.003369</td>\n",
              "      <td>-0.002136</td>\n",
              "      <td>-0.001911</td>\n",
              "      <td>0.068186</td>\n",
              "      <td>0.293524</td>\n",
              "      <td>0.119305</td>\n",
              "      <td>0.132656</td>\n",
              "      <td>0.100375</td>\n",
              "      <td>-0.042762</td>\n",
              "      <td>0.135002</td>\n",
              "      <td>0.147611</td>\n",
              "      <td>0.147611</td>\n",
              "      <td>-0.004004</td>\n",
              "      <td>0.051453</td>\n",
              "      <td>0.001741</td>\n",
              "      <td>1.000000</td>\n",
              "      <td>1.000000</td>\n",
              "      <td>-0.045571</td>\n",
              "      <td>-0.075110</td>\n",
              "      <td>-0.075110</td>\n",
              "      <td>-0.447620</td>\n",
              "      <td>-0.447620</td>\n",
              "      <td>0.227475</td>\n",
              "      <td>0.227475</td>\n",
              "      <td>0.238471</td>\n",
              "      <td>0.238471</td>\n",
              "      <td>0.215218</td>\n",
              "      <td>0.215218</td>\n",
              "      <td>0.166817</td>\n",
              "      <td>0.114543</td>\n",
              "      <td>0.193890</td>\n",
              "      <td>0.095913</td>\n",
              "      <td>0.055409</td>\n",
              "      <td>0.736934</td>\n",
              "    </tr>\n",
              "    <tr>\n",
              "      <th>pdi</th>\n",
              "      <td>-0.003630</td>\n",
              "      <td>-0.001648</td>\n",
              "      <td>-0.003369</td>\n",
              "      <td>-0.002136</td>\n",
              "      <td>-0.001911</td>\n",
              "      <td>0.068186</td>\n",
              "      <td>0.293524</td>\n",
              "      <td>0.119305</td>\n",
              "      <td>0.132656</td>\n",
              "      <td>0.100375</td>\n",
              "      <td>-0.042762</td>\n",
              "      <td>0.135002</td>\n",
              "      <td>0.147611</td>\n",
              "      <td>0.147611</td>\n",
              "      <td>-0.004004</td>\n",
              "      <td>0.051453</td>\n",
              "      <td>0.001741</td>\n",
              "      <td>1.000000</td>\n",
              "      <td>1.000000</td>\n",
              "      <td>-0.045571</td>\n",
              "      <td>-0.075110</td>\n",
              "      <td>-0.075110</td>\n",
              "      <td>-0.447620</td>\n",
              "      <td>-0.447620</td>\n",
              "      <td>0.227475</td>\n",
              "      <td>0.227475</td>\n",
              "      <td>0.238471</td>\n",
              "      <td>0.238471</td>\n",
              "      <td>0.215218</td>\n",
              "      <td>0.215218</td>\n",
              "      <td>0.166817</td>\n",
              "      <td>0.114543</td>\n",
              "      <td>0.193890</td>\n",
              "      <td>0.095913</td>\n",
              "      <td>0.055409</td>\n",
              "      <td>0.736934</td>\n",
              "    </tr>\n",
              "    <tr>\n",
              "      <th>mdm</th>\n",
              "      <td>0.408101</td>\n",
              "      <td>0.405724</td>\n",
              "      <td>0.398567</td>\n",
              "      <td>0.401205</td>\n",
              "      <td>0.401581</td>\n",
              "      <td>-0.010882</td>\n",
              "      <td>-0.107633</td>\n",
              "      <td>-0.326715</td>\n",
              "      <td>-0.000999</td>\n",
              "      <td>-0.695014</td>\n",
              "      <td>0.993927</td>\n",
              "      <td>-0.018406</td>\n",
              "      <td>0.299594</td>\n",
              "      <td>0.299594</td>\n",
              "      <td>0.410206</td>\n",
              "      <td>0.560998</td>\n",
              "      <td>0.438450</td>\n",
              "      <td>-0.045571</td>\n",
              "      <td>-0.045571</td>\n",
              "      <td>1.000000</td>\n",
              "      <td>0.601480</td>\n",
              "      <td>0.601480</td>\n",
              "      <td>0.123677</td>\n",
              "      <td>0.123677</td>\n",
              "      <td>0.014335</td>\n",
              "      <td>0.014335</td>\n",
              "      <td>0.016392</td>\n",
              "      <td>0.016392</td>\n",
              "      <td>0.015848</td>\n",
              "      <td>0.015848</td>\n",
              "      <td>0.074319</td>\n",
              "      <td>0.127847</td>\n",
              "      <td>-0.147831</td>\n",
              "      <td>-0.447088</td>\n",
              "      <td>-0.001435</td>\n",
              "      <td>-0.086943</td>\n",
              "    </tr>\n",
              "    <tr>\n",
              "      <th>mdm_14_ema</th>\n",
              "      <td>0.797063</td>\n",
              "      <td>0.796917</td>\n",
              "      <td>0.792755</td>\n",
              "      <td>0.794466</td>\n",
              "      <td>0.795196</td>\n",
              "      <td>-0.028087</td>\n",
              "      <td>-0.029465</td>\n",
              "      <td>-0.136281</td>\n",
              "      <td>0.250864</td>\n",
              "      <td>-0.168096</td>\n",
              "      <td>0.609499</td>\n",
              "      <td>0.237968</td>\n",
              "      <td>0.595569</td>\n",
              "      <td>0.595569</td>\n",
              "      <td>0.797518</td>\n",
              "      <td>0.786895</td>\n",
              "      <td>0.868855</td>\n",
              "      <td>-0.075110</td>\n",
              "      <td>-0.075110</td>\n",
              "      <td>0.601480</td>\n",
              "      <td>1.000000</td>\n",
              "      <td>1.000000</td>\n",
              "      <td>0.130364</td>\n",
              "      <td>0.130364</td>\n",
              "      <td>0.009154</td>\n",
              "      <td>0.009154</td>\n",
              "      <td>0.016041</td>\n",
              "      <td>0.016041</td>\n",
              "      <td>0.019966</td>\n",
              "      <td>0.019966</td>\n",
              "      <td>-0.034032</td>\n",
              "      <td>0.077276</td>\n",
              "      <td>-0.346415</td>\n",
              "      <td>-0.125391</td>\n",
              "      <td>-0.002652</td>\n",
              "      <td>-0.079137</td>\n",
              "    </tr>\n",
              "    <tr>\n",
              "      <th>mdm_14</th>\n",
              "      <td>0.797063</td>\n",
              "      <td>0.796917</td>\n",
              "      <td>0.792755</td>\n",
              "      <td>0.794466</td>\n",
              "      <td>0.795196</td>\n",
              "      <td>-0.028087</td>\n",
              "      <td>-0.029465</td>\n",
              "      <td>-0.136281</td>\n",
              "      <td>0.250864</td>\n",
              "      <td>-0.168096</td>\n",
              "      <td>0.609499</td>\n",
              "      <td>0.237968</td>\n",
              "      <td>0.595569</td>\n",
              "      <td>0.595569</td>\n",
              "      <td>0.797518</td>\n",
              "      <td>0.786895</td>\n",
              "      <td>0.868855</td>\n",
              "      <td>-0.075110</td>\n",
              "      <td>-0.075110</td>\n",
              "      <td>0.601480</td>\n",
              "      <td>1.000000</td>\n",
              "      <td>1.000000</td>\n",
              "      <td>0.130364</td>\n",
              "      <td>0.130364</td>\n",
              "      <td>0.009154</td>\n",
              "      <td>0.009154</td>\n",
              "      <td>0.016041</td>\n",
              "      <td>0.016041</td>\n",
              "      <td>0.019966</td>\n",
              "      <td>0.019966</td>\n",
              "      <td>-0.034032</td>\n",
              "      <td>0.077276</td>\n",
              "      <td>-0.346415</td>\n",
              "      <td>-0.125391</td>\n",
              "      <td>-0.002652</td>\n",
              "      <td>-0.079137</td>\n",
              "    </tr>\n",
              "    <tr>\n",
              "      <th>mdi_14</th>\n",
              "      <td>-0.037338</td>\n",
              "      <td>-0.037832</td>\n",
              "      <td>-0.039009</td>\n",
              "      <td>-0.038670</td>\n",
              "      <td>-0.037833</td>\n",
              "      <td>0.049279</td>\n",
              "      <td>-0.249640</td>\n",
              "      <td>-0.090448</td>\n",
              "      <td>-0.060962</td>\n",
              "      <td>-0.112519</td>\n",
              "      <td>0.120246</td>\n",
              "      <td>-0.063056</td>\n",
              "      <td>-0.091283</td>\n",
              "      <td>-0.091283</td>\n",
              "      <td>-0.037015</td>\n",
              "      <td>0.004974</td>\n",
              "      <td>-0.016317</td>\n",
              "      <td>-0.447620</td>\n",
              "      <td>-0.447620</td>\n",
              "      <td>0.123677</td>\n",
              "      <td>0.130364</td>\n",
              "      <td>0.130364</td>\n",
              "      <td>1.000000</td>\n",
              "      <td>1.000000</td>\n",
              "      <td>0.015136</td>\n",
              "      <td>0.015136</td>\n",
              "      <td>0.031119</td>\n",
              "      <td>0.031119</td>\n",
              "      <td>0.039510</td>\n",
              "      <td>0.039510</td>\n",
              "      <td>-0.148137</td>\n",
              "      <td>-0.098900</td>\n",
              "      <td>-0.180767</td>\n",
              "      <td>-0.086380</td>\n",
              "      <td>-0.017744</td>\n",
              "      <td>-0.678304</td>\n",
              "    </tr>\n",
              "    <tr>\n",
              "      <th>mdi</th>\n",
              "      <td>-0.037338</td>\n",
              "      <td>-0.037832</td>\n",
              "      <td>-0.039009</td>\n",
              "      <td>-0.038670</td>\n",
              "      <td>-0.037833</td>\n",
              "      <td>0.049279</td>\n",
              "      <td>-0.249640</td>\n",
              "      <td>-0.090448</td>\n",
              "      <td>-0.060962</td>\n",
              "      <td>-0.112519</td>\n",
              "      <td>0.120246</td>\n",
              "      <td>-0.063056</td>\n",
              "      <td>-0.091283</td>\n",
              "      <td>-0.091283</td>\n",
              "      <td>-0.037015</td>\n",
              "      <td>0.004974</td>\n",
              "      <td>-0.016317</td>\n",
              "      <td>-0.447620</td>\n",
              "      <td>-0.447620</td>\n",
              "      <td>0.123677</td>\n",
              "      <td>0.130364</td>\n",
              "      <td>0.130364</td>\n",
              "      <td>1.000000</td>\n",
              "      <td>1.000000</td>\n",
              "      <td>0.015136</td>\n",
              "      <td>0.015136</td>\n",
              "      <td>0.031119</td>\n",
              "      <td>0.031119</td>\n",
              "      <td>0.039510</td>\n",
              "      <td>0.039510</td>\n",
              "      <td>-0.148137</td>\n",
              "      <td>-0.098900</td>\n",
              "      <td>-0.180767</td>\n",
              "      <td>-0.086380</td>\n",
              "      <td>-0.017744</td>\n",
              "      <td>-0.678304</td>\n",
              "    </tr>\n",
              "    <tr>\n",
              "      <th>dx_14</th>\n",
              "      <td>0.005531</td>\n",
              "      <td>0.006488</td>\n",
              "      <td>0.005136</td>\n",
              "      <td>0.005973</td>\n",
              "      <td>0.006195</td>\n",
              "      <td>0.054647</td>\n",
              "      <td>0.065350</td>\n",
              "      <td>0.032335</td>\n",
              "      <td>0.053828</td>\n",
              "      <td>0.028379</td>\n",
              "      <td>0.014837</td>\n",
              "      <td>0.054184</td>\n",
              "      <td>0.049001</td>\n",
              "      <td>0.049001</td>\n",
              "      <td>0.005467</td>\n",
              "      <td>0.045964</td>\n",
              "      <td>0.009854</td>\n",
              "      <td>0.227475</td>\n",
              "      <td>0.227475</td>\n",
              "      <td>0.014335</td>\n",
              "      <td>0.009154</td>\n",
              "      <td>0.009154</td>\n",
              "      <td>0.015136</td>\n",
              "      <td>0.015136</td>\n",
              "      <td>1.000000</td>\n",
              "      <td>1.000000</td>\n",
              "      <td>0.834852</td>\n",
              "      <td>0.834852</td>\n",
              "      <td>0.590632</td>\n",
              "      <td>0.590632</td>\n",
              "      <td>0.023779</td>\n",
              "      <td>0.012235</td>\n",
              "      <td>0.040116</td>\n",
              "      <td>0.026188</td>\n",
              "      <td>0.025573</td>\n",
              "      <td>0.119028</td>\n",
              "    </tr>\n",
              "    <tr>\n",
              "      <th>dx</th>\n",
              "      <td>0.005531</td>\n",
              "      <td>0.006488</td>\n",
              "      <td>0.005136</td>\n",
              "      <td>0.005973</td>\n",
              "      <td>0.006195</td>\n",
              "      <td>0.054647</td>\n",
              "      <td>0.065350</td>\n",
              "      <td>0.032335</td>\n",
              "      <td>0.053828</td>\n",
              "      <td>0.028379</td>\n",
              "      <td>0.014837</td>\n",
              "      <td>0.054184</td>\n",
              "      <td>0.049001</td>\n",
              "      <td>0.049001</td>\n",
              "      <td>0.005467</td>\n",
              "      <td>0.045964</td>\n",
              "      <td>0.009854</td>\n",
              "      <td>0.227475</td>\n",
              "      <td>0.227475</td>\n",
              "      <td>0.014335</td>\n",
              "      <td>0.009154</td>\n",
              "      <td>0.009154</td>\n",
              "      <td>0.015136</td>\n",
              "      <td>0.015136</td>\n",
              "      <td>1.000000</td>\n",
              "      <td>1.000000</td>\n",
              "      <td>0.834852</td>\n",
              "      <td>0.834852</td>\n",
              "      <td>0.590632</td>\n",
              "      <td>0.590632</td>\n",
              "      <td>0.023779</td>\n",
              "      <td>0.012235</td>\n",
              "      <td>0.040116</td>\n",
              "      <td>0.026188</td>\n",
              "      <td>0.025573</td>\n",
              "      <td>0.119028</td>\n",
              "    </tr>\n",
              "    <tr>\n",
              "      <th>dx_6_ema</th>\n",
              "      <td>0.007118</td>\n",
              "      <td>0.007730</td>\n",
              "      <td>0.006710</td>\n",
              "      <td>0.007252</td>\n",
              "      <td>0.007508</td>\n",
              "      <td>0.049628</td>\n",
              "      <td>0.030235</td>\n",
              "      <td>0.007167</td>\n",
              "      <td>0.027392</td>\n",
              "      <td>0.016679</td>\n",
              "      <td>0.016478</td>\n",
              "      <td>0.027326</td>\n",
              "      <td>0.053375</td>\n",
              "      <td>0.053375</td>\n",
              "      <td>0.007108</td>\n",
              "      <td>0.037095</td>\n",
              "      <td>0.015656</td>\n",
              "      <td>0.238471</td>\n",
              "      <td>0.238471</td>\n",
              "      <td>0.016392</td>\n",
              "      <td>0.016041</td>\n",
              "      <td>0.016041</td>\n",
              "      <td>0.031119</td>\n",
              "      <td>0.031119</td>\n",
              "      <td>0.834852</td>\n",
              "      <td>0.834852</td>\n",
              "      <td>1.000000</td>\n",
              "      <td>1.000000</td>\n",
              "      <td>0.913285</td>\n",
              "      <td>0.913285</td>\n",
              "      <td>0.036591</td>\n",
              "      <td>0.024453</td>\n",
              "      <td>0.044575</td>\n",
              "      <td>0.007646</td>\n",
              "      <td>0.032878</td>\n",
              "      <td>0.122307</td>\n",
              "    </tr>\n",
              "    <tr>\n",
              "      <th>adx</th>\n",
              "      <td>0.007118</td>\n",
              "      <td>0.007730</td>\n",
              "      <td>0.006710</td>\n",
              "      <td>0.007252</td>\n",
              "      <td>0.007508</td>\n",
              "      <td>0.049628</td>\n",
              "      <td>0.030235</td>\n",
              "      <td>0.007167</td>\n",
              "      <td>0.027392</td>\n",
              "      <td>0.016679</td>\n",
              "      <td>0.016478</td>\n",
              "      <td>0.027326</td>\n",
              "      <td>0.053375</td>\n",
              "      <td>0.053375</td>\n",
              "      <td>0.007108</td>\n",
              "      <td>0.037095</td>\n",
              "      <td>0.015656</td>\n",
              "      <td>0.238471</td>\n",
              "      <td>0.238471</td>\n",
              "      <td>0.016392</td>\n",
              "      <td>0.016041</td>\n",
              "      <td>0.016041</td>\n",
              "      <td>0.031119</td>\n",
              "      <td>0.031119</td>\n",
              "      <td>0.834852</td>\n",
              "      <td>0.834852</td>\n",
              "      <td>1.000000</td>\n",
              "      <td>1.000000</td>\n",
              "      <td>0.913285</td>\n",
              "      <td>0.913285</td>\n",
              "      <td>0.036591</td>\n",
              "      <td>0.024453</td>\n",
              "      <td>0.044575</td>\n",
              "      <td>0.007646</td>\n",
              "      <td>0.032878</td>\n",
              "      <td>0.122307</td>\n",
              "    </tr>\n",
              "    <tr>\n",
              "      <th>adx_6_ema</th>\n",
              "      <td>0.007385</td>\n",
              "      <td>0.007796</td>\n",
              "      <td>0.007038</td>\n",
              "      <td>0.007401</td>\n",
              "      <td>0.007642</td>\n",
              "      <td>0.042477</td>\n",
              "      <td>0.016128</td>\n",
              "      <td>-0.001441</td>\n",
              "      <td>0.015363</td>\n",
              "      <td>0.007188</td>\n",
              "      <td>0.015824</td>\n",
              "      <td>0.015131</td>\n",
              "      <td>0.049632</td>\n",
              "      <td>0.049632</td>\n",
              "      <td>0.007394</td>\n",
              "      <td>0.029445</td>\n",
              "      <td>0.018886</td>\n",
              "      <td>0.215218</td>\n",
              "      <td>0.215218</td>\n",
              "      <td>0.015848</td>\n",
              "      <td>0.019966</td>\n",
              "      <td>0.019966</td>\n",
              "      <td>0.039510</td>\n",
              "      <td>0.039510</td>\n",
              "      <td>0.590632</td>\n",
              "      <td>0.590632</td>\n",
              "      <td>0.913285</td>\n",
              "      <td>0.913285</td>\n",
              "      <td>1.000000</td>\n",
              "      <td>1.000000</td>\n",
              "      <td>0.042371</td>\n",
              "      <td>0.033784</td>\n",
              "      <td>0.034948</td>\n",
              "      <td>0.000608</td>\n",
              "      <td>0.036400</td>\n",
              "      <td>0.112320</td>\n",
              "    </tr>\n",
              "    <tr>\n",
              "      <th>adxr</th>\n",
              "      <td>0.007385</td>\n",
              "      <td>0.007796</td>\n",
              "      <td>0.007038</td>\n",
              "      <td>0.007401</td>\n",
              "      <td>0.007642</td>\n",
              "      <td>0.042477</td>\n",
              "      <td>0.016128</td>\n",
              "      <td>-0.001441</td>\n",
              "      <td>0.015363</td>\n",
              "      <td>0.007188</td>\n",
              "      <td>0.015824</td>\n",
              "      <td>0.015131</td>\n",
              "      <td>0.049632</td>\n",
              "      <td>0.049632</td>\n",
              "      <td>0.007394</td>\n",
              "      <td>0.029445</td>\n",
              "      <td>0.018886</td>\n",
              "      <td>0.215218</td>\n",
              "      <td>0.215218</td>\n",
              "      <td>0.015848</td>\n",
              "      <td>0.019966</td>\n",
              "      <td>0.019966</td>\n",
              "      <td>0.039510</td>\n",
              "      <td>0.039510</td>\n",
              "      <td>0.590632</td>\n",
              "      <td>0.590632</td>\n",
              "      <td>0.913285</td>\n",
              "      <td>0.913285</td>\n",
              "      <td>1.000000</td>\n",
              "      <td>1.000000</td>\n",
              "      <td>0.042371</td>\n",
              "      <td>0.033784</td>\n",
              "      <td>0.034948</td>\n",
              "      <td>0.000608</td>\n",
              "      <td>0.036400</td>\n",
              "      <td>0.112320</td>\n",
              "    </tr>\n",
              "    <tr>\n",
              "      <th>macd</th>\n",
              "      <td>0.281567</td>\n",
              "      <td>0.283169</td>\n",
              "      <td>0.282160</td>\n",
              "      <td>0.282565</td>\n",
              "      <td>0.283652</td>\n",
              "      <td>-0.008910</td>\n",
              "      <td>0.014178</td>\n",
              "      <td>0.073178</td>\n",
              "      <td>0.180062</td>\n",
              "      <td>0.087921</td>\n",
              "      <td>0.078565</td>\n",
              "      <td>0.179395</td>\n",
              "      <td>0.531330</td>\n",
              "      <td>0.531330</td>\n",
              "      <td>0.281587</td>\n",
              "      <td>0.262447</td>\n",
              "      <td>0.259201</td>\n",
              "      <td>0.166817</td>\n",
              "      <td>0.166817</td>\n",
              "      <td>0.074319</td>\n",
              "      <td>-0.034032</td>\n",
              "      <td>-0.034032</td>\n",
              "      <td>-0.148137</td>\n",
              "      <td>-0.148137</td>\n",
              "      <td>0.023779</td>\n",
              "      <td>0.023779</td>\n",
              "      <td>0.036591</td>\n",
              "      <td>0.036591</td>\n",
              "      <td>0.042371</td>\n",
              "      <td>0.042371</td>\n",
              "      <td>1.000000</td>\n",
              "      <td>0.951787</td>\n",
              "      <td>0.353862</td>\n",
              "      <td>0.061233</td>\n",
              "      <td>0.000463</td>\n",
              "      <td>0.172329</td>\n",
              "    </tr>\n",
              "    <tr>\n",
              "      <th>macds</th>\n",
              "      <td>0.305665</td>\n",
              "      <td>0.306337</td>\n",
              "      <td>0.305691</td>\n",
              "      <td>0.305532</td>\n",
              "      <td>0.306777</td>\n",
              "      <td>-0.009889</td>\n",
              "      <td>0.001476</td>\n",
              "      <td>0.007052</td>\n",
              "      <td>0.130789</td>\n",
              "      <td>0.015874</td>\n",
              "      <td>0.132214</td>\n",
              "      <td>0.129138</td>\n",
              "      <td>0.455313</td>\n",
              "      <td>0.455313</td>\n",
              "      <td>0.305695</td>\n",
              "      <td>0.270575</td>\n",
              "      <td>0.288608</td>\n",
              "      <td>0.114543</td>\n",
              "      <td>0.114543</td>\n",
              "      <td>0.127847</td>\n",
              "      <td>0.077276</td>\n",
              "      <td>0.077276</td>\n",
              "      <td>-0.098900</td>\n",
              "      <td>-0.098900</td>\n",
              "      <td>0.012235</td>\n",
              "      <td>0.012235</td>\n",
              "      <td>0.024453</td>\n",
              "      <td>0.024453</td>\n",
              "      <td>0.033784</td>\n",
              "      <td>0.033784</td>\n",
              "      <td>0.951787</td>\n",
              "      <td>1.000000</td>\n",
              "      <td>0.049891</td>\n",
              "      <td>0.003451</td>\n",
              "      <td>0.000152</td>\n",
              "      <td>0.111466</td>\n",
              "    </tr>\n",
              "    <tr>\n",
              "      <th>macdh</th>\n",
              "      <td>-0.015230</td>\n",
              "      <td>-0.012062</td>\n",
              "      <td>-0.013376</td>\n",
              "      <td>-0.011572</td>\n",
              "      <td>-0.011831</td>\n",
              "      <td>0.001144</td>\n",
              "      <td>0.041659</td>\n",
              "      <td>0.216751</td>\n",
              "      <td>0.187479</td>\n",
              "      <td>0.237854</td>\n",
              "      <td>-0.147323</td>\n",
              "      <td>0.190341</td>\n",
              "      <td>0.341687</td>\n",
              "      <td>0.341687</td>\n",
              "      <td>-0.015256</td>\n",
              "      <td>0.029510</td>\n",
              "      <td>-0.036041</td>\n",
              "      <td>0.193890</td>\n",
              "      <td>0.193890</td>\n",
              "      <td>-0.147831</td>\n",
              "      <td>-0.346415</td>\n",
              "      <td>-0.346415</td>\n",
              "      <td>-0.180767</td>\n",
              "      <td>-0.180767</td>\n",
              "      <td>0.040116</td>\n",
              "      <td>0.040116</td>\n",
              "      <td>0.044575</td>\n",
              "      <td>0.044575</td>\n",
              "      <td>0.034948</td>\n",
              "      <td>0.034948</td>\n",
              "      <td>0.353862</td>\n",
              "      <td>0.049891</td>\n",
              "      <td>1.000000</td>\n",
              "      <td>0.188841</td>\n",
              "      <td>0.001043</td>\n",
              "      <td>0.221218</td>\n",
              "    </tr>\n",
              "    <tr>\n",
              "      <th>close_-1_d</th>\n",
              "      <td>0.027287</td>\n",
              "      <td>0.039020</td>\n",
              "      <td>0.035218</td>\n",
              "      <td>0.044480</td>\n",
              "      <td>0.044571</td>\n",
              "      <td>0.002382</td>\n",
              "      <td>0.222719</td>\n",
              "      <td>0.703919</td>\n",
              "      <td>0.644334</td>\n",
              "      <td>0.505910</td>\n",
              "      <td>-0.435662</td>\n",
              "      <td>0.649572</td>\n",
              "      <td>0.192792</td>\n",
              "      <td>0.192792</td>\n",
              "      <td>0.025045</td>\n",
              "      <td>0.142293</td>\n",
              "      <td>0.027481</td>\n",
              "      <td>0.095913</td>\n",
              "      <td>0.095913</td>\n",
              "      <td>-0.447088</td>\n",
              "      <td>-0.125391</td>\n",
              "      <td>-0.125391</td>\n",
              "      <td>-0.086380</td>\n",
              "      <td>-0.086380</td>\n",
              "      <td>0.026188</td>\n",
              "      <td>0.026188</td>\n",
              "      <td>0.007646</td>\n",
              "      <td>0.007646</td>\n",
              "      <td>0.000608</td>\n",
              "      <td>0.000608</td>\n",
              "      <td>0.061233</td>\n",
              "      <td>0.003451</td>\n",
              "      <td>0.188841</td>\n",
              "      <td>1.000000</td>\n",
              "      <td>0.000695</td>\n",
              "      <td>0.153846</td>\n",
              "    </tr>\n",
              "    <tr>\n",
              "      <th>rs_6</th>\n",
              "      <td>-0.002288</td>\n",
              "      <td>-0.002285</td>\n",
              "      <td>-0.002279</td>\n",
              "      <td>-0.002276</td>\n",
              "      <td>-0.002240</td>\n",
              "      <td>0.000373</td>\n",
              "      <td>0.013219</td>\n",
              "      <td>0.000687</td>\n",
              "      <td>-0.000355</td>\n",
              "      <td>0.000614</td>\n",
              "      <td>-0.001458</td>\n",
              "      <td>-0.000324</td>\n",
              "      <td>-0.001515</td>\n",
              "      <td>-0.001515</td>\n",
              "      <td>-0.002291</td>\n",
              "      <td>-0.002032</td>\n",
              "      <td>-0.002638</td>\n",
              "      <td>0.055409</td>\n",
              "      <td>0.055409</td>\n",
              "      <td>-0.001435</td>\n",
              "      <td>-0.002652</td>\n",
              "      <td>-0.002652</td>\n",
              "      <td>-0.017744</td>\n",
              "      <td>-0.017744</td>\n",
              "      <td>0.025573</td>\n",
              "      <td>0.025573</td>\n",
              "      <td>0.032878</td>\n",
              "      <td>0.032878</td>\n",
              "      <td>0.036400</td>\n",
              "      <td>0.036400</td>\n",
              "      <td>0.000463</td>\n",
              "      <td>0.000152</td>\n",
              "      <td>0.001043</td>\n",
              "      <td>0.000695</td>\n",
              "      <td>1.000000</td>\n",
              "      <td>0.026350</td>\n",
              "    </tr>\n",
              "    <tr>\n",
              "      <th>rsi_6</th>\n",
              "      <td>0.041372</td>\n",
              "      <td>0.043134</td>\n",
              "      <td>0.042754</td>\n",
              "      <td>0.044041</td>\n",
              "      <td>0.043267</td>\n",
              "      <td>0.035418</td>\n",
              "      <td>0.475569</td>\n",
              "      <td>0.142836</td>\n",
              "      <td>0.125530</td>\n",
              "      <td>0.142751</td>\n",
              "      <td>-0.084646</td>\n",
              "      <td>0.126293</td>\n",
              "      <td>0.141915</td>\n",
              "      <td>0.141915</td>\n",
              "      <td>0.041076</td>\n",
              "      <td>0.047722</td>\n",
              "      <td>0.034029</td>\n",
              "      <td>0.736934</td>\n",
              "      <td>0.736934</td>\n",
              "      <td>-0.086943</td>\n",
              "      <td>-0.079137</td>\n",
              "      <td>-0.079137</td>\n",
              "      <td>-0.678304</td>\n",
              "      <td>-0.678304</td>\n",
              "      <td>0.119028</td>\n",
              "      <td>0.119028</td>\n",
              "      <td>0.122307</td>\n",
              "      <td>0.122307</td>\n",
              "      <td>0.112320</td>\n",
              "      <td>0.112320</td>\n",
              "      <td>0.172329</td>\n",
              "      <td>0.111466</td>\n",
              "      <td>0.221218</td>\n",
              "      <td>0.153846</td>\n",
              "      <td>0.026350</td>\n",
              "      <td>1.000000</td>\n",
              "    </tr>\n",
              "  </tbody>\n",
              "</table>\n",
              "</div>"
            ],
            "text/plain": [
              "                open      high       low  ...  close_-1_d      rs_6     rsi_6\n",
              "open        1.000000  0.999859  0.999893  ...    0.027287 -0.002288  0.041372\n",
              "high        0.999859  1.000000  0.999824  ...    0.039020 -0.002285  0.043134\n",
              "low         0.999893  0.999824  1.000000  ...    0.035218 -0.002279  0.042754\n",
              "close       0.999814  0.999926  0.999891  ...    0.044480 -0.002276  0.044041\n",
              "adj close   0.999494  0.999613  0.999551  ...    0.044571 -0.002240  0.043267\n",
              "volume     -0.039059 -0.038969 -0.039110  ...    0.002382  0.000373  0.035418\n",
              "returns     0.001751  0.004210  0.003548  ...    0.222719  0.013219  0.475569\n",
              "high_delta  0.032735  0.044853  0.037026  ...    0.703919  0.000687  0.142836\n",
              "um          0.386032  0.398809  0.388052  ...    0.644334 -0.000355  0.125530\n",
              "low_delta   0.035964  0.040352  0.043650  ...    0.505910  0.000614  0.142751\n",
              "dm          0.422365  0.420308  0.412788  ...   -0.435662 -0.001458 -0.084646\n",
              "pdm         0.374168  0.386952  0.376366  ...    0.649572 -0.000324  0.126293\n",
              "pdm_14_ema  0.811134  0.816032  0.810468  ...    0.192792 -0.001515  0.141915\n",
              "pdm_14      0.811134  0.816032  0.810468  ...    0.192792 -0.001515  0.141915\n",
              "close_-1_s  0.999960  0.999843  0.999882  ...    0.025045 -0.002291  0.041076\n",
              "tr          0.826198  0.832448  0.822026  ...    0.142293 -0.002032  0.047722\n",
              "atr_14      0.962899  0.963962  0.961607  ...    0.027481 -0.002638  0.034029\n",
              "pdi_14     -0.003630 -0.001648 -0.003369  ...    0.095913  0.055409  0.736934\n",
              "pdi        -0.003630 -0.001648 -0.003369  ...    0.095913  0.055409  0.736934\n",
              "mdm         0.408101  0.405724  0.398567  ...   -0.447088 -0.001435 -0.086943\n",
              "mdm_14_ema  0.797063  0.796917  0.792755  ...   -0.125391 -0.002652 -0.079137\n",
              "mdm_14      0.797063  0.796917  0.792755  ...   -0.125391 -0.002652 -0.079137\n",
              "mdi_14     -0.037338 -0.037832 -0.039009  ...   -0.086380 -0.017744 -0.678304\n",
              "mdi        -0.037338 -0.037832 -0.039009  ...   -0.086380 -0.017744 -0.678304\n",
              "dx_14       0.005531  0.006488  0.005136  ...    0.026188  0.025573  0.119028\n",
              "dx          0.005531  0.006488  0.005136  ...    0.026188  0.025573  0.119028\n",
              "dx_6_ema    0.007118  0.007730  0.006710  ...    0.007646  0.032878  0.122307\n",
              "adx         0.007118  0.007730  0.006710  ...    0.007646  0.032878  0.122307\n",
              "adx_6_ema   0.007385  0.007796  0.007038  ...    0.000608  0.036400  0.112320\n",
              "adxr        0.007385  0.007796  0.007038  ...    0.000608  0.036400  0.112320\n",
              "macd        0.281567  0.283169  0.282160  ...    0.061233  0.000463  0.172329\n",
              "macds       0.305665  0.306337  0.305691  ...    0.003451  0.000152  0.111466\n",
              "macdh      -0.015230 -0.012062 -0.013376  ...    0.188841  0.001043  0.221218\n",
              "close_-1_d  0.027287  0.039020  0.035218  ...    1.000000  0.000695  0.153846\n",
              "rs_6       -0.002288 -0.002285 -0.002279  ...    0.000695  1.000000  0.026350\n",
              "rsi_6       0.041372  0.043134  0.042754  ...    0.153846  0.026350  1.000000\n",
              "\n",
              "[36 rows x 36 columns]"
            ]
          },
          "metadata": {
            "tags": []
          },
          "execution_count": 8
        }
      ]
    },
    {
      "cell_type": "code",
      "metadata": {
        "id": "5pv2FZf2FpsS",
        "colab_type": "code",
        "colab": {}
      },
      "source": [
        "stock1=stock[['returns','name','pdi','mdi']]\n",
        "stock1['name']=stocknumber"
      ],
      "execution_count": 0,
      "outputs": []
    },
    {
      "cell_type": "code",
      "metadata": {
        "id": "9fLTtrrpFpsW",
        "colab_type": "code",
        "outputId": "41b93d11-5af6-4d80-ae6d-8633a1137877",
        "colab": {
          "base_uri": "https://localhost:8080/",
          "height": 173
        }
      },
      "source": [
        "stock1.corr()"
      ],
      "execution_count": 0,
      "outputs": [
        {
          "output_type": "execute_result",
          "data": {
            "text/html": [
              "<div>\n",
              "<style scoped>\n",
              "    .dataframe tbody tr th:only-of-type {\n",
              "        vertical-align: middle;\n",
              "    }\n",
              "\n",
              "    .dataframe tbody tr th {\n",
              "        vertical-align: top;\n",
              "    }\n",
              "\n",
              "    .dataframe thead th {\n",
              "        text-align: right;\n",
              "    }\n",
              "</style>\n",
              "<table border=\"1\" class=\"dataframe\">\n",
              "  <thead>\n",
              "    <tr style=\"text-align: right;\">\n",
              "      <th></th>\n",
              "      <th>returns</th>\n",
              "      <th>name</th>\n",
              "      <th>pdi</th>\n",
              "      <th>mdi</th>\n",
              "    </tr>\n",
              "  </thead>\n",
              "  <tbody>\n",
              "    <tr>\n",
              "      <th>returns</th>\n",
              "      <td>1.000000</td>\n",
              "      <td>0.003093</td>\n",
              "      <td>0.293524</td>\n",
              "      <td>-0.249640</td>\n",
              "    </tr>\n",
              "    <tr>\n",
              "      <th>name</th>\n",
              "      <td>0.003093</td>\n",
              "      <td>1.000000</td>\n",
              "      <td>0.013058</td>\n",
              "      <td>0.020695</td>\n",
              "    </tr>\n",
              "    <tr>\n",
              "      <th>pdi</th>\n",
              "      <td>0.293524</td>\n",
              "      <td>0.013058</td>\n",
              "      <td>1.000000</td>\n",
              "      <td>-0.447620</td>\n",
              "    </tr>\n",
              "    <tr>\n",
              "      <th>mdi</th>\n",
              "      <td>-0.249640</td>\n",
              "      <td>0.020695</td>\n",
              "      <td>-0.447620</td>\n",
              "      <td>1.000000</td>\n",
              "    </tr>\n",
              "  </tbody>\n",
              "</table>\n",
              "</div>"
            ],
            "text/plain": [
              "          returns      name       pdi       mdi\n",
              "returns  1.000000  0.003093  0.293524 -0.249640\n",
              "name     0.003093  1.000000  0.013058  0.020695\n",
              "pdi      0.293524  0.013058  1.000000 -0.447620\n",
              "mdi     -0.249640  0.020695 -0.447620  1.000000"
            ]
          },
          "metadata": {
            "tags": []
          },
          "execution_count": 10
        }
      ]
    },
    {
      "cell_type": "code",
      "metadata": {
        "id": "zkiLL5C5Fpsb",
        "colab_type": "code",
        "colab": {}
      },
      "source": [
        "\n",
        "from sklearn.cluster import DBSCAN\n",
        "from sklearn.cluster import KMeans"
      ],
      "execution_count": 0,
      "outputs": []
    },
    {
      "cell_type": "code",
      "metadata": {
        "id": "U7_RDZCuFpsh",
        "colab_type": "code",
        "outputId": "53bbc3af-82f6-4f56-883d-148efa3fda7c",
        "colab": {
          "base_uri": "https://localhost:8080/",
          "height": 102
        }
      },
      "source": [
        "stock1.isnull().sum()"
      ],
      "execution_count": 0,
      "outputs": [
        {
          "output_type": "execute_result",
          "data": {
            "text/plain": [
              "returns    149\n",
              "name         0\n",
              "pdi        157\n",
              "mdi        157\n",
              "dtype: int64"
            ]
          },
          "metadata": {
            "tags": []
          },
          "execution_count": 12
        }
      ]
    },
    {
      "cell_type": "code",
      "metadata": {
        "id": "tBb8Ok5RFpsl",
        "colab_type": "code",
        "outputId": "c8e67ff1-615f-4c1d-f0d7-8187391bc9da",
        "colab": {
          "base_uri": "https://localhost:8080/",
          "height": 235
        }
      },
      "source": [
        "stock1= stock1.dropna()\n",
        "stock1.head()"
      ],
      "execution_count": 0,
      "outputs": [
        {
          "output_type": "execute_result",
          "data": {
            "text/html": [
              "<div>\n",
              "<style scoped>\n",
              "    .dataframe tbody tr th:only-of-type {\n",
              "        vertical-align: middle;\n",
              "    }\n",
              "\n",
              "    .dataframe tbody tr th {\n",
              "        vertical-align: top;\n",
              "    }\n",
              "\n",
              "    .dataframe thead th {\n",
              "        text-align: right;\n",
              "    }\n",
              "</style>\n",
              "<table border=\"1\" class=\"dataframe\">\n",
              "  <thead>\n",
              "    <tr style=\"text-align: right;\">\n",
              "      <th></th>\n",
              "      <th>returns</th>\n",
              "      <th>name</th>\n",
              "      <th>pdi</th>\n",
              "      <th>mdi</th>\n",
              "    </tr>\n",
              "    <tr>\n",
              "      <th>Date</th>\n",
              "      <th></th>\n",
              "      <th></th>\n",
              "      <th></th>\n",
              "      <th></th>\n",
              "    </tr>\n",
              "  </thead>\n",
              "  <tbody>\n",
              "    <tr>\n",
              "      <th>2014-08-14</th>\n",
              "      <td>-0.001234</td>\n",
              "      <td>1</td>\n",
              "      <td>0.000000</td>\n",
              "      <td>21.428571</td>\n",
              "    </tr>\n",
              "    <tr>\n",
              "      <th>2014-08-18</th>\n",
              "      <td>0.000989</td>\n",
              "      <td>1</td>\n",
              "      <td>7.747196</td>\n",
              "      <td>13.428473</td>\n",
              "    </tr>\n",
              "    <tr>\n",
              "      <th>2014-08-19</th>\n",
              "      <td>0.060000</td>\n",
              "      <td>1</td>\n",
              "      <td>50.638483</td>\n",
              "      <td>4.619652</td>\n",
              "    </tr>\n",
              "    <tr>\n",
              "      <th>2014-08-20</th>\n",
              "      <td>-0.010715</td>\n",
              "      <td>1</td>\n",
              "      <td>35.901172</td>\n",
              "      <td>3.275195</td>\n",
              "    </tr>\n",
              "    <tr>\n",
              "      <th>2014-08-21</th>\n",
              "      <td>0.012008</td>\n",
              "      <td>1</td>\n",
              "      <td>29.130585</td>\n",
              "      <td>2.657528</td>\n",
              "    </tr>\n",
              "  </tbody>\n",
              "</table>\n",
              "</div>"
            ],
            "text/plain": [
              "             returns  name        pdi        mdi\n",
              "Date                                            \n",
              "2014-08-14 -0.001234     1   0.000000  21.428571\n",
              "2014-08-18  0.000989     1   7.747196  13.428473\n",
              "2014-08-19  0.060000     1  50.638483   4.619652\n",
              "2014-08-20 -0.010715     1  35.901172   3.275195\n",
              "2014-08-21  0.012008     1  29.130585   2.657528"
            ]
          },
          "metadata": {
            "tags": []
          },
          "execution_count": 13
        }
      ]
    },
    {
      "cell_type": "code",
      "metadata": {
        "id": "XfPyqgeBcupi",
        "colab_type": "code",
        "outputId": "e60d5e7e-b0cd-4be9-e627-5f022aee5ae0",
        "colab": {
          "base_uri": "https://localhost:8080/",
          "height": 285
        }
      },
      "source": [
        "from sklearn.neighbors import NearestNeighbors\n",
        "import matplotlib.pyplot as plt\n",
        "nbrs = NearestNeighbors(n_neighbors=2).fit(stock1)\n",
        "distances, indices = nbrs.kneighbors(stock1)\n",
        "distanceDec = sorted(distances[:,1], reverse=True)\n",
        "plt.plot(list(range(1,len(distanceDec)+1)), distanceDec)"
      ],
      "execution_count": 0,
      "outputs": [
        {
          "output_type": "execute_result",
          "data": {
            "text/plain": [
              "[<matplotlib.lines.Line2D at 0x7f0d5c47f4e0>]"
            ]
          },
          "metadata": {
            "tags": []
          },
          "execution_count": 14
        },
        {
          "output_type": "display_data",
          "data": {
            "image/png": "[encoded data removed]",
            "text/plain": [
              "<Figure size 432x288 with 1 Axes>"
            ]
          },
          "metadata": {
            "tags": []
          }
        }
      ]
    },
    {
      "cell_type": "code",
      "metadata": {
        "id": "dgHO6vRAFpsp",
        "colab_type": "code",
        "outputId": "aab44b43-67ff-4819-b9c9-88e203d82274",
        "colab": {
          "base_uri": "https://localhost:8080/",
          "height": 34
        }
      },
      "source": [
        "clustering = DBSCAN(eps=2.9,min_samples=200).fit(stock1)\n",
        "clustering.labels_"
      ],
      "execution_count": 0,
      "outputs": [
        {
          "output_type": "execute_result",
          "data": {
            "text/plain": [
              "array([-1, -1, -1, ...,  1,  1, -1])"
            ]
          },
          "metadata": {
            "tags": []
          },
          "execution_count": 15
        }
      ]
    },
    {
      "cell_type": "code",
      "metadata": {
        "id": "tr5ZuNeBFps5",
        "colab_type": "code",
        "outputId": "d68e633a-969d-4841-e300-ddccc01a536e",
        "colab": {
          "base_uri": "https://localhost:8080/",
          "height": 85
        }
      },
      "source": [
        "pt = pd.Series(clustering.labels_)\n",
        "pt.value_counts()"
      ],
      "execution_count": 0,
      "outputs": [
        {
          "output_type": "execute_result",
          "data": {
            "text/plain": [
              "-1    93230\n",
              " 0    60156\n",
              " 1    29429\n",
              "dtype: int64"
            ]
          },
          "metadata": {
            "tags": []
          },
          "execution_count": 16
        }
      ]
    },
    {
      "cell_type": "code",
      "metadata": {
        "id": "3Hdf-tkMSKMs",
        "colab_type": "code",
        "outputId": "0bde8d31-10f0-4ae3-9e07-5236112e7455",
        "colab": {
          "base_uri": "https://localhost:8080/",
          "height": 68
        }
      },
      "source": [
        "from sklearn.cluster import KMeans\n",
        "kmeans = KMeans(n_clusters=2, random_state=42).fit(stock1)\n",
        "kmeans.labels_\n",
        "pt = pd.Series(kmeans.labels_)\n",
        "pt.value_counts()"
      ],
      "execution_count": 0,
      "outputs": [
        {
          "output_type": "execute_result",
          "data": {
            "text/plain": [
              "0    92021\n",
              "1    90794\n",
              "dtype: int64"
            ]
          },
          "metadata": {
            "tags": []
          },
          "execution_count": 17
        }
      ]
    },
    {
      "cell_type": "code",
      "metadata": {
        "id": "ByVzwuwoFps-",
        "colab_type": "code",
        "colab": {}
      },
      "source": [
        "stock1.insert(2, \"Cluster2\", pt.tolist(), True)"
      ],
      "execution_count": 0,
      "outputs": []
    },
    {
      "cell_type": "code",
      "metadata": {
        "id": "m9rjCEh8vl4r",
        "colab_type": "code",
        "outputId": "132eae2c-e81f-4e27-96df-92c820f5cc28",
        "colab": {
          "base_uri": "https://localhost:8080/",
          "height": 235
        }
      },
      "source": [
        "stock1.head()"
      ],
      "execution_count": 0,
      "outputs": [
        {
          "output_type": "execute_result",
          "data": {
            "text/html": [
              "<div>\n",
              "<style scoped>\n",
              "    .dataframe tbody tr th:only-of-type {\n",
              "        vertical-align: middle;\n",
              "    }\n",
              "\n",
              "    .dataframe tbody tr th {\n",
              "        vertical-align: top;\n",
              "    }\n",
              "\n",
              "    .dataframe thead th {\n",
              "        text-align: right;\n",
              "    }\n",
              "</style>\n",
              "<table border=\"1\" class=\"dataframe\">\n",
              "  <thead>\n",
              "    <tr style=\"text-align: right;\">\n",
              "      <th></th>\n",
              "      <th>returns</th>\n",
              "      <th>name</th>\n",
              "      <th>Cluster2</th>\n",
              "      <th>pdi</th>\n",
              "      <th>mdi</th>\n",
              "    </tr>\n",
              "    <tr>\n",
              "      <th>Date</th>\n",
              "      <th></th>\n",
              "      <th></th>\n",
              "      <th></th>\n",
              "      <th></th>\n",
              "      <th></th>\n",
              "    </tr>\n",
              "  </thead>\n",
              "  <tbody>\n",
              "    <tr>\n",
              "      <th>2014-08-14</th>\n",
              "      <td>-0.001234</td>\n",
              "      <td>1</td>\n",
              "      <td>1</td>\n",
              "      <td>0.000000</td>\n",
              "      <td>21.428571</td>\n",
              "    </tr>\n",
              "    <tr>\n",
              "      <th>2014-08-18</th>\n",
              "      <td>0.000989</td>\n",
              "      <td>1</td>\n",
              "      <td>1</td>\n",
              "      <td>7.747196</td>\n",
              "      <td>13.428473</td>\n",
              "    </tr>\n",
              "    <tr>\n",
              "      <th>2014-08-19</th>\n",
              "      <td>0.060000</td>\n",
              "      <td>1</td>\n",
              "      <td>1</td>\n",
              "      <td>50.638483</td>\n",
              "      <td>4.619652</td>\n",
              "    </tr>\n",
              "    <tr>\n",
              "      <th>2014-08-20</th>\n",
              "      <td>-0.010715</td>\n",
              "      <td>1</td>\n",
              "      <td>1</td>\n",
              "      <td>35.901172</td>\n",
              "      <td>3.275195</td>\n",
              "    </tr>\n",
              "    <tr>\n",
              "      <th>2014-08-21</th>\n",
              "      <td>0.012008</td>\n",
              "      <td>1</td>\n",
              "      <td>1</td>\n",
              "      <td>29.130585</td>\n",
              "      <td>2.657528</td>\n",
              "    </tr>\n",
              "  </tbody>\n",
              "</table>\n",
              "</div>"
            ],
            "text/plain": [
              "             returns  name  Cluster2        pdi        mdi\n",
              "Date                                                      \n",
              "2014-08-14 -0.001234     1         1   0.000000  21.428571\n",
              "2014-08-18  0.000989     1         1   7.747196  13.428473\n",
              "2014-08-19  0.060000     1         1  50.638483   4.619652\n",
              "2014-08-20 -0.010715     1         1  35.901172   3.275195\n",
              "2014-08-21  0.012008     1         1  29.130585   2.657528"
            ]
          },
          "metadata": {
            "tags": []
          },
          "execution_count": 19
        }
      ]
    },
    {
      "cell_type": "code",
      "metadata": {
        "id": "-81_8sBHwD8b",
        "colab_type": "code",
        "outputId": "ae959178-16ee-47cd-c637-34a84e7e077b",
        "colab": {
          "base_uri": "https://localhost:8080/",
          "height": 697
        }
      },
      "source": [
        "stock1[\"Cluster1\"].value_counts()"
      ],
      "execution_count": 0,
      "outputs": [
        {
          "output_type": "error",
          "ename": "KeyError",
          "evalue": "ignored",
          "traceback": [
            "\u001b[0;31m---------------------------------------------------------------------------\u001b[0m",
            "\u001b[0;31mKeyError\u001b[0m                                  Traceback (most recent call last)",
            "\u001b[0;32m/usr/local/lib/python3.6/dist-packages/pandas/core/indexes/base.py\u001b[0m in \u001b[0;36mget_loc\u001b[0;34m(self, key, method, tolerance)\u001b[0m\n\u001b[1;32m   2896\u001b[0m             \u001b[0;32mtry\u001b[0m\u001b[0;34m:\u001b[0m\u001b[0;34m\u001b[0m\u001b[0;34m\u001b[0m\u001b[0m\n\u001b[0;32m-> 2897\u001b[0;31m                 \u001b[0;32mreturn\u001b[0m \u001b[0mself\u001b[0m\u001b[0;34m.\u001b[0m\u001b[0m_engine\u001b[0m\u001b[0;34m.\u001b[0m\u001b[0mget_loc\u001b[0m\u001b[0;34m(\u001b[0m\u001b[0mkey\u001b[0m\u001b[0;34m)\u001b[0m\u001b[0;34m\u001b[0m\u001b[0;34m\u001b[0m\u001b[0m\n\u001b[0m\u001b[1;32m   2898\u001b[0m             \u001b[0;32mexcept\u001b[0m \u001b[0mKeyError\u001b[0m\u001b[0;34m:\u001b[0m\u001b[0;34m\u001b[0m\u001b[0;34m\u001b[0m\u001b[0m\n",
            "\u001b[0;32mpandas/_libs/index.pyx\u001b[0m in \u001b[0;36mpandas._libs.index.IndexEngine.get_loc\u001b[0;34m()\u001b[0m\n",
            "\u001b[0;32mpandas/_libs/index.pyx\u001b[0m in \u001b[0;36mpandas._libs.index.IndexEngine.get_loc\u001b[0;34m()\u001b[0m\n",
            "\u001b[0;32mpandas/_libs/hashtable_class_helper.pxi\u001b[0m in \u001b[0;36mpandas._libs.hashtable.PyObjectHashTable.get_item\u001b[0;34m()\u001b[0m\n",
            "\u001b[0;32mpandas/_libs/hashtable_class_helper.pxi\u001b[0m in \u001b[0;36mpandas._libs.hashtable.PyObjectHashTable.get_item\u001b[0;34m()\u001b[0m\n",
            "\u001b[0;31mKeyError\u001b[0m: 'Cluster1'",
            "\nDuring handling of the above exception, another exception occurred:\n",
            "\u001b[0;31mKeyError\u001b[0m                                  Traceback (most recent call last)",
            "\u001b[0;32m<ipython-input-20-56d824173694>\u001b[0m in \u001b[0;36m<module>\u001b[0;34m()\u001b[0m\n\u001b[0;32m----> 1\u001b[0;31m \u001b[0mstock1\u001b[0m\u001b[0;34m[\u001b[0m\u001b[0;34m\"Cluster1\"\u001b[0m\u001b[0;34m]\u001b[0m\u001b[0;34m.\u001b[0m\u001b[0mvalue_counts\u001b[0m\u001b[0;34m(\u001b[0m\u001b[0;34m)\u001b[0m\u001b[0;34m\u001b[0m\u001b[0;34m\u001b[0m\u001b[0m\n\u001b[0m",
            "\u001b[0;32m/usr/local/lib/python3.6/dist-packages/pandas/core/frame.py\u001b[0m in \u001b[0;36m__getitem__\u001b[0;34m(self, key)\u001b[0m\n\u001b[1;32m   2993\u001b[0m             \u001b[0;32mif\u001b[0m \u001b[0mself\u001b[0m\u001b[0;34m.\u001b[0m\u001b[0mcolumns\u001b[0m\u001b[0;34m.\u001b[0m\u001b[0mnlevels\u001b[0m \u001b[0;34m>\u001b[0m \u001b[0;36m1\u001b[0m\u001b[0;34m:\u001b[0m\u001b[0;34m\u001b[0m\u001b[0;34m\u001b[0m\u001b[0m\n\u001b[1;32m   2994\u001b[0m                 \u001b[0;32mreturn\u001b[0m \u001b[0mself\u001b[0m\u001b[0;34m.\u001b[0m\u001b[0m_getitem_multilevel\u001b[0m\u001b[0;34m(\u001b[0m\u001b[0mkey\u001b[0m\u001b[0;34m)\u001b[0m\u001b[0;34m\u001b[0m\u001b[0;34m\u001b[0m\u001b[0m\n\u001b[0;32m-> 2995\u001b[0;31m             \u001b[0mindexer\u001b[0m \u001b[0;34m=\u001b[0m \u001b[0mself\u001b[0m\u001b[0;34m.\u001b[0m\u001b[0mcolumns\u001b[0m\u001b[0;34m.\u001b[0m\u001b[0mget_loc\u001b[0m\u001b[0;34m(\u001b[0m\u001b[0mkey\u001b[0m\u001b[0;34m)\u001b[0m\u001b[0;34m\u001b[0m\u001b[0;34m\u001b[0m\u001b[0m\n\u001b[0m\u001b[1;32m   2996\u001b[0m             \u001b[0;32mif\u001b[0m \u001b[0mis_integer\u001b[0m\u001b[0;34m(\u001b[0m\u001b[0mindexer\u001b[0m\u001b[0;34m)\u001b[0m\u001b[0;34m:\u001b[0m\u001b[0;34m\u001b[0m\u001b[0;34m\u001b[0m\u001b[0m\n\u001b[1;32m   2997\u001b[0m                 \u001b[0mindexer\u001b[0m \u001b[0;34m=\u001b[0m \u001b[0;34m[\u001b[0m\u001b[0mindexer\u001b[0m\u001b[0;34m]\u001b[0m\u001b[0;34m\u001b[0m\u001b[0;34m\u001b[0m\u001b[0m\n",
            "\u001b[0;32m/usr/local/lib/python3.6/dist-packages/pandas/core/indexes/base.py\u001b[0m in \u001b[0;36mget_loc\u001b[0;34m(self, key, method, tolerance)\u001b[0m\n\u001b[1;32m   2897\u001b[0m                 \u001b[0;32mreturn\u001b[0m \u001b[0mself\u001b[0m\u001b[0;34m.\u001b[0m\u001b[0m_engine\u001b[0m\u001b[0;34m.\u001b[0m\u001b[0mget_loc\u001b[0m\u001b[0;34m(\u001b[0m\u001b[0mkey\u001b[0m\u001b[0;34m)\u001b[0m\u001b[0;34m\u001b[0m\u001b[0;34m\u001b[0m\u001b[0m\n\u001b[1;32m   2898\u001b[0m             \u001b[0;32mexcept\u001b[0m \u001b[0mKeyError\u001b[0m\u001b[0;34m:\u001b[0m\u001b[0;34m\u001b[0m\u001b[0;34m\u001b[0m\u001b[0m\n\u001b[0;32m-> 2899\u001b[0;31m                 \u001b[0;32mreturn\u001b[0m \u001b[0mself\u001b[0m\u001b[0;34m.\u001b[0m\u001b[0m_engine\u001b[0m\u001b[0;34m.\u001b[0m\u001b[0mget_loc\u001b[0m\u001b[0;34m(\u001b[0m\u001b[0mself\u001b[0m\u001b[0;34m.\u001b[0m\u001b[0m_maybe_cast_indexer\u001b[0m\u001b[0;34m(\u001b[0m\u001b[0mkey\u001b[0m\u001b[0;34m)\u001b[0m\u001b[0;34m)\u001b[0m\u001b[0;34m\u001b[0m\u001b[0;34m\u001b[0m\u001b[0m\n\u001b[0m\u001b[1;32m   2900\u001b[0m         \u001b[0mindexer\u001b[0m \u001b[0;34m=\u001b[0m \u001b[0mself\u001b[0m\u001b[0;34m.\u001b[0m\u001b[0mget_indexer\u001b[0m\u001b[0;34m(\u001b[0m\u001b[0;34m[\u001b[0m\u001b[0mkey\u001b[0m\u001b[0;34m]\u001b[0m\u001b[0;34m,\u001b[0m \u001b[0mmethod\u001b[0m\u001b[0;34m=\u001b[0m\u001b[0mmethod\u001b[0m\u001b[0;34m,\u001b[0m \u001b[0mtolerance\u001b[0m\u001b[0;34m=\u001b[0m\u001b[0mtolerance\u001b[0m\u001b[0;34m)\u001b[0m\u001b[0;34m\u001b[0m\u001b[0;34m\u001b[0m\u001b[0m\n\u001b[1;32m   2901\u001b[0m         \u001b[0;32mif\u001b[0m \u001b[0mindexer\u001b[0m\u001b[0;34m.\u001b[0m\u001b[0mndim\u001b[0m \u001b[0;34m>\u001b[0m \u001b[0;36m1\u001b[0m \u001b[0;32mor\u001b[0m \u001b[0mindexer\u001b[0m\u001b[0;34m.\u001b[0m\u001b[0msize\u001b[0m \u001b[0;34m>\u001b[0m \u001b[0;36m1\u001b[0m\u001b[0;34m:\u001b[0m\u001b[0;34m\u001b[0m\u001b[0;34m\u001b[0m\u001b[0m\n",
            "\u001b[0;32mpandas/_libs/index.pyx\u001b[0m in \u001b[0;36mpandas._libs.index.IndexEngine.get_loc\u001b[0;34m()\u001b[0m\n",
            "\u001b[0;32mpandas/_libs/index.pyx\u001b[0m in \u001b[0;36mpandas._libs.index.IndexEngine.get_loc\u001b[0;34m()\u001b[0m\n",
            "\u001b[0;32mpandas/_libs/hashtable_class_helper.pxi\u001b[0m in \u001b[0;36mpandas._libs.hashtable.PyObjectHashTable.get_item\u001b[0;34m()\u001b[0m\n",
            "\u001b[0;32mpandas/_libs/hashtable_class_helper.pxi\u001b[0m in \u001b[0;36mpandas._libs.hashtable.PyObjectHashTable.get_item\u001b[0;34m()\u001b[0m\n",
            "\u001b[0;31mKeyError\u001b[0m: 'Cluster1'"
          ]
        }
      ]
    },
    {
      "cell_type": "code",
      "metadata": {
        "id": "i5--vI_jykr1",
        "colab_type": "code",
        "colab": {}
      },
      "source": [
        "stock1[stock1.Cluster2==0]['name'].unique()"
      ],
      "execution_count": 0,
      "outputs": []
    },
    {
      "cell_type": "code",
      "metadata": {
        "id": "yFk2oEYdoSZi",
        "colab_type": "code",
        "colab": {}
      },
      "source": [
        "stock1[stock1.Cluster2==1]['name'].unique()"
      ],
      "execution_count": 0,
      "outputs": []
    },
    {
      "cell_type": "code",
      "metadata": {
        "id": "DFJnx_Gtp_Ku",
        "colab_type": "code",
        "colab": {}
      },
      "source": [
        "stock1[stock1.Cluster2==-1]['name'].unique()"
      ],
      "execution_count": 0,
      "outputs": []
    },
    {
      "cell_type": "code",
      "metadata": {
        "id": "HwuW3U42rCO8",
        "colab_type": "code",
        "colab": {}
      },
      "source": [
        "stock1[stock1.Cluster1==3]['name'].unique()"
      ],
      "execution_count": 0,
      "outputs": []
    },
    {
      "cell_type": "code",
      "metadata": {
        "id": "TrmMbSvFrF8V",
        "colab_type": "code",
        "colab": {}
      },
      "source": [
        "import matplotlib.pyplot as plt\n",
        "plt.plot(stock1[stock1.name==145][\"returns\"],color=\"red\")\n",
        "plt.show()\n",
        "plt.plot(stock1[stock1.name==126][\"returns\"],color=\"blue\")\n",
        "plt.show()\n",
        "plt.plot(stock1[stock1.name==84][\"returns\"],color=\"green\")\n",
        "plt.show()\n",
        "plt.plot(stock1[stock1.name==1][\"returns\"],color=\"yellow\")\n",
        "plt.show()"
      ],
      "execution_count": 0,
      "outputs": []
    },
    {
      "cell_type": "code",
      "metadata": {
        "id": "xuDdmnMwthOU",
        "colab_type": "code",
        "colab": {}
      },
      "source": [
        "## Data Wrangling\n",
        "stock.head()\n",
        "stock['stocknumber']=stocknumber"
      ],
      "execution_count": 0,
      "outputs": []
    },
    {
      "cell_type": "code",
      "metadata": {
        "id": "Z5rbU_8EuOM2",
        "colab_type": "code",
        "colab": {}
      },
      "source": [
        "datapipe=pd.DataFrame()\n",
        "datapipe=datapipe.append(stock[stock.stocknumber==141])\n",
        "datapipe=datapipe.append(stock[stock.stocknumber==142])\n",
        "datapipe=datapipe.append(stock[stock.stocknumber==143])\n",
        "datapipe=datapipe.append(stock[stock.stocknumber==144])\n",
        "datapipe=datapipe.append(stock[stock.stocknumber==2])\n",
        "datapipe=datapipe.append(stock[stock.stocknumber==3])\n",
        "datapipe=datapipe.append(stock[stock.stocknumber==4])\n",
        "datapipe=datapipe.append(stock[stock.stocknumber==5])\n",
        "datapipe=datapipe.append(stock[stock.stocknumber==145])\n",
        "datapipe=datapipe.append(stock[stock.stocknumber==146])\n",
        "list_stock=datapipe['name'].unique()\n",
        "datapipe1=datapipe[['open','high','low','close']]\n",
        "datapipe1.shape\n",
        "\n",
        "lists=[]\n",
        "for i in list_stock:\n",
        "  lists.append(i+'.csv')\n",
        "lists"
      ],
      "execution_count": 0,
      "outputs": []
    },
    {
      "cell_type": "code",
      "metadata": {
        "id": "5sbBzjgRDWwW",
        "colab_type": "code",
        "colab": {}
      },
      "source": [
        "list_stock=list_stock.tolist()"
      ],
      "execution_count": 0,
      "outputs": []
    },
    {
      "cell_type": "code",
      "metadata": {
        "id": "SYsKMwHl7oe2",
        "colab_type": "code",
        "colab": {}
      },
      "source": [
        "datapipe=pd.DataFrame()\n",
        "list_of_stocks=[141,142,143,144,2,3,4,5,145,146]\n",
        "for i in range(0,len(list_of_stocks)):\n",
        "  stock[stock.stocknumber==list_of_stocks[i]].to_csv(list_stock[i]+'.csv')"
      ],
      "execution_count": 0,
      "outputs": []
    },
    {
      "cell_type": "code",
      "metadata": {
        "id": "xA__4o1u9Vqe",
        "colab_type": "code",
        "colab": {}
      },
      "source": [
        "import os\n",
        "import pathlib\n",
        "\n",
        "from time import strptime\n",
        "from datetime import datetime\n",
        "\n",
        "from tqdm import tqdm\n",
        "\n",
        "#for plot\n",
        "import matplotlib.pyplot as plt\n",
        "import matplotlib.image as mpimg\n",
        "%matplotlib inline\n",
        "\n",
        "import numpy as np\n",
        "import pandas as pd\n",
        "import seaborn as sns \n",
        "import PIL\n",
        "import pickle\n",
        "from time import strftime\n",
        "\n",
        "import seaborn as sns\n",
        "sns.despine()\n",
        "list_open = list()\n",
        "list_close = list()\n",
        "list_high = list()\n",
        "list_low = list()\n",
        "\n",
        "for s in tqdm(lists):\n",
        "    data = pd.read_csv(s)#.fillna('bfill').copy()\n",
        "    data = data.rename(columns={'Open':'open','High':'high','Low':'low','Close':'close'})\n",
        "    #print(len(data))\n",
        "    data = data[['open', 'close', 'high', 'low']]\n",
        "    #print(data.open.values.astype(float).astype(int))\n",
        "\n",
        "    #print(type(data))\n",
        "    list_open.append(data.open.values)\n",
        "    #print(type(list_open))\n",
        "    list_close.append(data.close.values)\n",
        "    list_high.append(data.high.values)\n",
        "    list_low.append(data.low.values)\n",
        "\n",
        "array_open = np.transpose(np.array(list_open))[:-1]\n",
        "array_open_of_the_day = np.transpose(np.array(list_open))[1:]\n",
        "array_close = np.transpose(np.array(list_close))[:-1]\n",
        "array_high = np.transpose(np.array(list_high))[:-1]\n",
        "array_low = np.transpose(np.array(list_low))[:-1]\n",
        "\n",
        "X = np.transpose(np.array([array_close/array_open, \n",
        "                           array_high/array_open,\n",
        "                           array_low/array_open,\n",
        "                           array_open_of_the_day/array_open]), axes= (0,2,1))\n",
        "print(X.shape)\n",
        "np.save('india1.npy', X)\n"
      ],
      "execution_count": 0,
      "outputs": []
    },
    {
      "cell_type": "code",
      "metadata": {
        "id": "7Vw0H4tfFSz-",
        "colab_type": "code",
        "colab": {}
      },
      "source": [
        "!pip install environment\n",
        "import tensorflow as tf\n",
        "import numpy as np\n",
        "from collections import deque\n",
        "import random\n",
        "import pandas as pd\n",
        "!pip install ffn\n",
        "import ffn\n",
        "from environment import *\n",
        "\n",
        "%matplotlib inline\n",
        "import matplotlib\n",
        "import matplotlib.pyplot as plt\n",
        "\n",
        "from tqdm import tqdm"
      ],
      "execution_count": 0,
      "outputs": []
    },
    {
      "cell_type": "code",
      "metadata": {
        "id": "RA6HCnmWFmdS",
        "colab_type": "code",
        "colab": {}
      },
      "source": [
        "path_data = 'india1.npy'\n",
        "\n",
        "# determine the length of the data, #features, #stocks\n",
        "data = np.load(path_data)\n",
        "trading_period = data.shape[2]\n",
        "nb_feature_map = data.shape[0]\n",
        "nb_stocks = data.shape[1]\n",
        "\n",
        "# fix parameters of the network\n",
        "m = nb_stocks\n",
        "print(data.shape)\n",
        "###############################dictionaries of the problem###########################\n",
        "dict_hp_net = {'n_filter_1': 2, 'n_filter_2': 20, 'kernel1_size':(1, 3)}\n",
        "dict_hp_pb = {'batch_size': 50, 'ratio_train': 0.6,'ratio_val': 0.2, 'length_tensor': 10,\n",
        "              'ratio_greedy':0.8, 'ratio_regul': 0.1}\n",
        "dict_hp_opt = {'regularization': 1e-8, 'learning': 9e-2}\n",
        "dict_fin = {'trading_cost': 0.25/100, 'interest_rate': 0.02/250, 'cash_bias_init': 0.7}\n",
        "dict_train = {'pf_init_train': 10000, 'w_init_train': 'd', 'n_episodes':2, 'n_batches':10}\n",
        "dict_test = {'pf_init_test': 10000, 'w_init_test': 'd'}\n",
        "\n",
        "\n",
        "###############################HP of the network ###########################\n",
        "n_filter_1 = dict_hp_net['n_filter_1']\n",
        "n_filter_2 = dict_hp_net['n_filter_2']\n",
        "kernel1_size = dict_hp_net['kernel1_size']\n",
        "\n",
        "###############################HP of the problem###########################\n",
        "\n",
        "# Size of mini-batch during training\n",
        "batch_size = dict_hp_pb['batch_size']\n",
        "# Total number of steps for pre-training in the training set\n",
        "total_steps_train = int(dict_hp_pb['ratio_train']*trading_period)\n",
        "\n",
        "# Total number of steps for pre-training in the validation set\n",
        "total_steps_val = int(dict_hp_pb['ratio_val']*trading_period)\n",
        "\n",
        "# Total number of steps for the test\n",
        "total_steps_test = trading_period-total_steps_train-total_steps_val\n",
        "\n",
        "# Number of the columns (number of the trading periods) in each input price matrix\n",
        "n = dict_hp_pb['length_tensor']\n",
        "\n",
        "ratio_greedy = dict_hp_pb['ratio_greedy']\n",
        "\n",
        "ratio_regul = dict_hp_pb['ratio_regul']\n",
        "\n",
        "##############################HP of the optimization###########################\n",
        "\n",
        "\n",
        "# The L2 regularization coefficient applied to network training\n",
        "regularization = dict_hp_opt['regularization']\n",
        "# Parameter alpha (i.e. the step size) of the Adam optimization\n",
        "learning = dict_hp_opt['learning']\n",
        "\n",
        "optimizer = tf.train.AdamOptimizer(learning)\n",
        "\n",
        "\n",
        "##############################Finance parameters###########################\n",
        "\n",
        "trading_cost= dict_fin['trading_cost']\n",
        "interest_rate= dict_fin['interest_rate']\n",
        "cash_bias_init = dict_fin['cash_bias_init']\n",
        "\n",
        "############################## PVM Parameters ###########################\n",
        "sample_bias = 5e-5  # Beta in the geometric distribution for online training sample batches\n",
        "\n",
        "\n",
        "############################## Training Parameters ###########################\n",
        "\n",
        "w_init_train = np.array(np.array([1]+[0]*m))#dict_train['w_init_train']\n",
        "\n",
        "pf_init_train = dict_train['pf_init_train']\n",
        "\n",
        "n_episodes = dict_train['n_episodes']\n",
        "n_batches = dict_train['n_batches']\n",
        "\n",
        "############################## Test Parameters ###########################\n",
        "\n",
        "w_init_test = np.array(np.array([1]+[0]*m))#dict_test['w_init_test']\n",
        "\n",
        "pf_init_test = dict_test['pf_init_test']\n",
        "\n",
        "\n",
        "############################## other environment Parameters ###########################\n",
        "\n",
        "w_eq = np.array(np.array([1/(m+1)]*(m+1)))\n",
        "\n",
        "w_s = np.array(np.array([1]+[0.0]*m))\n",
        "\n",
        "#random action function\n",
        "\n",
        "def get_random_action(m):\n",
        "    random_vec = np.random.rand(m+1)\n",
        "    return random_vec/np.sum(random_vec)\n"
      ],
      "execution_count": 0,
      "outputs": []
    },
    {
      "cell_type": "code",
      "metadata": {
        "id": "7HPT-C6PHJmT",
        "colab_type": "code",
        "colab": {}
      },
      "source": [
        "import math\n",
        "import gym\n",
        "from gym import spaces, logger\n",
        "from gym.utils import seeding\n",
        "import numpy as np\n",
        "from gym.envs.registration import register\n",
        "\n",
        "class TradeEnv():\n",
        "\n",
        "    \"\"\"\n",
        "    This class is the trading environment (render) of our project. \n",
        "\n",
        "    The trading agent calls the class by giving an action at the time t. \n",
        "    Then the render gives back the new portfolio at the next step (time t+1). \n",
        "\n",
        "    #parameters:\n",
        "\n",
        "    - windonw_length: this is the number of time slots looked in the past to build the input tensor\n",
        "    - portfolio_value: this is the initial value of the portfolio \n",
        "    - trading_cost: this is the cost (in % of the traded stocks) the agent will pay to execute the action \n",
        "    - interest_rate: this is the rate of interest (in % of the money the agent has) the agent will:\n",
        "        -get at each step if he has a positive amount of money \n",
        "        -pay if he has a negative amount of money\n",
        "    -train_size: % of data taken for the training of the agent - please note the training data are taken with respect \n",
        "    of the time span (train -> | time T | -> test)\n",
        "    \"\"\"\n",
        "\n",
        "    def __init__(self, path = 'india1.npy', window_length=50,\n",
        "                 portfolio_value= 10000, trading_cost= 0.25/100,interest_rate= 0.02/250, train_size = 0.7):\n",
        "        \n",
        "        #path to numpy data\n",
        "        self.path = path\n",
        "        #load the whole data\n",
        "        self.data = np.load(self.path)\n",
        "\n",
        "\n",
        "        #parameters\n",
        "        self.portfolio_value = portfolio_value\n",
        "        self.window_length=window_length\n",
        "        self.trading_cost = trading_cost\n",
        "        self.interest_rate = interest_rate\n",
        "\n",
        "        #number of stocks and features\n",
        "        self.nb_stocks = self.data.shape[1]\n",
        "        self.nb_features = self.data.shape[0]\n",
        "        self.end_train = int((self.data.shape[2]-self.window_length)*train_size)#706\n",
        "        \n",
        "        #init state and index\n",
        "        self.index = None\n",
        "        self.state = None\n",
        "        self.done = False\n",
        "\n",
        "        #init seed\n",
        "        self.seed()\n",
        "\n",
        "    def return_pf(self):\n",
        "        \"\"\"\n",
        "        return the value of the portfolio\n",
        "        \"\"\"\n",
        "        return self.portfolio_value\n",
        "        \n",
        "    def readTensor(self,X,t):\n",
        "        ## this is not the tensor of equation 18 \n",
        "        ## need to batch normalize if you want this one \n",
        "        return X[ : , :, t-self.window_length:t ]\n",
        "    \n",
        "    def readUpdate(self, t):\n",
        "        #return the return of each stock for the day t \n",
        "        return np.array([1+self.interest_rate]+self.data[-1,:,t].tolist())\n",
        "\n",
        "    def seed(self, seed=None):\n",
        "        self.np_random, seed = seeding.np_random(seed)\n",
        "        return [seed]\n",
        "    \n",
        "    def reset(self, w_init, p_init, t=0 ):\n",
        "        \n",
        "        \"\"\" \n",
        "        This function restarts the environment with given initial weights and given value of portfolio\n",
        "\n",
        "        \"\"\"\n",
        "        self.state= (self.readTensor(self.data, self.window_length) , w_init , p_init )\n",
        "        self.index = self.window_length + t\n",
        "        self.done = False\n",
        "        \n",
        "        return self.state, self.done\n",
        "\n",
        "    def step(self, action):\n",
        "        \"\"\"\n",
        "        This function is the main part of the render. \n",
        "        At each step t, the trading agent gives as input the action he wants to do. So, he gives the new value of the weights of the portfolio. \n",
        "\n",
        "        The function computes the new value of the portfolio at the step (t+1), it returns also the reward associated with the action the agent took. \n",
        "        The reward is defined as the evolution of the the value of the portfolio in %. \n",
        "\n",
        "        \"\"\"\n",
        "\n",
        "        index = self.index\n",
        "        #get Xt from data:\n",
        "        data = self.readTensor(self.data, index)\n",
        "        done = self.done\n",
        "        \n",
        "        #beginning of the day \n",
        "        state = self.state\n",
        "        w_previous = state[1]\n",
        "        pf_previous = state[2]\n",
        "        \n",
        "        #the update vector is the vector of the opening price of the day divided by the opening price of the previous day\n",
        "        update_vector = self.readUpdate(index)\n",
        "\n",
        "        #allocation choice \n",
        "        w_alloc = action\n",
        "        pf_alloc = pf_previous\n",
        "        \n",
        "        #Compute transaction cost\n",
        "        cost = pf_alloc * np.linalg.norm((w_alloc-w_previous),ord = 1)* self.trading_cost\n",
        "        \n",
        "        #convert weight vector into value vector \n",
        "        v_alloc = pf_alloc*w_alloc\n",
        "        \n",
        "        #pay transaction costs\n",
        "        pf_trans = pf_alloc - cost\n",
        "        v_trans = v_alloc - np.array([cost]+ [0]*self.nb_stocks)\n",
        "        \n",
        "        #####market prices evolution \n",
        "        #we go to the end of the day \n",
        "        \n",
        "        #compute new value vector \n",
        "        v_evol = v_trans*update_vector\n",
        "\n",
        "        \n",
        "        #compute new portfolio value\n",
        "        pf_evol = np.sum(v_evol)\n",
        "        \n",
        "        #compute weight vector \n",
        "        w_evol = v_evol/pf_evol\n",
        "        \n",
        "        \n",
        "        #compute instanteanous reward\n",
        "        reward = (pf_evol-pf_previous)/pf_previous\n",
        "        \n",
        "        #update index\n",
        "        index = index+1\n",
        "        \n",
        "        #compute state\n",
        "        \n",
        "        state = (self.readTensor(self.data, index), w_evol, pf_evol)\n",
        "        \n",
        "        if index >= self.end_train:\n",
        "            done = True\n",
        "        \n",
        "        self.state = state\n",
        "        self.index = index\n",
        "        self.done = done\n",
        "        \n",
        "        return state, reward, done\n",
        "        \n",
        "        \n",
        "        \n",
        "        \n",
        "        \n",
        "        \n",
        " "
      ],
      "execution_count": 0,
      "outputs": []
    },
    {
      "cell_type": "code",
      "metadata": {
        "id": "CPvZbY-IGa03",
        "colab_type": "code",
        "colab": {}
      },
      "source": [
        "#environment for trading of the agent \n",
        "# this is the agent trading environment (policy network agent)\n",
        "env = TradeEnv(path=path_data, window_length=n,\n",
        "               portfolio_value=pf_init_train, trading_cost=trading_cost,\n",
        "               interest_rate=interest_rate, train_size=dict_hp_pb['ratio_train'])\n",
        "\n",
        "\n",
        "#environment for equiweighted\n",
        "#this environment is set up for an agent who only plays an equiweithed portfolio (baseline)\n",
        "env_eq = TradeEnv(path=path_data, window_length=n,\n",
        "               portfolio_value=pf_init_train, trading_cost=trading_cost,\n",
        "               interest_rate=interest_rate, train_size=dict_hp_pb['ratio_train'])\n",
        "\n",
        "#environment secured (only money)\n",
        "#this environment is set up for an agentwho plays secure, keeps its money\n",
        "env_s = TradeEnv(path=path_data, window_length=n,\n",
        "               portfolio_value=pf_init_train, trading_cost=trading_cost,\n",
        "               interest_rate=interest_rate, train_size=dict_hp_pb['ratio_train'])\n"
      ],
      "execution_count": 0,
      "outputs": []
    },
    {
      "cell_type": "code",
      "metadata": {
        "id": "2gm53msvGgnS",
        "colab_type": "code",
        "colab": {}
      },
      "source": [
        "\n",
        "#full on one stock environment \n",
        "#these environments are set up for agents who play only on one stock\n",
        "\n",
        "action_fu = list()\n",
        "env_fu = list()\n",
        "\n",
        "\n",
        "for i in range(m):\n",
        "    action = np.array([0]*(i+1) + [1] + [0]*(m-(i+1)))\n",
        "    action_fu.append(action)\n",
        "    \n",
        "    env_fu_i = TradeEnv(path=path_data, window_length=n,\n",
        "               portfolio_value=pf_init_train, trading_cost=trading_cost,\n",
        "               interest_rate=interest_rate, train_size=dict_hp_pb['ratio_train'])\n",
        "    \n",
        "    env_fu.append(env_fu_i)\n"
      ],
      "execution_count": 0,
      "outputs": []
    },
    {
      "cell_type": "code",
      "metadata": {
        "id": "kuICnpMHGj8I",
        "colab_type": "code",
        "colab": {}
      },
      "source": [
        "# define neural net \\pi_\\phi(s) as a class\n",
        "class Policy(object):\n",
        "    '''\n",
        "    This class is used to instanciate the policy network agent\n",
        "\n",
        "    '''\n",
        "\n",
        "    def __init__(self, m, n, sess, optimizer,\n",
        "                 trading_cost=trading_cost,\n",
        "                 interest_rate=interest_rate,\n",
        "                 n_filter_1=n_filter_1,\n",
        "                 n_filter_2=n_filter_2):\n",
        "\n",
        "        # parameters\n",
        "        self.trading_cost = trading_cost\n",
        "        self.interest_rate = interest_rate\n",
        "        self.n_filter_1 = n_filter_1\n",
        "        self.n_filter_2 = n_filter_2\n",
        "        self.n = n\n",
        "        self.m = m\n",
        "\n",
        "        with tf.variable_scope(\"Inputs\"):\n",
        "\n",
        "            # Placeholder\n",
        "\n",
        "            # tensor of the prices\n",
        "            self.X_t = tf.placeholder(\n",
        "                tf.float32, [None, nb_feature_map, self.m, self.n])  # The Price tensor\n",
        "            # weights at the previous time step\n",
        "            self.W_previous = tf.placeholder(tf.float32, [None, self.m+1])\n",
        "            # portfolio value at the previous time step\n",
        "            self.pf_value_previous = tf.placeholder(tf.float32, [None, 1])\n",
        "            # vector of Open(t+1)/Open(t)\n",
        "            self.dailyReturn_t = tf.placeholder(tf.float32, [None, self.m])\n",
        "            \n",
        "            #self.pf_value_previous_eq = tf.placeholder(tf.float32, [None, 1])\n",
        "            \n",
        "            \n",
        "\n",
        "        with tf.variable_scope(\"Policy_Model\"):\n",
        "\n",
        "            # variable of the cash bias\n",
        "            bias = tf.get_variable('cash_bias', shape=[\n",
        "                                   1, 1, 1, 1], initializer=tf.constant_initializer(cash_bias_init))\n",
        "            # shape of the tensor == batchsize\n",
        "            shape_X_t = tf.shape(self.X_t)[0]\n",
        "            # trick to get a \"tensor size\" for the cash bias\n",
        "            self.cash_bias = tf.tile(bias, tf.stack([shape_X_t, 1, 1, 1]))\n",
        "            # print(self.cash_bias.shape)\n",
        "\n",
        "            with tf.variable_scope(\"Conv1\"):\n",
        "                # first layer on the X_t tensor\n",
        "                # return a tensor of depth 2\n",
        "                self.conv1 = tf.layers.conv2d(\n",
        "                    inputs=tf.transpose(self.X_t, perm=[0, 3, 2, 1]),\n",
        "                    activation=tf.nn.relu,\n",
        "                    filters=self.n_filter_1,\n",
        "                    strides=(1, 1),\n",
        "                    kernel_size=kernel1_size,\n",
        "                    padding='same')\n",
        "\n",
        "            with tf.variable_scope(\"Conv2\"):\n",
        "                \n",
        "                #feature maps\n",
        "                self.conv2 = tf.layers.conv2d(\n",
        "                    inputs=self.conv1,\n",
        "                    activation=tf.nn.relu,\n",
        "                    filters=self.n_filter_2,\n",
        "                    strides=(self.n, 1),\n",
        "                    kernel_size=(1, self.n),\n",
        "                    padding='same')\n",
        "\n",
        "            with tf.variable_scope(\"Tensor3\"):\n",
        "                #w from last periods\n",
        "                # trick to have good dimensions\n",
        "                w_wo_c = self.W_previous[:, 1:]\n",
        "                w_wo_c = tf.expand_dims(w_wo_c, 1)\n",
        "                w_wo_c = tf.expand_dims(w_wo_c, -1)\n",
        "                self.tensor3 = tf.concat([self.conv2, w_wo_c], axis=3)\n",
        "\n",
        "            with tf.variable_scope(\"Conv3\"):\n",
        "                #last feature map WITHOUT cash bias\n",
        "                self.conv3 = tf.layers.conv2d(\n",
        "                    inputs=self.conv2,\n",
        "                    activation=tf.nn.relu,\n",
        "                    filters=1,\n",
        "                    strides=(self.n_filter_2 + 1, 1),\n",
        "                    kernel_size=(1, 1),\n",
        "                    padding='same')\n",
        "\n",
        "            with tf.variable_scope(\"Tensor4\"):\n",
        "                #last feature map WITH cash bias\n",
        "                self.tensor4 = tf.concat([self.cash_bias, self.conv3], axis=2)\n",
        "                # we squeeze to reduce and get the good dimension\n",
        "                self.squeezed_tensor4 = tf.squeeze(self.tensor4, [1, 3])\n",
        "\n",
        "            with tf.variable_scope(\"Policy_Output\"):\n",
        "                # softmax layer to obtain weights\n",
        "                self.action = tf.nn.softmax(self.squeezed_tensor4)\n",
        "\n",
        "            with tf.variable_scope(\"Reward\"):\n",
        "                # computation of the reward\n",
        "                #please look at the chronological map to understand\n",
        "                constant_return = tf.constant(\n",
        "                    1+self.interest_rate, shape=[1, 1])\n",
        "                cash_return = tf.tile(\n",
        "                    constant_return, tf.stack([shape_X_t, 1]))\n",
        "                y_t = tf.concat(\n",
        "                    [cash_return, self.dailyReturn_t], axis=1)\n",
        "                Vprime_t = self.action * self.pf_value_previous\n",
        "                Vprevious = self.W_previous*self.pf_value_previous\n",
        "\n",
        "                # this is just a trick to get the good shape for cost\n",
        "                constant = tf.constant(1.0, shape=[1])\n",
        "\n",
        "                cost = self.trading_cost * \\\n",
        "                    tf.norm(Vprime_t-Vprevious, ord=1, axis=1)*constant\n",
        "\n",
        "                cost = tf.expand_dims(cost, 1)\n",
        "\n",
        "                zero = tf.constant(\n",
        "                    np.array([0.0]*m).reshape(1, m), shape=[1, m], dtype=tf.float32)\n",
        "\n",
        "                vec_zero = tf.tile(zero, tf.stack([shape_X_t, 1]))\n",
        "                vec_cost = tf.concat([cost, vec_zero], axis=1)\n",
        "\n",
        "                Vsecond_t = Vprime_t - vec_cost\n",
        "\n",
        "                V_t = tf.multiply(Vsecond_t, y_t)\n",
        "                self.portfolioValue = tf.norm(V_t, ord=1)\n",
        "                self.instantaneous_reward = (\n",
        "                    self.portfolioValue-self.pf_value_previous)/self.pf_value_previous\n",
        "                \n",
        "                \n",
        "            with tf.variable_scope(\"Reward_Equiweighted\"):\n",
        "                constant_return = tf.constant(\n",
        "                    1+self.interest_rate, shape=[1, 1])\n",
        "                cash_return = tf.tile(\n",
        "                    constant_return, tf.stack([shape_X_t, 1]))\n",
        "                y_t = tf.concat(\n",
        "                    [cash_return, self.dailyReturn_t], axis=1)\n",
        "  \n",
        "\n",
        "                V_eq = w_eq*self.pf_value_previous\n",
        "                V_eq_second = tf.multiply(V_eq, y_t)\n",
        "        \n",
        "                self.portfolioValue_eq = tf.norm(V_eq_second, ord=1)\n",
        "            \n",
        "                self.instantaneous_reward_eq = (\n",
        "                    self.portfolioValue_eq-self.pf_value_previous)/self.pf_value_previous\n",
        "                \n",
        "            with tf.variable_scope(\"Max_weight\"):\n",
        "                self.max_weight = tf.reduce_max(self.action)\n",
        "                print(self.max_weight.shape)\n",
        "\n",
        "                \n",
        "            with tf.variable_scope(\"Reward_adjusted\"):\n",
        "                \n",
        "                self.adjested_reward = self.instantaneous_reward - self.instantaneous_reward_eq - ratio_regul*self.max_weight\n",
        "                \n",
        "        #objective function \n",
        "        #maximize reward over the batch \n",
        "        # min(-r) = max(r)\n",
        "        self.train_op = optimizer.minimize(-self.adjested_reward)\n",
        "        \n",
        "        # some bookkeeping\n",
        "        self.optimizer = optimizer\n",
        "        self.sess = sess\n",
        "\n",
        "    def compute_W(self, X_t_, W_previous_):\n",
        "        \"\"\"\n",
        "        This function returns the action the agent takes \n",
        "        given the input tensor and the W_previous\n",
        "        \n",
        "        It is a vector of weight\n",
        "\n",
        "        \"\"\"\n",
        "\n",
        "        return self.sess.run(tf.squeeze(self.action), feed_dict={self.X_t: X_t_, self.W_previous: W_previous_})\n",
        "\n",
        "    def train(self, X_t_, W_previous_, pf_value_previous_, dailyReturn_t_):\n",
        "        \"\"\"\n",
        "        This function trains the neural network\n",
        "        maximizing the reward \n",
        "        the input is a batch of the differents values\n",
        "        \"\"\"\n",
        "        self.sess.run(self.train_op, feed_dict={self.X_t: X_t_,\n",
        "                                                self.W_previous: W_previous_,\n",
        "                                                self.pf_value_previous: pf_value_previous_,\n",
        "                                                self.dailyReturn_t: dailyReturn_t_})"
      ],
      "execution_count": 0,
      "outputs": []
    },
    {
      "cell_type": "code",
      "metadata": {
        "id": "nWVKMm99Gs0q",
        "colab_type": "code",
        "colab": {}
      },
      "source": [
        "class PVM(object):\n",
        "    '''\n",
        "    This is the memory stack called PVM in the paper\n",
        "    '''\n",
        "\n",
        "    def __init__(self, m, sample_bias, total_steps = total_steps_train, \n",
        "                 batch_size = batch_size, w_init = w_init_train):\n",
        "        \n",
        "        \n",
        "        #initialization of the memory \n",
        "        #we have a total_step_times the initialization portfolio tensor \n",
        "        self.memory = np.transpose(np.array([w_init]*total_steps))  \n",
        "        self.sample_bias = sample_bias\n",
        "        self.total_steps = total_steps\n",
        "        self.batch_size = batch_size\n",
        "\n",
        "    def get_W(self, t):\n",
        "        #return the weight from the PVM at time t \n",
        "        return self.memory[:, t]\n",
        "\n",
        "    def update(self, t, w):\n",
        "        #update the weight at time t\n",
        "        self.memory[:, t] = w\n",
        "\n",
        "\n",
        "    def draw(self, beta=sample_bias):\n",
        "        '''\n",
        "        returns a valid step so you can get a training batch starting at this step\n",
        "        '''\n",
        "        while 1:\n",
        "            z = np.random.geometric(p=beta)\n",
        "            tb = self.total_steps - self.batch_size + 1 - z\n",
        "            if tb >= 0:\n",
        "                return tb\n",
        "            \n",
        "    def test(self):\n",
        "        #just to test\n",
        "        return self.memory"
      ],
      "execution_count": 0,
      "outputs": []
    },
    {
      "cell_type": "code",
      "metadata": {
        "id": "Rvc4YL6PG5_z",
        "colab_type": "code",
        "colab": {}
      },
      "source": [
        "def get_max_draw_down(xs):\n",
        "    xs = np.array(xs)\n",
        "    i = np.argmax(np.maximum.accumulate(xs) - xs) # end of the period\n",
        "    j = np.argmax(xs[:i]) # start of period\n",
        "    \n",
        "    return xs[j] - xs[i]\n",
        "    "
      ],
      "execution_count": 0,
      "outputs": []
    },
    {
      "cell_type": "code",
      "metadata": {
        "id": "Pdncxk_bG8W9",
        "colab_type": "code",
        "colab": {}
      },
      "source": [
        "def eval_perf(e):\n",
        "    \"\"\"\n",
        "    This function evaluates the performance of the different types of agents. \n",
        "    \n",
        "    \n",
        "    \"\"\"\n",
        "    list_weight_end_val = list()\n",
        "    list_pf_end_training = list()\n",
        "    list_pf_min_training = list()\n",
        "    list_pf_max_training = list()\n",
        "    list_pf_mean_training = list()\n",
        "    list_pf_dd_training = list()\n",
        "    \n",
        "    #######TEST#######\n",
        "    #environment for trading of the agent \n",
        "    env_eval = TradeEnv(path=path_data, window_length=n,\n",
        "                   portfolio_value=pf_init_train, trading_cost=trading_cost,\n",
        "                   interest_rate=interest_rate, train_size=dict_hp_pb['ratio_train'])\n",
        "\n",
        "\n",
        "\n",
        "    #initialization of the environment \n",
        "    state_eval, done_eval = env_eval.reset(w_init_test, pf_init_test, t = total_steps_train)\n",
        "\n",
        "\n",
        "\n",
        "    #first element of the weight and portfolio value \n",
        "    p_list_eval = [pf_init_test]\n",
        "    w_list_eval = [w_init_test]\n",
        "\n",
        "    for k in range(total_steps_train, total_steps_train +total_steps_val-int(n/2)):\n",
        "        X_t = state_eval[0].reshape([-1]+ list(state_eval[0].shape))\n",
        "        W_previous = state_eval[1].reshape([-1]+ list(state_eval[1].shape))\n",
        "        pf_value_previous = state_eval[2]\n",
        "        #compute the action \n",
        "        action = actor.compute_W(X_t, W_previous)\n",
        "        #step forward environment \n",
        "        state_eval, reward_eval, done_eval = env_eval.step(action)\n",
        "\n",
        "        X_next = state_eval[0]\n",
        "        W_t_eval = state_eval[1]\n",
        "        pf_value_t_eval = state_eval[2]\n",
        "\n",
        "        dailyReturn_t = X_next[-1, :, -1]\n",
        "        #print('current portfolio value', round(pf_value_previous,0))\n",
        "        #print('weights', W_previous)\n",
        "        p_list_eval.append(pf_value_t_eval)\n",
        "        w_list_eval.append(W_t_eval)\n",
        "        \n",
        "    list_weight_end_val.append(w_list_eval[-1])\n",
        "    list_pf_end_training.append(p_list_eval[-1])\n",
        "    list_pf_min_training.append(np.min(p_list_eval))\n",
        "    list_pf_max_training.append(np.max(p_list_eval))\n",
        "    list_pf_mean_training.append(np.mean(p_list_eval))\n",
        "    \n",
        "    list_pf_dd_training.append(get_max_draw_down(p_list_eval))\n",
        "\n",
        "    print('End of test PF value:',round(p_list_eval[-1]))\n",
        "    print('Min of test PF value:',round(np.min(p_list_eval)))\n",
        "    print('Max of test PF value:',round(np.max(p_list_eval)))\n",
        "    print('Mean of test PF value:',round(np.mean(p_list_eval)))\n",
        "    print('Max Draw Down of test PF value:',round(get_max_draw_down(p_list_eval)))\n",
        "    print('End of test weights:',w_list_eval[-1])\n",
        "    plt.title('Portfolio evolution (validation set) episode {}'.format(e))\n",
        "    plt.plot(p_list_eval, label = 'Agent Portfolio Value')\n",
        "    plt.legend(bbox_to_anchor=(1.05, 1), loc=2, borderaxespad=0.)\n",
        "    plt.show()\n",
        "    plt.title('Portfolio weights (end of validation set) episode {}'.format(e))\n",
        "    plt.bar(np.arange(m+1), list_weight_end_val[-1])\n",
        "    plt.xticks(np.arange(m+1), ['Money'] + list_stock, rotation=45)\n",
        "    plt.show()\n",
        "    \n",
        "    \n",
        "    names = ['Money'] + list_stock\n",
        "    w_list_eval = np.array(w_list_eval)\n",
        "    for j in range(m):\n",
        "        plt.plot(w_list_eval[:,j], label = 'Weight Stock {}'.format(names[j]))\n",
        "        plt.legend(bbox_to_anchor=(1.05, 1), loc=2, borderaxespad=0.5)\n",
        "    plt.show()\n",
        "\n",
        "\n",
        "    "
      ],
      "execution_count": 0,
      "outputs": []
    },
    {
      "cell_type": "code",
      "metadata": {
        "id": "b6lcKvZiG-zD",
        "colab_type": "code",
        "colab": {}
      },
      "source": [
        "############# TRAINING #####################\n",
        "###########################################\n",
        "tf.reset_default_graph()\n",
        "\n",
        "# sess\n",
        "sess = tf.Session()\n",
        "\n",
        "# initialize networks\n",
        "actor = Policy(m, n, sess, optimizer,\n",
        "                 trading_cost=trading_cost, \n",
        "                 interest_rate=interest_rate)  # policy initialization\n",
        "\n",
        "# initialize tensorflow graphs\n",
        "sess.run(tf.global_variables_initializer())\n",
        "\n",
        "\n",
        "\n",
        "list_final_pf = list()\n",
        "list_final_pf_eq = list()\n",
        "list_final_pf_s = list()\n",
        "\n",
        "list_final_pf_fu = list()\n",
        "state_fu = [0]*m\n",
        "done_fu = [0]*m\n",
        "\n",
        "pf_value_t_fu = [0]*m\n",
        "\n",
        "for i in range(m):\n",
        "    list_final_pf_fu.append(list())\n",
        "    \n",
        "\n",
        "###### Train #####\n",
        "for e in range(n_episodes):\n",
        "    print('Start Episode', e)\n",
        "    if e==0:\n",
        "        eval_perf('Before Training')\n",
        "    print('Episode:', e)\n",
        "    #init the PVM with the training parameters\n",
        "    memory = PVM(m,sample_bias, total_steps = total_steps_train, \n",
        "                 batch_size = batch_size, w_init = w_init_train)\n",
        "    \n",
        "    for nb in range(n_batches):\n",
        "        #draw the starting point of the batch \n",
        "        i_start = memory.draw()\n",
        "        \n",
        "        \n",
        "        #reset the environment with the weight from PVM at the starting point\n",
        "        #reset also with a portfolio value with initial portfolio value\n",
        "        state, done = env.reset(memory.get_W(i_start), pf_init_train, t=i_start )\n",
        "        state_eq, done_eq = env_eq.reset(w_eq, pf_init_train, t=i_start )\n",
        "        state_s, done_s = env_s.reset(w_s, pf_init_train, t=i_start )\n",
        "        \n",
        "        for i in range(m):\n",
        "            state_fu[i], done_fu[i] = env_fu[i].reset(action_fu[i], pf_init_train, t=i_start )\n",
        "        \n",
        "        \n",
        "        \n",
        "        list_X_t, list_W_previous, list_pf_value_previous, list_dailyReturn_t = [], [], [], []\n",
        "        list_pf_value_previous_eq, list_pf_value_previous_s = [],[]\n",
        "        list_pf_value_previous_fu = list()\n",
        "        for i in range(m):\n",
        "            list_pf_value_previous_fu.append(list())\n",
        "            \n",
        "        \n",
        "        \n",
        "        \n",
        "        \n",
        "        for bs in range(batch_size):\n",
        "            \n",
        "            #load the different inputs from the previous loaded state \n",
        "            X_t = state[0].reshape([-1] + list(state[0].shape))\n",
        "            W_previous = state[1].reshape([-1] + list(state[1].shape))\n",
        "            pf_value_previous = state[2]\n",
        "            \n",
        "            \n",
        "            if np.random.rand()< ratio_greedy:\n",
        "                #print('go')\n",
        "                #computation of the action of the agent\n",
        "                action = actor.compute_W(X_t, W_previous)\n",
        "            else:\n",
        "                action = get_random_action(m)\n",
        "            \n",
        "            #given the state and the action, call the environment to go one time step later \n",
        "            state, reward, done = env.step(action)\n",
        "            state_eq, reward_eq, done_eq = env_eq.step(w_eq)\n",
        "            state_s, reward_s, done_s = env_s.step(w_s)\n",
        "            \n",
        "            for i in range(m):\n",
        "                state_fu[i], _ , done_fu[i] = env_fu[i].step(action_fu[i])\n",
        "\n",
        "            \n",
        "            \n",
        "            #get the new state \n",
        "            X_next = state[0]\n",
        "            W_t = state[1]\n",
        "            pf_value_t = state[2]\n",
        "            \n",
        "            pf_value_t_eq = state_eq[2]\n",
        "            pf_value_t_s = state_s[2]\n",
        "            \n",
        "            for i in range(m):\n",
        "                pf_value_t_fu[i] = state_fu[i][2]\n",
        "                \n",
        "            \n",
        "            #let us compute the returns \n",
        "            dailyReturn_t = X_next[-1, :, -1]\n",
        "            #update into the PVM\n",
        "            memory.update(i_start+bs, W_t)\n",
        "            #store elements\n",
        "            list_X_t.append(X_t.reshape(state[0].shape))\n",
        "            list_W_previous.append(W_previous.reshape(state[1].shape))\n",
        "            list_pf_value_previous.append([pf_value_previous])\n",
        "            list_dailyReturn_t.append(dailyReturn_t)\n",
        "            \n",
        "            list_pf_value_previous_eq.append(pf_value_t_eq)\n",
        "            list_pf_value_previous_s.append(pf_value_t_s)\n",
        "            \n",
        "            for i in range(m):\n",
        "                list_pf_value_previous_fu[i].append(pf_value_t_fu[i])\n",
        "            \n",
        "            if bs==batch_size-1:\n",
        "                list_final_pf.append(pf_value_t)\n",
        "                list_final_pf_eq.append(pf_value_t_eq)\n",
        "                list_final_pf_s.append(pf_value_t_s)\n",
        "                for i in range(m):\n",
        "                    list_final_pf_fu[i].append(pf_value_t_fu[i])\n",
        "\n",
        "            \n",
        "            \n",
        "#             #printing\n",
        "#             if bs==0:\n",
        "#                 print('start', i_start)\n",
        "#                 print('PF_start', round(pf_value_previous,0))\n",
        "\n",
        "#             if bs==batch_size-1:\n",
        "#                 print('PF_end', round(pf_value_t,0))\n",
        "#                 print('weight', W_t)\n",
        "\n",
        "        list_X_t = np.array(list_X_t)\n",
        "        list_W_previous = np.array(list_W_previous)\n",
        "        list_pf_value_previous = np.array(list_pf_value_previous)\n",
        "        list_dailyReturn_t = np.array(list_dailyReturn_t)\n",
        "        \n",
        "        \n",
        "        #for each batch, train the network to maximize the reward\n",
        "        actor.train(list_X_t, list_W_previous,\n",
        "                    list_pf_value_previous, list_dailyReturn_t)\n",
        "    eval_perf(e)"
      ],
      "execution_count": 0,
      "outputs": []
    },
    {
      "cell_type": "code",
      "metadata": {
        "id": "MkALfuW5HDfx",
        "colab_type": "code",
        "colab": {}
      },
      "source": [
        "#######TEST#######\n",
        "\n",
        "\n",
        "#initialization of the environment \n",
        "state, done = env.reset(w_init_test, pf_init_test, t = total_steps_train)\n",
        "\n",
        "state_eq, done_eq = env_eq.reset(w_eq, pf_init_test, t = total_steps_train)\n",
        "state_s, done_s = env_s.reset(w_s, pf_init_test, t = total_steps_train)\n",
        "\n",
        "for i in range(m):\n",
        "    state_fu[i],  done_fu[i] = env_fu[i].reset(action_fu[i], pf_init_test, t = total_steps_train)\n",
        "\n",
        "\n",
        "#first element of the weight and portfolio value \n",
        "p_list = [pf_init_test]\n",
        "w_list = [w_init_test]\n",
        "\n",
        "p_list_eq = [pf_init_test]\n",
        "p_list_s = [pf_init_test]\n",
        "\n",
        "\n",
        "p_list_fu = list()\n",
        "for i in range(m):\n",
        "    p_list_fu.append([pf_init_test])\n",
        "    \n",
        "pf_value_t_fu = [0]*m\n",
        "    \n",
        "\n",
        "for k in range(total_steps_train +total_steps_val-int(n/2), total_steps_train +total_steps_val +total_steps_test -n):\n",
        "    X_t = state[0].reshape([-1]+ list(state[0].shape))\n",
        "    W_previous = state[1].reshape([-1]+ list(state[1].shape))\n",
        "    pf_value_previous = state[2]\n",
        "    #compute the action \n",
        "    action = actor.compute_W(X_t, W_previous)\n",
        "    #step forward environment \n",
        "    state, reward, done = env.step(action)\n",
        "    state_eq, reward_eq, done_eq = env_eq.step(w_eq)\n",
        "    state_s, reward_s, done_s = env_s.step(w_s)\n",
        "    \n",
        "    \n",
        "    for i in range(m):\n",
        "        state_fu[i], _ , done_fu[i] = env_fu[i].step(action_fu[i])\n",
        "    \n",
        "    \n",
        "    X_next = state[0]\n",
        "    W_t = state[1]\n",
        "    pf_value_t = state[2]\n",
        "    \n",
        "    pf_value_t_eq = state_eq[2]\n",
        "    pf_value_t_s = state_s[2]\n",
        "    for i in range(m):\n",
        "        pf_value_t_fu[i] = state_fu[i][2]\n",
        "    \n",
        "    dailyReturn_t = X_next[-1, :, -1]\n",
        "    if k%20 == 0:\n",
        "        print('current portfolio value', round(pf_value_previous,0))\n",
        "        print('weights', W_previous)\n",
        "    p_list.append(pf_value_t)\n",
        "    w_list.append(W_t)\n",
        "    \n",
        "    p_list_eq.append(pf_value_t_eq)\n",
        "    p_list_s.append(pf_value_t_s)\n",
        "    for i in range(m):\n",
        "        p_list_fu[i].append(pf_value_t_fu[i])\n",
        "        \n",
        "    #here to breack the loop/not in original code     \n",
        "    if k== total_steps_train +total_steps_val-int(n/2) + 100:\n",
        "        break\n",
        "    \n",
        "    "
      ],
      "execution_count": 0,
      "outputs": []
    },
    {
      "cell_type": "markdown",
      "metadata": {
        "id": "Qwaq5dzBw6Q0",
        "colab_type": "text"
      },
      "source": [
        "Analysis"
      ]
    },
    {
      "cell_type": "code",
      "metadata": {
        "id": "9ypMXQ36vQwv",
        "colab_type": "code",
        "colab": {}
      },
      "source": [
        "plt.title('Portfolio Value (Test Set) {}: {}, {}, {}, {}, {}, {}, {}, {}'.format('Equity', batch_size, learning, ratio_greedy, e, n, kernel1_size, n_batches, ratio_regul))\n",
        "plt.plot(p_list, label = 'Agent Portfolio Value')\n",
        "plt.plot(p_list_eq, label = 'Equi-weighted Portfolio Value')\n",
        "plt.plot(p_list_s, label = 'Secured Portfolio Value')\n",
        "for i in range(m):\n",
        "    plt.plot(p_list_fu[i], label = 'Full Stock {} Portfolio Value'.format(list_stock[i]))\n",
        "plt.legend(bbox_to_anchor=(1.05, 1), loc=2, borderaxespad=0.)\n",
        "plt.show()"
      ],
      "execution_count": 0,
      "outputs": []
    },
    {
      "cell_type": "code",
      "metadata": {
        "id": "gtm1hci_5gGg",
        "colab_type": "code",
        "colab": {}
      },
      "source": [
        "\n",
        "names = ['Money'] + list_stock\n",
        "w_list = np.array(w_list)\n",
        "for j in range(m):\n",
        "    plt.plot(w_list[:,j], label = 'Weight Stock {}'.format(names[j]))\n",
        "    plt.title('Weight evolution during testing')\n",
        "    plt.legend(bbox_to_anchor=(1.05, 1), loc=2, borderaxespad=0.5)\n",
        "plt.show()"
      ],
      "execution_count": 0,
      "outputs": []
    },
    {
      "cell_type": "code",
      "metadata": {
        "id": "ksIVaKjPCZpr",
        "colab_type": "code",
        "colab": {}
      },
      "source": [
        "\n",
        "plt.plot(np.array(p_list)-np.array(p_list_eq))"
      ],
      "execution_count": 0,
      "outputs": []
    },
    {
      "cell_type": "code",
      "metadata": {
        "id": "jN-Mu2tXCg-Q",
        "colab_type": "code",
        "colab": {}
      },
      "source": [
        "index1=0\n",
        "index2=-1\n",
        "\n",
        "plt.plot(list_final_pf[index1:index2], label = 'Agent Portfolio Value')\n",
        "plt.plot(list_final_pf_eq[index1:index2], label = 'Baseline Portfolio Value')\n",
        "plt.plot(list_final_pf_s[index1:index2], label = 'Secured Portfolio Value')\n",
        "plt.legend()\n",
        "plt.show()"
      ],
      "execution_count": 0,
      "outputs": []
    },
    {
      "cell_type": "code",
      "metadata": {
        "id": "nLztVdf7Cmd1",
        "colab_type": "code",
        "colab": {}
      },
      "source": [
        "plt.plot((np.array(list_final_pf)-np.array(list_final_pf_eq)))"
      ],
      "execution_count": 0,
      "outputs": []
    },
    {
      "cell_type": "code",
      "metadata": {
        "id": "QKD0U285CvE-",
        "colab_type": "code",
        "colab": {}
      },
      "source": [
        ""
      ],
      "execution_count": 0,
      "outputs": []
    }
  ]
}